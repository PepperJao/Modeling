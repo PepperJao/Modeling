{
  "nbformat": 4,
  "nbformat_minor": 0,
  "metadata": {
    "colab": {
      "name": "CNN_Lab-01-MNIST-MLP-vs-CNN-Bakeoff.ipynb by pepper",
      "version": "0.3.2",
      "provenance": [],
      "collapsed_sections": [
        "gBh8COqpfeY_"
      ],
      "toc_visible": true,
      "include_colab_link": true
    },
    "language_info": {
      "codemirror_mode": {
        "name": "ipython",
        "version": 3
      },
      "file_extension": ".py",
      "mimetype": "text/x-python",
      "name": "python",
      "nbconvert_exporter": "python",
      "pygments_lexer": "ipython3",
      "version": "3.6.8"
    },
    "kernelspec": {
      "display_name": "Python 3",
      "language": "python",
      "name": "python3"
    }
  },
  "cells": [
    {
      "cell_type": "markdown",
      "metadata": {
        "id": "view-in-github",
        "colab_type": "text"
      },
      "source": [
        "<a href=\"https://colab.research.google.com/github/PepperJao/Modeling/blob/master/CNN_Lab_01_MNIST_MLP_vs_CNN_Bakeoff_ipynb_by_pepper.ipynb\" target=\"_parent\"><img src=\"https://colab.research.google.com/assets/colab-badge.svg\" alt=\"Open In Colab\"/></a>"
      ]
    },
    {
      "cell_type": "markdown",
      "metadata": {
        "id": "MEcG4NkjfeXg",
        "colab_type": "text"
      },
      "source": [
        "# Convolutional Neural Networks"
      ]
    },
    {
      "cell_type": "markdown",
      "metadata": {
        "id": "8HKNHm3PfeXh",
        "colab_type": "text"
      },
      "source": [
        "In this notebook we're going to explore handwritten digit recognition task using MNIST database and CNNs"
      ]
    },
    {
      "cell_type": "code",
      "metadata": {
        "id": "nKjOnZLgfeXi",
        "colab_type": "code",
        "colab": {
          "base_uri": "https://localhost:8080/",
          "height": 34
        },
        "outputId": "227d8246-cd56-4b28-a92e-0776da6dd9da"
      },
      "source": [
        "import numpy as np\n",
        "import pandas as pd\n",
        "\n",
        "from keras.datasets import mnist\n",
        "from keras.models import Sequential\n",
        "from keras.layers import Dense, Dropout, Activation, Flatten\n",
        "from keras.layers import Convolution2D, MaxPooling2D\n",
        "from keras.utils.np_utils import to_categorical\n",
        "from keras import backend as K\n",
        "from keras.utils.vis_utils import model_to_dot\n",
        "\n",
        "from IPython.display import SVG\n",
        "\n",
        "import matplotlib\n",
        "import matplotlib.pyplot as plt\n",
        "import seaborn as sns\n",
        "%matplotlib inline"
      ],
      "execution_count": 1,
      "outputs": [
        {
          "output_type": "stream",
          "text": [
            "Using TensorFlow backend.\n"
          ],
          "name": "stderr"
        }
      ]
    },
    {
      "cell_type": "markdown",
      "metadata": {
        "id": "aGGUFCwafeXm",
        "colab_type": "text"
      },
      "source": [
        "Set style"
      ]
    },
    {
      "cell_type": "code",
      "metadata": {
        "id": "MX-SV-cDfeXn",
        "colab_type": "code",
        "colab": {}
      },
      "source": [
        "sns.set(style=\"whitegrid\", font_scale=1.3)\n",
        "matplotlib.rcParams[\"figure.figsize\"] = (10, 8)\n",
        "matplotlib.rcParams[\"legend.framealpha\"] = 1\n",
        "matplotlib.rcParams[\"legend.frameon\"] = True"
      ],
      "execution_count": 0,
      "outputs": []
    },
    {
      "cell_type": "markdown",
      "metadata": {
        "id": "Jg4g8Ht1feXq",
        "colab_type": "text"
      },
      "source": [
        "Just for the sake of reproducibility"
      ]
    },
    {
      "cell_type": "code",
      "metadata": {
        "id": "5m4i2YGNfeXr",
        "colab_type": "code",
        "colab": {}
      },
      "source": [
        "np.random.seed(41)"
      ],
      "execution_count": 0,
      "outputs": []
    },
    {
      "cell_type": "markdown",
      "metadata": {
        "id": "LkhexmWCfeXu",
        "colab_type": "text"
      },
      "source": [
        "# Data"
      ]
    },
    {
      "cell_type": "markdown",
      "metadata": {
        "id": "1kxhyIDTfeXw",
        "colab_type": "text"
      },
      "source": [
        "In this tutorial we're going to use MNIST dataset with handwritten digits."
      ]
    },
    {
      "cell_type": "markdown",
      "metadata": {
        "id": "ZgaPMeQHfeXx",
        "colab_type": "text"
      },
      "source": [
        "## MNIST overview"
      ]
    },
    {
      "cell_type": "markdown",
      "metadata": {
        "id": "yH_qBWkifeX1",
        "colab_type": "text"
      },
      "source": [
        "Let's download MNIST dataset. There is a special function in Keras for that purpose (because MNIST is extremely popular)"
      ]
    },
    {
      "cell_type": "code",
      "metadata": {
        "id": "XueSv3kofeX2",
        "colab_type": "code",
        "outputId": "7b0d8220-37da-43d9-baaa-c578c5efe12d",
        "colab": {
          "base_uri": "https://localhost:8080/",
          "height": 101
        }
      },
      "source": [
        "# load MNIST data\n",
        "from sklearn.model_selection import train_test_split\n",
        "(X_train, y_train), (X_test, y_test) = mnist.load_data()\n",
        "X_train, X_valid, y_train, y_valid = train_test_split(X_train, y_train, test_size=0.20, random_state=42)\n",
        "img_rows, img_cols = 28, 28\n",
        "number_of_classes = 10\n",
        "print(f\"X before flatten train      shape: {X_train.shape}\")\n",
        "print(f\"X before flatten validation shape: {X_valid.shape}\")\n",
        "print(f\"X before flatten test       shape: {X_test.shape}\")"
      ],
      "execution_count": 4,
      "outputs": [
        {
          "output_type": "stream",
          "text": [
            "Downloading data from https://s3.amazonaws.com/img-datasets/mnist.npz\n",
            "11493376/11490434 [==============================] - 1s 0us/step\n",
            "X before flatten train      shape: (48000, 28, 28)\n",
            "X before flatten validation shape: (12000, 28, 28)\n",
            "X before flatten test       shape: (10000, 28, 28)\n"
          ],
          "name": "stdout"
        }
      ]
    },
    {
      "cell_type": "code",
      "metadata": {
        "id": "uzjT7ThAfeX9",
        "colab_type": "code",
        "outputId": "07ce4eb7-d08f-4bb8-8e52-db8e2a630b53",
        "colab": {
          "base_uri": "https://localhost:8080/",
          "height": 34
        }
      },
      "source": [
        "X_train.shape"
      ],
      "execution_count": 5,
      "outputs": [
        {
          "output_type": "execute_result",
          "data": {
            "text/plain": [
              "(48000, 28, 28)"
            ]
          },
          "metadata": {
            "tags": []
          },
          "execution_count": 5
        }
      ]
    },
    {
      "cell_type": "code",
      "metadata": {
        "id": "2Rn-IKG9feYD",
        "colab_type": "code",
        "outputId": "7dcaf9da-623e-41af-9de5-80f719a6fe79",
        "colab": {
          "base_uri": "https://localhost:8080/",
          "height": 336
        }
      },
      "source": [
        "plt.figure(figsize=(12, 5))\n",
        "for num, i in enumerate(np.random.choice(len(X_train), 10)):\n",
        "    plt.subplot(2, 5, num + 1)\n",
        "    plt.imshow(X_train[i], cmap=\"Greys_r\")\n",
        "    plt.axis(\"off\")\n",
        "    plt.title(str(y_train[i]))"
      ],
      "execution_count": 6,
      "outputs": [
        {
          "output_type": "display_data",
          "data": {
            "image/png": "[encoded data removed]",
            "text/plain": [
              "<Figure size 864x360 with 10 Axes>"
            ]
          },
          "metadata": {
            "tags": []
          }
        }
      ]
    },
    {
      "cell_type": "markdown",
      "metadata": {
        "id": "hERBxfBxfeYI",
        "colab_type": "text"
      },
      "source": [
        "Let's see objects are distributed among classes"
      ]
    },
    {
      "cell_type": "code",
      "metadata": {
        "id": "f8Wqq3prfeYJ",
        "colab_type": "code",
        "outputId": "3b0ff69f-0929-44e6-f961-7fac45438674",
        "colab": {
          "base_uri": "https://localhost:8080/",
          "height": 513
        }
      },
      "source": [
        "x_bars, y_bars = np.unique(y_train, return_counts=True)\n",
        "plt.bar(x_bars, y_bars)\n",
        "plt.xlim([-1, 10])\n",
        "plt.xticks(np.arange(0, 10))\n",
        "plt.xlabel(\"Digit\", fontsize=14)\n",
        "plt.ylabel(\"Number of pics\", fontsize=14)\n",
        "plt.show()"
      ],
      "execution_count": 7,
      "outputs": [
        {
          "output_type": "display_data",
          "data": {
            "image/png": "[encoded data removed]",
            "text/plain": [
              "<Figure size 720x576 with 1 Axes>"
            ]
          },
          "metadata": {
            "tags": []
          }
        }
      ]
    },
    {
      "cell_type": "markdown",
      "metadata": {
        "id": "4SabILGnfeYP",
        "colab_type": "text"
      },
      "source": [
        "As one can see, the task is pretty balanced"
      ]
    },
    {
      "cell_type": "markdown",
      "metadata": {
        "id": "SIaTwOgUfeYS",
        "colab_type": "text"
      },
      "source": [
        "## Data preparation"
      ]
    },
    {
      "cell_type": "markdown",
      "metadata": {
        "id": "1gOSVdUPfeYZ",
        "colab_type": "text"
      },
      "source": [
        "First of all, let's predefine image parameters:\n",
        "* **img_rows, img_cols** $-$ 2D dimension of a pictures; for MNIST it is $28 \\times 28$\n",
        "* **nb_classes** $-$ number of classes (digits in our case)"
      ]
    },
    {
      "cell_type": "code",
      "metadata": {
        "id": "zzkDgMmMfeYa",
        "colab_type": "code",
        "colab": {}
      },
      "source": [
        "img_rows, img_cols = 28, 28\n",
        "nb_classes = 10"
      ],
      "execution_count": 0,
      "outputs": []
    },
    {
      "cell_type": "markdown",
      "metadata": {
        "id": "waU0FFqEfeYf",
        "colab_type": "text"
      },
      "source": [
        "Theano and Tensorflow both are tensor-based libraries. It means that all objects inside it, all inputs and outputs are **tensors**. One can treat tensor as a simple multidimensional array."
      ]
    },
    {
      "cell_type": "markdown",
      "metadata": {
        "id": "SNRY36NYfeYg",
        "colab_type": "text"
      },
      "source": [
        "The thing that is different in Theano and Tensorflow is order of these dimensions inside tensor.\n",
        "\n",
        "With Theano yo're going to have 4-dimensional tensor with the following dimensions: **(Objects, Channels, Image rows,Image columns)**. Assume that $\\text{X_train}$ is our tensor. Then $\\text{X_train}[0]$ gives you one trainig object - it is an image with few channels in general case. $\\text{X_train}[0][0]$ gives you the first channel of the first object. And so on. The logic of tensors should be clear now.\n",
        "\n",
        "In Tensorflow the order is the following: **(Objects, Image rows,Image columns, Channels)**\n",
        "\n",
        "Thus we need to check what dimension order do we have and reshape our tensor in accordance with it:"
      ]
    },
    {
      "cell_type": "code",
      "metadata": {
        "id": "hD-ysBCpfeYh",
        "colab_type": "code",
        "colab": {}
      },
      "source": [
        "if K.image_dim_ordering() == 'th':\n",
        "    X_train = X_train.reshape(X_train.shape[0], 1, img_rows, img_cols)\n",
        "    X_test = X_test.reshape(X_test.shape[0], 1, img_rows, img_cols)\n",
        "    input_shape = (1, img_rows, img_cols)\n",
        "else:\n",
        "    X_train = X_train.reshape(X_train.shape[0], img_rows, img_cols, 1)\n",
        "    X_test = X_test.reshape(X_test.shape[0], img_rows, img_cols, 1)\n",
        "    input_shape = (img_rows, img_cols, 1)"
      ],
      "execution_count": 0,
      "outputs": []
    },
    {
      "cell_type": "markdown",
      "metadata": {
        "id": "a-NL8VLnfeYj",
        "colab_type": "text"
      },
      "source": [
        "Here we have grayscale image and thus the number of the channels is $1$. Here I used Tensorflow library with the corresponding order of dimensions"
      ]
    },
    {
      "cell_type": "code",
      "metadata": {
        "id": "eZhTZsR0feYk",
        "colab_type": "code",
        "outputId": "d2295cd5-9c3f-4068-9082-952feb52a361",
        "colab": {
          "base_uri": "https://localhost:8080/",
          "height": 34
        }
      },
      "source": [
        "print('X_train shape:', X_train.shape)"
      ],
      "execution_count": 10,
      "outputs": [
        {
          "output_type": "stream",
          "text": [
            "X_train shape: (48000, 28, 28, 1)\n"
          ],
          "name": "stdout"
        }
      ]
    },
    {
      "cell_type": "markdown",
      "metadata": {
        "id": "NF7iyaqtfeY2",
        "colab_type": "text"
      },
      "source": [
        "Tensorflow prefers to work with $\\text{float32}$ data type. So the next step is to cast data. Also let's have our data in $[0; 1]$ interval $-$ it's common choice for grayscale images."
      ]
    },
    {
      "cell_type": "code",
      "metadata": {
        "id": "wyftj0MDfeY3",
        "colab_type": "code",
        "outputId": "a62fd57e-b2e8-4a3e-ffbd-754f63e2ea4b",
        "colab": {
          "base_uri": "https://localhost:8080/",
          "height": 67
        }
      },
      "source": [
        "#Here we're going to use dense baseline models so we need to represent our data as 1-dimensional vectors\n",
        "#So we flatten input images to 1D vectors \n",
        "X_train = X_train.reshape(X_train.shape[0], -1)\n",
        "X_valid = X_valid.reshape(X_valid.shape[0], -1)\n",
        "X_test  = X_test.reshape(X_test.shape[0], -1)\n",
        "\n",
        "# Tensorflow/Keras prefers to work with float32 data type. \n",
        "# So the next step is to cast data. \n",
        "# Also let's have our data in [0; 1]interval; it's common choice for grayscale images.\n",
        "\n",
        "X_train = X_train.astype('float32')\n",
        "X_valid = X_valid.astype('float32')\n",
        "X_test = X_test.astype('float32')\n",
        "X_train /= 255\n",
        "X_valid /= 255\n",
        "X_test /= 255\n",
        "print(f\"X train      shape: {X_train.shape}, {y_train.shape}\")\n",
        "print(f\"X validation shape: {X_valid.shape},  {y_valid.shape}\")\n",
        "print(f\"X test       shape: {X_test.shape},  {y_test.shape}\")\n",
        "X_train = X_train.astype('float32')\n",
        "X_test = X_test.astype('float32')\n",
        "X_train /= 255\n",
        "X_test /= 255"
      ],
      "execution_count": 11,
      "outputs": [
        {
          "output_type": "stream",
          "text": [
            "X train      shape: (48000, 784), (48000,)\n",
            "X validation shape: (12000, 784),  (12000,)\n",
            "X test       shape: (10000, 784),  (10000,)\n"
          ],
          "name": "stdout"
        }
      ]
    },
    {
      "cell_type": "markdown",
      "metadata": {
        "id": "gBh8COqpfeY_",
        "colab_type": "text"
      },
      "source": [
        "## Setup the MNIST data\n",
        "Setup the MNIST data. Here we use  **digits 0 to 9**. "
      ]
    },
    {
      "cell_type": "markdown",
      "metadata": {
        "id": "S-c_06oLfeZD",
        "colab_type": "text"
      },
      "source": [
        "Convert labels into [One-Hot Encoding](https://en.wikipedia.org/wiki/One-hot) because we're going to learn them through the softmax layer of CNN"
      ]
    },
    {
      "cell_type": "code",
      "metadata": {
        "id": "O19VXYhnfeZE",
        "colab_type": "code",
        "colab": {}
      },
      "source": [
        "y_train = to_categorical(y_train, nb_classes)\n",
        "y_valid = to_categorical(y_valid, nb_classes)\n",
        "y_test  = to_categorical(y_test, nb_classes)"
      ],
      "execution_count": 0,
      "outputs": []
    },
    {
      "cell_type": "code",
      "metadata": {
        "id": "wfgJMXSXfeZI",
        "colab_type": "code",
        "outputId": "96317887-190d-4197-df46-1ea0ff8a650e",
        "colab": {
          "base_uri": "https://localhost:8080/",
          "height": 89
        }
      },
      "source": [
        "print(f\"X train      shape: {X_train.shape}, {y_train.shape}\")\n",
        "print(f\"X validation shape: {X_valid.shape},  {y_valid.shape}\")\n",
        "print(f\"X test       shape: {X_test.shape},  {y_test.shape}\")"
      ],
      "execution_count": 13,
      "outputs": [
        {
          "output_type": "stream",
          "text": [
            "X train      shape: (48000, 784), (48000, 10)\n",
            "X validation shape: (12000, 784),  (12000, 10)\n",
            "X test       shape: (10000, 784),  (10000, 10)\n"
          ],
          "name": "stdout"
        }
      ]
    },
    {
      "cell_type": "code",
      "metadata": {
        "id": "GfQ7a9ZyfeZN",
        "colab_type": "code",
        "colab": {}
      },
      "source": [
        ""
      ],
      "execution_count": 0,
      "outputs": []
    },
    {
      "cell_type": "markdown",
      "metadata": {
        "id": "C5e8KIVPfeZP",
        "colab_type": "text"
      },
      "source": [
        "# Dense baseline model"
      ]
    },
    {
      "cell_type": "markdown",
      "metadata": {
        "id": "rMht4oEmfeZQ",
        "colab_type": "text"
      },
      "source": [
        "First of all, let's build MLP model and see how it performs"
      ]
    },
    {
      "cell_type": "code",
      "metadata": {
        "id": "CSE36rDVfeZQ",
        "colab_type": "code",
        "colab": {}
      },
      "source": [
        "model_dense = Sequential()"
      ],
      "execution_count": 0,
      "outputs": []
    },
    {
      "cell_type": "code",
      "metadata": {
        "id": "DMtvrTsMfeZS",
        "colab_type": "code",
        "colab": {
          "base_uri": "https://localhost:8080/",
          "height": 141
        },
        "outputId": "68826d94-0fc6-4307-9dcc-8726971827d9"
      },
      "source": [
        "model_dense.add(Dense(128, input_shape=(img_rows * img_cols,), activation=\"relu\"))\n",
        "model_dense.add(Dropout(0.5))\n",
        "model_dense.add(Dense(128, activation=\"relu\"))\n",
        "model_dense.add(Dropout(0.5))\n",
        "model_dense.add(Dense(128, activation=\"relu\"))\n",
        "model_dense.add(Dropout(0.5))\n",
        "model_dense.add(Dense(nb_classes, activation=\"softmax\"))"
      ],
      "execution_count": 15,
      "outputs": [
        {
          "output_type": "stream",
          "text": [
            "WARNING:tensorflow:From /usr/local/lib/python3.6/dist-packages/tensorflow/python/framework/op_def_library.py:263: colocate_with (from tensorflow.python.framework.ops) is deprecated and will be removed in a future version.\n",
            "Instructions for updating:\n",
            "Colocations handled automatically by placer.\n",
            "WARNING:tensorflow:From /usr/local/lib/python3.6/dist-packages/keras/backend/tensorflow_backend.py:3445: calling dropout (from tensorflow.python.ops.nn_ops) with keep_prob is deprecated and will be removed in a future version.\n",
            "Instructions for updating:\n",
            "Please use `rate` instead of `keep_prob`. Rate should be set to `rate = 1 - keep_prob`.\n"
          ],
          "name": "stdout"
        }
      ]
    },
    {
      "cell_type": "markdown",
      "metadata": {
        "id": "3inIV0NLfeZX",
        "colab_type": "text"
      },
      "source": [
        "Our model the the following architercture"
      ]
    },
    {
      "cell_type": "code",
      "metadata": {
        "id": "2EtKOlTAfeZX",
        "colab_type": "code",
        "outputId": "6c39b013-154e-4ac5-ac0a-cdd024e9f3a6",
        "colab": {
          "base_uri": "https://localhost:8080/",
          "height": 383
        }
      },
      "source": [
        "model_dense.summary()"
      ],
      "execution_count": 16,
      "outputs": [
        {
          "output_type": "stream",
          "text": [
            "_________________________________________________________________\n",
            "Layer (type)                 Output Shape              Param #   \n",
            "=================================================================\n",
            "dense_1 (Dense)              (None, 128)               100480    \n",
            "_________________________________________________________________\n",
            "dropout_1 (Dropout)          (None, 128)               0         \n",
            "_________________________________________________________________\n",
            "dense_2 (Dense)              (None, 128)               16512     \n",
            "_________________________________________________________________\n",
            "dropout_2 (Dropout)          (None, 128)               0         \n",
            "_________________________________________________________________\n",
            "dense_3 (Dense)              (None, 128)               16512     \n",
            "_________________________________________________________________\n",
            "dropout_3 (Dropout)          (None, 128)               0         \n",
            "_________________________________________________________________\n",
            "dense_4 (Dense)              (None, 10)                1290      \n",
            "=================================================================\n",
            "Total params: 134,794\n",
            "Trainable params: 134,794\n",
            "Non-trainable params: 0\n",
            "_________________________________________________________________\n"
          ],
          "name": "stdout"
        }
      ]
    },
    {
      "cell_type": "code",
      "metadata": {
        "id": "a36MB-XmfeZb",
        "colab_type": "code",
        "outputId": "a44dbb9c-8d44-4448-944d-da48b36b37a6",
        "colab": {
          "base_uri": "https://localhost:8080/",
          "height": 854
        }
      },
      "source": [
        "SVG(model_to_dot(model_dense, show_shapes=True).create(prog='dot', format='svg'))"
      ],
      "execution_count": 17,
      "outputs": [
        {
          "output_type": "execute_result",
          "data": {
            "text/plain": [
              "<IPython.core.display.SVG object>"
            ],
            "image/svg+xml": "<svg height=\"626pt\" viewBox=\"0.00 0.00 287.00 626.00\" width=\"287pt\" xmlns=\"http://www.w3.org/2000/svg\" xmlns:xlink=\"http://www.w3.org/1999/xlink\">\n<g class=\"graph\" id=\"graph0\" transform=\"scale(1 1) rotate(0) translate(4 622)\">\n<title>G</title>\n<polygon fill=\"#ffffff\" points=\"-4,4 -4,-622 283,-622 283,4 -4,4\" stroke=\"transparent\"/>\n<!-- 139848773001624 -->\n<g class=\"node\" id=\"node1\">\n<title>139848773001624</title>\n<polygon fill=\"none\" points=\"13.5,-498.5 13.5,-544.5 265.5,-544.5 265.5,-498.5 13.5,-498.5\" stroke=\"#000000\"/>\n<text fill=\"#000000\" font-family=\"Times,serif\" font-size=\"14.00\" text-anchor=\"middle\" x=\"67\" y=\"-517.8\">dense_1: Dense</text>\n<polyline fill=\"none\" points=\"120.5,-498.5 120.5,-544.5 \" stroke=\"#000000\"/>\n<text fill=\"#000000\" font-family=\"Times,serif\" font-size=\"14.00\" text-anchor=\"middle\" x=\"149.5\" y=\"-529.3\">input:</text>\n<polyline fill=\"none\" points=\"120.5,-521.5 178.5,-521.5 \" stroke=\"#000000\"/>\n<text fill=\"#000000\" font-family=\"Times,serif\" font-size=\"14.00\" text-anchor=\"middle\" x=\"149.5\" y=\"-506.3\">output:</text>\n<polyline fill=\"none\" points=\"178.5,-498.5 178.5,-544.5 \" stroke=\"#000000\"/>\n<text fill=\"#000000\" font-family=\"Times,serif\" font-size=\"14.00\" text-anchor=\"middle\" x=\"222\" y=\"-529.3\">(None, 784)</text>\n<polyline fill=\"none\" points=\"178.5,-521.5 265.5,-521.5 \" stroke=\"#000000\"/>\n<text fill=\"#000000\" font-family=\"Times,serif\" font-size=\"14.00\" text-anchor=\"middle\" x=\"222\" y=\"-506.3\">(None, 128)</text>\n</g>\n<!-- 139848772939112 -->\n<g class=\"node\" id=\"node2\">\n<title>139848772939112</title>\n<polygon fill=\"none\" points=\"0,-415.5 0,-461.5 279,-461.5 279,-415.5 0,-415.5\" stroke=\"#000000\"/>\n<text fill=\"#000000\" font-family=\"Times,serif\" font-size=\"14.00\" text-anchor=\"middle\" x=\"67\" y=\"-434.8\">dropout_1: Dropout</text>\n<polyline fill=\"none\" points=\"134,-415.5 134,-461.5 \" stroke=\"#000000\"/>\n<text fill=\"#000000\" font-family=\"Times,serif\" font-size=\"14.00\" text-anchor=\"middle\" x=\"163\" y=\"-446.3\">input:</text>\n<polyline fill=\"none\" points=\"134,-438.5 192,-438.5 \" stroke=\"#000000\"/>\n<text fill=\"#000000\" font-family=\"Times,serif\" font-size=\"14.00\" text-anchor=\"middle\" x=\"163\" y=\"-423.3\">output:</text>\n<polyline fill=\"none\" points=\"192,-415.5 192,-461.5 \" stroke=\"#000000\"/>\n<text fill=\"#000000\" font-family=\"Times,serif\" font-size=\"14.00\" text-anchor=\"middle\" x=\"235.5\" y=\"-446.3\">(None, 128)</text>\n<polyline fill=\"none\" points=\"192,-438.5 279,-438.5 \" stroke=\"#000000\"/>\n<text fill=\"#000000\" font-family=\"Times,serif\" font-size=\"14.00\" text-anchor=\"middle\" x=\"235.5\" y=\"-423.3\">(None, 128)</text>\n</g>\n<!-- 139848773001624&#45;&gt;139848772939112 -->\n<g class=\"edge\" id=\"edge2\">\n<title>139848773001624-&gt;139848772939112</title>\n<path d=\"M139.5,-498.3799C139.5,-490.1745 139.5,-480.7679 139.5,-471.8786\" fill=\"none\" stroke=\"#000000\"/>\n<polygon fill=\"#000000\" points=\"143.0001,-471.784 139.5,-461.784 136.0001,-471.784 143.0001,-471.784\" stroke=\"#000000\"/>\n</g>\n<!-- 139848772937208 -->\n<g class=\"node\" id=\"node3\">\n<title>139848772937208</title>\n<polygon fill=\"none\" points=\"13.5,-332.5 13.5,-378.5 265.5,-378.5 265.5,-332.5 13.5,-332.5\" stroke=\"#000000\"/>\n<text fill=\"#000000\" font-family=\"Times,serif\" font-size=\"14.00\" text-anchor=\"middle\" x=\"67\" y=\"-351.8\">dense_2: Dense</text>\n<polyline fill=\"none\" points=\"120.5,-332.5 120.5,-378.5 \" stroke=\"#000000\"/>\n<text fill=\"#000000\" font-family=\"Times,serif\" font-size=\"14.00\" text-anchor=\"middle\" x=\"149.5\" y=\"-363.3\">input:</text>\n<polyline fill=\"none\" points=\"120.5,-355.5 178.5,-355.5 \" stroke=\"#000000\"/>\n<text fill=\"#000000\" font-family=\"Times,serif\" font-size=\"14.00\" text-anchor=\"middle\" x=\"149.5\" y=\"-340.3\">output:</text>\n<polyline fill=\"none\" points=\"178.5,-332.5 178.5,-378.5 \" stroke=\"#000000\"/>\n<text fill=\"#000000\" font-family=\"Times,serif\" font-size=\"14.00\" text-anchor=\"middle\" x=\"222\" y=\"-363.3\">(None, 128)</text>\n<polyline fill=\"none\" points=\"178.5,-355.5 265.5,-355.5 \" stroke=\"#000000\"/>\n<text fill=\"#000000\" font-family=\"Times,serif\" font-size=\"14.00\" text-anchor=\"middle\" x=\"222\" y=\"-340.3\">(None, 128)</text>\n</g>\n<!-- 139848772939112&#45;&gt;139848772937208 -->\n<g class=\"edge\" id=\"edge3\">\n<title>139848772939112-&gt;139848772937208</title>\n<path d=\"M139.5,-415.3799C139.5,-407.1745 139.5,-397.7679 139.5,-388.8786\" fill=\"none\" stroke=\"#000000\"/>\n<polygon fill=\"#000000\" points=\"143.0001,-388.784 139.5,-378.784 136.0001,-388.784 143.0001,-388.784\" stroke=\"#000000\"/>\n</g>\n<!-- 139848859524064 -->\n<g class=\"node\" id=\"node4\">\n<title>139848859524064</title>\n<polygon fill=\"none\" points=\"0,-249.5 0,-295.5 279,-295.5 279,-249.5 0,-249.5\" stroke=\"#000000\"/>\n<text fill=\"#000000\" font-family=\"Times,serif\" font-size=\"14.00\" text-anchor=\"middle\" x=\"67\" y=\"-268.8\">dropout_2: Dropout</text>\n<polyline fill=\"none\" points=\"134,-249.5 134,-295.5 \" stroke=\"#000000\"/>\n<text fill=\"#000000\" font-family=\"Times,serif\" font-size=\"14.00\" text-anchor=\"middle\" x=\"163\" y=\"-280.3\">input:</text>\n<polyline fill=\"none\" points=\"134,-272.5 192,-272.5 \" stroke=\"#000000\"/>\n<text fill=\"#000000\" font-family=\"Times,serif\" font-size=\"14.00\" text-anchor=\"middle\" x=\"163\" y=\"-257.3\">output:</text>\n<polyline fill=\"none\" points=\"192,-249.5 192,-295.5 \" stroke=\"#000000\"/>\n<text fill=\"#000000\" font-family=\"Times,serif\" font-size=\"14.00\" text-anchor=\"middle\" x=\"235.5\" y=\"-280.3\">(None, 128)</text>\n<polyline fill=\"none\" points=\"192,-272.5 279,-272.5 \" stroke=\"#000000\"/>\n<text fill=\"#000000\" font-family=\"Times,serif\" font-size=\"14.00\" text-anchor=\"middle\" x=\"235.5\" y=\"-257.3\">(None, 128)</text>\n</g>\n<!-- 139848772937208&#45;&gt;139848859524064 -->\n<g class=\"edge\" id=\"edge4\">\n<title>139848772937208-&gt;139848859524064</title>\n<path d=\"M139.5,-332.3799C139.5,-324.1745 139.5,-314.7679 139.5,-305.8786\" fill=\"none\" stroke=\"#000000\"/>\n<polygon fill=\"#000000\" points=\"143.0001,-305.784 139.5,-295.784 136.0001,-305.784 143.0001,-305.784\" stroke=\"#000000\"/>\n</g>\n<!-- 139848773005264 -->\n<g class=\"node\" id=\"node5\">\n<title>139848773005264</title>\n<polygon fill=\"none\" points=\"13.5,-166.5 13.5,-212.5 265.5,-212.5 265.5,-166.5 13.5,-166.5\" stroke=\"#000000\"/>\n<text fill=\"#000000\" font-family=\"Times,serif\" font-size=\"14.00\" text-anchor=\"middle\" x=\"67\" y=\"-185.8\">dense_3: Dense</text>\n<polyline fill=\"none\" points=\"120.5,-166.5 120.5,-212.5 \" stroke=\"#000000\"/>\n<text fill=\"#000000\" font-family=\"Times,serif\" font-size=\"14.00\" text-anchor=\"middle\" x=\"149.5\" y=\"-197.3\">input:</text>\n<polyline fill=\"none\" points=\"120.5,-189.5 178.5,-189.5 \" stroke=\"#000000\"/>\n<text fill=\"#000000\" font-family=\"Times,serif\" font-size=\"14.00\" text-anchor=\"middle\" x=\"149.5\" y=\"-174.3\">output:</text>\n<polyline fill=\"none\" points=\"178.5,-166.5 178.5,-212.5 \" stroke=\"#000000\"/>\n<text fill=\"#000000\" font-family=\"Times,serif\" font-size=\"14.00\" text-anchor=\"middle\" x=\"222\" y=\"-197.3\">(None, 128)</text>\n<polyline fill=\"none\" points=\"178.5,-189.5 265.5,-189.5 \" stroke=\"#000000\"/>\n<text fill=\"#000000\" font-family=\"Times,serif\" font-size=\"14.00\" text-anchor=\"middle\" x=\"222\" y=\"-174.3\">(None, 128)</text>\n</g>\n<!-- 139848859524064&#45;&gt;139848773005264 -->\n<g class=\"edge\" id=\"edge5\">\n<title>139848859524064-&gt;139848773005264</title>\n<path d=\"M139.5,-249.3799C139.5,-241.1745 139.5,-231.7679 139.5,-222.8786\" fill=\"none\" stroke=\"#000000\"/>\n<polygon fill=\"#000000\" points=\"143.0001,-222.784 139.5,-212.784 136.0001,-222.784 143.0001,-222.784\" stroke=\"#000000\"/>\n</g>\n<!-- 139848772737848 -->\n<g class=\"node\" id=\"node6\">\n<title>139848772737848</title>\n<polygon fill=\"none\" points=\"0,-83.5 0,-129.5 279,-129.5 279,-83.5 0,-83.5\" stroke=\"#000000\"/>\n<text fill=\"#000000\" font-family=\"Times,serif\" font-size=\"14.00\" text-anchor=\"middle\" x=\"67\" y=\"-102.8\">dropout_3: Dropout</text>\n<polyline fill=\"none\" points=\"134,-83.5 134,-129.5 \" stroke=\"#000000\"/>\n<text fill=\"#000000\" font-family=\"Times,serif\" font-size=\"14.00\" text-anchor=\"middle\" x=\"163\" y=\"-114.3\">input:</text>\n<polyline fill=\"none\" points=\"134,-106.5 192,-106.5 \" stroke=\"#000000\"/>\n<text fill=\"#000000\" font-family=\"Times,serif\" font-size=\"14.00\" text-anchor=\"middle\" x=\"163\" y=\"-91.3\">output:</text>\n<polyline fill=\"none\" points=\"192,-83.5 192,-129.5 \" stroke=\"#000000\"/>\n<text fill=\"#000000\" font-family=\"Times,serif\" font-size=\"14.00\" text-anchor=\"middle\" x=\"235.5\" y=\"-114.3\">(None, 128)</text>\n<polyline fill=\"none\" points=\"192,-106.5 279,-106.5 \" stroke=\"#000000\"/>\n<text fill=\"#000000\" font-family=\"Times,serif\" font-size=\"14.00\" text-anchor=\"middle\" x=\"235.5\" y=\"-91.3\">(None, 128)</text>\n</g>\n<!-- 139848773005264&#45;&gt;139848772737848 -->\n<g class=\"edge\" id=\"edge6\">\n<title>139848773005264-&gt;139848772737848</title>\n<path d=\"M139.5,-166.3799C139.5,-158.1745 139.5,-148.7679 139.5,-139.8786\" fill=\"none\" stroke=\"#000000\"/>\n<polygon fill=\"#000000\" points=\"143.0001,-139.784 139.5,-129.784 136.0001,-139.784 143.0001,-139.784\" stroke=\"#000000\"/>\n</g>\n<!-- 139848763663920 -->\n<g class=\"node\" id=\"node7\">\n<title>139848763663920</title>\n<polygon fill=\"none\" points=\"13.5,-.5 13.5,-46.5 265.5,-46.5 265.5,-.5 13.5,-.5\" stroke=\"#000000\"/>\n<text fill=\"#000000\" font-family=\"Times,serif\" font-size=\"14.00\" text-anchor=\"middle\" x=\"67\" y=\"-19.8\">dense_4: Dense</text>\n<polyline fill=\"none\" points=\"120.5,-.5 120.5,-46.5 \" stroke=\"#000000\"/>\n<text fill=\"#000000\" font-family=\"Times,serif\" font-size=\"14.00\" text-anchor=\"middle\" x=\"149.5\" y=\"-31.3\">input:</text>\n<polyline fill=\"none\" points=\"120.5,-23.5 178.5,-23.5 \" stroke=\"#000000\"/>\n<text fill=\"#000000\" font-family=\"Times,serif\" font-size=\"14.00\" text-anchor=\"middle\" x=\"149.5\" y=\"-8.3\">output:</text>\n<polyline fill=\"none\" points=\"178.5,-.5 178.5,-46.5 \" stroke=\"#000000\"/>\n<text fill=\"#000000\" font-family=\"Times,serif\" font-size=\"14.00\" text-anchor=\"middle\" x=\"222\" y=\"-31.3\">(None, 128)</text>\n<polyline fill=\"none\" points=\"178.5,-23.5 265.5,-23.5 \" stroke=\"#000000\"/>\n<text fill=\"#000000\" font-family=\"Times,serif\" font-size=\"14.00\" text-anchor=\"middle\" x=\"222\" y=\"-8.3\">(None, 10)</text>\n</g>\n<!-- 139848772737848&#45;&gt;139848763663920 -->\n<g class=\"edge\" id=\"edge7\">\n<title>139848772737848-&gt;139848763663920</title>\n<path d=\"M139.5,-83.3799C139.5,-75.1745 139.5,-65.7679 139.5,-56.8786\" fill=\"none\" stroke=\"#000000\"/>\n<polygon fill=\"#000000\" points=\"143.0001,-56.784 139.5,-46.784 136.0001,-56.784 143.0001,-56.784\" stroke=\"#000000\"/>\n</g>\n<!-- 139848773003920 -->\n<g class=\"node\" id=\"node8\">\n<title>139848773003920</title>\n<polygon fill=\"none\" points=\"75,-581.5 75,-617.5 204,-617.5 204,-581.5 75,-581.5\" stroke=\"#000000\"/>\n<text fill=\"#000000\" font-family=\"Times,serif\" font-size=\"14.00\" text-anchor=\"middle\" x=\"139.5\" y=\"-595.8\">139848773003920</text>\n</g>\n<!-- 139848773003920&#45;&gt;139848773001624 -->\n<g class=\"edge\" id=\"edge1\">\n<title>139848773003920-&gt;139848773001624</title>\n<path d=\"M139.5,-581.4092C139.5,-573.4308 139.5,-563.795 139.5,-554.606\" fill=\"none\" stroke=\"#000000\"/>\n<polygon fill=\"#000000\" points=\"143.0001,-554.5333 139.5,-544.5333 136.0001,-554.5334 143.0001,-554.5333\" stroke=\"#000000\"/>\n</g>\n</g>\n</svg>"
          },
          "metadata": {
            "tags": []
          },
          "execution_count": 17
        }
      ]
    },
    {
      "cell_type": "markdown",
      "metadata": {
        "id": "xUmNVe9efeZg",
        "colab_type": "text"
      },
      "source": [
        "Compile model"
      ]
    },
    {
      "cell_type": "code",
      "metadata": {
        "id": "3sPy7u8HfeZh",
        "colab_type": "code",
        "colab": {}
      },
      "source": [
        "model_dense.compile(loss='categorical_crossentropy',\n",
        "                    optimizer='adam',\n",
        "                    metrics=['accuracy'])"
      ],
      "execution_count": 0,
      "outputs": []
    },
    {
      "cell_type": "markdown",
      "metadata": {
        "id": "9zVWA8oDfeZk",
        "colab_type": "text"
      },
      "source": [
        "## Training"
      ]
    },
    {
      "cell_type": "code",
      "metadata": {
        "id": "qzSi1irBfeZk",
        "colab_type": "code",
        "outputId": "794da553-8dac-42af-df25-55fd355faee7",
        "colab": {
          "base_uri": "https://localhost:8080/",
          "height": 793
        }
      },
      "source": [
        "import time\n",
        "start = time.time()\n",
        "epochs=20\n",
        "hist = model_dense.fit(X_train.reshape((len(X_train), img_cols * img_rows)), y_train, \n",
        "                       validation_data = (X_valid, y_valid), \n",
        "                       epochs=epochs, batch_size=128)\n",
        "end = time.time()\n",
        "seconds_per_epoch = f\"{(end - start)/epochs:.4}\"\n",
        "print(f\"seconds_per_epoch: {seconds_per_epoch}\")\n"
      ],
      "execution_count": 19,
      "outputs": [
        {
          "output_type": "stream",
          "text": [
            "WARNING:tensorflow:From /usr/local/lib/python3.6/dist-packages/tensorflow/python/ops/math_ops.py:3066: to_int32 (from tensorflow.python.ops.math_ops) is deprecated and will be removed in a future version.\n",
            "Instructions for updating:\n",
            "Use tf.cast instead.\n",
            "Train on 48000 samples, validate on 12000 samples\n",
            "Epoch 1/20\n",
            "48000/48000 [==============================] - 4s 83us/step - loss: 1.5392 - acc: 0.4413 - val_loss: 4.2871 - val_acc: 0.7167\n",
            "Epoch 2/20\n",
            "48000/48000 [==============================] - 3s 66us/step - loss: 0.8231 - acc: 0.7227 - val_loss: 4.2131 - val_acc: 0.7295\n",
            "Epoch 3/20\n",
            "48000/48000 [==============================] - 3s 69us/step - loss: 0.6430 - acc: 0.8014 - val_loss: 3.9427 - val_acc: 0.7505\n",
            "Epoch 4/20\n",
            "48000/48000 [==============================] - 3s 69us/step - loss: 0.5500 - acc: 0.8359 - val_loss: 3.3898 - val_acc: 0.7848\n",
            "Epoch 5/20\n",
            "48000/48000 [==============================] - 3s 67us/step - loss: 0.4966 - acc: 0.8534 - val_loss: 2.8373 - val_acc: 0.8207\n",
            "Epoch 6/20\n",
            "48000/48000 [==============================] - 3s 68us/step - loss: 0.4551 - acc: 0.8676 - val_loss: 2.4442 - val_acc: 0.8458\n",
            "Epoch 7/20\n",
            "48000/48000 [==============================] - 3s 71us/step - loss: 0.4244 - acc: 0.8783 - val_loss: 2.2522 - val_acc: 0.8576\n",
            "Epoch 8/20\n",
            "48000/48000 [==============================] - 3s 66us/step - loss: 0.4016 - acc: 0.8849 - val_loss: 2.1146 - val_acc: 0.8663\n",
            "Epoch 9/20\n",
            "48000/48000 [==============================] - 3s 66us/step - loss: 0.3795 - acc: 0.8911 - val_loss: 2.0521 - val_acc: 0.8704\n",
            "Epoch 10/20\n",
            "48000/48000 [==============================] - 3s 66us/step - loss: 0.3602 - acc: 0.8980 - val_loss: 1.9754 - val_acc: 0.8754\n",
            "Epoch 11/20\n",
            "48000/48000 [==============================] - 3s 68us/step - loss: 0.3482 - acc: 0.9010 - val_loss: 1.7963 - val_acc: 0.8862\n",
            "Epoch 12/20\n",
            "48000/48000 [==============================] - 3s 67us/step - loss: 0.3418 - acc: 0.9031 - val_loss: 1.6858 - val_acc: 0.8937\n",
            "Epoch 13/20\n",
            "48000/48000 [==============================] - 3s 64us/step - loss: 0.3311 - acc: 0.9062 - val_loss: 1.6970 - val_acc: 0.8926\n",
            "Epoch 14/20\n",
            "48000/48000 [==============================] - 3s 64us/step - loss: 0.3184 - acc: 0.9097 - val_loss: 1.7348 - val_acc: 0.8906\n",
            "Epoch 15/20\n",
            "48000/48000 [==============================] - 3s 65us/step - loss: 0.3078 - acc: 0.9120 - val_loss: 1.6803 - val_acc: 0.8933\n",
            "Epoch 16/20\n",
            "48000/48000 [==============================] - 3s 68us/step - loss: 0.3107 - acc: 0.9129 - val_loss: 1.5212 - val_acc: 0.9037\n",
            "Epoch 17/20\n",
            "48000/48000 [==============================] - 3s 67us/step - loss: 0.2985 - acc: 0.9159 - val_loss: 1.4988 - val_acc: 0.9050\n",
            "Epoch 18/20\n",
            "48000/48000 [==============================] - 3s 63us/step - loss: 0.2964 - acc: 0.9169 - val_loss: 1.4658 - val_acc: 0.9069\n",
            "Epoch 19/20\n",
            "48000/48000 [==============================] - 3s 65us/step - loss: 0.2873 - acc: 0.9186 - val_loss: 1.5158 - val_acc: 0.9043\n",
            "Epoch 20/20\n",
            "48000/48000 [==============================] - 3s 66us/step - loss: 0.2823 - acc: 0.9211 - val_loss: 1.5438 - val_acc: 0.9024\n",
            "seconds_per_epoch: 3.268\n"
          ],
          "name": "stdout"
        }
      ]
    },
    {
      "cell_type": "markdown",
      "metadata": {
        "id": "3G0kpoA5feZn",
        "colab_type": "text"
      },
      "source": [
        "## Evaluation"
      ]
    },
    {
      "cell_type": "code",
      "metadata": {
        "id": "HRpkj3U0feZo",
        "colab_type": "code",
        "outputId": "4fd062c6-f0eb-4a6d-d4fb-e201de6a4c4f",
        "colab": {
          "base_uri": "https://localhost:8080/",
          "height": 53
        }
      },
      "source": [
        "# Returns the loss value & metrics values for the model in test mode.\n",
        "# CXE and accuracy\n",
        "model_dense.evaluate(X_test,  y_test, verbose=1)"
      ],
      "execution_count": 20,
      "outputs": [
        {
          "output_type": "stream",
          "text": [
            "10000/10000 [==============================] - 0s 46us/step\n"
          ],
          "name": "stdout"
        },
        {
          "output_type": "execute_result",
          "data": {
            "text/plain": [
              "[0.1756887694209814, 0.9497]"
            ]
          },
          "metadata": {
            "tags": []
          },
          "execution_count": 20
        }
      ]
    },
    {
      "cell_type": "markdown",
      "metadata": {
        "id": "eK_FzPGDfeZq",
        "colab_type": "text"
      },
      "source": [
        "###  Visualize the learning, epoch by epoch"
      ]
    },
    {
      "cell_type": "code",
      "metadata": {
        "id": "XrUAXqtNfeZq",
        "colab_type": "code",
        "outputId": "0dd04125-d729-42b4-f48a-16cfbd64990b",
        "colab": {
          "base_uri": "https://localhost:8080/",
          "height": 691
        }
      },
      "source": [
        "plt.figure(figsize=(20, 8))\n",
        "plt.suptitle(\"Dense model training\", fontsize=18)\n",
        "plt.subplot(121)\n",
        "plt.plot(hist.history[\"loss\"], label=\"Train\")\n",
        "plt.plot(hist.history[\"val_loss\"], label=\"Validation\")\n",
        "plt.grid(\"on\")\n",
        "plt.xlabel(\"Epoch\", fontsize=14)\n",
        "plt.ylabel(\"Crossentropy\", fontsize=14)\n",
        "plt.legend(loc=\"upper right\")\n",
        "plt.title(\"Crossentropy CXE\")\n",
        "plt.subplot(122)\n",
        "plt.plot(hist.history[\"acc\"], label=\"Train\")\n",
        "plt.grid(\"on\")\n",
        "plt.plot(hist.history[\"val_acc\"], label=\"Validation\")\n",
        "plt.xlabel(\"Epoch\", fontsize=14)\n",
        "plt.ylabel(\"Accuracy\", fontsize=14)\n",
        "plt.legend(loc=\"lower right\")\n",
        "plt.title(\"Accuracy\")\n",
        "\n",
        "#plt.ylim([0.88, 1.0]);"
      ],
      "execution_count": 21,
      "outputs": [
        {
          "output_type": "stream",
          "text": [
            "/usr/local/lib/python3.6/dist-packages/matplotlib/cbook/__init__.py:424: MatplotlibDeprecationWarning: \n",
            "Passing one of 'on', 'true', 'off', 'false' as a boolean is deprecated; use an actual boolean (True/False) instead.\n",
            "  warn_deprecated(\"2.2\", \"Passing one of 'on', 'true', 'off', 'false' as a \"\n",
            "/usr/local/lib/python3.6/dist-packages/matplotlib/cbook/__init__.py:424: MatplotlibDeprecationWarning: \n",
            "Passing one of 'on', 'true', 'off', 'false' as a boolean is deprecated; use an actual boolean (True/False) instead.\n",
            "  warn_deprecated(\"2.2\", \"Passing one of 'on', 'true', 'off', 'false' as a \"\n"
          ],
          "name": "stderr"
        },
        {
          "output_type": "execute_result",
          "data": {
            "text/plain": [
              "Text(0.5, 1.0, 'Accuracy')"
            ]
          },
          "metadata": {
            "tags": []
          },
          "execution_count": 21
        },
        {
          "output_type": "display_data",
          "data": {
            "image/png": "[encoded data removed]",
            "text/plain": [
              "<Figure size 1440x576 with 2 Axes>"
            ]
          },
          "metadata": {
            "tags": []
          }
        }
      ]
    },
    {
      "cell_type": "markdown",
      "metadata": {
        "id": "HMQntr-lfeZt",
        "colab_type": "text"
      },
      "source": [
        "Table to store the results of the experiments"
      ]
    },
    {
      "cell_type": "code",
      "metadata": {
        "id": "or29A_E2feZu",
        "colab_type": "code",
        "outputId": "8f3c5e4c-f28a-49df-f56d-fd6a572acb64",
        "colab": {
          "base_uri": "https://localhost:8080/",
          "height": 49
        }
      },
      "source": [
        "\n",
        "\n",
        "expLog"
      ],
      "execution_count": 25,
      "outputs": [
        {
          "output_type": "execute_result",
          "data": {
            "text/html": [
              "<div>\n",
              "<style scoped>\n",
              "    .dataframe tbody tr th:only-of-type {\n",
              "        vertical-align: middle;\n",
              "    }\n",
              "\n",
              "    .dataframe tbody tr th {\n",
              "        vertical-align: top;\n",
              "    }\n",
              "\n",
              "    .dataframe thead th {\n",
              "        text-align: right;\n",
              "    }\n",
              "</style>\n",
              "<table border=\"1\" class=\"dataframe\">\n",
              "  <thead>\n",
              "    <tr style=\"text-align: right;\">\n",
              "      <th></th>\n",
              "      <th>exp_name</th>\n",
              "      <th>epoch (secs)</th>\n",
              "      <th>Epochs</th>\n",
              "      <th>Train CXE Loss</th>\n",
              "      <th>Train Acc</th>\n",
              "      <th>Validation CXE Loss</th>\n",
              "      <th>Validation  Acc</th>\n",
              "      <th>Test CXE Loss</th>\n",
              "      <th>Test  Accuracy</th>\n",
              "    </tr>\n",
              "  </thead>\n",
              "  <tbody>\n",
              "  </tbody>\n",
              "</table>\n",
              "</div>"
            ],
            "text/plain": [
              "Empty DataFrame\n",
              "Columns: [exp_name, epoch (secs), Epochs, Train CXE Loss, Train Acc, Validation CXE Loss, Validation  Acc, Test CXE Loss, Test  Accuracy]\n",
              "Index: []"
            ]
          },
          "metadata": {
            "tags": []
          },
          "execution_count": 25
        }
      ]
    },
    {
      "cell_type": "markdown",
      "metadata": {
        "id": "86vvD2CnfeZz",
        "colab_type": "text"
      },
      "source": [
        "### Debugging (please use)"
      ]
    },
    {
      "cell_type": "code",
      "metadata": {
        "id": "D71xNisMfeZz",
        "colab_type": "code",
        "colab": {}
      },
      "source": [
        "x = 3 \n",
        "y =4\n",
        "\n",
        "from IPython.core.debugger import Pdb as pdb;    pdb().set_trace() #breakpoint; dont forget to quit         \n",
        "\n",
        "print(f\"x: {x}\")\n"
      ],
      "execution_count": 0,
      "outputs": []
    },
    {
      "cell_type": "code",
      "metadata": {
        "code_folding": [],
        "id": "PeYXdeXKfeZ2",
        "colab_type": "code",
        "colab": {}
      },
      "source": [
        "# add the result of this experiment to the log book\n",
        "exp_name = \"MLP-784-128-128-128-10\" # experiment name\n",
        "#del expLog\n",
        "try:\n",
        "    expLog\n",
        "except NameError:\n",
        "    expLog = pd.DataFrame(columns=[\"exp_name\", \"epoch (secs)\", \"Epochs\", \"Train CXE Loss\", \"Train Acc\", \"Validation CXE Loss\", \"Validation  Acc\",\n",
        "                    \"Test CXE Loss\", \"Test  Accuracy\"])\n",
        "    \n",
        "# Add a experiment results to the experiment log\n",
        "model = model_dense\n",
        "#from IPython.core.debugger import Pdb as pdb;    pdb().set_trace() #breakpoint; dont forget to quit         \n",
        "expLog.loc[len(expLog)] = [f\"{exp_name}\", seconds_per_epoch, epochs] + list(np.round(np.reshape([model.evaluate(X_train, y_train, verbose=0), \n",
        "                   model.evaluate(X_valid, y_valid, verbose=0),\n",
        "                   model.evaluate(X_test,  y_test, verbose=1)], -1), 3))\n",
        "expLog"
      ],
      "execution_count": 0,
      "outputs": []
    },
    {
      "cell_type": "code",
      "metadata": {
        "id": "QbXFWe2yvPos",
        "colab_type": "code",
        "colab": {}
      },
      "source": [
        ""
      ],
      "execution_count": 0,
      "outputs": []
    },
    {
      "cell_type": "markdown",
      "metadata": {
        "id": "hUaDcrTtfeZ8",
        "colab_type": "text"
      },
      "source": [
        "## Task 3.1 : choose a better MLP architecture\n",
        "\n",
        "\n",
        "\n",
        "Using all the training data, search for a good CNN architecture to model the MNIST problem. Above we explored 784-128-128-128-10.\n",
        " \n",
        "\n",
        "It is up to you what the model will be. Here are some things you need to decide:\n",
        "1. how many DENSE layers?\n",
        "* how manu neurons per layer\n",
        "* report the accuracy on the test data set\n",
        "\n",
        "Please use use like this to explore different architectures:\n",
        "\n",
        "\n",
        "```python\n",
        "model_dense = Sequential()  #784-12-12-10\n",
        "model_dense.add(Dense(12, input_shape=(img_rows * img_cols,), activation=\"relu\"))\n",
        "model_dense.add(Dense(12, activation=\"relu\"))\n",
        "model_dense.add(Dense(nb_classes, activation=\"softmax\"))\n",
        "\n",
        "# E.g., explore 24 possible architectures \n",
        "number_of_hidden_layes = [1, 2, 3, 4]\n",
        "number_of_hidden_nodes = [12, 24, 48, 96, 128,256]\n",
        "\n",
        "\n",
        "```\n",
        "\n",
        "\n",
        "**Please paste your response here using the following format:** \n",
        "* Best archtecture is:  \n",
        "* Test accuracy: \n",
        "* Training time per epoch in seconds is : \n",
        "\n",
        "\n",
        "## Task 3.2 : with 500 training examples\n",
        "\n",
        "Use only 500 examples per class (recall we  have only 10 classes) and find the best architecture. \n",
        "HINTs:\n",
        "* you can do  stratified sampling OR just random selection of 5,000 examples\n",
        "* for inspiration, see [here](https://mclguide.readthedocs.io/en/latest/sklearn/multiclass.html)\n",
        "* For more details see: [sklearn.model_selection.train_test_split manual page](https://scikit-learn.org/stable/modules/generated/sklearn.model_selection.train_test_split.html)\n",
        "  * `stratify` : array-like or None (default=None)\n",
        "    If not None, data is split in a stratified fashion, using this as the class labels.\n",
        "\n",
        "```python\n",
        "# load MNIST data\n",
        "from sklearn.model_selection import train_test_split\n",
        "(X_train, y_train), (X_test, y_test) = mnist.load_data()\n",
        "X_train, X_valid, y_train, y_valid = train_test_split(X_train, y_train, \n",
        "                                                     test_size=55000./60000., random_state=42, \n",
        "                                                     stratify=y_train)\n",
        "img_rows, img_cols = 28, 28\n",
        "number_of_classes = 10\n",
        "print(f\"X before flatten train      shape: {X_train.shape}\")\n",
        "print(f\"X before flatten validation shape: {X_valid.shape}\")\n",
        "print(f\"X before flatten test       shape: {X_test.shape}\")\n",
        "print(f\"All data: {np.bincount(y_train) / float(len(y_train))}\")\n",
        "```\n",
        "\n",
        "**Please paste your response here:** \n",
        "* Best archtecture is:  \n",
        "* Test accuracy: \n",
        "* Training time per epoch in seconds is : \n",
        "\n",
        "## Task 3.3 : Odd versus Even Classifier\n",
        "\n",
        "Build a binary classifier that classifiers odd numbers versus even numbers. Again, try to find the best architecture.\n",
        "\n",
        "\n",
        "**Please paste your response here:** \n",
        "* Best archtecture is:  \n",
        "* Test accuracy: \n",
        "* Training time per epoch in seconds is : \n",
        "\n",
        "\n",
        "## 3.4 Homework Submission Instructions:\n",
        "\n",
        "\n",
        "\n",
        "1. Please fill in your best architecture for each of the three homework tasks 3.1, 3.2, 3.3: \n",
        "https://docs.google.com/spreadsheets/d/11Ot_v7EKmBoNgXBEjCsN_S7tYtfa5OXFLQoH62JCf1g/edit?usp=sharing\n",
        "  * NOTE: that each task has a SEPARATE table/tab in the above spreadsheet.\n",
        "  * The winner in each task gets a special prize!\n",
        "* Please upload your notebook to the following Google Drive folder (you save directly or just can drag and drop):\n",
        "  * https://drive.google.com/drive/folders/18Ng3PfnVBhrT82s_rQ_-WylE5rN7f9ej?usp=sharing\n",
        "* Your homework submission is now due tomorrow (Thursday) morning at 8AM (that will give you an extra 12 hours!!)\n",
        "* Please send the following by EMAIL to James.Shanahan@gmail.com with the subject \"Sichuan2019: MNIST Best MLP Architecture\"\n",
        "\n",
        "  * Link to your own Google Colab notebook where you did the experiments\n",
        "  * All the text + your response from this cell\n",
        "  * A screenshot of your expLog table"
      ]
    },
    {
      "cell_type": "markdown",
      "metadata": {
        "colab_type": "text",
        "id": "Y-uv7zu85TrZ"
      },
      "source": [
        "##Homework by Pepper\n",
        "\n"
      ]
    },
    {
      "cell_type": "markdown",
      "metadata": {
        "id": "vereTAZGY8dN",
        "colab_type": "text"
      },
      "source": [
        "### Task 3.1 : choose a better MLP architecture\n",
        "\n",
        "\n",
        "\n",
        "Using all the training data, search for a good CNN architecture to model the MNIST problem. Above we explored 784-128-128-128-10.\n",
        " \n",
        "\n",
        "It is up to you what the model will be. Here are some things you need to decide:\n",
        "1. how many DENSE layers?\n",
        "```python\n",
        "'3 dense layers'\n",
        "'1 hidden layers'\n",
        "```\n",
        "* how manu neurons per layer\n",
        "```python\n",
        "'256 per layer'\n",
        "```\n",
        "* report the accuracy on the test data set\n",
        "```python\n",
        "'784-256-10\t\taccuracy_train:0.99995\taccuracy_test:0.982'\n",
        "```\n",
        "**Please paste your response here using the following format:** \n",
        "* Best archtecture is:  \n",
        "```python\n",
        "'784-256-10\t\t\n",
        "```\n",
        "* Test accuracy: \n",
        "```python\n",
        "'accuracy_train:0.99995\taccuracy_test:0.982'\n",
        "```\n",
        "* Training time per epoch in seconds is : \n",
        "```python\n",
        "'1secs'\n",
        "```\n",
        "\n"
      ]
    },
    {
      "cell_type": "code",
      "metadata": {
        "id": "ULo_VfWUy-9y",
        "colab_type": "code",
        "colab": {}
      },
      "source": [
        "\n",
        "\n",
        "'''\n",
        "#2nd version\n",
        "#def list_all_architecture():\n",
        "neurons=[256,128,64,12]\n",
        "for dense_layer in range(1,4):#list all achitecture using 2 for loops\n",
        "  for n in range(1,4):\n",
        "    architecture = '784-'+str(neurons[n]) #architecture name     \n",
        "    \n",
        "    model_dense = Sequential()  \n",
        "    model_dense.add(Dense(neurons[n], input_shape=(img_rows * img_cols,), activation=\"relu\"))\n",
        "    \n",
        "    \n",
        "    \n",
        "    while n < dense_layer:#pair other nodes using while loop\n",
        "      architecture+='-'+str(neurons[n+1])  #architecture name   \n",
        "      \n",
        "      model_dense.add(Dense(neurons[n+1], activation=\"relu\"))\n",
        "      time+=1\n",
        " ''' \n"
      ],
      "execution_count": 0,
      "outputs": []
    },
    {
      "cell_type": "code",
      "metadata": {
        "colab_type": "code",
        "cellView": "code",
        "outputId": "8419f7e6-1c3e-4995-b8c9-c571e6179e84",
        "id": "bdQqzhV35Tra",
        "colab": {
          "base_uri": "https://localhost:8080/",
          "height": 858
        }
      },
      "source": [
        "\n",
        "#written by Pepper before 5pm Tuesday\n",
        "\n",
        "results = pd.DataFrame(columns=[\"Architecture\", \"Epoch time\", \"Accuracy Train\", \"Accuracy Test\", \"Loss Train\", \"Loss Test\"])\n",
        "\n",
        "for dense_layer in [4]:#[4,3,2,1]:\n",
        "  for neuron in [256]:#[256,128,64,12]:\n",
        "    architecture = '784-'+str(neuron)  \n",
        "    \n",
        "    model_dense = Sequential()  \n",
        "    model_dense.add(Dense(neuron, input_shape=(img_rows * img_cols,), activation=\"relu\"))\n",
        "    \n",
        "    time = 1\n",
        "    while time < dense_layer:#pair other nodes using while loop\n",
        "      architecture+='-'+str(neuron)   \n",
        "      model_dense.add(Dense(neuron, activation=\"relu\"))\n",
        "      time+=1\n",
        "             \n",
        "    model_dense.add(Dense(nb_classes, activation=\"softmax\"))\n",
        "    architecture+=\"-10\"\n",
        "      \n",
        "    #compile before training & testing  \n",
        "    model_dense.compile(loss='categorical_crossentropy',\n",
        "                  optimizer='adam',\n",
        "                  metrics=['accuracy'])\n",
        "    \n",
        "    #training & testing (thought this was plotting and deleted, and got 0.01% of accuracy)\n",
        "    import time\n",
        "    start = time.time()\n",
        "    epochs=20\n",
        "    hist = model_dense.fit(X_train.reshape((len(X_train), img_cols * img_rows)), y_train, \n",
        "                          validation_data = (X_valid, y_valid), \n",
        "                       epochs=epochs, batch_size=128)\n",
        "    end = time.time()\n",
        "    seconds_per_epoch = f\"{(end - start)/epochs:.4}\"\n",
        "    print(f\"seconds_per_epoch: {seconds_per_epoch}\")\n",
        "\n",
        "  #  hist = model_dense.fit(X_train.reshape((len(X_train), img_cols * img_rows)), y_train, \n",
        "   #       validation_data = (X_test.reshape((len(X_test), img_cols * img_rows)), y_test), \n",
        "    #      epochs=20, batch_size=128)\n",
        "\n",
        "    \n",
        "    \n",
        "    score_train = model_dense.evaluate(X_train.reshape((len(X_train), img_cols * img_rows)), y_train, verbose=0)\n",
        "    score_test = model_dense.evaluate(X_test.reshape((len(X_test), img_cols * img_rows)), y_test, verbose=0)\n",
        "    results.loc[len(results)] = np.array([architecture, \"1secs\", score_train[1], score_test[1], score_train[0], score_test[0]])\n",
        "    #results.index = [\"MLP\"]\n",
        "\n",
        "results\n",
        "      \n",
        "try:\n",
        "    expLog\n",
        "except NameError:\n",
        "    expLog = pd.DataFrame(columns=[\"exp_name\", \"epoch (secs)\", \"Epochs\", \"Train CXE Loss\", \"Train Acc\", \"Validation CXE Loss\", \"Validation  Acc\",\n",
        "                    \"Test CXE Loss\", \"Test  Accuracy\"])\n",
        "    \n",
        "# Add a experiment results to the experiment log\n",
        "model = model_dense\n",
        "#from IPython.core.debugger import Pdb as pdb;    pdb().set_trace() #breakpoint; dont forget to quit         \n",
        "expLog.loc[len(expLog)] = [f\"{architecture}\", seconds_per_epoch, epochs] + list(np.round(np.reshape([model.evaluate(X_train, y_train, verbose=0), \n",
        "                   model.evaluate(X_valid, y_valid, verbose=0),\n",
        "                   model.evaluate(X_test,  y_test, verbose=1)], -1), 3))\n",
        "expLog"
      ],
      "execution_count": 45,
      "outputs": [
        {
          "output_type": "stream",
          "text": [
            "Train on 48000 samples, validate on 12000 samples\n",
            "Epoch 1/20\n",
            "48000/48000 [==============================] - 9s 193us/step - loss: 0.8720 - acc: 0.7083 - val_loss: 2.8366 - val_acc: 0.8170\n",
            "Epoch 2/20\n",
            "48000/48000 [==============================] - 6s 119us/step - loss: 0.3648 - acc: 0.8879 - val_loss: 2.4304 - val_acc: 0.8455\n",
            "Epoch 3/20\n",
            "48000/48000 [==============================] - 6s 119us/step - loss: 0.2677 - acc: 0.9185 - val_loss: 2.1169 - val_acc: 0.8651\n",
            "Epoch 4/20\n",
            "48000/48000 [==============================] - 6s 120us/step - loss: 0.2118 - acc: 0.9355 - val_loss: 1.4516 - val_acc: 0.9076\n",
            "Epoch 5/20\n",
            "48000/48000 [==============================] - 6s 122us/step - loss: 0.1708 - acc: 0.9484 - val_loss: 1.0734 - val_acc: 0.9313\n",
            "Epoch 6/20\n",
            "48000/48000 [==============================] - 6s 121us/step - loss: 0.1434 - acc: 0.9563 - val_loss: 1.1232 - val_acc: 0.9287\n",
            "Epoch 7/20\n",
            "48000/48000 [==============================] - 6s 121us/step - loss: 0.1233 - acc: 0.9628 - val_loss: 0.9806 - val_acc: 0.9373\n",
            "Epoch 8/20\n",
            "48000/48000 [==============================] - 6s 119us/step - loss: 0.1054 - acc: 0.9684 - val_loss: 0.9587 - val_acc: 0.9392\n",
            "Epoch 9/20\n",
            "48000/48000 [==============================] - 6s 121us/step - loss: 0.0940 - acc: 0.9719 - val_loss: 0.9555 - val_acc: 0.9390\n",
            "Epoch 10/20\n",
            "48000/48000 [==============================] - 6s 129us/step - loss: 0.0829 - acc: 0.9755 - val_loss: 0.9738 - val_acc: 0.9384\n",
            "Epoch 11/20\n",
            "48000/48000 [==============================] - 6s 121us/step - loss: 0.0774 - acc: 0.9763 - val_loss: 1.0556 - val_acc: 0.9334\n",
            "Epoch 12/20\n",
            "48000/48000 [==============================] - 6s 123us/step - loss: 0.0724 - acc: 0.9781 - val_loss: 1.0422 - val_acc: 0.9338\n",
            "Epoch 13/20\n",
            "48000/48000 [==============================] - 6s 121us/step - loss: 0.0629 - acc: 0.9807 - val_loss: 1.1092 - val_acc: 0.9300\n",
            "Epoch 14/20\n",
            "48000/48000 [==============================] - 6s 122us/step - loss: 0.0580 - acc: 0.9821 - val_loss: 1.3402 - val_acc: 0.9153\n",
            "Epoch 15/20\n",
            "48000/48000 [==============================] - 6s 121us/step - loss: 0.0528 - acc: 0.9836 - val_loss: 1.1762 - val_acc: 0.9257\n",
            "Epoch 16/20\n",
            "48000/48000 [==============================] - 6s 120us/step - loss: 0.0478 - acc: 0.9845 - val_loss: 1.1817 - val_acc: 0.9257\n",
            "Epoch 17/20\n",
            "48000/48000 [==============================] - 6s 119us/step - loss: 0.0431 - acc: 0.9863 - val_loss: 1.4726 - val_acc: 0.9074\n",
            "Epoch 18/20\n",
            "48000/48000 [==============================] - 6s 122us/step - loss: 0.0444 - acc: 0.9858 - val_loss: 1.1960 - val_acc: 0.9249\n",
            "Epoch 19/20\n",
            "48000/48000 [==============================] - 6s 120us/step - loss: 0.0391 - acc: 0.9873 - val_loss: 1.6321 - val_acc: 0.8976\n",
            "Epoch 20/20\n",
            "48000/48000 [==============================] - 6s 121us/step - loss: 0.0355 - acc: 0.9884 - val_loss: 1.1951 - val_acc: 0.9247\n",
            "seconds_per_epoch: 6.004\n",
            "10000/10000 [==============================] - 1s 86us/step\n"
          ],
          "name": "stdout"
        },
        {
          "output_type": "execute_result",
          "data": {
            "text/html": [
              "<div>\n",
              "<style scoped>\n",
              "    .dataframe tbody tr th:only-of-type {\n",
              "        vertical-align: middle;\n",
              "    }\n",
              "\n",
              "    .dataframe tbody tr th {\n",
              "        vertical-align: top;\n",
              "    }\n",
              "\n",
              "    .dataframe thead th {\n",
              "        text-align: right;\n",
              "    }\n",
              "</style>\n",
              "<table border=\"1\" class=\"dataframe\">\n",
              "  <thead>\n",
              "    <tr style=\"text-align: right;\">\n",
              "      <th></th>\n",
              "      <th>exp_name</th>\n",
              "      <th>epoch (secs)</th>\n",
              "      <th>Epochs</th>\n",
              "      <th>Train CXE Loss</th>\n",
              "      <th>Train Acc</th>\n",
              "      <th>Validation CXE Loss</th>\n",
              "      <th>Validation  Acc</th>\n",
              "      <th>Test CXE Loss</th>\n",
              "      <th>Test  Accuracy</th>\n",
              "    </tr>\n",
              "  </thead>\n",
              "  <tbody>\n",
              "    <tr>\n",
              "      <th>0</th>\n",
              "      <td>MLP-784-128-128-128-10</td>\n",
              "      <td>3.268</td>\n",
              "      <td>20</td>\n",
              "      <td>2.271</td>\n",
              "      <td>0.140</td>\n",
              "      <td>2.705</td>\n",
              "      <td>0.279</td>\n",
              "      <td>2.242</td>\n",
              "      <td>0.000</td>\n",
              "    </tr>\n",
              "    <tr>\n",
              "      <th>1</th>\n",
              "      <td>784-12-10</td>\n",
              "      <td>1.471</td>\n",
              "      <td>20</td>\n",
              "      <td>0.438</td>\n",
              "      <td>0.878</td>\n",
              "      <td>4.225</td>\n",
              "      <td>0.732</td>\n",
              "      <td>0.428</td>\n",
              "      <td>0.882</td>\n",
              "    </tr>\n",
              "    <tr>\n",
              "      <th>2</th>\n",
              "      <td>784-256-256-256-256-10</td>\n",
              "      <td>6.004</td>\n",
              "      <td>20</td>\n",
              "      <td>0.039</td>\n",
              "      <td>0.987</td>\n",
              "      <td>1.195</td>\n",
              "      <td>0.925</td>\n",
              "      <td>0.120</td>\n",
              "      <td>0.968</td>\n",
              "    </tr>\n",
              "  </tbody>\n",
              "</table>\n",
              "</div>"
            ],
            "text/plain": [
              "                 exp_name epoch (secs) Epochs  Train CXE Loss  Train Acc  \\\n",
              "0  MLP-784-128-128-128-10        3.268     20           2.271      0.140   \n",
              "1               784-12-10        1.471     20           0.438      0.878   \n",
              "2  784-256-256-256-256-10        6.004     20           0.039      0.987   \n",
              "\n",
              "   Validation CXE Loss  Validation  Acc  Test CXE Loss  Test  Accuracy  \n",
              "0                2.705            0.279          2.242           0.000  \n",
              "1                4.225            0.732          0.428           0.882  \n",
              "2                1.195            0.925          0.120           0.968  "
            ]
          },
          "metadata": {
            "tags": []
          },
          "execution_count": 45
        }
      ]
    },
    {
      "cell_type": "code",
      "metadata": {
        "id": "ctkLSemhyohz",
        "colab_type": "code",
        "colab": {}
      },
      "source": [
        "\n",
        "    try:\n",
        "        expLog\n",
        "    except NameError:\n",
        "        expLog = pd.DataFrame(columns=[\"exp_name\", \"epoch (secs)\", \"Epochs\", \"Train CXE Loss\", \"Train Acc\", \"Validation CXE Loss\", \"Validation  Acc\",\n",
        "                        \"Test CXE Loss\", \"Test  Accuracy\"])\n",
        "\n",
        "    # Add a experiment results to the experiment log\n",
        "    model = model_dense\n",
        "    #from IPython.core.debugger import Pdb as pdb;    pdb().set_trace() #breakpoint; dont forget to quit         \n",
        "    expLog.loc[len(expLog)] = [f\"{architecture}\", seconds_per_epoch, epochs] + list(np.round(np.reshape([model.evaluate(X_train_selected, y_train_selected, verbose=0), \n",
        "                       model.evaluate(X_valid, y_valid, verbose=0),\n",
        "                       model.evaluate(X_test_selected,  y_test_selected, verbose=1)], -1), 3))\n",
        "    expLog\n",
        "      \n"
      ],
      "execution_count": 0,
      "outputs": []
    },
    {
      "cell_type": "markdown",
      "metadata": {
        "id": "RDvLetT_g6Bd",
        "colab_type": "text"
      },
      "source": [
        "###Task 3.2 : with 500 training examples\n",
        "\n",
        "Use only 500 examples per class (recall we  have only 10 classes) and find the best architecture. (HINT you can do  stratified sampling OR just random selxtion of 5,000 examples)\n",
        "\n",
        "**Please paste your response here:** \n",
        "* Best archtecture is:  \n",
        "784-256-256-256-256-10\t\n",
        "* Test accuracy: \n",
        "\n",
        " 0.8731\n",
        "* Training time per epoch in seconds is : \n",
        "\n",
        " 1secs"
      ]
    },
    {
      "cell_type": "code",
      "metadata": {
        "id": "p7tVKKJD7SdM",
        "colab_type": "code",
        "colab": {}
      },
      "source": [
        "'''\n",
        "\n",
        "\n",
        "#X_train & y_train are matrices\n",
        "list_random=np.random.random(500)*59999\n",
        "#list_random=np.random.randint(2,len(X_train)-1)\n",
        "for matrix in list_random:\n",
        "  X_train_selected=X_train[0:1]\n",
        "  y_train_selected=y_train[0:1]\n",
        "  matrix= int(round(matrix))\n",
        "  #print(len(list_random))\n",
        "  #print(matrix)\n",
        "  #print(X_train[matrix:matrix+1])\n",
        "  X_train_selected=np.append(X_train_selected,X_train[matrix:matrix+1],axis=0)\n",
        "  y_train_selected=np.append(y_train_selected,y_train[matrix:matrix+1],axis=0)\n",
        "\n",
        "print(len(X_train_selected))\n",
        "'''\n"
      ],
      "execution_count": 0,
      "outputs": []
    },
    {
      "cell_type": "code",
      "metadata": {
        "id": "X9_OOZGyy_mD",
        "colab_type": "code",
        "outputId": "d8d8d9fa-6b9e-46fd-c01b-a32596402f07",
        "colab": {
          "base_uri": "https://localhost:8080/",
          "height": 5695
        }
      },
      "source": [
        "\n",
        "\n",
        "import numpy as np\n",
        "import random\n",
        "\n",
        "\n",
        "#randomly select\n",
        "\n",
        "X_train_selected=X_train[0:1]\n",
        "y_train_selected=y_train[0:1]\n",
        "X_test_selected=X_test[0:1]\n",
        "y_test_selected=y_test[0:1]\n",
        "#list_random=np.random.random(5)*(len(X_train)-1)\n",
        "i=0\n",
        "while(i<500):\n",
        "\n",
        "    metrix=np.random.randint(2,59999)\n",
        "    X_train_selected=np.append(X_train_selected,X_train[metrix:metrix+1],axis=0)\n",
        "    y_train_selected=np.append(y_train_selected,y_train[metrix:metrix+1],axis=0)\n",
        "    i=i+1\n",
        "i=0\n",
        "while(i<100):\n",
        "    i=i+1\n",
        "    metrix2=np.random.randint(2,10000)\n",
        "    X_test_selected=np.append(X_test_selected,X_test[metrix:metrix+1],axis=0)\n",
        "    y_test_selected=np.append(y_test_selected,y_test[metrix:metrix+1],axis=0)\n",
        "    \n",
        "#print(len(X_train_selected))\n",
        "\n",
        "#train\n",
        "results = pd.DataFrame(columns=[\"Architecture\", \"Epoch time\", \"Accuracy Train\", \"Accuracy Test\", \"Loss Train\", \"Loss Test\"])\n",
        "\n",
        "\n",
        "for dense_layer in [4,3,2,1]:\n",
        "  for neuron in [256,128,64,12]:\n",
        "    architecture = '784-'+str(neuron)  \n",
        "    \n",
        "    model_dense = Sequential()  \n",
        "    model_dense.add(Dense(neuron, input_shape=(img_rows * img_cols,), activation=\"relu\"))\n",
        "    \n",
        "    time = 1\n",
        "    while time < dense_layer:#pair other nodes using while loop\n",
        "      architecture+='-'+str(neuron)   \n",
        "      model_dense.add(Dense(neuron, activation=\"relu\"))\n",
        "      time+=1\n",
        "             \n",
        "\n",
        "      \n",
        "      \n",
        "    model_dense.add(Dense(nb_classes, activation=\"softmax\"))\n",
        "    architecture+=\"-10\"\n",
        "      \n",
        "    #compile before training & testing  \n",
        "    model_dense.compile(loss='categorical_crossentropy',\n",
        "                  optimizer='adam',\n",
        "                  metrics=['accuracy'])\n",
        "    \n",
        "    #training & testing (thought this was plotting and deleted, and got 0.01% of accuracy)\n",
        "  #  hist = model_dense.fit(X_train_selected.reshape((len(X_train_selected), img_cols * img_rows)), y_train_selected, \n",
        "   #       validation_data = (X_test_selected.reshape((len(X_test_selected), img_cols * img_rows)), y_test_selected), \n",
        "    #      epochs=20, batch_size=128)\n",
        "    import time\n",
        "    start = time.time()\n",
        "    epochs=20\n",
        "    hist = model_dense.fit(X_train_selected.reshape((len(X_train_selected), img_cols * img_rows)), y_train_selected, \n",
        "                          validation_data = (X_valid, y_valid), \n",
        "                       epochs=epochs, batch_size=128)\n",
        "    end = time.time()\n",
        "    seconds_per_epoch = f\"{(end - start)/epochs:.4}\"\n",
        "    print(f\"seconds_per_epoch: {seconds_per_epoch}\")\n",
        "\n",
        "    \n",
        "    \n",
        "    score_train = model_dense.evaluate(X_train_selected.reshape((len(X_train_selected), img_cols * img_rows)), y_train_selected, verbose=0)\n",
        "    score_test = model_dense.evaluate(X_test_selected.reshape((len(X_test_selected), img_cols * img_rows)), y_test_selected, verbose=0)\n",
        "\n",
        "    #results.loc[len(results)] = np.array([architecture, \"1secs\", score_train[1], score_test[1], score_train[0], score_test[0]])\n",
        "    #results.index = [\"MLP\"]\n",
        "\n",
        " #   results\n",
        "      \n",
        "try:\n",
        "    expLog\n",
        "except NameError:\n",
        "    expLog = pd.DataFrame(columns=[\"exp_name\", \"epoch (secs)\", \"Epochs\", \"Train CXE Loss\", \"Train Acc\", \"Validation CXE Loss\", \"Validation  Acc\",\n",
        "                    \"Test CXE Loss\", \"Test  Accuracy\"])\n",
        "    \n",
        "# Add a experiment results to the experiment log\n",
        "model = model_dense\n",
        "#from IPython.core.debugger import Pdb as pdb;    pdb().set_trace() #breakpoint; dont forget to quit         \n",
        "expLog.loc[len(expLog)] = [f\"{architecture}\", seconds_per_epoch, epochs] + list(np.round(np.reshape([model.evaluate(X_train_selected, y_train_selected, verbose=0), \n",
        "                   model.evaluate(X_valid, y_valid, verbose=0),\n",
        "                   model.evaluate(X_test_selected,  y_test_selected, verbose=1)], -1), 3))\n",
        "expLog      \n"
      ],
      "execution_count": 0,
      "outputs": [
        {
          "output_type": "stream",
          "text": [
            "Train on 389 samples, validate on 12000 samples\n",
            "Epoch 1/20\n",
            "389/389 [==============================] - 4s 10ms/step - loss: 2.3023 - acc: 0.0720 - val_loss: 2.1821 - val_acc: 0.2162\n",
            "Epoch 2/20\n",
            "389/389 [==============================] - 0s 1ms/step - loss: 2.2989 - acc: 0.1183 - val_loss: 2.3016 - val_acc: 0.1784\n",
            "Epoch 3/20\n",
            "389/389 [==============================] - 0s 1ms/step - loss: 2.2947 - acc: 0.1183 - val_loss: 3.3952 - val_acc: 0.1568\n",
            "Epoch 4/20\n",
            "389/389 [==============================] - 0s 1ms/step - loss: 2.2887 - acc: 0.1183 - val_loss: 5.3537 - val_acc: 0.1268\n",
            "Epoch 5/20\n",
            "389/389 [==============================] - 0s 1ms/step - loss: 2.2831 - acc: 0.1183 - val_loss: 6.7310 - val_acc: 0.1719\n",
            "Epoch 6/20\n",
            "389/389 [==============================] - 0s 1ms/step - loss: 2.2770 - acc: 0.1183 - val_loss: 7.8529 - val_acc: 0.1663\n",
            "Epoch 7/20\n",
            "389/389 [==============================] - 0s 1ms/step - loss: 2.2650 - acc: 0.2262 - val_loss: 9.0632 - val_acc: 0.1331\n",
            "Epoch 8/20\n",
            "389/389 [==============================] - 0s 1ms/step - loss: 2.2514 - acc: 0.1362 - val_loss: 11.2023 - val_acc: 0.1114\n",
            "Epoch 9/20\n",
            "389/389 [==============================] - 0s 1ms/step - loss: 2.2337 - acc: 0.1183 - val_loss: 11.2525 - val_acc: 0.1301\n",
            "Epoch 10/20\n",
            "389/389 [==============================] - 0s 1ms/step - loss: 2.1929 - acc: 0.2262 - val_loss: 10.8057 - val_acc: 0.1376\n",
            "Epoch 11/20\n",
            "389/389 [==============================] - 0s 1ms/step - loss: 2.1507 - acc: 0.2159 - val_loss: 11.4452 - val_acc: 0.1229\n",
            "Epoch 12/20\n",
            "389/389 [==============================] - 0s 1ms/step - loss: 2.1003 - acc: 0.2108 - val_loss: 11.9796 - val_acc: 0.1322\n",
            "Epoch 13/20\n",
            "389/389 [==============================] - 0s 1ms/step - loss: 2.0342 - acc: 0.2108 - val_loss: 12.8790 - val_acc: 0.1354\n",
            "Epoch 14/20\n",
            "389/389 [==============================] - 0s 1ms/step - loss: 1.9773 - acc: 0.2211 - val_loss: 11.9982 - val_acc: 0.1554\n",
            "Epoch 15/20\n",
            "389/389 [==============================] - 0s 1ms/step - loss: 1.9305 - acc: 0.3342 - val_loss: 12.0765 - val_acc: 0.1614\n",
            "Epoch 16/20\n",
            "389/389 [==============================] - 0s 1ms/step - loss: 1.8836 - acc: 0.2853 - val_loss: 12.5498 - val_acc: 0.1576\n",
            "Epoch 17/20\n",
            "389/389 [==============================] - 0s 1ms/step - loss: 1.7975 - acc: 0.3188 - val_loss: 12.3495 - val_acc: 0.1737\n",
            "Epoch 18/20\n",
            "389/389 [==============================] - 0s 1ms/step - loss: 1.7250 - acc: 0.3496 - val_loss: 11.6028 - val_acc: 0.2234\n",
            "Epoch 19/20\n",
            "389/389 [==============================] - 0s 1ms/step - loss: 1.6665 - acc: 0.4602 - val_loss: 11.4964 - val_acc: 0.2487\n",
            "Epoch 20/20\n",
            "389/389 [==============================] - 0s 1ms/step - loss: 1.6136 - acc: 0.4216 - val_loss: 11.3159 - val_acc: 0.2617\n",
            "seconds_per_epoch: 0.6285\n",
            "Train on 389 samples, validate on 12000 samples\n",
            "Epoch 1/20\n",
            "389/389 [==============================] - 4s 10ms/step - loss: 2.3024 - acc: 0.1028 - val_loss: 2.2360 - val_acc: 0.1708\n",
            "Epoch 2/20\n",
            "389/389 [==============================] - 0s 727us/step - loss: 2.3011 - acc: 0.1157 - val_loss: 2.1937 - val_acc: 0.1278\n",
            "Epoch 3/20\n",
            "389/389 [==============================] - 0s 742us/step - loss: 2.2999 - acc: 0.0900 - val_loss: 2.1740 - val_acc: 0.1327\n",
            "Epoch 4/20\n",
            "389/389 [==============================] - 0s 751us/step - loss: 2.2977 - acc: 0.0900 - val_loss: 2.2023 - val_acc: 0.1539\n",
            "Epoch 5/20\n",
            "389/389 [==============================] - 0s 725us/step - loss: 2.2958 - acc: 0.0900 - val_loss: 2.3978 - val_acc: 0.1459\n",
            "Epoch 6/20\n",
            "389/389 [==============================] - 0s 734us/step - loss: 2.2931 - acc: 0.0900 - val_loss: 2.9151 - val_acc: 0.1126\n",
            "Epoch 7/20\n",
            "389/389 [==============================] - 0s 801us/step - loss: 2.2899 - acc: 0.0900 - val_loss: 3.1541 - val_acc: 0.1183\n",
            "Epoch 8/20\n",
            "389/389 [==============================] - 0s 749us/step - loss: 2.2847 - acc: 0.0900 - val_loss: 3.1096 - val_acc: 0.2342\n",
            "Epoch 9/20\n",
            "389/389 [==============================] - 0s 764us/step - loss: 2.2807 - acc: 0.2185 - val_loss: 3.8676 - val_acc: 0.2193\n",
            "Epoch 10/20\n",
            "389/389 [==============================] - 0s 800us/step - loss: 2.2746 - acc: 0.2879 - val_loss: 5.3111 - val_acc: 0.1830\n",
            "Epoch 11/20\n",
            "389/389 [==============================] - 0s 724us/step - loss: 2.2677 - acc: 0.2776 - val_loss: 6.7707 - val_acc: 0.1408\n",
            "Epoch 12/20\n",
            "389/389 [==============================] - 0s 736us/step - loss: 2.2561 - acc: 0.3085 - val_loss: 7.6725 - val_acc: 0.1360\n",
            "Epoch 13/20\n",
            "389/389 [==============================] - 0s 732us/step - loss: 2.2464 - acc: 0.2674 - val_loss: 9.2319 - val_acc: 0.1256\n",
            "Epoch 14/20\n",
            "389/389 [==============================] - 0s 741us/step - loss: 2.2267 - acc: 0.2288 - val_loss: 11.3247 - val_acc: 0.1089\n",
            "Epoch 15/20\n",
            "389/389 [==============================] - 0s 722us/step - loss: 2.1997 - acc: 0.2057 - val_loss: 12.1956 - val_acc: 0.1073\n",
            "Epoch 16/20\n",
            "389/389 [==============================] - 0s 727us/step - loss: 2.1638 - acc: 0.2159 - val_loss: 12.3360 - val_acc: 0.1116\n",
            "Epoch 17/20\n",
            "389/389 [==============================] - 0s 767us/step - loss: 2.1238 - acc: 0.2314 - val_loss: 12.3095 - val_acc: 0.1134\n",
            "Epoch 18/20\n",
            "389/389 [==============================] - 0s 721us/step - loss: 2.0693 - acc: 0.2288 - val_loss: 12.3599 - val_acc: 0.1422\n",
            "Epoch 19/20\n",
            "389/389 [==============================] - 0s 731us/step - loss: 2.0113 - acc: 0.2108 - val_loss: 11.8079 - val_acc: 0.2041\n",
            "Epoch 20/20\n",
            "389/389 [==============================] - 0s 745us/step - loss: 1.9542 - acc: 0.2494 - val_loss: 11.3935 - val_acc: 0.2502\n",
            "seconds_per_epoch: 0.4868\n",
            "Train on 389 samples, validate on 12000 samples\n",
            "Epoch 1/20\n",
            "389/389 [==============================] - 4s 10ms/step - loss: 2.3024 - acc: 0.0900 - val_loss: 2.2320 - val_acc: 0.2367\n",
            "Epoch 2/20\n",
            "389/389 [==============================] - 0s 559us/step - loss: 2.3013 - acc: 0.1080 - val_loss: 2.1916 - val_acc: 0.2585\n",
            "Epoch 3/20\n",
            "389/389 [==============================] - 0s 549us/step - loss: 2.3001 - acc: 0.1080 - val_loss: 2.1397 - val_acc: 0.2839\n",
            "Epoch 4/20\n",
            "389/389 [==============================] - 0s 564us/step - loss: 2.2985 - acc: 0.1080 - val_loss: 2.0859 - val_acc: 0.2927\n",
            "Epoch 5/20\n",
            "389/389 [==============================] - 0s 552us/step - loss: 2.2968 - acc: 0.1080 - val_loss: 2.0446 - val_acc: 0.2553\n",
            "Epoch 6/20\n",
            "389/389 [==============================] - 0s 556us/step - loss: 2.2948 - acc: 0.1080 - val_loss: 2.0129 - val_acc: 0.2389\n",
            "Epoch 7/20\n",
            "389/389 [==============================] - 0s 567us/step - loss: 2.2924 - acc: 0.1620 - val_loss: 2.0044 - val_acc: 0.2519\n",
            "Epoch 8/20\n",
            "389/389 [==============================] - 0s 567us/step - loss: 2.2890 - acc: 0.2159 - val_loss: 2.0853 - val_acc: 0.2308\n",
            "Epoch 9/20\n",
            "389/389 [==============================] - 0s 582us/step - loss: 2.2853 - acc: 0.2185 - val_loss: 2.2950 - val_acc: 0.2082\n",
            "Epoch 10/20\n",
            "389/389 [==============================] - 0s 548us/step - loss: 2.2836 - acc: 0.1645 - val_loss: 2.4508 - val_acc: 0.2026\n",
            "Epoch 11/20\n",
            "389/389 [==============================] - 0s 562us/step - loss: 2.2819 - acc: 0.1440 - val_loss: 2.4727 - val_acc: 0.2258\n",
            "Epoch 12/20\n",
            "389/389 [==============================] - 0s 557us/step - loss: 2.2753 - acc: 0.2905 - val_loss: 2.4038 - val_acc: 0.2645\n",
            "Epoch 13/20\n",
            "389/389 [==============================] - 0s 551us/step - loss: 2.2685 - acc: 0.3059 - val_loss: 2.7432 - val_acc: 0.2444\n",
            "Epoch 14/20\n",
            "389/389 [==============================] - 0s 551us/step - loss: 2.2608 - acc: 0.2725 - val_loss: 3.0826 - val_acc: 0.2717\n",
            "Epoch 15/20\n",
            "389/389 [==============================] - 0s 567us/step - loss: 2.2510 - acc: 0.2982 - val_loss: 3.5383 - val_acc: 0.2856\n",
            "Epoch 16/20\n",
            "389/389 [==============================] - 0s 591us/step - loss: 2.2393 - acc: 0.3008 - val_loss: 4.4727 - val_acc: 0.2705\n",
            "Epoch 17/20\n",
            "389/389 [==============================] - 0s 561us/step - loss: 2.2263 - acc: 0.3188 - val_loss: 5.9321 - val_acc: 0.2568\n",
            "Epoch 18/20\n",
            "389/389 [==============================] - 0s 565us/step - loss: 2.2086 - acc: 0.2982 - val_loss: 7.0566 - val_acc: 0.2619\n",
            "Epoch 19/20\n",
            "389/389 [==============================] - 0s 566us/step - loss: 2.1864 - acc: 0.2905 - val_loss: 8.1313 - val_acc: 0.2426\n",
            "Epoch 20/20\n",
            "389/389 [==============================] - 0s 561us/step - loss: 2.1588 - acc: 0.3008 - val_loss: 9.3347 - val_acc: 0.2144\n",
            "seconds_per_epoch: 0.4206\n",
            "Train on 389 samples, validate on 12000 samples\n",
            "Epoch 1/20\n",
            "389/389 [==============================] - 4s 10ms/step - loss: 2.3027 - acc: 0.0951 - val_loss: 2.2975 - val_acc: 0.1328\n",
            "Epoch 2/20\n",
            "389/389 [==============================] - 0s 498us/step - loss: 2.3022 - acc: 0.1183 - val_loss: 2.2917 - val_acc: 0.1363\n",
            "Epoch 3/20\n",
            "389/389 [==============================] - 0s 488us/step - loss: 2.3021 - acc: 0.1697 - val_loss: 2.2887 - val_acc: 0.1289\n",
            "Epoch 4/20\n",
            "389/389 [==============================] - 0s 478us/step - loss: 2.3018 - acc: 0.1183 - val_loss: 2.2848 - val_acc: 0.1333\n",
            "Epoch 5/20\n",
            "389/389 [==============================] - 0s 482us/step - loss: 2.3015 - acc: 0.2211 - val_loss: 2.2813 - val_acc: 0.1184\n",
            "Epoch 6/20\n",
            "389/389 [==============================] - 0s 486us/step - loss: 2.3010 - acc: 0.1260 - val_loss: 2.2763 - val_acc: 0.1039\n",
            "Epoch 7/20\n",
            "389/389 [==============================] - 0s 500us/step - loss: 2.3008 - acc: 0.1183 - val_loss: 2.2647 - val_acc: 0.1022\n",
            "Epoch 8/20\n",
            "389/389 [==============================] - 0s 520us/step - loss: 2.3001 - acc: 0.1183 - val_loss: 2.2514 - val_acc: 0.1012\n",
            "Epoch 9/20\n",
            "389/389 [==============================] - 0s 520us/step - loss: 2.2995 - acc: 0.1183 - val_loss: 2.2404 - val_acc: 0.1006\n",
            "Epoch 10/20\n",
            "389/389 [==============================] - 0s 520us/step - loss: 2.2988 - acc: 0.1183 - val_loss: 2.2292 - val_acc: 0.1005\n",
            "Epoch 11/20\n",
            "389/389 [==============================] - 0s 492us/step - loss: 2.2982 - acc: 0.1183 - val_loss: 2.2179 - val_acc: 0.1006\n",
            "Epoch 12/20\n",
            "389/389 [==============================] - 0s 493us/step - loss: 2.2975 - acc: 0.1183 - val_loss: 2.2078 - val_acc: 0.1003\n",
            "Epoch 13/20\n",
            "389/389 [==============================] - 0s 488us/step - loss: 2.2967 - acc: 0.1183 - val_loss: 2.1980 - val_acc: 0.1004\n",
            "Epoch 14/20\n",
            "389/389 [==============================] - 0s 492us/step - loss: 2.2959 - acc: 0.1183 - val_loss: 2.1965 - val_acc: 0.1018\n",
            "Epoch 15/20\n",
            "389/389 [==============================] - 0s 492us/step - loss: 2.2949 - acc: 0.1183 - val_loss: 2.2053 - val_acc: 0.1030\n",
            "Epoch 16/20\n",
            "389/389 [==============================] - 0s 492us/step - loss: 2.2941 - acc: 0.1183 - val_loss: 2.2241 - val_acc: 0.1029\n",
            "Epoch 17/20\n",
            "389/389 [==============================] - 0s 479us/step - loss: 2.2928 - acc: 0.1183 - val_loss: 2.2540 - val_acc: 0.1021\n",
            "Epoch 18/20\n",
            "389/389 [==============================] - 0s 500us/step - loss: 2.2919 - acc: 0.1183 - val_loss: 2.3081 - val_acc: 0.1033\n",
            "Epoch 19/20\n",
            "389/389 [==============================] - 0s 488us/step - loss: 2.2906 - acc: 0.1183 - val_loss: 2.3756 - val_acc: 0.1061\n",
            "Epoch 20/20\n",
            "389/389 [==============================] - 0s 491us/step - loss: 2.2889 - acc: 0.1183 - val_loss: 2.4661 - val_acc: 0.1095\n",
            "seconds_per_epoch: 0.3987\n",
            "Train on 389 samples, validate on 12000 samples\n",
            "Epoch 1/20\n",
            "389/389 [==============================] - 4s 11ms/step - loss: 2.3018 - acc: 0.1722 - val_loss: 2.1466 - val_acc: 0.1107\n",
            "Epoch 2/20\n",
            "389/389 [==============================] - 0s 1ms/step - loss: 2.2978 - acc: 0.1183 - val_loss: 2.5226 - val_acc: 0.1013\n",
            "Epoch 3/20\n",
            "389/389 [==============================] - 0s 1ms/step - loss: 2.2932 - acc: 0.1183 - val_loss: 3.9321 - val_acc: 0.0982\n",
            "Epoch 4/20\n",
            "389/389 [==============================] - 0s 1ms/step - loss: 2.2880 - acc: 0.1183 - val_loss: 5.9484 - val_acc: 0.0983\n",
            "Epoch 5/20\n",
            "389/389 [==============================] - 0s 1ms/step - loss: 2.2799 - acc: 0.1183 - val_loss: 8.7033 - val_acc: 0.0985\n",
            "Epoch 6/20\n",
            "389/389 [==============================] - 0s 1ms/step - loss: 2.2738 - acc: 0.1183 - val_loss: 11.1258 - val_acc: 0.0984\n",
            "Epoch 7/20\n",
            "389/389 [==============================] - 0s 1ms/step - loss: 2.2675 - acc: 0.1183 - val_loss: 11.2176 - val_acc: 0.1009\n",
            "Epoch 8/20\n",
            "389/389 [==============================] - 0s 1ms/step - loss: 2.2551 - acc: 0.1183 - val_loss: 10.0653 - val_acc: 0.1102\n",
            "Epoch 9/20\n",
            "389/389 [==============================] - 0s 1ms/step - loss: 2.2411 - acc: 0.1208 - val_loss: 9.7851 - val_acc: 0.1193\n",
            "Epoch 10/20\n",
            "389/389 [==============================] - 0s 1ms/step - loss: 2.2261 - acc: 0.1774 - val_loss: 10.0428 - val_acc: 0.1303\n",
            "Epoch 11/20\n",
            "389/389 [==============================] - 0s 1ms/step - loss: 2.2022 - acc: 0.2031 - val_loss: 10.8981 - val_acc: 0.1281\n",
            "Epoch 12/20\n",
            "389/389 [==============================] - 0s 1ms/step - loss: 2.1684 - acc: 0.2031 - val_loss: 10.9303 - val_acc: 0.1261\n",
            "Epoch 13/20\n",
            "389/389 [==============================] - 0s 1ms/step - loss: 2.1288 - acc: 0.1902 - val_loss: 10.8403 - val_acc: 0.1256\n",
            "Epoch 14/20\n",
            "389/389 [==============================] - 0s 1ms/step - loss: 2.0816 - acc: 0.2057 - val_loss: 10.9503 - val_acc: 0.1458\n",
            "Epoch 15/20\n",
            "389/389 [==============================] - 0s 1ms/step - loss: 2.0451 - acc: 0.2416 - val_loss: 11.0667 - val_acc: 0.1538\n",
            "Epoch 16/20\n",
            "389/389 [==============================] - 0s 1ms/step - loss: 2.0000 - acc: 0.3008 - val_loss: 11.0709 - val_acc: 0.1686\n",
            "Epoch 17/20\n",
            "389/389 [==============================] - 0s 998us/step - loss: 1.9669 - acc: 0.2879 - val_loss: 11.7895 - val_acc: 0.1609\n",
            "Epoch 18/20\n",
            "389/389 [==============================] - 0s 1ms/step - loss: 1.9602 - acc: 0.2725 - val_loss: 11.6356 - val_acc: 0.1777\n",
            "Epoch 19/20\n",
            "389/389 [==============================] - 0s 1ms/step - loss: 1.9117 - acc: 0.2879 - val_loss: 11.6233 - val_acc: 0.1902\n",
            "Epoch 20/20\n",
            "389/389 [==============================] - 0s 1ms/step - loss: 1.9063 - acc: 0.3342 - val_loss: 12.1671 - val_acc: 0.1729\n",
            "seconds_per_epoch: 0.6066\n",
            "Train on 389 samples, validate on 12000 samples\n",
            "Epoch 1/20\n",
            "389/389 [==============================] - 4s 10ms/step - loss: 2.3022 - acc: 0.1234 - val_loss: 2.1891 - val_acc: 0.2160\n",
            "Epoch 2/20\n",
            "389/389 [==============================] - 0s 726us/step - loss: 2.3003 - acc: 0.1774 - val_loss: 2.0971 - val_acc: 0.2636\n",
            "Epoch 3/20\n",
            "389/389 [==============================] - 0s 733us/step - loss: 2.2984 - acc: 0.1491 - val_loss: 2.0555 - val_acc: 0.2288\n",
            "Epoch 4/20\n",
            "389/389 [==============================] - 0s 738us/step - loss: 2.2959 - acc: 0.2057 - val_loss: 2.1868 - val_acc: 0.1938\n",
            "Epoch 5/20\n",
            "389/389 [==============================] - 0s 730us/step - loss: 2.2921 - acc: 0.2339 - val_loss: 2.5878 - val_acc: 0.1657\n",
            "Epoch 6/20\n",
            "389/389 [==============================] - 0s 727us/step - loss: 2.2880 - acc: 0.2314 - val_loss: 3.2299 - val_acc: 0.1621\n",
            "Epoch 7/20\n",
            "389/389 [==============================] - 0s 730us/step - loss: 2.2835 - acc: 0.2262 - val_loss: 4.6957 - val_acc: 0.1306\n",
            "Epoch 8/20\n",
            "389/389 [==============================] - 0s 738us/step - loss: 2.2778 - acc: 0.1362 - val_loss: 6.2311 - val_acc: 0.1217\n",
            "Epoch 9/20\n",
            "389/389 [==============================] - 0s 722us/step - loss: 2.2703 - acc: 0.1260 - val_loss: 6.9202 - val_acc: 0.1310\n",
            "Epoch 10/20\n",
            "389/389 [==============================] - 0s 738us/step - loss: 2.2619 - acc: 0.1414 - val_loss: 7.5062 - val_acc: 0.1333\n",
            "Epoch 11/20\n",
            "389/389 [==============================] - 0s 740us/step - loss: 2.2517 - acc: 0.1697 - val_loss: 7.3650 - val_acc: 0.1534\n",
            "Epoch 12/20\n",
            "389/389 [==============================] - 0s 726us/step - loss: 2.2405 - acc: 0.2185 - val_loss: 7.3194 - val_acc: 0.1848\n",
            "Epoch 13/20\n",
            "389/389 [==============================] - 0s 729us/step - loss: 2.2260 - acc: 0.2005 - val_loss: 8.0604 - val_acc: 0.2060\n",
            "Epoch 14/20\n",
            "389/389 [==============================] - 0s 723us/step - loss: 2.2069 - acc: 0.1620 - val_loss: 8.3684 - val_acc: 0.2197\n",
            "Epoch 15/20\n",
            "389/389 [==============================] - 0s 725us/step - loss: 2.1840 - acc: 0.2596 - val_loss: 8.7932 - val_acc: 0.2178\n",
            "Epoch 16/20\n",
            "389/389 [==============================] - 0s 713us/step - loss: 2.1572 - acc: 0.2005 - val_loss: 9.2311 - val_acc: 0.2037\n",
            "Epoch 17/20\n",
            "389/389 [==============================] - 0s 736us/step - loss: 2.1297 - acc: 0.2108 - val_loss: 8.9858 - val_acc: 0.2101\n",
            "Epoch 18/20\n",
            "389/389 [==============================] - 0s 720us/step - loss: 2.0969 - acc: 0.2442 - val_loss: 9.4083 - val_acc: 0.2137\n",
            "Epoch 19/20\n",
            "389/389 [==============================] - 0s 714us/step - loss: 2.0670 - acc: 0.2879 - val_loss: 9.7766 - val_acc: 0.2263\n",
            "Epoch 20/20\n",
            "389/389 [==============================] - 0s 728us/step - loss: 2.0403 - acc: 0.3625 - val_loss: 9.9912 - val_acc: 0.2361\n",
            "seconds_per_epoch: 0.4936\n",
            "Train on 389 samples, validate on 12000 samples\n",
            "Epoch 1/20\n",
            "389/389 [==============================] - 4s 11ms/step - loss: 2.3024 - acc: 0.1080 - val_loss: 2.2583 - val_acc: 0.2538\n",
            "Epoch 2/20\n",
            "389/389 [==============================] - 0s 568us/step - loss: 2.3014 - acc: 0.1851 - val_loss: 2.2184 - val_acc: 0.2671\n",
            "Epoch 3/20\n",
            "389/389 [==============================] - 0s 572us/step - loss: 2.3002 - acc: 0.1362 - val_loss: 2.1773 - val_acc: 0.2738\n",
            "Epoch 4/20\n",
            "389/389 [==============================] - 0s 578us/step - loss: 2.2993 - acc: 0.1183 - val_loss: 2.1334 - val_acc: 0.2876\n",
            "Epoch 5/20\n",
            "389/389 [==============================] - 0s 567us/step - loss: 2.2984 - acc: 0.1954 - val_loss: 2.0892 - val_acc: 0.2966\n",
            "Epoch 6/20\n",
            "389/389 [==============================] - 0s 571us/step - loss: 2.2971 - acc: 0.1414 - val_loss: 2.0579 - val_acc: 0.2728\n",
            "Epoch 7/20\n",
            "389/389 [==============================] - 0s 558us/step - loss: 2.2957 - acc: 0.1183 - val_loss: 2.0359 - val_acc: 0.2755\n",
            "Epoch 8/20\n",
            "389/389 [==============================] - 0s 571us/step - loss: 2.2942 - acc: 0.1465 - val_loss: 2.0342 - val_acc: 0.2838\n",
            "Epoch 9/20\n",
            "389/389 [==============================] - 0s 563us/step - loss: 2.2924 - acc: 0.2108 - val_loss: 2.0587 - val_acc: 0.2763\n",
            "Epoch 10/20\n",
            "389/389 [==============================] - 0s 571us/step - loss: 2.2905 - acc: 0.2211 - val_loss: 2.0806 - val_acc: 0.2820\n",
            "Epoch 11/20\n",
            "389/389 [==============================] - 0s 564us/step - loss: 2.2889 - acc: 0.2339 - val_loss: 2.1895 - val_acc: 0.2657\n",
            "Epoch 12/20\n",
            "389/389 [==============================] - 0s 572us/step - loss: 2.2865 - acc: 0.2108 - val_loss: 2.5113 - val_acc: 0.2196\n",
            "Epoch 13/20\n",
            "389/389 [==============================] - 0s 562us/step - loss: 2.2838 - acc: 0.1568 - val_loss: 2.8831 - val_acc: 0.1970\n",
            "Epoch 14/20\n",
            "389/389 [==============================] - 0s 562us/step - loss: 2.2809 - acc: 0.1208 - val_loss: 3.2790 - val_acc: 0.1925\n",
            "Epoch 15/20\n",
            "389/389 [==============================] - 0s 570us/step - loss: 2.2773 - acc: 0.1234 - val_loss: 3.4727 - val_acc: 0.2145\n",
            "Epoch 16/20\n",
            "389/389 [==============================] - 0s 561us/step - loss: 2.2721 - acc: 0.1440 - val_loss: 3.9575 - val_acc: 0.2117\n",
            "Epoch 17/20\n",
            "389/389 [==============================] - 0s 562us/step - loss: 2.2672 - acc: 0.1697 - val_loss: 4.7255 - val_acc: 0.1884\n",
            "Epoch 18/20\n",
            "389/389 [==============================] - 0s 565us/step - loss: 2.2608 - acc: 0.1491 - val_loss: 5.4585 - val_acc: 0.1786\n",
            "Epoch 19/20\n",
            "389/389 [==============================] - 0s 568us/step - loss: 2.2539 - acc: 0.1902 - val_loss: 6.0258 - val_acc: 0.1847\n",
            "Epoch 20/20\n",
            "389/389 [==============================] - 0s 570us/step - loss: 2.2462 - acc: 0.2237 - val_loss: 6.9113 - val_acc: 0.1847\n",
            "seconds_per_epoch: 0.4355\n",
            "Train on 389 samples, validate on 12000 samples\n",
            "Epoch 1/20\n",
            "389/389 [==============================] - 4s 11ms/step - loss: 2.3026 - acc: 0.0900 - val_loss: 2.2919 - val_acc: 0.0853\n",
            "Epoch 2/20\n",
            "389/389 [==============================] - 0s 514us/step - loss: 2.3023 - acc: 0.0771 - val_loss: 2.2859 - val_acc: 0.0970\n",
            "Epoch 3/20\n",
            "389/389 [==============================] - 0s 513us/step - loss: 2.3023 - acc: 0.1131 - val_loss: 2.2818 - val_acc: 0.1003\n",
            "Epoch 4/20\n",
            "389/389 [==============================] - 0s 520us/step - loss: 2.3022 - acc: 0.1440 - val_loss: 2.2781 - val_acc: 0.1043\n",
            "Epoch 5/20\n",
            "389/389 [==============================] - 0s 515us/step - loss: 2.3020 - acc: 0.1183 - val_loss: 2.2748 - val_acc: 0.1090\n",
            "Epoch 6/20\n",
            "389/389 [==============================] - 0s 529us/step - loss: 2.3018 - acc: 0.1183 - val_loss: 2.2726 - val_acc: 0.1113\n",
            "Epoch 7/20\n",
            "389/389 [==============================] - 0s 511us/step - loss: 2.3015 - acc: 0.1183 - val_loss: 2.2712 - val_acc: 0.1145\n",
            "Epoch 8/20\n",
            "389/389 [==============================] - 0s 535us/step - loss: 2.3012 - acc: 0.1183 - val_loss: 2.2708 - val_acc: 0.1177\n",
            "Epoch 9/20\n",
            "389/389 [==============================] - 0s 523us/step - loss: 2.3010 - acc: 0.1183 - val_loss: 2.2714 - val_acc: 0.1211\n",
            "Epoch 10/20\n",
            "389/389 [==============================] - 0s 517us/step - loss: 2.3008 - acc: 0.1183 - val_loss: 2.2750 - val_acc: 0.1245\n",
            "Epoch 11/20\n",
            "389/389 [==============================] - 0s 520us/step - loss: 2.3005 - acc: 0.1183 - val_loss: 2.2818 - val_acc: 0.1312\n",
            "Epoch 12/20\n",
            "389/389 [==============================] - 0s 526us/step - loss: 2.3001 - acc: 0.1183 - val_loss: 2.2936 - val_acc: 0.1365\n",
            "Epoch 13/20\n",
            "389/389 [==============================] - 0s 540us/step - loss: 2.2998 - acc: 0.1183 - val_loss: 2.3124 - val_acc: 0.1337\n",
            "Epoch 14/20\n",
            "389/389 [==============================] - 0s 511us/step - loss: 2.2994 - acc: 0.1260 - val_loss: 2.3324 - val_acc: 0.1232\n",
            "Epoch 15/20\n",
            "389/389 [==============================] - 0s 511us/step - loss: 2.2990 - acc: 0.1311 - val_loss: 2.3505 - val_acc: 0.1159\n",
            "Epoch 16/20\n",
            "389/389 [==============================] - 0s 525us/step - loss: 2.2985 - acc: 0.1311 - val_loss: 2.3905 - val_acc: 0.1072\n",
            "Epoch 17/20\n",
            "389/389 [==============================] - 0s 527us/step - loss: 2.2981 - acc: 0.1722 - val_loss: 2.4574 - val_acc: 0.1009\n",
            "Epoch 18/20\n",
            "389/389 [==============================] - 0s 524us/step - loss: 2.2975 - acc: 0.2005 - val_loss: 2.5185 - val_acc: 0.0998\n",
            "Epoch 19/20\n",
            "389/389 [==============================] - 0s 520us/step - loss: 2.2968 - acc: 0.2108 - val_loss: 2.6068 - val_acc: 0.0998\n",
            "Epoch 20/20\n",
            "389/389 [==============================] - 0s 514us/step - loss: 2.2961 - acc: 0.2031 - val_loss: 2.7012 - val_acc: 0.1000\n",
            "seconds_per_epoch: 0.4431\n",
            "Train on 389 samples, validate on 12000 samples\n",
            "Epoch 1/20\n"
          ],
          "name": "stdout"
        }
      ]
    },
    {
      "cell_type": "code",
      "metadata": {
        "id": "ItcQkVM2sddx",
        "colab_type": "code",
        "outputId": "17de322e-a381-4c4a-be54-e0aff5f576df",
        "colab": {
          "base_uri": "https://localhost:8080/",
          "height": 49
        }
      },
      "source": [
        "expLog\n",
        "    try:\n",
        "        expLog\n",
        "    except NameError:\n",
        "        expLog = pd.DataFrame(columns=[\"exp_name\", \"epoch (secs)\", \"Epochs\", \"Train CXE Loss\", \"Train Acc\", \"Validation CXE Loss\", \"Validation  Acc\",\n",
        "                    \"Test CXE Loss\", \"Test  Accuracy\"])\n",
        "    \n",
        "\n",
        "# Add a experiment results to the experiment log\n",
        "    model = model_dense\n",
        "#from IPython.core.debugger import Pdb as pdb;    pdb().set_trace() #breakpoint; dont forget to quit         \n",
        "    expLog.loc[len(expLog)] = [f\"{architecture}\", seconds_per_epoch, epochs] + list(np.round(np.reshape([model.evaluate(X_train_selected, y_train_selected, verbose=0), \n",
        "                   model.evaluate(X_valid, y_valid, verbose=0),\n",
        "                   model.evaluate(X_test_selected,  y_test_selected, verbose=1)], -1), 3))\n",
        "    expLog  \n"
      ],
      "execution_count": 0,
      "outputs": [
        {
          "output_type": "execute_result",
          "data": {
            "text/html": [
              "<div>\n",
              "<style scoped>\n",
              "    .dataframe tbody tr th:only-of-type {\n",
              "        vertical-align: middle;\n",
              "    }\n",
              "\n",
              "    .dataframe tbody tr th {\n",
              "        vertical-align: top;\n",
              "    }\n",
              "\n",
              "    .dataframe thead th {\n",
              "        text-align: right;\n",
              "    }\n",
              "</style>\n",
              "<table border=\"1\" class=\"dataframe\">\n",
              "  <thead>\n",
              "    <tr style=\"text-align: right;\">\n",
              "      <th></th>\n",
              "      <th>exp_name</th>\n",
              "      <th>epoch (secs)</th>\n",
              "      <th>Epochs</th>\n",
              "      <th>Train CXE Loss</th>\n",
              "      <th>Train Acc</th>\n",
              "      <th>Validation CXE Loss</th>\n",
              "      <th>Validation  Acc</th>\n",
              "      <th>Test CXE Loss</th>\n",
              "      <th>Test  Accuracy</th>\n",
              "    </tr>\n",
              "  </thead>\n",
              "  <tbody>\n",
              "  </tbody>\n",
              "</table>\n",
              "</div>"
            ],
            "text/plain": [
              "Empty DataFrame\n",
              "Columns: [exp_name, epoch (secs), Epochs, Train CXE Loss, Train Acc, Validation CXE Loss, Validation  Acc, Test CXE Loss, Test  Accuracy]\n",
              "Index: []"
            ]
          },
          "metadata": {
            "tags": []
          },
          "execution_count": 92
        }
      ]
    },
    {
      "cell_type": "code",
      "metadata": {
        "code_folding": [],
        "id": "KOUZ9Caduk5N",
        "colab_type": "code",
        "outputId": "e650bd66-bf90-4b1d-8e41-db4586932501",
        "colab": {
          "base_uri": "https://localhost:8080/",
          "height": 94
        }
      },
      "source": [
        "# add the result of this experiment to the log book\n",
        "exp_name = \"MLP-784-128-128-128-10\" # experiment name\n",
        "#del expLog\n",
        "try:\n",
        "    expLog\n",
        "except NameError:\n",
        "    expLog = pd.DataFrame(columns=[\"exp_name\", \"epoch (secs)\", \"Epochs\", \"Train CXE Loss\", \"Train Acc\", \"Validation CXE Loss\", \"Validation  Acc\",\n",
        "                    \"Test CXE Loss\", \"Test  Accuracy\"])\n",
        "    \n",
        "# Add a experiment results to the experiment log\n",
        "model = model_dense\n",
        "#from IPython.core.debugger import Pdb as pdb;    pdb().set_trace() #breakpoint; dont forget to quit         \n",
        "expLog.loc[len(expLog)] = [f\"{exp_name}\", seconds_per_epoch, epochs] + list(np.round(np.reshape([model.evaluate(X_train_selected, y_train_selected, verbose=0), \n",
        "                   model.evaluate(X_valid, y_valid, verbose=0),\n",
        "                   model.evaluate(X_test_selected,  y_test_selected, verbose=1)], -1), 3))\n",
        "expLog"
      ],
      "execution_count": 28,
      "outputs": [
        {
          "output_type": "stream",
          "text": [
            "\r1/1 [==============================] - 0s 722us/step\n"
          ],
          "name": "stdout"
        },
        {
          "output_type": "execute_result",
          "data": {
            "text/html": [
              "<div>\n",
              "<style scoped>\n",
              "    .dataframe tbody tr th:only-of-type {\n",
              "        vertical-align: middle;\n",
              "    }\n",
              "\n",
              "    .dataframe tbody tr th {\n",
              "        vertical-align: top;\n",
              "    }\n",
              "\n",
              "    .dataframe thead th {\n",
              "        text-align: right;\n",
              "    }\n",
              "</style>\n",
              "<table border=\"1\" class=\"dataframe\">\n",
              "  <thead>\n",
              "    <tr style=\"text-align: right;\">\n",
              "      <th></th>\n",
              "      <th>exp_name</th>\n",
              "      <th>epoch (secs)</th>\n",
              "      <th>Epochs</th>\n",
              "      <th>Train CXE Loss</th>\n",
              "      <th>Train Acc</th>\n",
              "      <th>Validation CXE Loss</th>\n",
              "      <th>Validation  Acc</th>\n",
              "      <th>Test CXE Loss</th>\n",
              "      <th>Test  Accuracy</th>\n",
              "    </tr>\n",
              "  </thead>\n",
              "  <tbody>\n",
              "    <tr>\n",
              "      <th>0</th>\n",
              "      <td>MLP-784-128-128-128-10</td>\n",
              "      <td>3.268</td>\n",
              "      <td>20</td>\n",
              "      <td>2.271</td>\n",
              "      <td>0.14</td>\n",
              "      <td>2.705</td>\n",
              "      <td>0.279</td>\n",
              "      <td>2.242</td>\n",
              "      <td>0.0</td>\n",
              "    </tr>\n",
              "  </tbody>\n",
              "</table>\n",
              "</div>"
            ],
            "text/plain": [
              "                 exp_name epoch (secs) Epochs  Train CXE Loss  Train Acc  \\\n",
              "0  MLP-784-128-128-128-10        3.268     20           2.271       0.14   \n",
              "\n",
              "   Validation CXE Loss  Validation  Acc  Test CXE Loss  Test  Accuracy  \n",
              "0                2.705            0.279          2.242             0.0  "
            ]
          },
          "metadata": {
            "tags": []
          },
          "execution_count": 28
        }
      ]
    },
    {
      "cell_type": "markdown",
      "metadata": {
        "id": "bXb9yT8tZLRj",
        "colab_type": "text"
      },
      "source": [
        "\n",
        "\n",
        "\n",
        "### Task 3.3 : Odd versus Even Classifier\n",
        "\n",
        "Build a binary classifier that classifiers odd numbers versus even numbers. Again, try to find the best architecture.\n",
        "\n",
        "\n",
        "**Please paste your response here:** \n",
        "* Best archtecture is:  \n",
        "* Test accuracy: \n",
        "* Training time per epoch in seconds is : \n",
        "\n",
        "\n",
        "Please send the following by EMAIL to James.Shanahan@gmail.com with the subject \"Sichuan2019: MNIST Best MLP Architecture\"\n",
        "\n",
        "* Link to Coogle Colab notebook\n",
        "* all the text + your response from this cell"
      ]
    },
    {
      "cell_type": "code",
      "metadata": {
        "id": "-F61Twpw9h7B",
        "colab_type": "code",
        "outputId": "ff98ad46-95a4-4d0b-8dc1-7e38f365590e",
        "colab": {
          "base_uri": "https://localhost:8080/",
          "height": 11974
        }
      },
      "source": [
        "import numpy as np\n",
        "\n",
        "results = pd.DataFrame(columns=[\"Architecture\", \"Epoch time\", \"Accuracy Train\", \"Accuracy Test\", \"Loss Train\", \"Loss Test\"])\n",
        "\n",
        "\n",
        "for dense_layer in [4,3,2,1]:\n",
        "  for neuron in [256,128,64,12]:\n",
        "    architecture = '784-'+str(neuron)  \n",
        "    \n",
        "    model_dense = Sequential()  \n",
        "    model_dense.add(Dense(neuron, input_shape=(img_rows * img_cols,), activation=\"relu\"))\n",
        "    \n",
        "    time = 1\n",
        "    while time < dense_layer:#pair other nodes using while loop\n",
        "      architecture+='-'+str(neuron)   \n",
        "      model_dense.add(Dense(neuron, activation=\"relu\"))\n",
        "      time+=1\n",
        "    \n",
        "    \n",
        "    #exchange results in y_train from 1-10 to 1/0\n",
        "    #y_train manifying\n",
        "    even=y_train[1:2] #creat even & odd training data\n",
        "    odd=y_train[3:4]\n",
        "    for i in [ 5,2,13,17]:\n",
        "      even=np.append(even,y_train[i:i+1],axis=0)\n",
        "    for i in [ 7,0,15,4]:\n",
        "      odd=np.append(odd,y_train[i:i+1],axis=0)\n",
        "\n",
        "    y_train_classify=y_train[1:1]\n",
        "    i=0\n",
        "    while i < len(y_train):\n",
        "      if y_train[i:i+1] in even:\n",
        "        y_train_classify=np.append(y_train_classify,y_train[1:2],axis=0)\n",
        "      else:\n",
        "        y_train_classify=np.append(y_train_classify,y_train[3:4],axis=0)\n",
        "      i+=1\n",
        "      \n",
        "      \n",
        "    #y_test manifying   \n",
        "    i=0\n",
        "    y_test_classify=y_test[1:1]\n",
        "    while i < len(y_test):\n",
        "    \n",
        "      if y_test[i:i+1] in even:\n",
        "        y_test_classify=np.append(y_test_classify,y_train[1:2],axis=0)\n",
        "      else:\n",
        "        y_test_classify=np.append(y_test_classify,y_train[3:4],axis=0)\n",
        "      i+=1\n",
        "      \n",
        "      \n",
        "    model_dense.add(Dense(nb_classes, activation=\"softmax\"))\n",
        "    architecture+=\"-2\"\n",
        "      \n",
        "    #compile before training & testing  \n",
        "    model_dense.compile(loss='categorical_crossentropy',\n",
        "                  optimizer='adam',\n",
        "                  metrics=['accuracy'])\n",
        "    \n",
        "    #training & testing (thought this was plotting and deleted, and got 0.01% of accuracy)\n",
        "    hist = model_dense.fit(X_train.reshape((len(X_train), img_cols * img_rows)), y_train_classify, \n",
        "          validation_data = (X_test.reshape((len(X_test), img_cols * img_rows)), y_test_classify), \n",
        "          epochs=20, batch_size=128)\n",
        "\n",
        "    \n",
        "    \n",
        "    score_train = model_dense.evaluate(X_train.reshape((len(X_train), img_cols * img_rows)), y_train_classify, verbose=0)\n",
        "    score_test = model_dense.evaluate(X_test.reshape((len(X_test), img_cols * img_rows)), y_test_classify, verbose=0)\n",
        "\n",
        "\n",
        "      \n",
        "    results.loc[len(results)] = np.array([architecture, \"1secs\", score_train[1], score_test[1], score_train[0], score_test[0]])\n",
        "    #results.index = [\"MLP\"]\n",
        "\n",
        "results\n",
        "      "
      ],
      "execution_count": 0,
      "outputs": [
        {
          "output_type": "stream",
          "text": [
            "Train on 60000 samples, validate on 10000 samples\n",
            "Epoch 1/20\n",
            "60000/60000 [==============================] - 8s 131us/step - loss: 0.0126 - acc: 0.9984 - val_loss: 1.1921e-07 - val_acc: 1.0000\n",
            "Epoch 2/20\n",
            "60000/60000 [==============================] - 7s 122us/step - loss: 1.1921e-07 - acc: 1.0000 - val_loss: 1.1921e-07 - val_acc: 1.0000\n",
            "Epoch 3/20\n",
            "60000/60000 [==============================] - 7s 122us/step - loss: 1.1921e-07 - acc: 1.0000 - val_loss: 1.1921e-07 - val_acc: 1.0000\n",
            "Epoch 4/20\n",
            "60000/60000 [==============================] - 7s 121us/step - loss: 1.1921e-07 - acc: 1.0000 - val_loss: 1.1921e-07 - val_acc: 1.0000\n",
            "Epoch 5/20\n",
            "60000/60000 [==============================] - 7s 119us/step - loss: 1.1921e-07 - acc: 1.0000 - val_loss: 1.1921e-07 - val_acc: 1.0000\n",
            "Epoch 6/20\n",
            "60000/60000 [==============================] - 7s 120us/step - loss: 1.1921e-07 - acc: 1.0000 - val_loss: 1.1921e-07 - val_acc: 1.0000\n",
            "Epoch 7/20\n",
            "60000/60000 [==============================] - 7s 121us/step - loss: 1.1921e-07 - acc: 1.0000 - val_loss: 1.1921e-07 - val_acc: 1.0000\n",
            "Epoch 8/20\n",
            "60000/60000 [==============================] - 7s 120us/step - loss: 1.1921e-07 - acc: 1.0000 - val_loss: 1.1921e-07 - val_acc: 1.0000\n",
            "Epoch 9/20\n",
            "60000/60000 [==============================] - 7s 120us/step - loss: 1.1921e-07 - acc: 1.0000 - val_loss: 1.1921e-07 - val_acc: 1.0000\n",
            "Epoch 10/20\n",
            "60000/60000 [==============================] - 7s 121us/step - loss: 1.1921e-07 - acc: 1.0000 - val_loss: 1.1921e-07 - val_acc: 1.0000\n",
            "Epoch 11/20\n",
            "60000/60000 [==============================] - 7s 120us/step - loss: 1.1921e-07 - acc: 1.0000 - val_loss: 1.1921e-07 - val_acc: 1.0000\n",
            "Epoch 12/20\n",
            "60000/60000 [==============================] - 7s 121us/step - loss: 1.1921e-07 - acc: 1.0000 - val_loss: 1.1921e-07 - val_acc: 1.0000\n",
            "Epoch 13/20\n",
            "60000/60000 [==============================] - 7s 121us/step - loss: 1.1921e-07 - acc: 1.0000 - val_loss: 1.1921e-07 - val_acc: 1.0000\n",
            "Epoch 14/20\n",
            "60000/60000 [==============================] - 8s 127us/step - loss: 1.1921e-07 - acc: 1.0000 - val_loss: 1.1921e-07 - val_acc: 1.0000\n",
            "Epoch 15/20\n",
            "60000/60000 [==============================] - 8s 126us/step - loss: 1.1921e-07 - acc: 1.0000 - val_loss: 1.1921e-07 - val_acc: 1.0000\n",
            "Epoch 16/20\n",
            "60000/60000 [==============================] - 7s 122us/step - loss: 1.1921e-07 - acc: 1.0000 - val_loss: 1.1921e-07 - val_acc: 1.0000\n",
            "Epoch 17/20\n",
            "60000/60000 [==============================] - 7s 121us/step - loss: 1.1921e-07 - acc: 1.0000 - val_loss: 1.1921e-07 - val_acc: 1.0000\n",
            "Epoch 18/20\n",
            "60000/60000 [==============================] - 8s 127us/step - loss: 1.1921e-07 - acc: 1.0000 - val_loss: 1.1921e-07 - val_acc: 1.0000\n",
            "Epoch 19/20\n",
            "60000/60000 [==============================] - 8s 129us/step - loss: 1.1921e-07 - acc: 1.0000 - val_loss: 1.1921e-07 - val_acc: 1.0000\n",
            "Epoch 20/20\n",
            "60000/60000 [==============================] - 7s 122us/step - loss: 1.1921e-07 - acc: 1.0000 - val_loss: 1.1921e-07 - val_acc: 1.0000\n",
            "Train on 60000 samples, validate on 10000 samples\n",
            "Epoch 1/20\n",
            "60000/60000 [==============================] - 6s 108us/step - loss: 0.0211 - acc: 0.9968 - val_loss: 1.1947e-07 - val_acc: 1.0000\n",
            "Epoch 2/20\n",
            "60000/60000 [==============================] - 5s 78us/step - loss: 1.2015e-07 - acc: 1.0000 - val_loss: 1.1947e-07 - val_acc: 1.0000\n",
            "Epoch 3/20\n",
            "60000/60000 [==============================] - 4s 70us/step - loss: 1.2015e-07 - acc: 1.0000 - val_loss: 1.1947e-07 - val_acc: 1.0000\n",
            "Epoch 4/20\n",
            "60000/60000 [==============================] - 4s 68us/step - loss: 1.2015e-07 - acc: 1.0000 - val_loss: 1.1947e-07 - val_acc: 1.0000\n",
            "Epoch 5/20\n",
            "60000/60000 [==============================] - 4s 67us/step - loss: 1.2015e-07 - acc: 1.0000 - val_loss: 1.1947e-07 - val_acc: 1.0000\n",
            "Epoch 6/20\n",
            "60000/60000 [==============================] - 4s 66us/step - loss: 1.2015e-07 - acc: 1.0000 - val_loss: 1.1947e-07 - val_acc: 1.0000\n",
            "Epoch 7/20\n",
            "60000/60000 [==============================] - 4s 68us/step - loss: 1.2015e-07 - acc: 1.0000 - val_loss: 1.1947e-07 - val_acc: 1.0000\n",
            "Epoch 8/20\n",
            "60000/60000 [==============================] - 4s 67us/step - loss: 1.2015e-07 - acc: 1.0000 - val_loss: 1.1947e-07 - val_acc: 1.0000\n",
            "Epoch 9/20\n",
            "60000/60000 [==============================] - 4s 68us/step - loss: 1.2014e-07 - acc: 1.0000 - val_loss: 1.1947e-07 - val_acc: 1.0000\n",
            "Epoch 10/20\n",
            "60000/60000 [==============================] - 4s 67us/step - loss: 1.2014e-07 - acc: 1.0000 - val_loss: 1.1946e-07 - val_acc: 1.0000\n",
            "Epoch 11/20\n",
            "60000/60000 [==============================] - 4s 68us/step - loss: 1.2014e-07 - acc: 1.0000 - val_loss: 1.1946e-07 - val_acc: 1.0000\n",
            "Epoch 12/20\n",
            "60000/60000 [==============================] - 4s 68us/step - loss: 1.2013e-07 - acc: 1.0000 - val_loss: 1.1946e-07 - val_acc: 1.0000\n",
            "Epoch 13/20\n",
            "60000/60000 [==============================] - 4s 67us/step - loss: 1.2012e-07 - acc: 1.0000 - val_loss: 1.1946e-07 - val_acc: 1.0000\n",
            "Epoch 14/20\n",
            "60000/60000 [==============================] - 4s 70us/step - loss: 1.2012e-07 - acc: 1.0000 - val_loss: 1.1946e-07 - val_acc: 1.0000\n",
            "Epoch 15/20\n",
            "60000/60000 [==============================] - 4s 68us/step - loss: 1.2010e-07 - acc: 1.0000 - val_loss: 1.1946e-07 - val_acc: 1.0000\n",
            "Epoch 16/20\n",
            "60000/60000 [==============================] - 4s 68us/step - loss: 1.2009e-07 - acc: 1.0000 - val_loss: 1.1946e-07 - val_acc: 1.0000\n",
            "Epoch 17/20\n",
            "60000/60000 [==============================] - 4s 67us/step - loss: 1.2007e-07 - acc: 1.0000 - val_loss: 1.1945e-07 - val_acc: 1.0000\n",
            "Epoch 18/20\n",
            "60000/60000 [==============================] - 4s 67us/step - loss: 1.2004e-07 - acc: 1.0000 - val_loss: 1.1945e-07 - val_acc: 1.0000\n",
            "Epoch 19/20\n",
            "60000/60000 [==============================] - 4s 67us/step - loss: 1.2002e-07 - acc: 1.0000 - val_loss: 1.1944e-07 - val_acc: 1.0000\n",
            "Epoch 20/20\n",
            "60000/60000 [==============================] - 4s 65us/step - loss: 1.1999e-07 - acc: 1.0000 - val_loss: 1.1942e-07 - val_acc: 1.0000\n",
            "Train on 60000 samples, validate on 10000 samples\n",
            "Epoch 1/20\n",
            "60000/60000 [==============================] - 4s 59us/step - loss: 0.0413 - acc: 0.9962 - val_loss: 3.7871e-06 - val_acc: 1.0000\n",
            "Epoch 2/20\n",
            "60000/60000 [==============================] - 2s 41us/step - loss: 1.7620e-06 - acc: 1.0000 - val_loss: 8.4366e-07 - val_acc: 1.0000\n",
            "Epoch 3/20\n",
            "60000/60000 [==============================] - 2s 39us/step - loss: 5.8515e-07 - acc: 1.0000 - val_loss: 4.1112e-07 - val_acc: 1.0000\n",
            "Epoch 4/20\n",
            "60000/60000 [==============================] - 3s 43us/step - loss: 3.3480e-07 - acc: 1.0000 - val_loss: 2.7452e-07 - val_acc: 1.0000\n",
            "Epoch 5/20\n",
            "60000/60000 [==============================] - 2s 39us/step - loss: 2.3993e-07 - acc: 1.0000 - val_loss: 2.1254e-07 - val_acc: 1.0000\n",
            "Epoch 6/20\n",
            "60000/60000 [==============================] - 2s 39us/step - loss: 1.9379e-07 - acc: 1.0000 - val_loss: 1.7974e-07 - val_acc: 1.0000\n",
            "Epoch 7/20\n",
            "60000/60000 [==============================] - 2s 39us/step - loss: 1.6811e-07 - acc: 1.0000 - val_loss: 1.6081e-07 - val_acc: 1.0000\n",
            "Epoch 8/20\n",
            "60000/60000 [==============================] - 2s 39us/step - loss: 1.5258e-07 - acc: 1.0000 - val_loss: 1.4879e-07 - val_acc: 1.0000\n",
            "Epoch 9/20\n",
            "60000/60000 [==============================] - 2s 38us/step - loss: 1.4270e-07 - acc: 1.0000 - val_loss: 1.4061e-07 - val_acc: 1.0000\n",
            "Epoch 10/20\n",
            "60000/60000 [==============================] - 2s 38us/step - loss: 1.3613e-07 - acc: 1.0000 - val_loss: 1.3513e-07 - val_acc: 1.0000\n",
            "Epoch 11/20\n",
            "60000/60000 [==============================] - 2s 40us/step - loss: 1.3156e-07 - acc: 1.0000 - val_loss: 1.3126e-07 - val_acc: 1.0000\n",
            "Epoch 12/20\n",
            "60000/60000 [==============================] - 2s 39us/step - loss: 1.2834e-07 - acc: 1.0000 - val_loss: 1.2837e-07 - val_acc: 1.0000\n",
            "Epoch 13/20\n",
            "60000/60000 [==============================] - 2s 37us/step - loss: 1.2608e-07 - acc: 1.0000 - val_loss: 1.2640e-07 - val_acc: 1.0000\n",
            "Epoch 14/20\n",
            "60000/60000 [==============================] - 2s 37us/step - loss: 1.2441e-07 - acc: 1.0000 - val_loss: 1.2486e-07 - val_acc: 1.0000\n",
            "Epoch 15/20\n",
            "60000/60000 [==============================] - 2s 37us/step - loss: 1.2321e-07 - acc: 1.0000 - val_loss: 1.2367e-07 - val_acc: 1.0000\n",
            "Epoch 16/20\n",
            "60000/60000 [==============================] - 2s 38us/step - loss: 1.2228e-07 - acc: 1.0000 - val_loss: 1.2277e-07 - val_acc: 1.0000\n",
            "Epoch 17/20\n",
            "60000/60000 [==============================] - 2s 38us/step - loss: 1.2159e-07 - acc: 1.0000 - val_loss: 1.2206e-07 - val_acc: 1.0000\n",
            "Epoch 18/20\n",
            "60000/60000 [==============================] - 2s 39us/step - loss: 1.2106e-07 - acc: 1.0000 - val_loss: 1.2159e-07 - val_acc: 1.0000\n",
            "Epoch 19/20\n",
            "60000/60000 [==============================] - 2s 40us/step - loss: 1.2068e-07 - acc: 1.0000 - val_loss: 1.2118e-07 - val_acc: 1.0000\n",
            "Epoch 20/20\n",
            "60000/60000 [==============================] - 2s 41us/step - loss: 1.2039e-07 - acc: 1.0000 - val_loss: 1.2082e-07 - val_acc: 1.0000\n",
            "Train on 60000 samples, validate on 10000 samples\n",
            "Epoch 1/20\n",
            "60000/60000 [==============================] - 2s 36us/step - loss: 0.1942 - acc: 0.9189 - val_loss: 6.2871e-04 - val_acc: 1.0000\n",
            "Epoch 2/20\n",
            "60000/60000 [==============================] - 1s 23us/step - loss: 3.3612e-04 - acc: 1.0000 - val_loss: 1.7254e-04 - val_acc: 1.0000\n",
            "Epoch 3/20\n",
            "60000/60000 [==============================] - 1s 23us/step - loss: 1.1680e-04 - acc: 1.0000 - val_loss: 7.6804e-05 - val_acc: 1.0000\n",
            "Epoch 4/20\n",
            "60000/60000 [==============================] - 1s 23us/step - loss: 5.6568e-05 - acc: 1.0000 - val_loss: 4.0347e-05 - val_acc: 1.0000\n",
            "Epoch 5/20\n",
            "60000/60000 [==============================] - 1s 23us/step - loss: 2.8886e-05 - acc: 1.0000 - val_loss: 1.9483e-05 - val_acc: 1.0000\n",
            "Epoch 6/20\n",
            "60000/60000 [==============================] - 1s 23us/step - loss: 1.3004e-05 - acc: 1.0000 - val_loss: 8.4843e-06 - val_acc: 1.0000\n",
            "Epoch 7/20\n",
            "60000/60000 [==============================] - 1s 23us/step - loss: 5.7503e-06 - acc: 1.0000 - val_loss: 4.0519e-06 - val_acc: 1.0000\n",
            "Epoch 8/20\n",
            "60000/60000 [==============================] - 1s 24us/step - loss: 2.8880e-06 - acc: 1.0000 - val_loss: 2.2325e-06 - val_acc: 1.0000\n",
            "Epoch 9/20\n",
            "60000/60000 [==============================] - 2s 26us/step - loss: 1.6450e-06 - acc: 1.0000 - val_loss: 1.3619e-06 - val_acc: 1.0000\n",
            "Epoch 10/20\n",
            "60000/60000 [==============================] - 2s 27us/step - loss: 1.0340e-06 - acc: 1.0000 - val_loss: 9.0223e-07 - val_acc: 1.0000\n",
            "Epoch 11/20\n",
            "60000/60000 [==============================] - 2s 26us/step - loss: 7.0366e-07 - acc: 1.0000 - val_loss: 6.4172e-07 - val_acc: 1.0000\n",
            "Epoch 12/20\n",
            "60000/60000 [==============================] - 2s 26us/step - loss: 5.1024e-07 - acc: 1.0000 - val_loss: 4.7962e-07 - val_acc: 1.0000\n",
            "Epoch 13/20\n",
            "60000/60000 [==============================] - 2s 27us/step - loss: 3.8818e-07 - acc: 1.0000 - val_loss: 3.7336e-07 - val_acc: 1.0000\n",
            "Epoch 14/20\n",
            "60000/60000 [==============================] - 2s 27us/step - loss: 3.0826e-07 - acc: 1.0000 - val_loss: 3.0231e-07 - val_acc: 1.0000\n",
            "Epoch 15/20\n",
            "60000/60000 [==============================] - 2s 26us/step - loss: 2.5453e-07 - acc: 1.0000 - val_loss: 2.5327e-07 - val_acc: 1.0000\n",
            "Epoch 16/20\n",
            "60000/60000 [==============================] - 2s 26us/step - loss: 2.1745e-07 - acc: 1.0000 - val_loss: 2.1820e-07 - val_acc: 1.0000\n",
            "Epoch 17/20\n",
            "60000/60000 [==============================] - 2s 26us/step - loss: 1.9123e-07 - acc: 1.0000 - val_loss: 1.9303e-07 - val_acc: 1.0000\n",
            "Epoch 18/20\n",
            "60000/60000 [==============================] - 2s 26us/step - loss: 1.7243e-07 - acc: 1.0000 - val_loss: 1.7480e-07 - val_acc: 1.0000\n",
            "Epoch 19/20\n",
            "60000/60000 [==============================] - 2s 26us/step - loss: 1.5891e-07 - acc: 1.0000 - val_loss: 1.6165e-07 - val_acc: 1.0000\n",
            "Epoch 20/20\n",
            "60000/60000 [==============================] - 2s 27us/step - loss: 1.4915e-07 - acc: 1.0000 - val_loss: 1.5178e-07 - val_acc: 1.0000\n",
            "Train on 60000 samples, validate on 10000 samples\n",
            "Epoch 1/20\n",
            "60000/60000 [==============================] - 8s 137us/step - loss: 0.0111 - acc: 0.9983 - val_loss: 1.1928e-07 - val_acc: 1.0000\n",
            "Epoch 2/20\n",
            "60000/60000 [==============================] - 7s 112us/step - loss: 1.1929e-07 - acc: 1.0000 - val_loss: 1.1928e-07 - val_acc: 1.0000\n",
            "Epoch 3/20\n",
            "60000/60000 [==============================] - 6s 101us/step - loss: 1.1929e-07 - acc: 1.0000 - val_loss: 1.1928e-07 - val_acc: 1.0000\n",
            "Epoch 4/20\n",
            "60000/60000 [==============================] - 6s 101us/step - loss: 1.1929e-07 - acc: 1.0000 - val_loss: 1.1928e-07 - val_acc: 1.0000\n",
            "Epoch 5/20\n",
            "60000/60000 [==============================] - 6s 105us/step - loss: 1.1929e-07 - acc: 1.0000 - val_loss: 1.1928e-07 - val_acc: 1.0000\n",
            "Epoch 6/20\n",
            "60000/60000 [==============================] - 7s 110us/step - loss: 1.1929e-07 - acc: 1.0000 - val_loss: 1.1928e-07 - val_acc: 1.0000\n",
            "Epoch 7/20\n",
            "60000/60000 [==============================] - 6s 104us/step - loss: 1.1929e-07 - acc: 1.0000 - val_loss: 1.1928e-07 - val_acc: 1.0000\n",
            "Epoch 8/20\n",
            "60000/60000 [==============================] - 6s 106us/step - loss: 1.1929e-07 - acc: 1.0000 - val_loss: 1.1928e-07 - val_acc: 1.0000\n",
            "Epoch 9/20\n",
            "60000/60000 [==============================] - 6s 104us/step - loss: 1.1929e-07 - acc: 1.0000 - val_loss: 1.1928e-07 - val_acc: 1.0000\n",
            "Epoch 10/20\n",
            "60000/60000 [==============================] - 6s 105us/step - loss: 1.1929e-07 - acc: 1.0000 - val_loss: 1.1928e-07 - val_acc: 1.0000\n",
            "Epoch 11/20\n",
            "60000/60000 [==============================] - 6s 108us/step - loss: 1.1929e-07 - acc: 1.0000 - val_loss: 1.1928e-07 - val_acc: 1.0000\n",
            "Epoch 12/20\n",
            "60000/60000 [==============================] - 6s 108us/step - loss: 1.1929e-07 - acc: 1.0000 - val_loss: 1.1928e-07 - val_acc: 1.0000\n",
            "Epoch 13/20\n",
            "60000/60000 [==============================] - 7s 113us/step - loss: 1.1929e-07 - acc: 1.0000 - val_loss: 1.1928e-07 - val_acc: 1.0000\n",
            "Epoch 14/20\n",
            "60000/60000 [==============================] - 7s 110us/step - loss: 1.1929e-07 - acc: 1.0000 - val_loss: 1.1928e-07 - val_acc: 1.0000\n",
            "Epoch 15/20\n",
            "60000/60000 [==============================] - 7s 110us/step - loss: 1.1929e-07 - acc: 1.0000 - val_loss: 1.1928e-07 - val_acc: 1.0000\n",
            "Epoch 16/20\n",
            "60000/60000 [==============================] - 6s 100us/step - loss: 1.1929e-07 - acc: 1.0000 - val_loss: 1.1928e-07 - val_acc: 1.0000\n",
            "Epoch 17/20\n",
            "60000/60000 [==============================] - 6s 104us/step - loss: 1.1929e-07 - acc: 1.0000 - val_loss: 1.1928e-07 - val_acc: 1.0000\n",
            "Epoch 18/20\n",
            "60000/60000 [==============================] - 6s 105us/step - loss: 1.1929e-07 - acc: 1.0000 - val_loss: 1.1928e-07 - val_acc: 1.0000\n",
            "Epoch 19/20\n",
            "60000/60000 [==============================] - 6s 107us/step - loss: 1.1929e-07 - acc: 1.0000 - val_loss: 1.1928e-07 - val_acc: 1.0000\n",
            "Epoch 20/20\n",
            "60000/60000 [==============================] - 6s 108us/step - loss: 1.1928e-07 - acc: 1.0000 - val_loss: 1.1928e-07 - val_acc: 1.0000\n",
            "Train on 60000 samples, validate on 10000 samples\n",
            "Epoch 1/20\n",
            "60000/60000 [==============================] - 4s 73us/step - loss: 0.0193 - acc: 0.9966 - val_loss: 9.0220e-07 - val_acc: 1.0000\n",
            "Epoch 2/20\n",
            "60000/60000 [==============================] - 4s 62us/step - loss: 8.6897e-07 - acc: 1.0000 - val_loss: 7.6842e-07 - val_acc: 1.0000\n",
            "Epoch 3/20\n",
            "60000/60000 [==============================] - 4s 62us/step - loss: 7.1851e-07 - acc: 1.0000 - val_loss: 6.1491e-07 - val_acc: 1.0000\n",
            "Epoch 4/20\n",
            "60000/60000 [==============================] - 4s 62us/step - loss: 5.6699e-07 - acc: 1.0000 - val_loss: 4.7570e-07 - val_acc: 1.0000\n",
            "Epoch 5/20\n",
            "60000/60000 [==============================] - 4s 61us/step - loss: 4.3564e-07 - acc: 1.0000 - val_loss: 3.6141e-07 - val_acc: 1.0000\n",
            "Epoch 6/20\n",
            "60000/60000 [==============================] - 4s 61us/step - loss: 3.3148e-07 - acc: 1.0000 - val_loss: 2.7634e-07 - val_acc: 1.0000\n",
            "Epoch 7/20\n",
            "60000/60000 [==============================] - 4s 61us/step - loss: 2.5773e-07 - acc: 1.0000 - val_loss: 2.1972e-07 - val_acc: 1.0000\n",
            "Epoch 8/20\n",
            "60000/60000 [==============================] - 4s 60us/step - loss: 2.1013e-07 - acc: 1.0000 - val_loss: 1.8500e-07 - val_acc: 1.0000\n",
            "Epoch 9/20\n",
            "60000/60000 [==============================] - 3s 57us/step - loss: 1.7970e-07 - acc: 1.0000 - val_loss: 1.6272e-07 - val_acc: 1.0000\n",
            "Epoch 10/20\n",
            "60000/60000 [==============================] - 4s 59us/step - loss: 1.6037e-07 - acc: 1.0000 - val_loss: 1.4871e-07 - val_acc: 1.0000\n",
            "Epoch 11/20\n",
            "60000/60000 [==============================] - 4s 59us/step - loss: 1.4774e-07 - acc: 1.0000 - val_loss: 1.3960e-07 - val_acc: 1.0000\n",
            "Epoch 12/20\n",
            "60000/60000 [==============================] - 3s 58us/step - loss: 1.3931e-07 - acc: 1.0000 - val_loss: 1.3369e-07 - val_acc: 1.0000\n",
            "Epoch 13/20\n",
            "60000/60000 [==============================] - 4s 59us/step - loss: 1.3366e-07 - acc: 1.0000 - val_loss: 1.2964e-07 - val_acc: 1.0000\n",
            "Epoch 14/20\n",
            "60000/60000 [==============================] - 3s 58us/step - loss: 1.2972e-07 - acc: 1.0000 - val_loss: 1.2676e-07 - val_acc: 1.0000\n",
            "Epoch 15/20\n",
            "60000/60000 [==============================] - 4s 58us/step - loss: 1.2696e-07 - acc: 1.0000 - val_loss: 1.2478e-07 - val_acc: 1.0000\n",
            "Epoch 16/20\n",
            "60000/60000 [==============================] - 3s 58us/step - loss: 1.2502e-07 - acc: 1.0000 - val_loss: 1.2341e-07 - val_acc: 1.0000\n",
            "Epoch 17/20\n",
            "60000/60000 [==============================] - 3s 58us/step - loss: 1.2359e-07 - acc: 1.0000 - val_loss: 1.2231e-07 - val_acc: 1.0000\n",
            "Epoch 18/20\n",
            "60000/60000 [==============================] - 3s 57us/step - loss: 1.2256e-07 - acc: 1.0000 - val_loss: 1.2162e-07 - val_acc: 1.0000\n",
            "Epoch 19/20\n",
            "60000/60000 [==============================] - 3s 57us/step - loss: 1.2177e-07 - acc: 1.0000 - val_loss: 1.2106e-07 - val_acc: 1.0000\n",
            "Epoch 20/20\n",
            "60000/60000 [==============================] - 3s 57us/step - loss: 1.2121e-07 - acc: 1.0000 - val_loss: 1.2062e-07 - val_acc: 1.0000\n",
            "Train on 60000 samples, validate on 10000 samples\n",
            "Epoch 1/20\n",
            "60000/60000 [==============================] - 3s 56us/step - loss: 0.0204 - acc: 0.9991 - val_loss: 7.1594e-06 - val_acc: 1.0000\n",
            "Epoch 2/20\n",
            "60000/60000 [==============================] - 2s 41us/step - loss: 2.4295e-06 - acc: 1.0000 - val_loss: 1.4548e-06 - val_acc: 1.0000\n",
            "Epoch 3/20\n",
            "60000/60000 [==============================] - 2s 36us/step - loss: 6.8463e-07 - acc: 1.0000 - val_loss: 6.7831e-07 - val_acc: 1.0000\n",
            "Epoch 4/20\n",
            "60000/60000 [==============================] - 2s 36us/step - loss: 3.6318e-07 - acc: 1.0000 - val_loss: 4.2689e-07 - val_acc: 1.0000\n",
            "Epoch 5/20\n",
            "60000/60000 [==============================] - 2s 35us/step - loss: 2.4953e-07 - acc: 1.0000 - val_loss: 3.0874e-07 - val_acc: 1.0000\n",
            "Epoch 6/20\n",
            "60000/60000 [==============================] - 2s 36us/step - loss: 1.9625e-07 - acc: 1.0000 - val_loss: 2.4332e-07 - val_acc: 1.0000\n",
            "Epoch 7/20\n",
            "60000/60000 [==============================] - 2s 40us/step - loss: 1.6788e-07 - acc: 1.0000 - val_loss: 2.0471e-07 - val_acc: 1.0000\n",
            "Epoch 8/20\n",
            "60000/60000 [==============================] - 2s 40us/step - loss: 1.5120e-07 - acc: 1.0000 - val_loss: 1.8012e-07 - val_acc: 1.0000\n",
            "Epoch 9/20\n",
            "60000/60000 [==============================] - 2s 37us/step - loss: 1.4096e-07 - acc: 1.0000 - val_loss: 1.6390e-07 - val_acc: 1.0000\n",
            "Epoch 10/20\n",
            "60000/60000 [==============================] - 2s 38us/step - loss: 1.3457e-07 - acc: 1.0000 - val_loss: 1.5299e-07 - val_acc: 1.0000\n",
            "Epoch 11/20\n",
            "60000/60000 [==============================] - 3s 46us/step - loss: 1.3017e-07 - acc: 1.0000 - val_loss: 1.4500e-07 - val_acc: 1.0000\n",
            "Epoch 12/20\n",
            "60000/60000 [==============================] - 3s 45us/step - loss: 1.2720e-07 - acc: 1.0000 - val_loss: 1.3931e-07 - val_acc: 1.0000\n",
            "Epoch 13/20\n",
            "60000/60000 [==============================] - 2s 41us/step - loss: 1.2511e-07 - acc: 1.0000 - val_loss: 1.3511e-07 - val_acc: 1.0000\n",
            "Epoch 14/20\n",
            "60000/60000 [==============================] - 2s 40us/step - loss: 1.2366e-07 - acc: 1.0000 - val_loss: 1.3194e-07 - val_acc: 1.0000\n",
            "Epoch 15/20\n",
            "60000/60000 [==============================] - 2s 40us/step - loss: 1.2258e-07 - acc: 1.0000 - val_loss: 1.2954e-07 - val_acc: 1.0000\n",
            "Epoch 16/20\n",
            "60000/60000 [==============================] - 2s 41us/step - loss: 1.2177e-07 - acc: 1.0000 - val_loss: 1.2760e-07 - val_acc: 1.0000\n",
            "Epoch 17/20\n",
            "60000/60000 [==============================] - 2s 38us/step - loss: 1.2119e-07 - acc: 1.0000 - val_loss: 1.2620e-07 - val_acc: 1.0000\n",
            "Epoch 18/20\n",
            "60000/60000 [==============================] - 2s 38us/step - loss: 1.2075e-07 - acc: 1.0000 - val_loss: 1.2500e-07 - val_acc: 1.0000\n",
            "Epoch 19/20\n",
            "60000/60000 [==============================] - 2s 38us/step - loss: 1.2044e-07 - acc: 1.0000 - val_loss: 1.2411e-07 - val_acc: 1.0000\n",
            "Epoch 20/20\n",
            "60000/60000 [==============================] - 2s 39us/step - loss: 1.2017e-07 - acc: 1.0000 - val_loss: 1.2334e-07 - val_acc: 1.0000\n",
            "Train on 60000 samples, validate on 10000 samples\n",
            "Epoch 1/20\n",
            "60000/60000 [==============================] - 3s 43us/step - loss: 0.2204 - acc: 0.9274 - val_loss: 0.0013 - val_acc: 1.0000\n",
            "Epoch 2/20\n",
            "60000/60000 [==============================] - 2s 25us/step - loss: 6.9238e-04 - acc: 1.0000 - val_loss: 3.4714e-04 - val_acc: 1.0000\n",
            "Epoch 3/20\n",
            "60000/60000 [==============================] - 2s 26us/step - loss: 2.3066e-04 - acc: 1.0000 - val_loss: 1.5406e-04 - val_acc: 1.0000\n",
            "Epoch 4/20\n",
            "60000/60000 [==============================] - 2s 26us/step - loss: 1.1204e-04 - acc: 1.0000 - val_loss: 8.4533e-05 - val_acc: 1.0000\n",
            "Epoch 5/20\n",
            "60000/60000 [==============================] - 2s 27us/step - loss: 6.4062e-05 - acc: 1.0000 - val_loss: 5.1726e-05 - val_acc: 1.0000\n",
            "Epoch 6/20\n",
            "60000/60000 [==============================] - 2s 27us/step - loss: 4.0145e-05 - acc: 1.0000 - val_loss: 3.3880e-05 - val_acc: 1.0000\n",
            "Epoch 7/20\n",
            "60000/60000 [==============================] - 2s 27us/step - loss: 2.6619e-05 - acc: 1.0000 - val_loss: 2.3256e-05 - val_acc: 1.0000\n",
            "Epoch 8/20\n",
            "60000/60000 [==============================] - 2s 26us/step - loss: 1.8336e-05 - acc: 1.0000 - val_loss: 1.6423e-05 - val_acc: 1.0000\n",
            "Epoch 9/20\n",
            "60000/60000 [==============================] - 2s 26us/step - loss: 1.2969e-05 - acc: 1.0000 - val_loss: 1.1901e-05 - val_acc: 1.0000\n",
            "Epoch 10/20\n",
            "60000/60000 [==============================] - 2s 26us/step - loss: 9.3529e-06 - acc: 1.0000 - val_loss: 8.7733e-06 - val_acc: 1.0000\n",
            "Epoch 11/20\n",
            "60000/60000 [==============================] - 2s 27us/step - loss: 6.8571e-06 - acc: 1.0000 - val_loss: 6.5255e-06 - val_acc: 1.0000\n",
            "Epoch 12/20\n",
            "60000/60000 [==============================] - 2s 26us/step - loss: 5.0939e-06 - acc: 1.0000 - val_loss: 4.9340e-06 - val_acc: 1.0000\n",
            "Epoch 13/20\n",
            "60000/60000 [==============================] - 2s 28us/step - loss: 3.8159e-06 - acc: 1.0000 - val_loss: 3.7658e-06 - val_acc: 1.0000\n",
            "Epoch 14/20\n",
            "60000/60000 [==============================] - 2s 30us/step - loss: 2.8823e-06 - acc: 1.0000 - val_loss: 2.8883e-06 - val_acc: 1.0000\n",
            "Epoch 15/20\n",
            "60000/60000 [==============================] - 2s 30us/step - loss: 2.1961e-06 - acc: 1.0000 - val_loss: 2.2349e-06 - val_acc: 1.0000\n",
            "Epoch 16/20\n",
            "60000/60000 [==============================] - 2s 29us/step - loss: 1.6872e-06 - acc: 1.0000 - val_loss: 1.7478e-06 - val_acc: 1.0000\n",
            "Epoch 17/20\n",
            "60000/60000 [==============================] - 2s 28us/step - loss: 1.3054e-06 - acc: 1.0000 - val_loss: 1.3757e-06 - val_acc: 1.0000\n",
            "Epoch 18/20\n",
            "60000/60000 [==============================] - 2s 29us/step - loss: 1.0185e-06 - acc: 1.0000 - val_loss: 1.0887e-06 - val_acc: 1.0000\n",
            "Epoch 19/20\n",
            "60000/60000 [==============================] - 2s 26us/step - loss: 8.0296e-07 - acc: 1.0000 - val_loss: 8.7126e-07 - val_acc: 1.0000\n",
            "Epoch 20/20\n",
            "60000/60000 [==============================] - 2s 26us/step - loss: 6.3975e-07 - acc: 1.0000 - val_loss: 7.0290e-07 - val_acc: 1.0000\n",
            "Train on 60000 samples, validate on 10000 samples\n",
            "Epoch 1/20\n",
            "60000/60000 [==============================] - 7s 116us/step - loss: 0.0108 - acc: 0.9982 - val_loss: 4.2811e-07 - val_acc: 1.0000\n",
            "Epoch 2/20\n",
            "60000/60000 [==============================] - 6s 98us/step - loss: 3.9851e-07 - acc: 1.0000 - val_loss: 4.0881e-07 - val_acc: 1.0000\n",
            "Epoch 3/20\n",
            "60000/60000 [==============================] - 6s 95us/step - loss: 3.7699e-07 - acc: 1.0000 - val_loss: 3.8350e-07 - val_acc: 1.0000\n",
            "Epoch 4/20\n",
            "60000/60000 [==============================] - 6s 94us/step - loss: 3.3764e-07 - acc: 1.0000 - val_loss: 2.9048e-07 - val_acc: 1.0000\n",
            "Epoch 5/20\n",
            "60000/60000 [==============================] - 6s 93us/step - loss: 2.0417e-07 - acc: 1.0000 - val_loss: 1.6232e-07 - val_acc: 1.0000\n",
            "Epoch 6/20\n",
            "60000/60000 [==============================] - 5s 90us/step - loss: 1.4391e-07 - acc: 1.0000 - val_loss: 1.3643e-07 - val_acc: 1.0000\n",
            "Epoch 7/20\n",
            "60000/60000 [==============================] - 5s 87us/step - loss: 1.3064e-07 - acc: 1.0000 - val_loss: 1.2897e-07 - val_acc: 1.0000\n",
            "Epoch 8/20\n",
            "60000/60000 [==============================] - 6s 96us/step - loss: 1.2588e-07 - acc: 1.0000 - val_loss: 1.2524e-07 - val_acc: 1.0000\n",
            "Epoch 9/20\n",
            "60000/60000 [==============================] - 6s 98us/step - loss: 1.2360e-07 - acc: 1.0000 - val_loss: 1.2339e-07 - val_acc: 1.0000\n",
            "Epoch 10/20\n",
            "60000/60000 [==============================] - 6s 97us/step - loss: 1.2229e-07 - acc: 1.0000 - val_loss: 1.2228e-07 - val_acc: 1.0000\n",
            "Epoch 11/20\n",
            "60000/60000 [==============================] - 6s 98us/step - loss: 1.2151e-07 - acc: 1.0000 - val_loss: 1.2158e-07 - val_acc: 1.0000\n",
            "Epoch 12/20\n",
            "60000/60000 [==============================] - 6s 98us/step - loss: 1.2098e-07 - acc: 1.0000 - val_loss: 1.2107e-07 - val_acc: 1.0000\n",
            "Epoch 13/20\n",
            "60000/60000 [==============================] - 6s 95us/step - loss: 1.2061e-07 - acc: 1.0000 - val_loss: 1.2075e-07 - val_acc: 1.0000\n",
            "Epoch 14/20\n",
            "60000/60000 [==============================] - 5s 90us/step - loss: 1.2036e-07 - acc: 1.0000 - val_loss: 1.2047e-07 - val_acc: 1.0000\n",
            "Epoch 15/20\n",
            "60000/60000 [==============================] - 5s 91us/step - loss: 1.2016e-07 - acc: 1.0000 - val_loss: 1.2028e-07 - val_acc: 1.0000\n",
            "Epoch 16/20\n",
            "60000/60000 [==============================] - 5s 86us/step - loss: 1.2001e-07 - acc: 1.0000 - val_loss: 1.2013e-07 - val_acc: 1.0000\n",
            "Epoch 17/20\n",
            "60000/60000 [==============================] - 6s 92us/step - loss: 1.1988e-07 - acc: 1.0000 - val_loss: 1.1998e-07 - val_acc: 1.0000\n",
            "Epoch 18/20\n",
            "60000/60000 [==============================] - 6s 93us/step - loss: 1.1979e-07 - acc: 1.0000 - val_loss: 1.1989e-07 - val_acc: 1.0000\n",
            "Epoch 19/20\n",
            "60000/60000 [==============================] - 6s 93us/step - loss: 1.1971e-07 - acc: 1.0000 - val_loss: 1.1981e-07 - val_acc: 1.0000\n",
            "Epoch 20/20\n",
            "60000/60000 [==============================] - 6s 97us/step - loss: 1.1966e-07 - acc: 1.0000 - val_loss: 1.1976e-07 - val_acc: 1.0000\n",
            "Train on 60000 samples, validate on 10000 samples\n",
            "Epoch 1/20\n",
            "60000/60000 [==============================] - 5s 77us/step - loss: 0.0243 - acc: 0.9954 - val_loss: 1.4707e-05 - val_acc: 1.0000\n",
            "Epoch 2/20\n",
            "60000/60000 [==============================] - 3s 52us/step - loss: 7.4123e-06 - acc: 1.0000 - val_loss: 3.7184e-06 - val_acc: 1.0000\n",
            "Epoch 3/20\n",
            "60000/60000 [==============================] - 3s 50us/step - loss: 2.0927e-06 - acc: 1.0000 - val_loss: 1.3957e-06 - val_acc: 1.0000\n",
            "Epoch 4/20\n",
            "60000/60000 [==============================] - 3s 51us/step - loss: 9.0569e-07 - acc: 1.0000 - val_loss: 7.4054e-07 - val_acc: 1.0000\n",
            "Epoch 5/20\n",
            "60000/60000 [==============================] - 3s 50us/step - loss: 5.2204e-07 - acc: 1.0000 - val_loss: 4.7465e-07 - val_acc: 1.0000\n",
            "Epoch 6/20\n",
            "60000/60000 [==============================] - 3s 54us/step - loss: 3.5394e-07 - acc: 1.0000 - val_loss: 3.4022e-07 - val_acc: 1.0000\n",
            "Epoch 7/20\n",
            "60000/60000 [==============================] - 4s 63us/step - loss: 2.6707e-07 - acc: 1.0000 - val_loss: 2.6700e-07 - val_acc: 1.0000\n",
            "Epoch 8/20\n",
            "60000/60000 [==============================] - 4s 63us/step - loss: 2.1796e-07 - acc: 1.0000 - val_loss: 2.2200e-07 - val_acc: 1.0000\n",
            "Epoch 9/20\n",
            "60000/60000 [==============================] - 3s 51us/step - loss: 1.8737e-07 - acc: 1.0000 - val_loss: 1.9282e-07 - val_acc: 1.0000\n",
            "Epoch 10/20\n",
            "60000/60000 [==============================] - 3s 57us/step - loss: 1.6743e-07 - acc: 1.0000 - val_loss: 1.7316e-07 - val_acc: 1.0000\n",
            "Epoch 11/20\n",
            "60000/60000 [==============================] - 3s 51us/step - loss: 1.5394e-07 - acc: 1.0000 - val_loss: 1.5920e-07 - val_acc: 1.0000\n",
            "Epoch 12/20\n",
            "60000/60000 [==============================] - 3s 50us/step - loss: 1.4453e-07 - acc: 1.0000 - val_loss: 1.4928e-07 - val_acc: 1.0000\n",
            "Epoch 13/20\n",
            "60000/60000 [==============================] - 4s 64us/step - loss: 1.3803e-07 - acc: 1.0000 - val_loss: 1.4205e-07 - val_acc: 1.0000\n",
            "Epoch 14/20\n",
            "60000/60000 [==============================] - 4s 66us/step - loss: 1.3330e-07 - acc: 1.0000 - val_loss: 1.3686e-07 - val_acc: 1.0000\n",
            "Epoch 15/20\n",
            "60000/60000 [==============================] - 4s 65us/step - loss: 1.2985e-07 - acc: 1.0000 - val_loss: 1.3297e-07 - val_acc: 1.0000\n",
            "Epoch 16/20\n",
            "60000/60000 [==============================] - 4s 59us/step - loss: 1.2733e-07 - acc: 1.0000 - val_loss: 1.3004e-07 - val_acc: 1.0000\n",
            "Epoch 17/20\n",
            "60000/60000 [==============================] - 3s 51us/step - loss: 1.2541e-07 - acc: 1.0000 - val_loss: 1.2777e-07 - val_acc: 1.0000\n",
            "Epoch 18/20\n",
            "60000/60000 [==============================] - 3s 51us/step - loss: 1.2398e-07 - acc: 1.0000 - val_loss: 1.2605e-07 - val_acc: 1.0000\n",
            "Epoch 19/20\n",
            "60000/60000 [==============================] - 3s 51us/step - loss: 1.2295e-07 - acc: 1.0000 - val_loss: 1.2477e-07 - val_acc: 1.0000\n",
            "Epoch 20/20\n",
            "60000/60000 [==============================] - 3s 51us/step - loss: 1.2213e-07 - acc: 1.0000 - val_loss: 1.2375e-07 - val_acc: 1.0000\n",
            "Train on 60000 samples, validate on 10000 samples\n",
            "Epoch 1/20\n",
            "60000/60000 [==============================] - 3s 53us/step - loss: 0.0322 - acc: 0.9957 - val_loss: 1.1105e-05 - val_acc: 1.0000\n",
            "Epoch 2/20\n",
            "60000/60000 [==============================] - 2s 33us/step - loss: 2.2877e-06 - acc: 1.0000 - val_loss: 1.0453e-06 - val_acc: 1.0000\n",
            "Epoch 3/20\n",
            "60000/60000 [==============================] - 2s 33us/step - loss: 4.9070e-07 - acc: 1.0000 - val_loss: 5.0768e-07 - val_acc: 1.0000\n",
            "Epoch 4/20\n",
            "60000/60000 [==============================] - 2s 34us/step - loss: 2.8034e-07 - acc: 1.0000 - val_loss: 3.4017e-07 - val_acc: 1.0000\n",
            "Epoch 5/20\n",
            "60000/60000 [==============================] - 2s 38us/step - loss: 2.0717e-07 - acc: 1.0000 - val_loss: 2.6339e-07 - val_acc: 1.0000\n",
            "Epoch 6/20\n",
            "60000/60000 [==============================] - 2s 39us/step - loss: 1.7322e-07 - acc: 1.0000 - val_loss: 2.1917e-07 - val_acc: 1.0000\n",
            "Epoch 7/20\n",
            "60000/60000 [==============================] - 2s 34us/step - loss: 1.5477e-07 - acc: 1.0000 - val_loss: 1.9225e-07 - val_acc: 1.0000\n",
            "Epoch 8/20\n",
            "60000/60000 [==============================] - 2s 32us/step - loss: 1.4382e-07 - acc: 1.0000 - val_loss: 1.7426e-07 - val_acc: 1.0000\n",
            "Epoch 9/20\n",
            "60000/60000 [==============================] - 2s 33us/step - loss: 1.3674e-07 - acc: 1.0000 - val_loss: 1.6206e-07 - val_acc: 1.0000\n",
            "Epoch 10/20\n",
            "60000/60000 [==============================] - 2s 33us/step - loss: 1.3192e-07 - acc: 1.0000 - val_loss: 1.5241e-07 - val_acc: 1.0000\n",
            "Epoch 11/20\n",
            "60000/60000 [==============================] - 2s 33us/step - loss: 1.2860e-07 - acc: 1.0000 - val_loss: 1.4595e-07 - val_acc: 1.0000\n",
            "Epoch 12/20\n",
            "60000/60000 [==============================] - 2s 33us/step - loss: 1.2627e-07 - acc: 1.0000 - val_loss: 1.4026e-07 - val_acc: 1.0000\n",
            "Epoch 13/20\n",
            "60000/60000 [==============================] - 2s 32us/step - loss: 1.2456e-07 - acc: 1.0000 - val_loss: 1.3614e-07 - val_acc: 1.0000\n",
            "Epoch 14/20\n",
            "60000/60000 [==============================] - 2s 33us/step - loss: 1.2331e-07 - acc: 1.0000 - val_loss: 1.3309e-07 - val_acc: 1.0000\n",
            "Epoch 15/20\n",
            "60000/60000 [==============================] - 2s 32us/step - loss: 1.2240e-07 - acc: 1.0000 - val_loss: 1.3049e-07 - val_acc: 1.0000\n",
            "Epoch 16/20\n",
            "60000/60000 [==============================] - 2s 32us/step - loss: 1.2169e-07 - acc: 1.0000 - val_loss: 1.2854e-07 - val_acc: 1.0000\n",
            "Epoch 17/20\n",
            "60000/60000 [==============================] - 2s 32us/step - loss: 1.2115e-07 - acc: 1.0000 - val_loss: 1.2689e-07 - val_acc: 1.0000\n",
            "Epoch 18/20\n",
            "60000/60000 [==============================] - 2s 32us/step - loss: 1.2076e-07 - acc: 1.0000 - val_loss: 1.2563e-07 - val_acc: 1.0000\n",
            "Epoch 19/20\n",
            "60000/60000 [==============================] - 2s 32us/step - loss: 1.2046e-07 - acc: 1.0000 - val_loss: 1.2462e-07 - val_acc: 1.0000\n",
            "Epoch 20/20\n",
            "60000/60000 [==============================] - 2s 32us/step - loss: 1.2021e-07 - acc: 1.0000 - val_loss: 1.2379e-07 - val_acc: 1.0000\n",
            "Train on 60000 samples, validate on 10000 samples\n",
            "Epoch 1/20\n",
            "60000/60000 [==============================] - 3s 44us/step - loss: 0.0823 - acc: 0.9940 - val_loss: 9.4241e-04 - val_acc: 1.0000\n",
            "Epoch 2/20\n",
            "60000/60000 [==============================] - 1s 23us/step - loss: 4.8754e-04 - acc: 1.0000 - val_loss: 2.3810e-04 - val_acc: 1.0000\n",
            "Epoch 3/20\n",
            "60000/60000 [==============================] - 1s 24us/step - loss: 1.5525e-04 - acc: 1.0000 - val_loss: 1.0014e-04 - val_acc: 1.0000\n",
            "Epoch 4/20\n",
            "60000/60000 [==============================] - 1s 23us/step - loss: 7.1641e-05 - acc: 1.0000 - val_loss: 5.2316e-05 - val_acc: 1.0000\n",
            "Epoch 5/20\n",
            "60000/60000 [==============================] - 1s 23us/step - loss: 3.9060e-05 - acc: 1.0000 - val_loss: 3.0576e-05 - val_acc: 1.0000\n",
            "Epoch 6/20\n",
            "60000/60000 [==============================] - 1s 24us/step - loss: 2.3344e-05 - acc: 1.0000 - val_loss: 1.9175e-05 - val_acc: 1.0000\n",
            "Epoch 7/20\n",
            "60000/60000 [==============================] - 1s 24us/step - loss: 1.4866e-05 - acc: 1.0000 - val_loss: 1.2689e-05 - val_acc: 1.0000\n",
            "Epoch 8/20\n",
            "60000/60000 [==============================] - 1s 23us/step - loss: 9.8943e-06 - acc: 1.0000 - val_loss: 8.6879e-06 - val_acc: 1.0000\n",
            "Epoch 9/20\n",
            "60000/60000 [==============================] - 1s 24us/step - loss: 6.7924e-06 - acc: 1.0000 - val_loss: 6.1109e-06 - val_acc: 1.0000\n",
            "Epoch 10/20\n",
            "60000/60000 [==============================] - 1s 25us/step - loss: 4.7720e-06 - acc: 1.0000 - val_loss: 4.3824e-06 - val_acc: 1.0000\n",
            "Epoch 11/20\n",
            "60000/60000 [==============================] - 1s 25us/step - loss: 3.4185e-06 - acc: 1.0000 - val_loss: 3.2011e-06 - val_acc: 1.0000\n",
            "Epoch 12/20\n",
            "60000/60000 [==============================] - 1s 24us/step - loss: 2.4957e-06 - acc: 1.0000 - val_loss: 2.3875e-06 - val_acc: 1.0000\n",
            "Epoch 13/20\n",
            "60000/60000 [==============================] - 1s 23us/step - loss: 1.8495e-06 - acc: 1.0000 - val_loss: 1.7976e-06 - val_acc: 1.0000\n",
            "Epoch 14/20\n",
            "60000/60000 [==============================] - 1s 23us/step - loss: 1.3909e-06 - acc: 1.0000 - val_loss: 1.3745e-06 - val_acc: 1.0000\n",
            "Epoch 15/20\n",
            "60000/60000 [==============================] - 1s 23us/step - loss: 1.0590e-06 - acc: 1.0000 - val_loss: 1.0660e-06 - val_acc: 1.0000\n",
            "Epoch 16/20\n",
            "60000/60000 [==============================] - 1s 23us/step - loss: 8.1657e-07 - acc: 1.0000 - val_loss: 8.2921e-07 - val_acc: 1.0000\n",
            "Epoch 17/20\n",
            "60000/60000 [==============================] - 1s 24us/step - loss: 6.4077e-07 - acc: 1.0000 - val_loss: 6.6166e-07 - val_acc: 1.0000\n",
            "Epoch 18/20\n",
            "60000/60000 [==============================] - 1s 23us/step - loss: 5.1016e-07 - acc: 1.0000 - val_loss: 5.3044e-07 - val_acc: 1.0000\n",
            "Epoch 19/20\n",
            "60000/60000 [==============================] - 1s 25us/step - loss: 4.1245e-07 - acc: 1.0000 - val_loss: 4.3381e-07 - val_acc: 1.0000\n",
            "Epoch 20/20\n",
            "60000/60000 [==============================] - 1s 23us/step - loss: 3.3991e-07 - acc: 1.0000 - val_loss: 3.6104e-07 - val_acc: 1.0000\n",
            "Train on 60000 samples, validate on 10000 samples\n",
            "Epoch 1/20\n",
            "60000/60000 [==============================] - 6s 102us/step - loss: 0.0188 - acc: 0.9956 - val_loss: 4.0859e-05 - val_acc: 1.0000\n",
            "Epoch 2/20\n",
            "60000/60000 [==============================] - 5s 77us/step - loss: 1.8598e-05 - acc: 1.0000 - val_loss: 9.6812e-06 - val_acc: 1.0000\n",
            "Epoch 3/20\n",
            "60000/60000 [==============================] - 5s 77us/step - loss: 5.5753e-06 - acc: 1.0000 - val_loss: 4.1674e-06 - val_acc: 1.0000\n",
            "Epoch 4/20\n",
            "60000/60000 [==============================] - 5s 78us/step - loss: 2.5819e-06 - acc: 1.0000 - val_loss: 2.2812e-06 - val_acc: 1.0000\n",
            "Epoch 5/20\n",
            "60000/60000 [==============================] - 5s 81us/step - loss: 1.4659e-06 - acc: 1.0000 - val_loss: 1.4425e-06 - val_acc: 1.0000\n",
            "Epoch 6/20\n",
            "60000/60000 [==============================] - 5s 82us/step - loss: 9.4352e-07 - acc: 1.0000 - val_loss: 9.9761e-07 - val_acc: 1.0000\n",
            "Epoch 7/20\n",
            "60000/60000 [==============================] - 5s 83us/step - loss: 6.5789e-07 - acc: 1.0000 - val_loss: 7.2841e-07 - val_acc: 1.0000\n",
            "Epoch 8/20\n",
            "60000/60000 [==============================] - 5s 82us/step - loss: 4.8600e-07 - acc: 1.0000 - val_loss: 5.5805e-07 - val_acc: 1.0000\n",
            "Epoch 9/20\n",
            "60000/60000 [==============================] - 5s 81us/step - loss: 3.7631e-07 - acc: 1.0000 - val_loss: 4.4381e-07 - val_acc: 1.0000\n",
            "Epoch 10/20\n",
            "60000/60000 [==============================] - 5s 80us/step - loss: 3.0326e-07 - acc: 1.0000 - val_loss: 3.6071e-07 - val_acc: 1.0000\n",
            "Epoch 11/20\n",
            "60000/60000 [==============================] - 5s 82us/step - loss: 2.5318e-07 - acc: 1.0000 - val_loss: 3.0266e-07 - val_acc: 1.0000\n",
            "Epoch 12/20\n",
            "60000/60000 [==============================] - 5s 80us/step - loss: 2.1818e-07 - acc: 1.0000 - val_loss: 2.6135e-07 - val_acc: 1.0000\n",
            "Epoch 13/20\n",
            "60000/60000 [==============================] - 5s 77us/step - loss: 1.9313e-07 - acc: 1.0000 - val_loss: 2.2886e-07 - val_acc: 1.0000\n",
            "Epoch 14/20\n",
            "60000/60000 [==============================] - 5s 77us/step - loss: 1.7486e-07 - acc: 1.0000 - val_loss: 2.0554e-07 - val_acc: 1.0000\n",
            "Epoch 15/20\n",
            "60000/60000 [==============================] - 5s 77us/step - loss: 1.6148e-07 - acc: 1.0000 - val_loss: 1.8750e-07 - val_acc: 1.0000\n",
            "Epoch 16/20\n",
            "60000/60000 [==============================] - 5s 76us/step - loss: 1.5162e-07 - acc: 1.0000 - val_loss: 1.7353e-07 - val_acc: 1.0000\n",
            "Epoch 17/20\n",
            "60000/60000 [==============================] - 5s 76us/step - loss: 1.4412e-07 - acc: 1.0000 - val_loss: 1.6261e-07 - val_acc: 1.0000\n",
            "Epoch 18/20\n",
            "60000/60000 [==============================] - 5s 75us/step - loss: 1.3849e-07 - acc: 1.0000 - val_loss: 1.5400e-07 - val_acc: 1.0000\n",
            "Epoch 19/20\n",
            "60000/60000 [==============================] - 5s 77us/step - loss: 1.3422e-07 - acc: 1.0000 - val_loss: 1.4760e-07 - val_acc: 1.0000\n",
            "Epoch 20/20\n",
            "60000/60000 [==============================] - 5s 78us/step - loss: 1.3097e-07 - acc: 1.0000 - val_loss: 1.4221e-07 - val_acc: 1.0000\n",
            "Train on 60000 samples, validate on 10000 samples\n",
            "Epoch 1/20\n",
            "60000/60000 [==============================] - 5s 82us/step - loss: 0.0148 - acc: 0.9979 - val_loss: 3.6851e-05 - val_acc: 1.0000\n",
            "Epoch 2/20\n",
            "60000/60000 [==============================] - 3s 56us/step - loss: 1.7000e-05 - acc: 1.0000 - val_loss: 8.5477e-06 - val_acc: 1.0000\n",
            "Epoch 3/20\n",
            "60000/60000 [==============================] - 3s 50us/step - loss: 5.1816e-06 - acc: 1.0000 - val_loss: 3.7489e-06 - val_acc: 1.0000\n",
            "Epoch 4/20\n",
            "60000/60000 [==============================] - 3s 49us/step - loss: 2.4765e-06 - acc: 1.0000 - val_loss: 2.0857e-06 - val_acc: 1.0000\n",
            "Epoch 5/20\n",
            "60000/60000 [==============================] - 3s 49us/step - loss: 1.4295e-06 - acc: 1.0000 - val_loss: 1.3182e-06 - val_acc: 1.0000\n",
            "Epoch 6/20\n",
            "60000/60000 [==============================] - 3s 47us/step - loss: 9.2361e-07 - acc: 1.0000 - val_loss: 9.0895e-07 - val_acc: 1.0000\n",
            "Epoch 7/20\n",
            "60000/60000 [==============================] - 3s 49us/step - loss: 6.4674e-07 - acc: 1.0000 - val_loss: 6.6457e-07 - val_acc: 1.0000\n",
            "Epoch 8/20\n",
            "60000/60000 [==============================] - 3s 48us/step - loss: 4.8053e-07 - acc: 1.0000 - val_loss: 5.1069e-07 - val_acc: 1.0000\n",
            "Epoch 9/20\n",
            "60000/60000 [==============================] - 3s 51us/step - loss: 3.7454e-07 - acc: 1.0000 - val_loss: 4.0897e-07 - val_acc: 1.0000\n",
            "Epoch 10/20\n",
            "60000/60000 [==============================] - 3s 49us/step - loss: 3.0285e-07 - acc: 1.0000 - val_loss: 3.3477e-07 - val_acc: 1.0000\n",
            "Epoch 11/20\n",
            "60000/60000 [==============================] - 3s 48us/step - loss: 2.5333e-07 - acc: 1.0000 - val_loss: 2.8237e-07 - val_acc: 1.0000\n",
            "Epoch 12/20\n",
            "60000/60000 [==============================] - 3s 47us/step - loss: 2.1862e-07 - acc: 1.0000 - val_loss: 2.4435e-07 - val_acc: 1.0000\n",
            "Epoch 13/20\n",
            "60000/60000 [==============================] - 3s 48us/step - loss: 1.9342e-07 - acc: 1.0000 - val_loss: 2.1599e-07 - val_acc: 1.0000\n",
            "Epoch 14/20\n",
            "60000/60000 [==============================] - 3s 47us/step - loss: 1.7519e-07 - acc: 1.0000 - val_loss: 1.9464e-07 - val_acc: 1.0000\n",
            "Epoch 15/20\n",
            "60000/60000 [==============================] - 3s 47us/step - loss: 1.6170e-07 - acc: 1.0000 - val_loss: 1.7849e-07 - val_acc: 1.0000\n",
            "Epoch 16/20\n",
            "60000/60000 [==============================] - 3s 48us/step - loss: 1.5163e-07 - acc: 1.0000 - val_loss: 1.6592e-07 - val_acc: 1.0000\n",
            "Epoch 17/20\n",
            "60000/60000 [==============================] - 3s 47us/step - loss: 1.4414e-07 - acc: 1.0000 - val_loss: 1.5649e-07 - val_acc: 1.0000\n",
            "Epoch 18/20\n",
            "60000/60000 [==============================] - 3s 48us/step - loss: 1.3840e-07 - acc: 1.0000 - val_loss: 1.4888e-07 - val_acc: 1.0000\n",
            "Epoch 19/20\n",
            "60000/60000 [==============================] - 3s 47us/step - loss: 1.3407e-07 - acc: 1.0000 - val_loss: 1.4299e-07 - val_acc: 1.0000\n",
            "Epoch 20/20\n",
            "60000/60000 [==============================] - 3s 48us/step - loss: 1.3080e-07 - acc: 1.0000 - val_loss: 1.3840e-07 - val_acc: 1.0000\n",
            "Train on 60000 samples, validate on 10000 samples\n",
            "Epoch 1/20\n",
            "60000/60000 [==============================] - 4s 60us/step - loss: 0.0315 - acc: 0.9946 - val_loss: 4.1823e-04 - val_acc: 1.0000\n",
            "Epoch 2/20\n",
            "60000/60000 [==============================] - 2s 37us/step - loss: 2.3255e-04 - acc: 1.0000 - val_loss: 1.2957e-04 - val_acc: 1.0000\n",
            "Epoch 3/20\n",
            "60000/60000 [==============================] - 2s 35us/step - loss: 8.7547e-05 - acc: 1.0000 - val_loss: 6.1801e-05 - val_acc: 1.0000\n",
            "Epoch 4/20\n",
            "60000/60000 [==============================] - 2s 33us/step - loss: 4.4723e-05 - acc: 1.0000 - val_loss: 3.5361e-05 - val_acc: 1.0000\n",
            "Epoch 5/20\n",
            "60000/60000 [==============================] - 2s 35us/step - loss: 2.6342e-05 - acc: 1.0000 - val_loss: 2.2245e-05 - val_acc: 1.0000\n",
            "Epoch 6/20\n",
            "60000/60000 [==============================] - 2s 33us/step - loss: 1.6840e-05 - acc: 1.0000 - val_loss: 1.5037e-05 - val_acc: 1.0000\n",
            "Epoch 7/20\n",
            "60000/60000 [==============================] - 2s 31us/step - loss: 1.1362e-05 - acc: 1.0000 - val_loss: 1.0562e-05 - val_acc: 1.0000\n",
            "Epoch 8/20\n",
            "60000/60000 [==============================] - 2s 30us/step - loss: 7.9522e-06 - acc: 1.0000 - val_loss: 7.6573e-06 - val_acc: 1.0000\n",
            "Epoch 9/20\n",
            "60000/60000 [==============================] - 2s 31us/step - loss: 5.7046e-06 - acc: 1.0000 - val_loss: 5.6955e-06 - val_acc: 1.0000\n",
            "Epoch 10/20\n",
            "60000/60000 [==============================] - 2s 34us/step - loss: 4.1783e-06 - acc: 1.0000 - val_loss: 4.3160e-06 - val_acc: 1.0000\n",
            "Epoch 11/20\n",
            "60000/60000 [==============================] - 2s 33us/step - loss: 3.1045e-06 - acc: 1.0000 - val_loss: 3.2898e-06 - val_acc: 1.0000\n",
            "Epoch 12/20\n",
            "60000/60000 [==============================] - 2s 33us/step - loss: 2.3374e-06 - acc: 1.0000 - val_loss: 2.5469e-06 - val_acc: 1.0000\n",
            "Epoch 13/20\n",
            "60000/60000 [==============================] - 2s 33us/step - loss: 1.7803e-06 - acc: 1.0000 - val_loss: 1.9973e-06 - val_acc: 1.0000\n",
            "Epoch 14/20\n",
            "60000/60000 [==============================] - 2s 32us/step - loss: 1.3705e-06 - acc: 1.0000 - val_loss: 1.5739e-06 - val_acc: 1.0000\n",
            "Epoch 15/20\n",
            "60000/60000 [==============================] - 2s 34us/step - loss: 1.0653e-06 - acc: 1.0000 - val_loss: 1.2558e-06 - val_acc: 1.0000\n",
            "Epoch 16/20\n",
            "60000/60000 [==============================] - 2s 33us/step - loss: 8.3732e-07 - acc: 1.0000 - val_loss: 1.0115e-06 - val_acc: 1.0000\n",
            "Epoch 17/20\n",
            "60000/60000 [==============================] - 2s 33us/step - loss: 6.6625e-07 - acc: 1.0000 - val_loss: 8.2268e-07 - val_acc: 1.0000\n",
            "Epoch 18/20\n",
            "60000/60000 [==============================] - 2s 35us/step - loss: 5.3786e-07 - acc: 1.0000 - val_loss: 6.7741e-07 - val_acc: 1.0000\n",
            "Epoch 19/20\n",
            "60000/60000 [==============================] - 2s 37us/step - loss: 4.3977e-07 - acc: 1.0000 - val_loss: 5.6298e-07 - val_acc: 1.0000\n",
            "Epoch 20/20\n",
            "60000/60000 [==============================] - 2s 38us/step - loss: 3.6502e-07 - acc: 1.0000 - val_loss: 4.7242e-07 - val_acc: 1.0000\n",
            "Train on 60000 samples, validate on 10000 samples\n",
            "Epoch 1/20\n",
            "60000/60000 [==============================] - 3s 48us/step - loss: 0.0547 - acc: 0.9953 - val_loss: 0.0016 - val_acc: 1.0000\n",
            "Epoch 2/20\n",
            "60000/60000 [==============================] - 1s 23us/step - loss: 9.4187e-04 - acc: 1.0000 - val_loss: 5.2167e-04 - val_acc: 1.0000\n",
            "Epoch 3/20\n",
            "60000/60000 [==============================] - 1s 24us/step - loss: 3.7084e-04 - acc: 1.0000 - val_loss: 2.5916e-04 - val_acc: 1.0000\n",
            "Epoch 4/20\n",
            "60000/60000 [==============================] - 1s 24us/step - loss: 1.9767e-04 - acc: 1.0000 - val_loss: 1.5266e-04 - val_acc: 1.0000\n",
            "Epoch 5/20\n",
            "60000/60000 [==============================] - 1s 23us/step - loss: 1.2062e-04 - acc: 1.0000 - val_loss: 9.9087e-05 - val_acc: 1.0000\n",
            "Epoch 6/20\n",
            "60000/60000 [==============================] - 1s 24us/step - loss: 7.9410e-05 - acc: 1.0000 - val_loss: 6.8112e-05 - val_acc: 1.0000\n",
            "Epoch 7/20\n",
            "60000/60000 [==============================] - 1s 24us/step - loss: 5.4810e-05 - acc: 1.0000 - val_loss: 4.8586e-05 - val_acc: 1.0000\n",
            "Epoch 8/20\n",
            "60000/60000 [==============================] - 1s 23us/step - loss: 3.9064e-05 - acc: 1.0000 - val_loss: 3.5572e-05 - val_acc: 1.0000\n",
            "Epoch 9/20\n",
            "60000/60000 [==============================] - 1s 23us/step - loss: 2.8521e-05 - acc: 1.0000 - val_loss: 2.6621e-05 - val_acc: 1.0000\n",
            "Epoch 10/20\n",
            "60000/60000 [==============================] - 1s 23us/step - loss: 2.1198e-05 - acc: 1.0000 - val_loss: 2.0266e-05 - val_acc: 1.0000\n",
            "Epoch 11/20\n",
            "60000/60000 [==============================] - 1s 23us/step - loss: 1.5940e-05 - acc: 1.0000 - val_loss: 1.5558e-05 - val_acc: 1.0000\n",
            "Epoch 12/20\n",
            "60000/60000 [==============================] - 1s 24us/step - loss: 1.2102e-05 - acc: 1.0000 - val_loss: 1.2038e-05 - val_acc: 1.0000\n",
            "Epoch 13/20\n",
            "60000/60000 [==============================] - 1s 23us/step - loss: 9.2520e-06 - acc: 1.0000 - val_loss: 9.3887e-06 - val_acc: 1.0000\n",
            "Epoch 14/20\n",
            "60000/60000 [==============================] - 1s 23us/step - loss: 7.1223e-06 - acc: 1.0000 - val_loss: 7.3996e-06 - val_acc: 1.0000\n",
            "Epoch 15/20\n",
            "60000/60000 [==============================] - 1s 23us/step - loss: 5.5102e-06 - acc: 1.0000 - val_loss: 5.8415e-06 - val_acc: 1.0000\n",
            "Epoch 16/20\n",
            "60000/60000 [==============================] - 1s 23us/step - loss: 4.2779e-06 - acc: 1.0000 - val_loss: 4.6294e-06 - val_acc: 1.0000\n",
            "Epoch 17/20\n",
            "60000/60000 [==============================] - 1s 23us/step - loss: 3.3364e-06 - acc: 1.0000 - val_loss: 3.6916e-06 - val_acc: 1.0000\n",
            "Epoch 18/20\n",
            "60000/60000 [==============================] - 1s 24us/step - loss: 2.6183e-06 - acc: 1.0000 - val_loss: 2.9621e-06 - val_acc: 1.0000\n",
            "Epoch 19/20\n",
            "60000/60000 [==============================] - 1s 23us/step - loss: 2.0614e-06 - acc: 1.0000 - val_loss: 2.3804e-06 - val_acc: 1.0000\n",
            "Epoch 20/20\n",
            "60000/60000 [==============================] - 1s 23us/step - loss: 1.6302e-06 - acc: 1.0000 - val_loss: 1.9319e-06 - val_acc: 1.0000\n"
          ],
          "name": "stdout"
        },
        {
          "output_type": "execute_result",
          "data": {
            "text/html": [
              "<div>\n",
              "<style scoped>\n",
              "    .dataframe tbody tr th:only-of-type {\n",
              "        vertical-align: middle;\n",
              "    }\n",
              "\n",
              "    .dataframe tbody tr th {\n",
              "        vertical-align: top;\n",
              "    }\n",
              "\n",
              "    .dataframe thead th {\n",
              "        text-align: right;\n",
              "    }\n",
              "</style>\n",
              "<table border=\"1\" class=\"dataframe\">\n",
              "  <thead>\n",
              "    <tr style=\"text-align: right;\">\n",
              "      <th></th>\n",
              "      <th>Architecture</th>\n",
              "      <th>Epoch time</th>\n",
              "      <th>Accuracy Train</th>\n",
              "      <th>Accuracy Test</th>\n",
              "      <th>Loss Train</th>\n",
              "      <th>Loss Test</th>\n",
              "    </tr>\n",
              "  </thead>\n",
              "  <tbody>\n",
              "    <tr>\n",
              "      <th>0</th>\n",
              "      <td>784-256-256-256-256-2</td>\n",
              "      <td>1secs</td>\n",
              "      <td>1.0</td>\n",
              "      <td>1.0</td>\n",
              "      <td>1.1920928955078125e-07</td>\n",
              "      <td>1.1920928955078125e-07</td>\n",
              "    </tr>\n",
              "    <tr>\n",
              "      <th>1</th>\n",
              "      <td>784-128-128-128-128-2</td>\n",
              "      <td>1secs</td>\n",
              "      <td>1.0</td>\n",
              "      <td>1.0</td>\n",
              "      <td>1.199682575437085e-07</td>\n",
              "      <td>1.1942386636292213e-07</td>\n",
              "    </tr>\n",
              "    <tr>\n",
              "      <th>2</th>\n",
              "      <td>784-64-64-64-64-2</td>\n",
              "      <td>1secs</td>\n",
              "      <td>1.0</td>\n",
              "      <td>1.0</td>\n",
              "      <td>1.2025038532404627e-07</td>\n",
              "      <td>1.2082457969881945e-07</td>\n",
              "    </tr>\n",
              "    <tr>\n",
              "      <th>3</th>\n",
              "      <td>784-12-12-12-12-2</td>\n",
              "      <td>1secs</td>\n",
              "      <td>1.0</td>\n",
              "      <td>1.0</td>\n",
              "      <td>1.4509509328490822e-07</td>\n",
              "      <td>1.517779495316063e-07</td>\n",
              "    </tr>\n",
              "    <tr>\n",
              "      <th>4</th>\n",
              "      <td>784-256-256-256-2</td>\n",
              "      <td>1secs</td>\n",
              "      <td>1.0</td>\n",
              "      <td>1.0</td>\n",
              "      <td>1.1928478880539236e-07</td>\n",
              "      <td>1.1928081516998645e-07</td>\n",
              "    </tr>\n",
              "    <tr>\n",
              "      <th>5</th>\n",
              "      <td>784-128-128-128-2</td>\n",
              "      <td>1secs</td>\n",
              "      <td>1.0</td>\n",
              "      <td>1.0</td>\n",
              "      <td>1.2095173860871e-07</td>\n",
              "      <td>1.206219245432294e-07</td>\n",
              "    </tr>\n",
              "    <tr>\n",
              "      <th>6</th>\n",
              "      <td>784-64-64-64-2</td>\n",
              "      <td>1secs</td>\n",
              "      <td>1.0</td>\n",
              "      <td>1.0</td>\n",
              "      <td>1.2006759756483612e-07</td>\n",
              "      <td>1.2333991935520318e-07</td>\n",
              "    </tr>\n",
              "    <tr>\n",
              "      <th>7</th>\n",
              "      <td>784-12-12-12-2</td>\n",
              "      <td>1secs</td>\n",
              "      <td>1.0</td>\n",
              "      <td>1.0</td>\n",
              "      <td>5.698952008970082e-07</td>\n",
              "      <td>7.028974341665162e-07</td>\n",
              "    </tr>\n",
              "    <tr>\n",
              "      <th>8</th>\n",
              "      <td>784-256-256-2</td>\n",
              "      <td>1secs</td>\n",
              "      <td>1.0</td>\n",
              "      <td>1.0</td>\n",
              "      <td>1.1962652273875088e-07</td>\n",
              "      <td>1.1975765355600743e-07</td>\n",
              "    </tr>\n",
              "    <tr>\n",
              "      <th>9</th>\n",
              "      <td>784-128-128-2</td>\n",
              "      <td>1secs</td>\n",
              "      <td>1.0</td>\n",
              "      <td>1.0</td>\n",
              "      <td>1.2181302442210533e-07</td>\n",
              "      <td>1.2374522316349611e-07</td>\n",
              "    </tr>\n",
              "    <tr>\n",
              "      <th>10</th>\n",
              "      <td>784-64-64-2</td>\n",
              "      <td>1secs</td>\n",
              "      <td>1.0</td>\n",
              "      <td>1.0</td>\n",
              "      <td>1.201023677519212e-07</td>\n",
              "      <td>1.2378696451378345e-07</td>\n",
              "    </tr>\n",
              "    <tr>\n",
              "      <th>11</th>\n",
              "      <td>784-12-12-2</td>\n",
              "      <td>1secs</td>\n",
              "      <td>1.0</td>\n",
              "      <td>1.0</td>\n",
              "      <td>3.0986857451959317e-07</td>\n",
              "      <td>3.6104356809119054e-07</td>\n",
              "    </tr>\n",
              "    <tr>\n",
              "      <th>12</th>\n",
              "      <td>784-256-2</td>\n",
              "      <td>1secs</td>\n",
              "      <td>1.0</td>\n",
              "      <td>1.0</td>\n",
              "      <td>1.2958254590860938e-07</td>\n",
              "      <td>1.4220517505236786e-07</td>\n",
              "    </tr>\n",
              "    <tr>\n",
              "      <th>13</th>\n",
              "      <td>784-128-2</td>\n",
              "      <td>1secs</td>\n",
              "      <td>1.0</td>\n",
              "      <td>1.0</td>\n",
              "      <td>1.2938784180581328e-07</td>\n",
              "      <td>1.38396340298641e-07</td>\n",
              "    </tr>\n",
              "    <tr>\n",
              "      <th>14</th>\n",
              "      <td>784-64-2</td>\n",
              "      <td>1secs</td>\n",
              "      <td>1.0</td>\n",
              "      <td>1.0</td>\n",
              "      <td>3.333180156005255e-07</td>\n",
              "      <td>4.7241672800737436e-07</td>\n",
              "    </tr>\n",
              "    <tr>\n",
              "      <th>15</th>\n",
              "      <td>784-12-2</td>\n",
              "      <td>1secs</td>\n",
              "      <td>1.0</td>\n",
              "      <td>1.0</td>\n",
              "      <td>1.4496984953363305e-06</td>\n",
              "      <td>1.931938025472846e-06</td>\n",
              "    </tr>\n",
              "  </tbody>\n",
              "</table>\n",
              "</div>"
            ],
            "text/plain": [
              "             Architecture Epoch time Accuracy Train Accuracy Test  \\\n",
              "0   784-256-256-256-256-2      1secs            1.0           1.0   \n",
              "1   784-128-128-128-128-2      1secs            1.0           1.0   \n",
              "2       784-64-64-64-64-2      1secs            1.0           1.0   \n",
              "3       784-12-12-12-12-2      1secs            1.0           1.0   \n",
              "4       784-256-256-256-2      1secs            1.0           1.0   \n",
              "5       784-128-128-128-2      1secs            1.0           1.0   \n",
              "6          784-64-64-64-2      1secs            1.0           1.0   \n",
              "7          784-12-12-12-2      1secs            1.0           1.0   \n",
              "8           784-256-256-2      1secs            1.0           1.0   \n",
              "9           784-128-128-2      1secs            1.0           1.0   \n",
              "10            784-64-64-2      1secs            1.0           1.0   \n",
              "11            784-12-12-2      1secs            1.0           1.0   \n",
              "12              784-256-2      1secs            1.0           1.0   \n",
              "13              784-128-2      1secs            1.0           1.0   \n",
              "14               784-64-2      1secs            1.0           1.0   \n",
              "15               784-12-2      1secs            1.0           1.0   \n",
              "\n",
              "                Loss Train               Loss Test  \n",
              "0   1.1920928955078125e-07  1.1920928955078125e-07  \n",
              "1    1.199682575437085e-07  1.1942386636292213e-07  \n",
              "2   1.2025038532404627e-07  1.2082457969881945e-07  \n",
              "3   1.4509509328490822e-07   1.517779495316063e-07  \n",
              "4   1.1928478880539236e-07  1.1928081516998645e-07  \n",
              "5      1.2095173860871e-07   1.206219245432294e-07  \n",
              "6   1.2006759756483612e-07  1.2333991935520318e-07  \n",
              "7    5.698952008970082e-07   7.028974341665162e-07  \n",
              "8   1.1962652273875088e-07  1.1975765355600743e-07  \n",
              "9   1.2181302442210533e-07  1.2374522316349611e-07  \n",
              "10   1.201023677519212e-07  1.2378696451378345e-07  \n",
              "11  3.0986857451959317e-07  3.6104356809119054e-07  \n",
              "12  1.2958254590860938e-07  1.4220517505236786e-07  \n",
              "13  1.2938784180581328e-07    1.38396340298641e-07  \n",
              "14   3.333180156005255e-07  4.7241672800737436e-07  \n",
              "15  1.4496984953363305e-06   1.931938025472846e-06  "
            ]
          },
          "metadata": {
            "tags": []
          },
          "execution_count": 81
        }
      ]
    },
    {
      "cell_type": "markdown",
      "metadata": {
        "id": "bgg4IVpbfeZ9",
        "colab_type": "text"
      },
      "source": [
        "# Building CNN model"
      ]
    },
    {
      "cell_type": "markdown",
      "metadata": {
        "id": "14B_Jf-yfeZ-",
        "colab_type": "text"
      },
      "source": [
        "## Load MNIST data"
      ]
    },
    {
      "cell_type": "code",
      "metadata": {
        "id": "lZgVJL4FfeaA",
        "colab_type": "code",
        "colab": {}
      },
      "source": [
        "# load MNIST data\n",
        "from sklearn.model_selection import train_test_split\n",
        "(X_train, y_train), (X_test, y_test) = mnist.load_data()\n",
        "X_train, X_valid, y_train, y_valid = train_test_split(X_train, y_train, test_size=0.20, random_state=42)\n",
        "img_rows, img_cols = 28, 28\n",
        "number_of_classes = 10\n",
        "print(f\"X before flatten train      shape: {X_train.shape}\")\n",
        "print(f\"X before flatten validation shape: {X_valid.shape}\")\n",
        "print(f\"X before flatten test       shape: {X_test.shape}\")\n",
        "\n",
        "#Tensorflow prefers to work with float32 data type. \n",
        "#So the next step is to cast data. \n",
        "# Also let's have our data in [0; 1]interval; it's common choice for grayscale images.\n",
        "\n",
        "X_train = X_train.astype('float32')\n",
        "X_valid = X_valid.astype('float32')\n",
        "X_test = X_test.astype('float32')\n",
        "X_train /= 255\n",
        "X_valid /= 255\n",
        "X_test /= 255\n",
        "print(f\"X train      shape: {X_train.shape}, {y_train.shape}\")\n",
        "print(f\"X validation shape: {X_valid.shape},  {y_valid.shape}\")\n",
        "print(f\"X test       shape: {X_test.shape},  {y_test.shape}\")"
      ],
      "execution_count": 0,
      "outputs": []
    },
    {
      "cell_type": "markdown",
      "metadata": {
        "id": "bij5pnuXfeaC",
        "colab_type": "text"
      },
      "source": [
        "### Input image Data reshaping 28x28x1"
      ]
    },
    {
      "cell_type": "markdown",
      "metadata": {
        "id": "OuttMKFjfeaC",
        "colab_type": "text"
      },
      "source": [
        "First of all, let's predefine image parameters:\n",
        "* **img_rows, img_cols** $-$ 2D dimension of a pictures; for MNIST it is $28 \\times 28$\n",
        "* **nb_classes** $-$ number of classes (digits in our case)"
      ]
    },
    {
      "cell_type": "code",
      "metadata": {
        "id": "WQnhxmXqfeaD",
        "colab_type": "code",
        "colab": {}
      },
      "source": [
        "img_rows, img_cols = 28, 28\n",
        "nb_classes = 10"
      ],
      "execution_count": 0,
      "outputs": []
    },
    {
      "cell_type": "markdown",
      "metadata": {
        "id": "WYHDDIqofeaG",
        "colab_type": "text"
      },
      "source": [
        "Theano and Tensorflow both are tensor-based libraries. It means that all objects inside it, all inputs and outputs are **tensors**. One can treat tensor as a simple multidimensional array."
      ]
    },
    {
      "cell_type": "markdown",
      "metadata": {
        "id": "IdgzURTEfeaH",
        "colab_type": "text"
      },
      "source": [
        "The thing that is different in Theano and Tensorflow is order of these dimensions inside tensor.\n",
        "\n",
        "With Theano yo're going to have 4-dimensional tensor with the following dimensions: **(Objects, Channels, Image rows,Image columns)**. Assume that $\\text{X_train}$ is our tensor. Then $\\text{X_train}[0]$ gives you one trainig object - it is an image with few channels in general case. $\\text{X_train}[0][0]$ gives you the first channel of the first object. And so on. The logic of tensors should be clear now.\n",
        "\n",
        "In Tensorflow the order is the following: **(Objects, Image rows,Image columns, Channels)**\n",
        "\n",
        "Thus we need to check what dimension order do we have and reshape our tensor in accordance with it:"
      ]
    },
    {
      "cell_type": "code",
      "metadata": {
        "id": "S1EOoSrKfeaH",
        "colab_type": "code",
        "colab": {}
      },
      "source": [
        "if K.image_dim_ordering() == 'th':\n",
        "    X_train = X_train.reshape(X_train.shape[0], 1, img_rows, img_cols)\n",
        "    X_valid = X_valid.reshape(X_valid.shape[0], 1, img_rows, img_cols)\n",
        "    X_test  = X_test.reshape( X_test.shape[0],  1, img_rows, img_cols)\n",
        "    input_shape = (1, img_rows, img_cols)\n",
        "else:\n",
        "    X_train = X_train.reshape(X_train.shape[0], img_rows, img_cols, 1)\n",
        "    X_valid = X_valid.reshape(X_valid.shape[0], img_rows, img_cols, 1)\n",
        "    X_test = X_test.reshape(X_test.shape[0], img_rows, img_cols, 1)\n",
        "    input_shape = (img_rows, img_cols, 1)"
      ],
      "execution_count": 0,
      "outputs": []
    },
    {
      "cell_type": "markdown",
      "metadata": {
        "id": "JoxWX0uAfeaK",
        "colab_type": "text"
      },
      "source": [
        "### Setup the MNIST Target data (OHE)\n",
        "Setup the MNIST data. Here we use  **digits 0 to 9**. "
      ]
    },
    {
      "cell_type": "markdown",
      "metadata": {
        "id": "IKevExHmfeaM",
        "colab_type": "text"
      },
      "source": [
        "Convert labels into [One-Hot Encoding](https://en.wikipedia.org/wiki/One-hot) because we're going to learn them through the softmax layer of CNN"
      ]
    },
    {
      "cell_type": "code",
      "metadata": {
        "id": "1f9IakJYfeaM",
        "colab_type": "code",
        "colab": {}
      },
      "source": [
        "y_train = to_categorical(y_train, number_of_classes)\n",
        "y_valid = to_categorical(y_valid, number_of_classes)\n",
        "y_test  = to_categorical(y_test, number_of_classes)"
      ],
      "execution_count": 0,
      "outputs": []
    },
    {
      "cell_type": "code",
      "metadata": {
        "id": "rPfM8MkRfeaP",
        "colab_type": "code",
        "colab": {}
      },
      "source": [
        "print(f\"X train      shape: {X_train.shape}, {y_train.shape}\")\n",
        "print(f\"X validation shape: {X_valid.shape},  {y_valid.shape}\")\n",
        "print(f\"X test       shape: {X_test.shape},  {y_test.shape}\")"
      ],
      "execution_count": 0,
      "outputs": []
    },
    {
      "cell_type": "code",
      "metadata": {
        "id": "kotfekbOfeaS",
        "colab_type": "code",
        "colab": {}
      },
      "source": [
        ""
      ],
      "execution_count": 0,
      "outputs": []
    },
    {
      "cell_type": "markdown",
      "metadata": {
        "id": "pbeL6DLHfeaV",
        "colab_type": "text"
      },
      "source": [
        "## Lay out the CNN Architecture"
      ]
    },
    {
      "cell_type": "markdown",
      "metadata": {
        "id": "qL6iFrGzfeaY",
        "colab_type": "text"
      },
      "source": [
        "Now it's time to build the model step-by-step"
      ]
    },
    {
      "cell_type": "code",
      "metadata": {
        "id": "ki6dZsRxfeaZ",
        "colab_type": "code",
        "colab": {}
      },
      "source": [
        "model_cnn = Sequential()"
      ],
      "execution_count": 0,
      "outputs": []
    },
    {
      "cell_type": "markdown",
      "metadata": {
        "id": "wJ6Dhdyafeag",
        "colab_type": "text"
      },
      "source": [
        "Out model is going to be *Sequential* which means that every new added layer will be automatically connected to the previous one."
      ]
    },
    {
      "cell_type": "markdown",
      "metadata": {
        "id": "l-o8EWh1feag",
        "colab_type": "text"
      },
      "source": [
        "Firstly, let's define hyperparameters of the network:\n",
        "* **filters** $-$ number of filters (or kernels) to use in every layer; in fact this is the same as having multiple channels in the image\n",
        "* **pool_size** $-$ size of the pooling window\n",
        "* **kernel_size** $-$ size of the convolutional filters"
      ]
    },
    {
      "cell_type": "code",
      "metadata": {
        "id": "eKLL-cspfeah",
        "colab_type": "code",
        "colab": {}
      },
      "source": [
        "filters = 32\n",
        "kernel_size = (3, 3)\n",
        "pool_size = (2, 2)"
      ],
      "execution_count": 0,
      "outputs": []
    },
    {
      "cell_type": "markdown",
      "metadata": {
        "id": "v7RasV8Ufeal",
        "colab_type": "text"
      },
      "source": [
        "Now let's add first layer of the network. It is 2D Convolutional layer. Only unexplained thing here is *padding*. This is the parameter that defines how should we pad the data after applying convolutions. $\\text{padding} = \\text{'valid'}$ means that we're not going to pad images and the dimension of it is going to shrink from layer to layer."
      ]
    },
    {
      "cell_type": "code",
      "metadata": {
        "id": "aQSVewmifeam",
        "colab_type": "code",
        "colab": {}
      },
      "source": [
        "model_cnn.add(Convolution2D(filters=filters, \n",
        "                            kernel_size=kernel_size,\n",
        "                            padding=\"valid\",\n",
        "                            input_shape=input_shape))"
      ],
      "execution_count": 0,
      "outputs": []
    },
    {
      "cell_type": "markdown",
      "metadata": {
        "id": "Qs1SOzrYfear",
        "colab_type": "text"
      },
      "source": [
        "Next step is to add nonlinearity to enable our network to learn complex dependencies. We're going to use ReLU activation function because it is less exposed to vanishing gradient problem and faster to train."
      ]
    },
    {
      "cell_type": "code",
      "metadata": {
        "id": "0Y05WkORfear",
        "colab_type": "code",
        "colab": {}
      },
      "source": [
        "model_cnn.add(Activation('relu'))"
      ],
      "execution_count": 0,
      "outputs": []
    },
    {
      "cell_type": "markdown",
      "metadata": {
        "id": "3kBwZ023feat",
        "colab_type": "text"
      },
      "source": [
        "Let's stack one more Convolution layer on top of that:"
      ]
    },
    {
      "cell_type": "code",
      "metadata": {
        "id": "uBnwL7Ijfeaw",
        "colab_type": "code",
        "colab": {}
      },
      "source": [
        "model_cnn.add(Convolution2D(filters=filters, \n",
        "                            kernel_size=kernel_size,\n",
        "                            padding=\"valid\"))\n",
        "model_cnn.add(Activation('relu'))"
      ],
      "execution_count": 0,
      "outputs": []
    },
    {
      "cell_type": "markdown",
      "metadata": {
        "id": "oVCwEVPJfeay",
        "colab_type": "text"
      },
      "source": [
        "Now it's time to apply pooling. Note that the strategies of combining convolutional and pooling layers may be different. For further details see [here](http://cs231n.stanford.edu/)"
      ]
    },
    {
      "cell_type": "code",
      "metadata": {
        "id": "BzQJa3VZfeaz",
        "colab_type": "code",
        "colab": {}
      },
      "source": [
        "model_cnn.add(MaxPooling2D(pool_size=pool_size))"
      ],
      "execution_count": 0,
      "outputs": []
    },
    {
      "cell_type": "markdown",
      "metadata": {
        "id": "94w-bATUfea6",
        "colab_type": "text"
      },
      "source": [
        "At this point we consider that we've already distinguish some meaningful features from the pictures. So it's time to classify them. For that purpose the common approach is to append fully-connected part. \n",
        "\n",
        "But before that we need to pull all the obtained feature into one vector so that one object has 1D-vector of features. It is done by means of $\\text{Flatten}$ layer."
      ]
    },
    {
      "cell_type": "code",
      "metadata": {
        "id": "6zMeUky8fea7",
        "colab_type": "code",
        "colab": {}
      },
      "source": [
        "model_cnn.add(Flatten())"
      ],
      "execution_count": 0,
      "outputs": []
    },
    {
      "cell_type": "markdown",
      "metadata": {
        "id": "m2mkwmTHfea_",
        "colab_type": "text"
      },
      "source": [
        "Now let's add FC part with the [dropout](https://www.cs.toronto.edu/~hinton/absps/JMLRdropout.pdf) to avoid overfitting."
      ]
    },
    {
      "cell_type": "code",
      "metadata": {
        "id": "xnq02GmffebA",
        "colab_type": "code",
        "colab": {}
      },
      "source": [
        "model_cnn.add(Dropout(0.5))\n",
        "model_cnn.add(Dense(128, activation=\"relu\"))\n",
        "model_cnn.add(Dropout(0.5))\n",
        "model_cnn.add(Dense(nb_classes, activation=\"softmax\"))"
      ],
      "execution_count": 0,
      "outputs": []
    },
    {
      "cell_type": "markdown",
      "metadata": {
        "id": "vTNtcPpvfebD",
        "colab_type": "text"
      },
      "source": [
        "The final layer here is usual $\\text{Softmax}$ with the number of classe. So as the output of the network we observe the probability of each class."
      ]
    },
    {
      "cell_type": "markdown",
      "metadata": {
        "id": "uvQRbThafebD",
        "colab_type": "text"
      },
      "source": [
        "Now let's compile our model.\n",
        "* **optimizer** $-$ here we use accelerated gradient descent algorithm with special adaptive way of choosing learning rate; for more details see this great [overview](http://sebastianruder.com/optimizing-gradient-descent/) of gradient descent optimization algorithms.\n",
        "* **loss** $-$ usual choice for multiclass classification is softmax output layer in combination with categotical crossentropy loss function which is\n",
        "$$\n",
        "\\mathcal{L}(\\text{true}, \\text{pred}) = -\\sum_{j=1}^{k}\\text{true}_j \\cdot \\log \\{\\text{pred}_j\\}\n",
        "$$\n",
        "* **metrics** $-$ additional metrics that we're going to trace while training; it doesn't influence training process at all"
      ]
    },
    {
      "cell_type": "code",
      "metadata": {
        "id": "KQtEylBIfebE",
        "colab_type": "code",
        "colab": {}
      },
      "source": [
        "model_cnn.compile(loss='categorical_crossentropy',\n",
        "                  optimizer='adam',\n",
        "                  metrics=['accuracy'])"
      ],
      "execution_count": 0,
      "outputs": []
    },
    {
      "cell_type": "markdown",
      "metadata": {
        "id": "5AQ7WsksfebF",
        "colab_type": "text"
      },
      "source": [
        "Let's take a look at our final model now:"
      ]
    },
    {
      "cell_type": "code",
      "metadata": {
        "id": "_4GQGp7OfebF",
        "colab_type": "code",
        "colab": {}
      },
      "source": [
        "model_cnn.summary()"
      ],
      "execution_count": 0,
      "outputs": []
    },
    {
      "cell_type": "code",
      "metadata": {
        "id": "JzaP34BxfebH",
        "colab_type": "code",
        "colab": {}
      },
      "source": [
        "SVG(model_to_dot(model_cnn, show_shapes=True).create(prog='dot', format='svg'))"
      ],
      "execution_count": 0,
      "outputs": []
    },
    {
      "cell_type": "markdown",
      "metadata": {
        "id": "SUD95F9_febI",
        "colab_type": "text"
      },
      "source": [
        "## Training"
      ]
    },
    {
      "cell_type": "markdown",
      "metadata": {
        "id": "shiOrHNlfebI",
        "colab_type": "text"
      },
      "source": [
        "Training parameters are the following:\n",
        "* nb_epoch $-$ number of epochs to train. here we choose 12; one may condiser using some stopping criterias\n",
        "* **batch_size** $-$ parameter that controls how frequent do we update gradient; with $\\text{batch_size}=1$ optimization is nothing but pure Stohastic Gradient Descent (update gradient after passing each one object); with $\\text{batch_size}=\\textit{number of objects}$ it will be usual Gradient Descent which updates gradient only after passing all objects. Choosing value between this two one can control speed and convergence of training process."
      ]
    },
    {
      "cell_type": "code",
      "metadata": {
        "id": "cqHPorsrfebL",
        "colab_type": "code",
        "colab": {}
      },
      "source": [
        "batch_size = 128\n",
        "epochs = 5"
      ],
      "execution_count": 0,
      "outputs": []
    },
    {
      "cell_type": "markdown",
      "metadata": {
        "id": "NfOssN6GfebM",
        "colab_type": "text"
      },
      "source": [
        "Train!"
      ]
    },
    {
      "cell_type": "code",
      "metadata": {
        "id": "Hkbvhi4BfebN",
        "colab_type": "code",
        "colab": {}
      },
      "source": [
        "import time\n",
        "start = time.time()\n",
        "hist = model_cnn.fit(X_train, y_train, \n",
        "                     batch_size=batch_size, \n",
        "                     epochs=epochs,\n",
        "                     validation_data=(X_valid, y_valid))\n",
        "end = time.time()\n",
        "seconds_per_epoch = f\"{(end - start)/epochs:.4}\"\n",
        "print(f\"seconds_per_epoch: {seconds_per_epoch}\")\n"
      ],
      "execution_count": 0,
      "outputs": []
    },
    {
      "cell_type": "markdown",
      "metadata": {
        "id": "JWEsuk1wfebR",
        "colab_type": "text"
      },
      "source": [
        "## Evaluation"
      ]
    },
    {
      "cell_type": "markdown",
      "metadata": {
        "id": "FJQ-FQFAfebU",
        "colab_type": "text"
      },
      "source": [
        "Visualization of learning process:"
      ]
    },
    {
      "cell_type": "code",
      "metadata": {
        "id": "Tp8kCKA5febV",
        "colab_type": "code",
        "outputId": "a64f90b7-a6a9-4a4e-9407-1edbcedd7f1e",
        "colab": {
          "base_uri": "https://localhost:8080/",
          "height": 673
        }
      },
      "source": [
        "plt.figure(figsize=(20, 8))\n",
        "plt.suptitle(\"CNN model training\", fontsize=18)\n",
        "plt.subplot(121)\n",
        "plt.plot(hist.history[\"loss\"], label=\"Train\")\n",
        "plt.plot(hist.history[\"val_loss\"], label=\"Validation\")\n",
        "plt.grid(\"on\")\n",
        "plt.xlabel(\"Epoch\", fontsize=14)\n",
        "plt.ylabel(\"Crossentropy\", fontsize=14)\n",
        "plt.title(\"Crossentropy CXE\")\n",
        "plt.legend(loc=\"upper right\")\n",
        "plt.subplot(122)\n",
        "plt.plot(hist.history[\"acc\"], label=\"Train\")\n",
        "plt.grid(\"on\")\n",
        "plt.plot(hist.history[\"val_acc\"], label=\"Validation\")\n",
        "plt.xlabel(\"Epoch\", fontsize=14)\n",
        "plt.ylabel(\"Accuracy\", fontsize=14)\n",
        "plt.legend(loc=\"lower right\")\n",
        "plt.title(\"Accuracy\")\n",
        "plt.ylim([0.88, 1.0]);"
      ],
      "execution_count": 24,
      "outputs": [
        {
          "output_type": "stream",
          "text": [
            "/usr/local/lib/python3.6/dist-packages/matplotlib/cbook/__init__.py:424: MatplotlibDeprecationWarning: \n",
            "Passing one of 'on', 'true', 'off', 'false' as a boolean is deprecated; use an actual boolean (True/False) instead.\n",
            "  warn_deprecated(\"2.2\", \"Passing one of 'on', 'true', 'off', 'false' as a \"\n",
            "/usr/local/lib/python3.6/dist-packages/matplotlib/cbook/__init__.py:424: MatplotlibDeprecationWarning: \n",
            "Passing one of 'on', 'true', 'off', 'false' as a boolean is deprecated; use an actual boolean (True/False) instead.\n",
            "  warn_deprecated(\"2.2\", \"Passing one of 'on', 'true', 'off', 'false' as a \"\n"
          ],
          "name": "stderr"
        },
        {
          "output_type": "display_data",
          "data": {
            "image/png": "[encoded data removed]",
            "text/plain": [
              "<Figure size 1440x576 with 2 Axes>"
            ]
          },
          "metadata": {
            "tags": []
          }
        }
      ]
    },
    {
      "cell_type": "markdown",
      "metadata": {
        "id": "N5sHOt1-febZ",
        "colab_type": "text"
      },
      "source": [
        "Final evaluation of the model:"
      ]
    },
    {
      "cell_type": "code",
      "metadata": {
        "id": "ZE7OMyBFfebZ",
        "colab_type": "code",
        "outputId": "36ffc807-449d-4825-b60c-25bfa3a748e9",
        "colab": {
          "base_uri": "https://localhost:8080/",
          "height": 245
        }
      },
      "source": [
        "# add the result of this experiment to the log book\n",
        "exp_name = \"CNN-784_32x3x3-32_3x3-128-10\" # experiment name\n",
        "try:\n",
        "    expLog\n",
        "except NameError:\n",
        "    expLog = pd.DataFrame(columns=[\"exp_name\",\"epoch (secs)\",\"Epochs\",\"Train CXE Loss\", \"Train Acc\", \"Validation CXE Loss\", \"Validation  Acc\",\n",
        "                    \"Test CXE Loss\", \"Test  Accuracy\"])\n",
        "    \n",
        "# Add a experiment results to the experiment log\n",
        "model = model_cnn\n",
        "expLog.loc[len(expLog)] = [f\"{exp_name}\", seconds_per_epoch, epochs] + list(np.round(np.reshape([model.evaluate(X_train, y_train, verbose=0), \n",
        "                   model.evaluate(X_valid, y_valid, verbose=0),\n",
        "                   model.evaluate(X_test,  y_test, verbose=1)], -1), 3))\n",
        "expLog"
      ],
      "execution_count": 23,
      "outputs": [
        {
          "output_type": "error",
          "ename": "NameError",
          "evalue": "ignored",
          "traceback": [
            "\u001b[0;31m---------------------------------------------------------------------------\u001b[0m",
            "\u001b[0;31mNameError\u001b[0m                                 Traceback (most recent call last)",
            "\u001b[0;32m<ipython-input-23-b9366f60a8fe>\u001b[0m in \u001b[0;36m<module>\u001b[0;34m()\u001b[0m\n\u001b[1;32m      7\u001b[0m \u001b[0;34m\u001b[0m\u001b[0m\n\u001b[1;32m      8\u001b[0m \u001b[0;31m# Add a experiment results to the experiment log\u001b[0m\u001b[0;34m\u001b[0m\u001b[0;34m\u001b[0m\u001b[0;34m\u001b[0m\u001b[0m\n\u001b[0;32m----> 9\u001b[0;31m \u001b[0mmodel\u001b[0m \u001b[0;34m=\u001b[0m \u001b[0mmodel_cnn\u001b[0m\u001b[0;34m\u001b[0m\u001b[0;34m\u001b[0m\u001b[0m\n\u001b[0m\u001b[1;32m     10\u001b[0m expLog.loc[len(expLog)] = [f\"{exp_name}\", seconds_per_epoch, epochs] + list(np.round(np.reshape([model.evaluate(X_train, y_train, verbose=0), \n\u001b[1;32m     11\u001b[0m                    \u001b[0mmodel\u001b[0m\u001b[0;34m.\u001b[0m\u001b[0mevaluate\u001b[0m\u001b[0;34m(\u001b[0m\u001b[0mX_valid\u001b[0m\u001b[0;34m,\u001b[0m \u001b[0my_valid\u001b[0m\u001b[0;34m,\u001b[0m \u001b[0mverbose\u001b[0m\u001b[0;34m=\u001b[0m\u001b[0;36m0\u001b[0m\u001b[0;34m)\u001b[0m\u001b[0;34m,\u001b[0m\u001b[0;34m\u001b[0m\u001b[0;34m\u001b[0m\u001b[0m\n",
            "\u001b[0;31mNameError\u001b[0m: name 'model_cnn' is not defined"
          ]
        }
      ]
    },
    {
      "cell_type": "markdown",
      "metadata": {
        "id": "1mNFhXwdgVYh",
        "colab_type": "text"
      },
      "source": [
        "# Task: choose a better CNN architecture\n",
        "\n",
        "\n",
        "## Task 5.1 : choose a better CNN architecture\n",
        "\n",
        "Search for a good CNN architecture to model the MNIST problem.\n",
        "\n",
        "It is up to you what the model will be. Here are some things you need to decide:\n",
        "* how many convolutional layers?\n",
        "* what spatial size will your convolutions be?\n",
        "* how many channels will your convolutions be?\n",
        "* what nonlinearity will you use?\n",
        "* will you use pooling? what type?\n",
        "* how many fully-connected layers will you have?\n",
        "* will you use dropout?\n",
        "* what batch size?\n",
        "\n",
        "Keras provides a special layer called `Flatten` to flatten the convolutional features into a vector before the fully-connected layers. You should look at the documentation for Keras's convolutional layers: http://keras.io/layers/convolutional/. In particular, you may want to look at `Convolution2D`, `MaxPooling2D`, `AveragePooling2D`, `Flatten`, and `Dropout`. For this problem, you make want to use the `'rmsprop'` optimizer - it is an algorithm that adapts the learning rate during learning for you automatically.\n",
        "\n",
        "\n",
        "\n",
        "**Please paste your response here using the following format:** \n",
        "* Best archtecture is:  \n",
        "* Test accuracy: \n",
        "* Training time per epoch in seconds is : \n"
      ]
    },
    {
      "cell_type": "code",
      "metadata": {
        "id": "ADRlm4D2gXwn",
        "colab_type": "code",
        "colab": {}
      },
      "source": [
        ""
      ],
      "execution_count": 0,
      "outputs": []
    },
    {
      "cell_type": "markdown",
      "metadata": {
        "id": "zW9Quu3lghrE",
        "colab_type": "text"
      },
      "source": [
        "## Task 5.2 : with 500 training examples\n",
        "\n",
        "Use only 500 examples per class (recall we  have only 10 classes) and find the best architecture. \n",
        "HINTs:\n",
        "* you can do  stratified sampling OR just random selection of 5,000 examples\n",
        "* for inspiration, see [here](https://mclguide.readthedocs.io/en/latest/sklearn/multiclass.html)\n",
        "* For more details see: [sklearn.model_selection.train_test_split manual page](https://scikit-learn.org/stable/modules/generated/sklearn.model_selection.train_test_split.html)\n",
        "  * `stratify` : array-like or None (default=None)\n",
        "    If not None, data is split in a stratified fashion, using this as the class labels.\n",
        "\n",
        "```python\n",
        "# load MNIST data\n",
        "from sklearn.model_selection import train_test_split\n",
        "(X_train, y_train), (X_test, y_test) = mnist.load_data()\n",
        "X_train, X_valid, y_train, y_valid = train_test_split(X_train, y_train, \n",
        "                                                     test_size=55000./60000., random_state=42, \n",
        "                                                     stratify=y_train)\n",
        "img_rows, img_cols = 28, 28\n",
        "number_of_classes = 10\n",
        "print(f\"X before flatten train      shape: {X_train.shape}\")\n",
        "print(f\"X before flatten validation shape: {X_valid.shape}\")\n",
        "print(f\"X before flatten test       shape: {X_test.shape}\")\n",
        "print(f\"All data: {np.bincount(y_train) / float(len(y_train))}\")\n",
        "```\n",
        "\n",
        "**Please paste your response here:** \n",
        "* Best archtecture is:  \n",
        "* Test accuracy: \n",
        "* Training time per epoch in seconds is : \n"
      ]
    },
    {
      "cell_type": "markdown",
      "metadata": {
        "id": "GCLhwC5Bfebg",
        "colab_type": "text"
      },
      "source": [
        "\n",
        "\n",
        "\n",
        "## Task 5.3 : Odd versus Even Classifier\n",
        "\n",
        "Build a binary classifier that classifiers odd numbers versus even numbers. Again, try to find the best architecture.\n",
        "\n",
        "\n",
        "**Please paste your response here:** \n",
        "* Best archtecture is:  \n",
        "* Test accuracy: \n",
        "* Training time per epoch in seconds is : \n",
        "\n",
        "\n",
        "## 5.4 Homework Submission Instructions:\n",
        "\n",
        "\n",
        "\n",
        "1. Please fill in your best architecture for each of the three homework tasks 5.1, 5.2, 5.3: \n",
        "https://docs.google.com/spreadsheets/d/11Ot_v7EKmBoNgXBEjCsN_S7tYtfa5OXFLQoH62JCf1g/edit?usp=sharing\n",
        "  * NOTE: that each task has a SEPARATE table/tab in the above spreadsheet.\n",
        "  * The winner in each task gets a special prize!\n",
        "* Please upload your notebook to the following Google Drive folder (you save directly or just can drag and drop):\n",
        "  * https://drive.google.com/drive/folders/18Ng3PfnVBhrT82s_rQ_-WylE5rN7f9ej?usp=sharing\n",
        "* Your homework submission is now due tomorrow (Friday) morning at 8AM (that will give you an extra 12 hours!!)\n",
        "* Please send the following by EMAIL to James.Shanahan@gmail.com with the subject \"Sichuan2019: MNIST Best MLP Architecture\"\n",
        "\n",
        "  * Link to your own Google Colab notebook where you did the experiments\n",
        "  * All the text + your response from this cell\n",
        "  * A screenshot of your expLog table"
      ]
    },
    {
      "cell_type": "code",
      "metadata": {
        "id": "5tmZmLjzfebh",
        "colab_type": "code",
        "colab": {}
      },
      "source": [
        ""
      ],
      "execution_count": 0,
      "outputs": []
    },
    {
      "cell_type": "code",
      "metadata": {
        "id": "jpFCWS5nfebo",
        "colab_type": "code",
        "colab": {}
      },
      "source": [
        ""
      ],
      "execution_count": 0,
      "outputs": []
    }
  ]
}