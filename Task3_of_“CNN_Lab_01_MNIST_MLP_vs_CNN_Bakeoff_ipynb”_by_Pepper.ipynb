{
  "nbformat": 4,
  "nbformat_minor": 0,
  "metadata": {
    "colab": {
      "name": "Task3 of “CNN_Lab-01-MNIST-MLP-vs-CNN-Bakeoff.ipynb” by Pepper",
      "version": "0.3.2",
      "provenance": [],
      "collapsed_sections": [],
      "toc_visible": true,
      "include_colab_link": true
    },
    "language_info": {
      "codemirror_mode": {
        "name": "ipython",
        "version": 3
      },
      "file_extension": ".py",
      "mimetype": "text/x-python",
      "name": "python",
      "nbconvert_exporter": "python",
      "pygments_lexer": "ipython3",
      "version": "3.6.8"
    },
    "kernelspec": {
      "name": "python3",
      "display_name": "Python 3"
    },
    "accelerator": "TPU"
  },
  "cells": [
    {
      "cell_type": "markdown",
      "metadata": {
        "id": "view-in-github",
        "colab_type": "text"
      },
      "source": [
        "<a href=\"https://colab.research.google.com/github/PepperJao/Modeling/blob/master/Task3_of_%E2%80%9CCNN_Lab_01_MNIST_MLP_vs_CNN_Bakeoff_ipynb%E2%80%9D_by_Pepper.ipynb\" target=\"_parent\"><img src=\"https://colab.research.google.com/assets/colab-badge.svg\" alt=\"Open In Colab\"/></a>"
      ]
    },
    {
      "cell_type": "markdown",
      "metadata": {
        "id": "8FoamsT_fGzm",
        "colab_type": "text"
      },
      "source": [
        "# Convolutional Neural Networks"
      ]
    },
    {
      "cell_type": "markdown",
      "metadata": {
        "id": "rYv-gV0VfGzo",
        "colab_type": "text"
      },
      "source": [
        "In this notebook we're going to explore handwritten digit recognition task using MNIST database and CNNs"
      ]
    },
    {
      "cell_type": "code",
      "metadata": {
        "id": "paLHNhLNfGzp",
        "colab_type": "code",
        "colab": {}
      },
      "source": [
        "import numpy as np\n",
        "import pandas as pd\n",
        "\n",
        "from keras.datasets import mnist\n",
        "from keras.models import Sequential\n",
        "from keras.layers import Dense, Dropout, Activation, Flatten\n",
        "from keras.layers import Convolution2D, MaxPooling2D\n",
        "from keras.utils.np_utils import to_categorical\n",
        "from keras import backend as K\n",
        "from keras.utils.vis_utils import model_to_dot\n",
        "\n",
        "from IPython.display import SVG\n",
        "\n",
        "import matplotlib\n",
        "import matplotlib.pyplot as plt\n",
        "import seaborn as sns\n",
        "%matplotlib inline"
      ],
      "execution_count": 0,
      "outputs": []
    },
    {
      "cell_type": "markdown",
      "metadata": {
        "id": "kjbNIorbfGzv",
        "colab_type": "text"
      },
      "source": [
        "Set style"
      ]
    },
    {
      "cell_type": "code",
      "metadata": {
        "id": "zroizrkMfGzw",
        "colab_type": "code",
        "colab": {}
      },
      "source": [
        "sns.set(style=\"whitegrid\", font_scale=1.3)\n",
        "matplotlib.rcParams[\"figure.figsize\"] = (10, 8)\n",
        "matplotlib.rcParams[\"legend.framealpha\"] = 1\n",
        "matplotlib.rcParams[\"legend.frameon\"] = True"
      ],
      "execution_count": 0,
      "outputs": []
    },
    {
      "cell_type": "markdown",
      "metadata": {
        "id": "C0fmqnW5fGzz",
        "colab_type": "text"
      },
      "source": [
        "Just for the sake of reproducibility"
      ]
    },
    {
      "cell_type": "code",
      "metadata": {
        "id": "oYmsiOAUfGz0",
        "colab_type": "code",
        "colab": {}
      },
      "source": [
        "np.random.seed(41)"
      ],
      "execution_count": 0,
      "outputs": []
    },
    {
      "cell_type": "markdown",
      "metadata": {
        "id": "HSgtA7HefGz3",
        "colab_type": "text"
      },
      "source": [
        "# Data"
      ]
    },
    {
      "cell_type": "markdown",
      "metadata": {
        "id": "KbOSqLNwfGz4",
        "colab_type": "text"
      },
      "source": [
        "In this tutorial we're going to use MNIST dataset with handwritten digits."
      ]
    },
    {
      "cell_type": "markdown",
      "metadata": {
        "id": "N1TerpNhfGz4",
        "colab_type": "text"
      },
      "source": [
        "## MNIST overview"
      ]
    },
    {
      "cell_type": "markdown",
      "metadata": {
        "id": "KGxOQElFfGz5",
        "colab_type": "text"
      },
      "source": [
        "Let's download MNIST dataset. There is a special function in Keras for that purpose (because MNIST is extremely popular)"
      ]
    },
    {
      "cell_type": "code",
      "metadata": {
        "id": "vjKK2nLgfGz6",
        "colab_type": "code",
        "outputId": "97989367-1373-4798-dd14-f3249d9d3984",
        "colab": {
          "base_uri": "https://localhost:8080/",
          "height": 52
        }
      },
      "source": [
        "\n",
        "(X_train, y_train), (X_test, y_test) = mnist.load_data()\n",
        "\n",
        "print(len(X_train), 'train samples')\n",
        "print(len(X_test), 'test samples')"
      ],
      "execution_count": 36,
      "outputs": [
        {
          "output_type": "stream",
          "text": [
            "60000 train samples\n",
            "10000 test samples\n"
          ],
          "name": "stdout"
        }
      ]
    },
    {
      "cell_type": "code",
      "metadata": {
        "id": "rGMuPtA8fGz9",
        "colab_type": "code",
        "outputId": "d99fbe25-0b06-4f09-9499-555b96b1bd2d",
        "colab": {
          "base_uri": "https://localhost:8080/",
          "height": 336
        }
      },
      "source": [
        "plt.figure(figsize=(12, 5))\n",
        "for num, i in enumerate(np.random.choice(len(X_train), 10)):\n",
        "    plt.subplot(2, 5, num + 1)\n",
        "    plt.imshow(X_train[i], cmap=\"Greys_r\")\n",
        "    plt.axis(\"off\")\n",
        "    plt.title(str(y_train[i]))"
      ],
      "execution_count": 37,
      "outputs": [
        {
          "output_type": "display_data",
          "data": {
            "image/png": "[encoded data removed]",
            "text/plain": [
              "<Figure size 864x360 with 10 Axes>"
            ]
          },
          "metadata": {
            "tags": []
          }
        }
      ]
    },
    {
      "cell_type": "markdown",
      "metadata": {
        "id": "9V1Cu5gLfG0A",
        "colab_type": "text"
      },
      "source": [
        "Let's see objects are distributed among classes"
      ]
    },
    {
      "cell_type": "code",
      "metadata": {
        "id": "Cf1l2szgfG0B",
        "colab_type": "code",
        "outputId": "17a52d2c-198a-4ca2-f69c-ddeccfd71f3f",
        "colab": {
          "base_uri": "https://localhost:8080/",
          "height": 513
        }
      },
      "source": [
        "x_bars, y_bars = np.unique(y_train, return_counts=True)\n",
        "plt.bar(x_bars, y_bars)\n",
        "plt.xlim([-1, 10])\n",
        "plt.xticks(np.arange(0, 10))\n",
        "plt.xlabel(\"Digit\", fontsize=14)\n",
        "plt.ylabel(\"Number of pics\", fontsize=14)\n",
        "plt.show()"
      ],
      "execution_count": 38,
      "outputs": [
        {
          "output_type": "display_data",
          "data": {
            "image/png": "[encoded data removed]",
            "text/plain": [
              "<Figure size 720x576 with 1 Axes>"
            ]
          },
          "metadata": {
            "tags": []
          }
        }
      ]
    },
    {
      "cell_type": "markdown",
      "metadata": {
        "id": "Ja1K7-6NfG0E",
        "colab_type": "text"
      },
      "source": [
        "As one can see, the task is pretty balanced"
      ]
    },
    {
      "cell_type": "markdown",
      "metadata": {
        "id": "G8d3SgXwfG0F",
        "colab_type": "text"
      },
      "source": [
        "## Data preparation"
      ]
    },
    {
      "cell_type": "markdown",
      "metadata": {
        "id": "nELBJWLWfG0G",
        "colab_type": "text"
      },
      "source": [
        "First of all, let's predefine image parameters:\n",
        "* **img_rows, img_cols** $-$ 2D dimension of a pictures; for MNIST it is $28 \\times 28$\n",
        "* **nb_classes** $-$ number of classes (digits in our case)"
      ]
    },
    {
      "cell_type": "code",
      "metadata": {
        "id": "weRpIIdgfG0H",
        "colab_type": "code",
        "colab": {}
      },
      "source": [
        "img_rows, img_cols = 28, 28\n",
        "nb_classes = 10"
      ],
      "execution_count": 0,
      "outputs": []
    },
    {
      "cell_type": "markdown",
      "metadata": {
        "id": "h4Bo7tGrfG0K",
        "colab_type": "text"
      },
      "source": [
        "Theano and Tensorflow both are tensor-based libraries. It means that all objects inside it, all inputs and outputs are **tensors**. One can treat tensor as a simple multidimensional array."
      ]
    },
    {
      "cell_type": "markdown",
      "metadata": {
        "id": "LJa_9xZifG0L",
        "colab_type": "text"
      },
      "source": [
        "The thing that is different in Theano and Tensorflow is order of these dimensions inside tensor.\n",
        "\n",
        "With Theano yo're going to have 4-dimensional tensor with the following dimensions: **(Objects, Channels, Image rows,Image columns)**. Assume that $\\text{X_train}$ is our tensor. Then $\\text{X_train}[0]$ gives you one trainig object - it is an image with few channels in general case. $\\text{X_train}[0][0]$ gives you the first channel of the first object. And so on. The logic of tensors should be clear now.\n",
        "\n",
        "In Tensorflow the order is the following: **(Objects, Image rows,Image columns, Channels)**\n",
        "\n",
        "Thus we need to check what dimension order do we have and reshape our tensor in accordance with it:"
      ]
    },
    {
      "cell_type": "code",
      "metadata": {
        "id": "d1Zw_ciIfG0L",
        "colab_type": "code",
        "colab": {}
      },
      "source": [
        "img_rows, img_cols = 28, 28\n",
        "nb_classes = 10\n",
        "if K.image_dim_ordering() == 'th':\n",
        "    X_train = X_train.reshape(X_train.shape[0], 1, img_rows, img_cols)\n",
        "    X_test = X_test.reshape(X_test.shape[0], 1, img_rows, img_cols)\n",
        "    input_shape = (1, img_rows, img_cols)\n",
        "else:\n",
        "    X_train = X_train.reshape(X_train.shape[0], img_rows, img_cols, 1)\n",
        "    X_test = X_test.reshape(X_test.shape[0], img_rows, img_cols, 1)\n",
        "    input_shape = (img_rows, img_cols, 1)"
      ],
      "execution_count": 0,
      "outputs": []
    },
    {
      "cell_type": "markdown",
      "metadata": {
        "id": "r7q8m-bHfG0O",
        "colab_type": "text"
      },
      "source": [
        "Here we have grayscale image and thus the number of the channels is $1$. Here I used Tensorflow library with the corresponding order of dimensions"
      ]
    },
    {
      "cell_type": "code",
      "metadata": {
        "id": "8WzuMj7DfG0P",
        "colab_type": "code",
        "outputId": "126fe1a4-5f1b-41b1-c201-39bcac89730f",
        "colab": {
          "base_uri": "https://localhost:8080/",
          "height": 34
        }
      },
      "source": [
        "print('X_train shape:', X_train.shape)"
      ],
      "execution_count": 41,
      "outputs": [
        {
          "output_type": "stream",
          "text": [
            "X_train shape: (60000, 28, 28, 1)\n"
          ],
          "name": "stdout"
        }
      ]
    },
    {
      "cell_type": "markdown",
      "metadata": {
        "id": "qMjjRiUvfG0V",
        "colab_type": "text"
      },
      "source": [
        "Tensorflow prefers to work with $\\text{float32}$ data type. So the next step is to cast data. Also let's have our data in $[0; 1]$ interval $-$ it's common choice for grayscale images."
      ]
    },
    {
      "cell_type": "code",
      "metadata": {
        "id": "ssrT7VyLfG0W",
        "colab_type": "code",
        "colab": {}
      },
      "source": [
        "X_train = X_train.astype('float32')\n",
        "X_test = X_test.astype('float32')\n",
        "X_train /= 255\n",
        "X_test /= 255"
      ],
      "execution_count": 0,
      "outputs": []
    },
    {
      "cell_type": "markdown",
      "metadata": {
        "id": "itix4_vWfG0Y",
        "colab_type": "text"
      },
      "source": [
        "Last step is to convert labels into [One-Hot Encoding](https://en.wikipedia.org/wiki/One-hot) because we're going to learn them through the softmax layer in CNN"
      ]
    },
    {
      "cell_type": "code",
      "metadata": {
        "id": "MamhvkNrfG0Z",
        "colab_type": "code",
        "colab": {}
      },
      "source": [
        "y_train = to_categorical(y_train, nb_classes)\n",
        "y_test = to_categorical(y_test, nb_classes)"
      ],
      "execution_count": 0,
      "outputs": []
    },
    {
      "cell_type": "markdown",
      "metadata": {
        "id": "liUjQn3CfG0c",
        "colab_type": "text"
      },
      "source": [
        "# Dense baseline model"
      ]
    },
    {
      "cell_type": "markdown",
      "metadata": {
        "id": "-fY5aHvxfG0d",
        "colab_type": "text"
      },
      "source": [
        "First of all, let's build MLP model and see how it performs"
      ]
    },
    {
      "cell_type": "code",
      "metadata": {
        "id": "g_R0tswXfG0e",
        "colab_type": "code",
        "colab": {}
      },
      "source": [
        "model_dense = Sequential()"
      ],
      "execution_count": 0,
      "outputs": []
    },
    {
      "cell_type": "code",
      "metadata": {
        "id": "lJ0WxzNbfG0i",
        "colab_type": "code",
        "colab": {}
      },
      "source": [
        "'''\n",
        "\n",
        "model_dense.add(Dense(128, input_shape=(img_rows * img_cols,), activation=\"relu\"))\n",
        "model_dense.add(Dropout(0.5))\n",
        "model_dense.add(Dense(128, activation=\"relu\"))\n",
        "model_dense.add(Dropout(0.5))\n",
        "model_dense.add(Dense(128, activation=\"relu\"))\n",
        "model_dense.add(Dropout(0.5))\n",
        "model_dense.add(Dense(nb_classes, activation=\"softmax\"))\n",
        "'''\n",
        "model_dense.add(Dense(256, input_shape=(img_rows * img_cols,), activation=\"relu\"))\n",
        "model_dense.add(Dropout(0.5))\n",
        "model_dense.add(Dense(nb_classes, activation=\"softmax\"))\n"
      ],
      "execution_count": 0,
      "outputs": []
    },
    {
      "cell_type": "markdown",
      "metadata": {
        "id": "D-AbmxiafG0o",
        "colab_type": "text"
      },
      "source": [
        "Our model the the following architercture"
      ]
    },
    {
      "cell_type": "code",
      "metadata": {
        "id": "r6sC2dV_fG0p",
        "colab_type": "code",
        "outputId": "a62ba2fa-5599-4e79-eef1-c3368de28311",
        "colab": {
          "base_uri": "https://localhost:8080/",
          "height": 244
        }
      },
      "source": [
        "model_dense.summary()"
      ],
      "execution_count": 46,
      "outputs": [
        {
          "output_type": "stream",
          "text": [
            "_________________________________________________________________\n",
            "Layer (type)                 Output Shape              Param #   \n",
            "=================================================================\n",
            "dense_7 (Dense)              (None, 256)               200960    \n",
            "_________________________________________________________________\n",
            "dropout_2 (Dropout)          (None, 256)               0         \n",
            "_________________________________________________________________\n",
            "dense_8 (Dense)              (None, 10)                2570      \n",
            "=================================================================\n",
            "Total params: 203,530\n",
            "Trainable params: 203,530\n",
            "Non-trainable params: 0\n",
            "_________________________________________________________________\n"
          ],
          "name": "stdout"
        }
      ]
    },
    {
      "cell_type": "code",
      "metadata": {
        "id": "Y8vBTTq5gCzf",
        "colab_type": "code",
        "outputId": "d331f8e7-d805-45b5-ea3d-0806e2a45ffb",
        "colab": {
          "base_uri": "https://localhost:8080/",
          "height": 412
        }
      },
      "source": [
        "SVG(model_to_dot(model_dense, show_shapes=True).create(prog='dot', format='svg'))"
      ],
      "execution_count": 47,
      "outputs": [
        {
          "output_type": "execute_result",
          "data": {
            "text/plain": [
              "<IPython.core.display.SVG object>"
            ],
            "image/svg+xml": "<svg height=\"294pt\" viewBox=\"0.00 0.00 287.00 294.00\" width=\"287pt\" xmlns=\"http://www.w3.org/2000/svg\" xmlns:xlink=\"http://www.w3.org/1999/xlink\">\n<g class=\"graph\" id=\"graph0\" transform=\"scale(1 1) rotate(0) translate(4 290)\">\n<title>G</title>\n<polygon fill=\"#ffffff\" points=\"-4,4 -4,-290 283,-290 283,4 -4,4\" stroke=\"transparent\"/>\n<!-- 140112565289368 -->\n<g class=\"node\" id=\"node1\">\n<title>140112565289368</title>\n<polygon fill=\"none\" points=\"13.5,-166.5 13.5,-212.5 265.5,-212.5 265.5,-166.5 13.5,-166.5\" stroke=\"#000000\"/>\n<text fill=\"#000000\" font-family=\"Times,serif\" font-size=\"14.00\" text-anchor=\"middle\" x=\"67\" y=\"-185.8\">dense_7: Dense</text>\n<polyline fill=\"none\" points=\"120.5,-166.5 120.5,-212.5 \" stroke=\"#000000\"/>\n<text fill=\"#000000\" font-family=\"Times,serif\" font-size=\"14.00\" text-anchor=\"middle\" x=\"149.5\" y=\"-197.3\">input:</text>\n<polyline fill=\"none\" points=\"120.5,-189.5 178.5,-189.5 \" stroke=\"#000000\"/>\n<text fill=\"#000000\" font-family=\"Times,serif\" font-size=\"14.00\" text-anchor=\"middle\" x=\"149.5\" y=\"-174.3\">output:</text>\n<polyline fill=\"none\" points=\"178.5,-166.5 178.5,-212.5 \" stroke=\"#000000\"/>\n<text fill=\"#000000\" font-family=\"Times,serif\" font-size=\"14.00\" text-anchor=\"middle\" x=\"222\" y=\"-197.3\">(None, 784)</text>\n<polyline fill=\"none\" points=\"178.5,-189.5 265.5,-189.5 \" stroke=\"#000000\"/>\n<text fill=\"#000000\" font-family=\"Times,serif\" font-size=\"14.00\" text-anchor=\"middle\" x=\"222\" y=\"-174.3\">(None, 256)</text>\n</g>\n<!-- 140112565290768 -->\n<g class=\"node\" id=\"node2\">\n<title>140112565290768</title>\n<polygon fill=\"none\" points=\"0,-83.5 0,-129.5 279,-129.5 279,-83.5 0,-83.5\" stroke=\"#000000\"/>\n<text fill=\"#000000\" font-family=\"Times,serif\" font-size=\"14.00\" text-anchor=\"middle\" x=\"67\" y=\"-102.8\">dropout_2: Dropout</text>\n<polyline fill=\"none\" points=\"134,-83.5 134,-129.5 \" stroke=\"#000000\"/>\n<text fill=\"#000000\" font-family=\"Times,serif\" font-size=\"14.00\" text-anchor=\"middle\" x=\"163\" y=\"-114.3\">input:</text>\n<polyline fill=\"none\" points=\"134,-106.5 192,-106.5 \" stroke=\"#000000\"/>\n<text fill=\"#000000\" font-family=\"Times,serif\" font-size=\"14.00\" text-anchor=\"middle\" x=\"163\" y=\"-91.3\">output:</text>\n<polyline fill=\"none\" points=\"192,-83.5 192,-129.5 \" stroke=\"#000000\"/>\n<text fill=\"#000000\" font-family=\"Times,serif\" font-size=\"14.00\" text-anchor=\"middle\" x=\"235.5\" y=\"-114.3\">(None, 256)</text>\n<polyline fill=\"none\" points=\"192,-106.5 279,-106.5 \" stroke=\"#000000\"/>\n<text fill=\"#000000\" font-family=\"Times,serif\" font-size=\"14.00\" text-anchor=\"middle\" x=\"235.5\" y=\"-91.3\">(None, 256)</text>\n</g>\n<!-- 140112565289368&#45;&gt;140112565290768 -->\n<g class=\"edge\" id=\"edge2\">\n<title>140112565289368-&gt;140112565290768</title>\n<path d=\"M139.5,-166.3799C139.5,-158.1745 139.5,-148.7679 139.5,-139.8786\" fill=\"none\" stroke=\"#000000\"/>\n<polygon fill=\"#000000\" points=\"143.0001,-139.784 139.5,-129.784 136.0001,-139.784 143.0001,-139.784\" stroke=\"#000000\"/>\n</g>\n<!-- 140112565291216 -->\n<g class=\"node\" id=\"node3\">\n<title>140112565291216</title>\n<polygon fill=\"none\" points=\"13.5,-.5 13.5,-46.5 265.5,-46.5 265.5,-.5 13.5,-.5\" stroke=\"#000000\"/>\n<text fill=\"#000000\" font-family=\"Times,serif\" font-size=\"14.00\" text-anchor=\"middle\" x=\"67\" y=\"-19.8\">dense_8: Dense</text>\n<polyline fill=\"none\" points=\"120.5,-.5 120.5,-46.5 \" stroke=\"#000000\"/>\n<text fill=\"#000000\" font-family=\"Times,serif\" font-size=\"14.00\" text-anchor=\"middle\" x=\"149.5\" y=\"-31.3\">input:</text>\n<polyline fill=\"none\" points=\"120.5,-23.5 178.5,-23.5 \" stroke=\"#000000\"/>\n<text fill=\"#000000\" font-family=\"Times,serif\" font-size=\"14.00\" text-anchor=\"middle\" x=\"149.5\" y=\"-8.3\">output:</text>\n<polyline fill=\"none\" points=\"178.5,-.5 178.5,-46.5 \" stroke=\"#000000\"/>\n<text fill=\"#000000\" font-family=\"Times,serif\" font-size=\"14.00\" text-anchor=\"middle\" x=\"222\" y=\"-31.3\">(None, 256)</text>\n<polyline fill=\"none\" points=\"178.5,-23.5 265.5,-23.5 \" stroke=\"#000000\"/>\n<text fill=\"#000000\" font-family=\"Times,serif\" font-size=\"14.00\" text-anchor=\"middle\" x=\"222\" y=\"-8.3\">(None, 10)</text>\n</g>\n<!-- 140112565290768&#45;&gt;140112565291216 -->\n<g class=\"edge\" id=\"edge3\">\n<title>140112565290768-&gt;140112565291216</title>\n<path d=\"M139.5,-83.3799C139.5,-75.1745 139.5,-65.7679 139.5,-56.8786\" fill=\"none\" stroke=\"#000000\"/>\n<polygon fill=\"#000000\" points=\"143.0001,-56.784 139.5,-46.784 136.0001,-56.784 143.0001,-56.784\" stroke=\"#000000\"/>\n</g>\n<!-- 140112565291048 -->\n<g class=\"node\" id=\"node4\">\n<title>140112565291048</title>\n<polygon fill=\"none\" points=\"75.5,-249.5 75.5,-285.5 203.5,-285.5 203.5,-249.5 75.5,-249.5\" stroke=\"#000000\"/>\n<text fill=\"#000000\" font-family=\"Times,serif\" font-size=\"14.00\" text-anchor=\"middle\" x=\"139.5\" y=\"-263.8\">140112565291048</text>\n</g>\n<!-- 140112565291048&#45;&gt;140112565289368 -->\n<g class=\"edge\" id=\"edge1\">\n<title>140112565291048-&gt;140112565289368</title>\n<path d=\"M139.5,-249.4092C139.5,-241.4308 139.5,-231.795 139.5,-222.606\" fill=\"none\" stroke=\"#000000\"/>\n<polygon fill=\"#000000\" points=\"143.0001,-222.5333 139.5,-212.5333 136.0001,-222.5334 143.0001,-222.5333\" stroke=\"#000000\"/>\n</g>\n</g>\n</svg>"
          },
          "metadata": {
            "tags": []
          },
          "execution_count": 47
        }
      ]
    },
    {
      "cell_type": "markdown",
      "metadata": {
        "id": "_U-Dr-O9fG0t",
        "colab_type": "text"
      },
      "source": [
        "Compile model"
      ]
    },
    {
      "cell_type": "code",
      "metadata": {
        "id": "r3U4WVFJfG0t",
        "colab_type": "code",
        "colab": {}
      },
      "source": [
        "model_dense.compile(loss='categorical_crossentropy',\n",
        "                    optimizer='adam',\n",
        "                    metrics=['accuracy'])"
      ],
      "execution_count": 0,
      "outputs": []
    },
    {
      "cell_type": "markdown",
      "metadata": {
        "id": "kh477LQtfG0w",
        "colab_type": "text"
      },
      "source": [
        "## Training"
      ]
    },
    {
      "cell_type": "code",
      "metadata": {
        "id": "ZuG_25o3fG0w",
        "colab_type": "code",
        "outputId": "79a614f5-73c9-4a05-9a85-2a29dadaab79",
        "colab": {
          "base_uri": "https://localhost:8080/",
          "height": 706
        }
      },
      "source": [
        "hist = model_dense.fit(X_train.reshape((len(X_train), img_cols * img_rows)), y_train, \n",
        "                       validation_data = (X_test.reshape((len(X_test), img_cols * img_rows)), y_test), \n",
        "                       epochs=20, batch_size=128)"
      ],
      "execution_count": 49,
      "outputs": [
        {
          "output_type": "stream",
          "text": [
            "Train on 60000 samples, validate on 10000 samples\n",
            "Epoch 1/20\n",
            "60000/60000 [==============================] - 4s 72us/step - loss: 0.4052 - acc: 0.8802 - val_loss: 0.1780 - val_acc: 0.9478\n",
            "Epoch 2/20\n",
            "60000/60000 [==============================] - 4s 65us/step - loss: 0.1971 - acc: 0.9422 - val_loss: 0.1263 - val_acc: 0.9622\n",
            "Epoch 3/20\n",
            "60000/60000 [==============================] - 4s 64us/step - loss: 0.1522 - acc: 0.9563 - val_loss: 0.1027 - val_acc: 0.9682\n",
            "Epoch 4/20\n",
            "60000/60000 [==============================] - 4s 66us/step - loss: 0.1275 - acc: 0.9619 - val_loss: 0.0914 - val_acc: 0.9733\n",
            "Epoch 5/20\n",
            "60000/60000 [==============================] - 4s 66us/step - loss: 0.1139 - acc: 0.9660 - val_loss: 0.0825 - val_acc: 0.9740\n",
            "Epoch 6/20\n",
            "60000/60000 [==============================] - 4s 66us/step - loss: 0.1005 - acc: 0.9697 - val_loss: 0.0787 - val_acc: 0.9768\n",
            "Epoch 7/20\n",
            "60000/60000 [==============================] - 4s 65us/step - loss: 0.0914 - acc: 0.9719 - val_loss: 0.0726 - val_acc: 0.9786\n",
            "Epoch 8/20\n",
            "60000/60000 [==============================] - 4s 66us/step - loss: 0.0837 - acc: 0.9742 - val_loss: 0.0707 - val_acc: 0.9784\n",
            "Epoch 9/20\n",
            "60000/60000 [==============================] - 4s 66us/step - loss: 0.0800 - acc: 0.9747 - val_loss: 0.0677 - val_acc: 0.9786\n",
            "Epoch 10/20\n",
            "60000/60000 [==============================] - 4s 67us/step - loss: 0.0748 - acc: 0.9764 - val_loss: 0.0685 - val_acc: 0.9785\n",
            "Epoch 11/20\n",
            "60000/60000 [==============================] - 4s 65us/step - loss: 0.0669 - acc: 0.9786 - val_loss: 0.0680 - val_acc: 0.9799\n",
            "Epoch 12/20\n",
            "60000/60000 [==============================] - 4s 65us/step - loss: 0.0660 - acc: 0.9789 - val_loss: 0.0628 - val_acc: 0.9808\n",
            "Epoch 13/20\n",
            "60000/60000 [==============================] - 4s 66us/step - loss: 0.0616 - acc: 0.9800 - val_loss: 0.0615 - val_acc: 0.9816\n",
            "Epoch 14/20\n",
            "60000/60000 [==============================] - 4s 66us/step - loss: 0.0586 - acc: 0.9810 - val_loss: 0.0622 - val_acc: 0.9798\n",
            "Epoch 15/20\n",
            "60000/60000 [==============================] - 4s 65us/step - loss: 0.0576 - acc: 0.9808 - val_loss: 0.0625 - val_acc: 0.9806\n",
            "Epoch 16/20\n",
            "60000/60000 [==============================] - 4s 65us/step - loss: 0.0527 - acc: 0.9834 - val_loss: 0.0618 - val_acc: 0.9804\n",
            "Epoch 17/20\n",
            "60000/60000 [==============================] - 4s 66us/step - loss: 0.0531 - acc: 0.9830 - val_loss: 0.0642 - val_acc: 0.9802\n",
            "Epoch 18/20\n",
            "60000/60000 [==============================] - 4s 66us/step - loss: 0.0475 - acc: 0.9844 - val_loss: 0.0620 - val_acc: 0.9817\n",
            "Epoch 19/20\n",
            "60000/60000 [==============================] - 4s 68us/step - loss: 0.0463 - acc: 0.9845 - val_loss: 0.0601 - val_acc: 0.9820\n",
            "Epoch 20/20\n",
            "60000/60000 [==============================] - 4s 67us/step - loss: 0.0460 - acc: 0.9844 - val_loss: 0.0637 - val_acc: 0.9827\n"
          ],
          "name": "stdout"
        }
      ]
    },
    {
      "cell_type": "markdown",
      "metadata": {
        "id": "ETyGKbG2fG00",
        "colab_type": "text"
      },
      "source": [
        "## Evaluation"
      ]
    },
    {
      "cell_type": "markdown",
      "metadata": {
        "id": "Ah8eM5OjfG01",
        "colab_type": "text"
      },
      "source": [
        "Learning process visualization"
      ]
    },
    {
      "cell_type": "code",
      "metadata": {
        "id": "nZYknxcjfG02",
        "colab_type": "code",
        "outputId": "8df825d2-c2f9-45fe-e45e-5a21f5b5e4ce",
        "colab": {
          "base_uri": "https://localhost:8080/",
          "height": 686
        }
      },
      "source": [
        "plt.figure(figsize=(20, 8))\n",
        "plt.suptitle(\"Dense model training\", fontsize=18)\n",
        "plt.subplot(121)\n",
        "plt.plot(hist.history[\"loss\"], label=\"Train\")\n",
        "plt.plot(hist.history[\"val_loss\"], label=\"Test\")\n",
        "plt.grid(\"on\")\n",
        "plt.xlabel(\"Epoch\", fontsize=14)\n",
        "plt.ylabel(\"Crossentropy\", fontsize=14)\n",
        "plt.legend(loc=\"upper right\")\n",
        "plt.subplot(122)\n",
        "plt.plot(hist.history[\"acc\"], label=\"Train\")\n",
        "plt.grid(\"on\")\n",
        "plt.plot(hist.history[\"val_acc\"], label=\"Test\")\n",
        "plt.xlabel(\"Epoch\", fontsize=14)\n",
        "plt.ylabel(\"Accuracy\", fontsize=14)\n",
        "plt.legend(loc=\"lower right\")\n",
        "plt.ylim([0.88, 1.0]);"
      ],
      "execution_count": 50,
      "outputs": [
        {
          "output_type": "stream",
          "text": [
            "/usr/local/lib/python3.6/dist-packages/matplotlib/cbook/__init__.py:424: MatplotlibDeprecationWarning: \n",
            "Passing one of 'on', 'true', 'off', 'false' as a boolean is deprecated; use an actual boolean (True/False) instead.\n",
            "  warn_deprecated(\"2.2\", \"Passing one of 'on', 'true', 'off', 'false' as a \"\n",
            "/usr/local/lib/python3.6/dist-packages/matplotlib/cbook/__init__.py:424: MatplotlibDeprecationWarning: \n",
            "Passing one of 'on', 'true', 'off', 'false' as a boolean is deprecated; use an actual boolean (True/False) instead.\n",
            "  warn_deprecated(\"2.2\", \"Passing one of 'on', 'true', 'off', 'false' as a \"\n"
          ],
          "name": "stderr"
        },
        {
          "output_type": "display_data",
          "data": {
            "image/png": "[encoded data removed]",
            "text/plain": [
              "<Figure size 1440x576 with 2 Axes>"
            ]
          },
          "metadata": {
            "tags": []
          }
        }
      ]
    },
    {
      "cell_type": "markdown",
      "metadata": {
        "id": "LAJQ9octfG05",
        "colab_type": "text"
      },
      "source": [
        "Table to store the results of the experiments"
      ]
    },
    {
      "cell_type": "code",
      "metadata": {
        "id": "LduFGvHKfG06",
        "colab_type": "code",
        "colab": {}
      },
      "source": [
        "score_train = model_dense.evaluate(X_train.reshape((len(X_train), img_cols * img_rows)), y_train, verbose=0)\n",
        "score_test = model_dense.evaluate(X_test.reshape((len(X_test), img_cols * img_rows)), y_test, verbose=0)"
      ],
      "execution_count": 0,
      "outputs": []
    },
    {
      "cell_type": "code",
      "metadata": {
        "id": "P3oLnGc_fG08",
        "colab_type": "code",
        "colab": {}
      },
      "source": [
        "results = pd.DataFrame(columns=[\"Architecture\", \"Epoch time\", \"Accuracy Train\", \"Accuracy Test\", \"Loss Train\", \"Loss Test\"])\n",
        "results.loc[len(results)] = np.array([\"784-128-128-128-10\", \"2secs\", score_train[1], score_test[1], score_train[0], score_test[0]])\n",
        "results.index = [\"MLP\"]"
      ],
      "execution_count": 0,
      "outputs": []
    },
    {
      "cell_type": "code",
      "metadata": {
        "id": "_F3wuQEgfG1D",
        "colab_type": "code",
        "outputId": "bf24aab9-c027-4a9a-f5a1-6ebf63fa9c19",
        "colab": {
          "base_uri": "https://localhost:8080/",
          "height": 77
        }
      },
      "source": [
        "results"
      ],
      "execution_count": 53,
      "outputs": [
        {
          "output_type": "execute_result",
          "data": {
            "text/html": [
              "<div>\n",
              "<style scoped>\n",
              "    .dataframe tbody tr th:only-of-type {\n",
              "        vertical-align: middle;\n",
              "    }\n",
              "\n",
              "    .dataframe tbody tr th {\n",
              "        vertical-align: top;\n",
              "    }\n",
              "\n",
              "    .dataframe thead th {\n",
              "        text-align: right;\n",
              "    }\n",
              "</style>\n",
              "<table border=\"1\" class=\"dataframe\">\n",
              "  <thead>\n",
              "    <tr style=\"text-align: right;\">\n",
              "      <th></th>\n",
              "      <th>Architecture</th>\n",
              "      <th>Epoch time</th>\n",
              "      <th>Accuracy Train</th>\n",
              "      <th>Accuracy Test</th>\n",
              "      <th>Loss Train</th>\n",
              "      <th>Loss Test</th>\n",
              "    </tr>\n",
              "  </thead>\n",
              "  <tbody>\n",
              "    <tr>\n",
              "      <th>MLP</th>\n",
              "      <td>784-128-128-128-10</td>\n",
              "      <td>2secs</td>\n",
              "      <td>0.9962666666666666</td>\n",
              "      <td>0.9827</td>\n",
              "      <td>0.013983017520932482</td>\n",
              "      <td>0.06370132064592908</td>\n",
              "    </tr>\n",
              "  </tbody>\n",
              "</table>\n",
              "</div>"
            ],
            "text/plain": [
              "           Architecture Epoch time      Accuracy Train Accuracy Test  \\\n",
              "MLP  784-128-128-128-10      2secs  0.9962666666666666        0.9827   \n",
              "\n",
              "               Loss Train            Loss Test  \n",
              "MLP  0.013983017520932482  0.06370132064592908  "
            ]
          },
          "metadata": {
            "tags": []
          },
          "execution_count": 53
        }
      ]
    },
    {
      "cell_type": "code",
      "metadata": {
        "id": "owbSbSxjG19w",
        "colab_type": "code",
        "colab": {
          "base_uri": "https://localhost:8080/",
          "height": 348
        },
        "outputId": "be2de5c9-a01a-427f-de79-37c39f2fd1aa"
      },
      "source": [
        "print(y_train[0:19])#0 4 1 2 3"
      ],
      "execution_count": 70,
      "outputs": [
        {
          "output_type": "stream",
          "text": [
            "[[0. 0. 0. 0. 0. 1. 0. 0. 0. 0.]\n",
            " [1. 0. 0. 0. 0. 0. 0. 0. 0. 0.]\n",
            " [0. 0. 0. 0. 1. 0. 0. 0. 0. 0.]\n",
            " [0. 1. 0. 0. 0. 0. 0. 0. 0. 0.]\n",
            " [0. 0. 0. 0. 0. 0. 0. 0. 0. 1.]\n",
            " [0. 0. 1. 0. 0. 0. 0. 0. 0. 0.]\n",
            " [0. 1. 0. 0. 0. 0. 0. 0. 0. 0.]\n",
            " [0. 0. 0. 1. 0. 0. 0. 0. 0. 0.]\n",
            " [0. 1. 0. 0. 0. 0. 0. 0. 0. 0.]\n",
            " [0. 0. 0. 0. 1. 0. 0. 0. 0. 0.]\n",
            " [0. 0. 0. 1. 0. 0. 0. 0. 0. 0.]\n",
            " [0. 0. 0. 0. 0. 1. 0. 0. 0. 0.]\n",
            " [0. 0. 0. 1. 0. 0. 0. 0. 0. 0.]\n",
            " [0. 0. 0. 0. 0. 0. 1. 0. 0. 0.]\n",
            " [0. 1. 0. 0. 0. 0. 0. 0. 0. 0.]\n",
            " [0. 0. 0. 0. 0. 0. 0. 1. 0. 0.]\n",
            " [0. 0. 1. 0. 0. 0. 0. 0. 0. 0.]\n",
            " [0. 0. 0. 0. 0. 0. 0. 0. 1. 0.]\n",
            " [0. 0. 0. 0. 0. 0. 1. 0. 0. 0.]]\n"
          ],
          "name": "stdout"
        }
      ]
    },
    {
      "cell_type": "code",
      "metadata": {
        "id": "fuu-FKOUNdmi",
        "colab_type": "code",
        "colab": {
          "base_uri": "https://localhost:8080/",
          "height": 191
        },
        "outputId": "9ca887c2-6c0e-4724-e8a6-680848d175c0"
      },
      "source": [
        "\n",
        "\n",
        "#y_train_selected=np.append(y_train_selected,y_train[metrix:metrix+1],axis=0)\n",
        "even=y_train[1:2]\n",
        "odd=y_train[3:4]\n",
        "for i in [ 5,2,13,17]:\n",
        "  even=np.append(even,y_train[i:i+1],axis=0)\n",
        "for i in [ 7,0,15,4]:\n",
        "  odd=np.append(odd,y_train[i:i+1],axis=0)\n",
        "\n",
        "  \n",
        "\n",
        "          \n",
        "if y_train[1:2] in even:\n",
        "  print(even)\n",
        "print(odd)\n"
      ],
      "execution_count": 78,
      "outputs": [
        {
          "output_type": "stream",
          "text": [
            "[[1. 0. 0. 0. 0. 0. 0. 0. 0. 0.]\n",
            " [0. 0. 1. 0. 0. 0. 0. 0. 0. 0.]\n",
            " [0. 0. 0. 0. 1. 0. 0. 0. 0. 0.]\n",
            " [0. 0. 0. 0. 0. 0. 1. 0. 0. 0.]\n",
            " [0. 0. 0. 0. 0. 0. 0. 0. 1. 0.]]\n",
            "[[0. 1. 0. 0. 0. 0. 0. 0. 0. 0.]\n",
            " [0. 0. 0. 1. 0. 0. 0. 0. 0. 0.]\n",
            " [0. 0. 0. 0. 0. 1. 0. 0. 0. 0.]\n",
            " [0. 0. 0. 0. 0. 0. 0. 1. 0. 0.]\n",
            " [0. 0. 0. 0. 0. 0. 0. 0. 0. 1.]]\n"
          ],
          "name": "stdout"
        }
      ]
    },
    {
      "cell_type": "code",
      "metadata": {
        "id": "_sn_BoG1DXcO",
        "colab_type": "code",
        "outputId": "e6a1d004-c9f9-438c-f252-2a8afb60fa7c",
        "colab": {
          "base_uri": "https://localhost:8080/",
          "height": 69
        }
      },
      "source": [
        "#tuple & list operation\n",
        "tup=(1,2,3,4,5)\n",
        "lst=list(tup)\n",
        "print(len(lst))\n",
        "\n",
        "i=0\n",
        "while i < len(lst):\n",
        "    if (lst[i]%2)==0:\n",
        "        lst[i]=0\n",
        "    else:\n",
        "        lst[i]=1\n",
        "    i+=1\n",
        "print(lst)\n",
        "\n",
        "tup=tuple(lst)\n",
        "print(tup)\n"
      ],
      "execution_count": 0,
      "outputs": [
        {
          "output_type": "stream",
          "text": [
            "5\n",
            "[1, 0, 1, 0, 1]\n",
            "(1, 0, 1, 0, 1)\n"
          ],
          "name": "stdout"
        }
      ]
    },
    {
      "cell_type": "markdown",
      "metadata": {
        "colab_type": "text",
        "id": "Y-uv7zu85TrZ"
      },
      "source": [
        "##Homework by Pepper\n",
        "\n"
      ]
    },
    {
      "cell_type": "markdown",
      "metadata": {
        "id": "vereTAZGY8dN",
        "colab_type": "text"
      },
      "source": [
        "### Task 3.1 : choose a better MLP architecture\n",
        "\n",
        "\n",
        "\n",
        "Using all the training data, search for a good CNN architecture to model the MNIST problem. Above we explored 784-128-128-128-10.\n",
        " \n",
        "\n",
        "It is up to you what the model will be. Here are some things you need to decide:\n",
        "1. how many DENSE layers?\n",
        "```python\n",
        "'3 dense layers'\n",
        "'1 hidden layers'\n",
        "```\n",
        "* how manu neurons per layer\n",
        "```python\n",
        "'256 per layer'\n",
        "```\n",
        "* report the accuracy on the test data set\n",
        "```python\n",
        "'784-256-10\t\taccuracy_train:0.99995\taccuracy_test:0.982'\n",
        "```\n",
        "**Please paste your response here using the following format:** \n",
        "* Best archtecture is:  \n",
        "```python\n",
        "'784-256-10\t\t\n",
        "```\n",
        "* Test accuracy: \n",
        "```python\n",
        "'accuracy_train:0.99995\taccuracy_test:0.982'\n",
        "```\n",
        "* Training time per epoch in seconds is : \n",
        "```python\n",
        "'1secs'\n",
        "```\n",
        "\n"
      ]
    },
    {
      "cell_type": "code",
      "metadata": {
        "colab_type": "code",
        "cellView": "code",
        "outputId": "8edaaa5b-c0bc-4922-c991-24f702f8d598",
        "id": "bdQqzhV35Tra",
        "colab": {
          "base_uri": "https://localhost:8080/",
          "height": 54
        }
      },
      "source": [
        "\n",
        "#written by Pepper before 5pm Tuesday\n",
        "\n",
        "results = pd.DataFrame(columns=[\"Architecture\", \"Epoch time\", \"Accuracy Train\", \"Accuracy Test\", \"Loss Train\", \"Loss Test\"])\n",
        "\n",
        "\n",
        "for dense_layer in [4,3,2,1]:\n",
        "  for neuron in [256,128,64,12]:\n",
        "    architecture = '784-'+str(neuron)  \n",
        "    \n",
        "    model_dense = Sequential()  \n",
        "    model_dense.add(Dense(neuron, input_shape=(img_rows * img_cols,), activation=\"relu\"))\n",
        "    \n",
        "    time = 1\n",
        "    while time < dense_layer:#pair other nodes using while loop\n",
        "      architecture+='-'+str(neuron)   \n",
        "      model_dense.add(Dense(neuron, activation=\"relu\"))\n",
        "      time+=1\n",
        "             \n",
        "'''\n",
        "#2nd version\n",
        "#def list_all_architecture():\n",
        "neurons=[256,128,64,12]\n",
        "for dense_layer in range(1,4):#list all achitecture using 2 for loops\n",
        "  for n in range(1,4):\n",
        "    architecture = '784-'+str(neurons[n]) #architecture name     \n",
        "    \n",
        "    model_dense = Sequential()  \n",
        "    model_dense.add(Dense(neurons[n], input_shape=(img_rows * img_cols,), activation=\"relu\"))\n",
        "    \n",
        "    \n",
        "    \n",
        "    while n < dense_layer:#pair other nodes using while loop\n",
        "      architecture+='-'+str(neurons[n+1])  #architecture name   \n",
        "      \n",
        "      model_dense.add(Dense(neurons[n+1], activation=\"relu\"))\n",
        "      time+=1\n",
        " '''  \n",
        "      \n",
        "      \n",
        "    model_dense.add(Dense(nb_classes, activation=\"softmax\"))\n",
        "    architecture+=\"-10\"\n",
        "      \n",
        "    #compile before training & testing  \n",
        "    model_dense.compile(loss='categorical_crossentropy',\n",
        "                  optimizer='adam',\n",
        "                  metrics=['accuracy'])\n",
        "    \n",
        "    #training & testing (thought this was plotting and deleted, and got 0.01% of accuracy)\n",
        "    hist = model_dense.fit(X_train.reshape((len(X_train), img_cols * img_rows)), y_train, \n",
        "          validation_data = (X_test.reshape((len(X_test), img_cols * img_rows)), y_test), \n",
        "          epochs=20, batch_size=128)\n",
        "\n",
        "    \n",
        "    \n",
        "    score_train = model_dense.evaluate(X_train.reshape((len(X_train), img_cols * img_rows)), y_train, verbose=0)\n",
        "    score_test = model_dense.evaluate(X_test.reshape((len(X_test), img_cols * img_rows)), y_test, verbose=0)\n",
        "\n",
        "\n",
        "      \n",
        "    results.loc[len(results)] = np.array([architecture, \"1secs\", score_train[1], score_test[1], score_train[0], score_test[0]])\n",
        "    #results.index = [\"MLP\"]\n",
        "\n",
        "results\n",
        "      \n",
        "#list_all_architecture()\n",
        "'''"
      ],
      "execution_count": 0,
      "outputs": [
        {
          "output_type": "execute_result",
          "data": {
            "text/plain": [
              "'\\n#written by Pepper before 5pm Tuesday\\n\\nresults = pd.DataFrame(columns=[\"Architecture\", \"Epoch time\", \"Accuracy Train\", \"Accuracy Test\", \"Loss Train\", \"Loss Test\"])\\n\\n\\nfor dense_layer in [4,3,2,1]:\\n  for neuron in [256,128,64,12]:\\n    architecture = \\'784-\\'+str(neuron)  \\n    \\n    model_dense = Sequential()  \\n    model_dense.add(Dense(neuron, input_shape=(img_rows * img_cols,), activation=\"relu\"))\\n    \\n    time = 1\\n    while time < dense_layer:#pair other nodes using while loop\\n      architecture+=\\'-\\'+str(neuron)   \\n      model_dense.add(Dense(neuron, activation=\"relu\"))\\n      time+=1\\n             \\n\\'\\'\\n#def list_all_architecture():\\nneurons=[256,128,64,12]\\nfor dense_layer in range(1,4):#list all achitecture using 2 for loops\\n  for n in range(1,4):\\n    architecture = \\'784-\\'+str(neurons[n]) #architecture name     \\n    \\n    model_dense = Sequential()  \\n    model_dense.add(Dense(neurons[n], input_shape=(img_rows * img_cols,), activation=\"relu\"))\\n    \\n    \\n    \\n    while n < dense_layer:#pair other nodes using while loop\\n      architecture+=\\'-\\'+str(neurons[n+1])  #architecture name   \\n      \\n      model_dense.add(Dense(neurons[n+1], activation=\"relu\"))\\n      time+=1\\n \\'\\'   \\n      \\n      \\n    model_dense.add(Dense(nb_classes, activation=\"softmax\"))\\n    architecture+=\"-10\"\\n      \\n    #compile before training & testing  \\n    model_dense.compile(loss=\\'categorical_crossentropy\\',\\n                  optimizer=\\'adam\\',\\n                  metrics=[\\'accuracy\\'])\\n    \\n    #training & testing (thought this was plotting and deleted, and got 0.01% of accuracy)\\n    hist = model_dense.fit(X_train.reshape((len(X_train), img_cols * img_rows)), y_train, \\n          validation_data = (X_test.reshape((len(X_test), img_cols * img_rows)), y_test), \\n          epochs=20, batch_size=128)\\n\\n    \\n    \\n    score_train = model_dense.evaluate(X_train.reshape((len(X_train), img_cols * img_rows)), y_train, verbose=0)\\n    score_test = model_dense.evaluate(X_test.reshape((len(X_test), img_cols * img_rows)), y_test, verbose=0)\\n\\n\\n      \\n    results.loc[len(results)] = np.array([architecture, \"1secs\", score_train[1], score_test[1], score_train[0], score_test[0]])\\n    #results.index = [\"MLP\"]\\n\\nresults\\n      \\n#list_all_architecture()'"
            ]
          },
          "metadata": {
            "tags": []
          },
          "execution_count": 45
        }
      ]
    },
    {
      "cell_type": "markdown",
      "metadata": {
        "id": "RDvLetT_g6Bd",
        "colab_type": "text"
      },
      "source": [
        "###Task 3.2 : with 500 training examples\n",
        "\n",
        "Use only 500 examples per class (recall we  have only 10 classes) and find the best architecture. (HINT you can do  stratified sampling OR just random selxtion of 5,000 examples)\n",
        "\n",
        "**Please paste your response here:** \n",
        "* Best archtecture is:  \n",
        "784-256-256-256-256-10\t\n",
        "* Test accuracy: \n",
        "\n",
        " 0.8731\n",
        "* Training time per epoch in seconds is : \n",
        "\n",
        " 1secs"
      ]
    },
    {
      "cell_type": "code",
      "metadata": {
        "id": "X9_OOZGyy_mD",
        "colab_type": "code",
        "outputId": "54a134b4-c20e-42ac-ad7f-5a5ca018b472",
        "colab": {
          "base_uri": "https://localhost:8080/",
          "height": 11974
        }
      },
      "source": [
        "\n",
        "\n",
        "import numpy as np\n",
        "import random\n",
        "\n",
        "'''\n",
        "\n",
        "\n",
        "#X_train & y_train are matrices\n",
        "list_random=np.random.random(500)*59999\n",
        "#list_random=np.random.randint(2,len(X_train)-1)\n",
        "for matrix in list_random:\n",
        "  X_train_selected=X_train[0:1]\n",
        "  y_train_selected=y_train[0:1]\n",
        "  matrix= int(round(matrix))\n",
        "  #print(len(list_random))\n",
        "  #print(matrix)\n",
        "  #print(X_train[matrix:matrix+1])\n",
        "  X_train_selected=np.append(X_train_selected,X_train[matrix:matrix+1],axis=0)\n",
        "  y_train_selected=np.append(y_train_selected,y_train[matrix:matrix+1],axis=0)\n",
        "\n",
        "print(len(X_train_selected))\n",
        "'''\n",
        "\n",
        "#randomly select\n",
        "\n",
        "X_train_selected=X_train[0:1]\n",
        "y_train_selected=y_train[0:1]\n",
        "X_test_selected=X_test[0:1]\n",
        "y_test_selected=y_test[0:1]\n",
        "#list_random=np.random.random(5)*(len(X_train)-1)\n",
        "i=0\n",
        "while(i<500):\n",
        "\n",
        "    metrix=np.random.randint(2,59999)\n",
        "    X_train_selected=np.append(X_train_selected,X_train[metrix:metrix+1],axis=0)\n",
        "    y_train_selected=np.append(y_train_selected,y_train[metrix:metrix+1],axis=0)\n",
        "    i=i+1\n",
        "i=0\n",
        "while(i<100):\n",
        "    i=i+1\n",
        "    metrix2=np.random.randint(2,10000)\n",
        "    X_test_selected=np.append(X_test_selected,X_test[metrix:metrix+1],axis=0)\n",
        "    y_test_selected=np.append(y_test_selected,y_test[metrix:metrix+1],axis=0)\n",
        "    \n",
        "#print(len(X_train_selected))\n",
        "\n",
        "#train\n",
        "results = pd.DataFrame(columns=[\"Architecture\", \"Epoch time\", \"Accuracy Train\", \"Accuracy Test\", \"Loss Train\", \"Loss Test\"])\n",
        "\n",
        "\n",
        "for dense_layer in [4,3,2,1]:\n",
        "  for neuron in [256,128,64,12]:\n",
        "    architecture = '784-'+str(neuron)  \n",
        "    \n",
        "    model_dense = Sequential()  \n",
        "    model_dense.add(Dense(neuron, input_shape=(img_rows * img_cols,), activation=\"relu\"))\n",
        "    \n",
        "    time = 1\n",
        "    while time < dense_layer:#pair other nodes using while loop\n",
        "      architecture+='-'+str(neuron)   \n",
        "      model_dense.add(Dense(neuron, activation=\"relu\"))\n",
        "      time+=1\n",
        "             \n",
        "\n",
        "      \n",
        "      \n",
        "    model_dense.add(Dense(nb_classes, activation=\"softmax\"))\n",
        "    architecture+=\"-10\"\n",
        "      \n",
        "    #compile before training & testing  \n",
        "    model_dense.compile(loss='categorical_crossentropy',\n",
        "                  optimizer='adam',\n",
        "                  metrics=['accuracy'])\n",
        "    \n",
        "    #training & testing (thought this was plotting and deleted, and got 0.01% of accuracy)\n",
        "    hist = model_dense.fit(X_train_selected.reshape((len(X_train_selected), img_cols * img_rows)), y_train_selected, \n",
        "          validation_data = (X_test_selected.reshape((len(X_test_selected), img_cols * img_rows)), y_test_selected), \n",
        "          epochs=20, batch_size=128)\n",
        "\n",
        "    \n",
        "    \n",
        "    score_train = model_dense.evaluate(X_train_selected.reshape((len(X_train_selected), img_cols * img_rows)), y_train_selected, verbose=0)\n",
        "    score_test = model_dense.evaluate(X_test_selected.reshape((len(X_test_selected), img_cols * img_rows)), y_test_selected, verbose=0)\n",
        "\n",
        "\n",
        "      \n",
        "    results.loc[len(results)] = np.array([architecture, \"1secs\", score_train[1], score_test[1], score_train[0], score_test[0]])\n",
        "    #results.index = [\"MLP\"]\n",
        "\n",
        "results\n",
        "      "
      ],
      "execution_count": 90,
      "outputs": [
        {
          "output_type": "stream",
          "text": [
            "Train on 501 samples, validate on 1 samples\n",
            "Epoch 1/20\n",
            "501/501 [==============================] - 2s 5ms/step - loss: 2.2094 - acc: 0.2455 - val_loss: 2.0540 - val_acc: 1.0000\n",
            "Epoch 2/20\n",
            "501/501 [==============================] - 0s 139us/step - loss: 1.7456 - acc: 0.6188 - val_loss: 1.2299 - val_acc: 1.0000\n",
            "Epoch 3/20\n",
            "501/501 [==============================] - 0s 132us/step - loss: 1.0779 - acc: 0.7585 - val_loss: 0.3095 - val_acc: 1.0000\n",
            "Epoch 4/20\n",
            "501/501 [==============================] - 0s 131us/step - loss: 0.5843 - acc: 0.8683 - val_loss: 0.0283 - val_acc: 1.0000\n",
            "Epoch 5/20\n",
            "501/501 [==============================] - 0s 132us/step - loss: 0.3767 - acc: 0.8982 - val_loss: 0.0052 - val_acc: 1.0000\n",
            "Epoch 6/20\n",
            "501/501 [==============================] - 0s 134us/step - loss: 0.2420 - acc: 0.9281 - val_loss: 9.1976e-04 - val_acc: 1.0000\n",
            "Epoch 7/20\n",
            "501/501 [==============================] - 0s 131us/step - loss: 0.1596 - acc: 0.9561 - val_loss: 1.3251e-04 - val_acc: 1.0000\n",
            "Epoch 8/20\n",
            "501/501 [==============================] - 0s 133us/step - loss: 0.1125 - acc: 0.9621 - val_loss: 8.2056e-04 - val_acc: 1.0000\n",
            "Epoch 9/20\n",
            "501/501 [==============================] - 0s 138us/step - loss: 0.0770 - acc: 0.9820 - val_loss: 4.0115e-05 - val_acc: 1.0000\n",
            "Epoch 10/20\n",
            "501/501 [==============================] - 0s 129us/step - loss: 0.0420 - acc: 0.9940 - val_loss: 1.2279e-04 - val_acc: 1.0000\n",
            "Epoch 11/20\n",
            "501/501 [==============================] - 0s 140us/step - loss: 0.0292 - acc: 0.9940 - val_loss: 7.0932e-05 - val_acc: 1.0000\n",
            "Epoch 12/20\n",
            "501/501 [==============================] - 0s 134us/step - loss: 0.0203 - acc: 1.0000 - val_loss: 1.6570e-05 - val_acc: 1.0000\n",
            "Epoch 13/20\n",
            "501/501 [==============================] - 0s 128us/step - loss: 0.0129 - acc: 1.0000 - val_loss: 2.4081e-05 - val_acc: 1.0000\n",
            "Epoch 14/20\n",
            "501/501 [==============================] - 0s 136us/step - loss: 0.0094 - acc: 1.0000 - val_loss: 2.0147e-05 - val_acc: 1.0000\n",
            "Epoch 15/20\n",
            "501/501 [==============================] - 0s 141us/step - loss: 0.0053 - acc: 1.0000 - val_loss: 3.9339e-06 - val_acc: 1.0000\n",
            "Epoch 16/20\n",
            "501/501 [==============================] - 0s 128us/step - loss: 0.0051 - acc: 1.0000 - val_loss: 2.6226e-06 - val_acc: 1.0000\n",
            "Epoch 17/20\n",
            "501/501 [==============================] - 0s 134us/step - loss: 0.0029 - acc: 1.0000 - val_loss: 3.8147e-06 - val_acc: 1.0000\n",
            "Epoch 18/20\n",
            "501/501 [==============================] - 0s 129us/step - loss: 0.0022 - acc: 1.0000 - val_loss: 4.0531e-06 - val_acc: 1.0000\n",
            "Epoch 19/20\n",
            "501/501 [==============================] - 0s 133us/step - loss: 0.0020 - acc: 1.0000 - val_loss: 2.7418e-06 - val_acc: 1.0000\n",
            "Epoch 20/20\n",
            "501/501 [==============================] - 0s 144us/step - loss: 0.0017 - acc: 1.0000 - val_loss: 1.3113e-06 - val_acc: 1.0000\n",
            "Train on 501 samples, validate on 1 samples\n",
            "Epoch 1/20\n",
            "501/501 [==============================] - 3s 5ms/step - loss: 2.2522 - acc: 0.1497 - val_loss: 2.1856 - val_acc: 1.0000\n",
            "Epoch 2/20\n",
            "501/501 [==============================] - 0s 85us/step - loss: 2.0112 - acc: 0.4351 - val_loss: 1.7320 - val_acc: 1.0000\n",
            "Epoch 3/20\n",
            "501/501 [==============================] - 0s 80us/step - loss: 1.6583 - acc: 0.5549 - val_loss: 0.9882 - val_acc: 1.0000\n",
            "Epoch 4/20\n",
            "501/501 [==============================] - 0s 74us/step - loss: 1.1823 - acc: 0.7465 - val_loss: 0.4331 - val_acc: 1.0000\n",
            "Epoch 5/20\n",
            "501/501 [==============================] - 0s 85us/step - loss: 0.7761 - acc: 0.8244 - val_loss: 0.1597 - val_acc: 1.0000\n",
            "Epoch 6/20\n",
            "501/501 [==============================] - 0s 80us/step - loss: 0.5461 - acc: 0.8603 - val_loss: 0.0548 - val_acc: 1.0000\n",
            "Epoch 7/20\n",
            "501/501 [==============================] - 0s 81us/step - loss: 0.4009 - acc: 0.8982 - val_loss: 0.0178 - val_acc: 1.0000\n",
            "Epoch 8/20\n",
            "501/501 [==============================] - 0s 87us/step - loss: 0.2964 - acc: 0.9222 - val_loss: 0.0256 - val_acc: 1.0000\n",
            "Epoch 9/20\n",
            "501/501 [==============================] - 0s 78us/step - loss: 0.2472 - acc: 0.9301 - val_loss: 0.0086 - val_acc: 1.0000\n",
            "Epoch 10/20\n",
            "501/501 [==============================] - 0s 80us/step - loss: 0.1816 - acc: 0.9561 - val_loss: 0.0050 - val_acc: 1.0000\n",
            "Epoch 11/20\n",
            "501/501 [==============================] - 0s 82us/step - loss: 0.1338 - acc: 0.9741 - val_loss: 0.0049 - val_acc: 1.0000\n",
            "Epoch 12/20\n",
            "501/501 [==============================] - 0s 80us/step - loss: 0.1005 - acc: 0.9721 - val_loss: 0.0046 - val_acc: 1.0000\n",
            "Epoch 13/20\n",
            "501/501 [==============================] - 0s 86us/step - loss: 0.0781 - acc: 0.9840 - val_loss: 0.0017 - val_acc: 1.0000\n",
            "Epoch 14/20\n",
            "501/501 [==============================] - 0s 81us/step - loss: 0.0580 - acc: 0.9940 - val_loss: 0.0024 - val_acc: 1.0000\n",
            "Epoch 15/20\n",
            "501/501 [==============================] - 0s 80us/step - loss: 0.0397 - acc: 0.9960 - val_loss: 0.0018 - val_acc: 1.0000\n",
            "Epoch 16/20\n",
            "501/501 [==============================] - 0s 82us/step - loss: 0.0326 - acc: 1.0000 - val_loss: 8.0188e-04 - val_acc: 1.0000\n",
            "Epoch 17/20\n",
            "501/501 [==============================] - 0s 85us/step - loss: 0.0242 - acc: 1.0000 - val_loss: 8.2109e-04 - val_acc: 1.0000\n",
            "Epoch 18/20\n",
            "501/501 [==============================] - 0s 89us/step - loss: 0.0194 - acc: 1.0000 - val_loss: 6.9231e-04 - val_acc: 1.0000\n",
            "Epoch 19/20\n",
            "501/501 [==============================] - 0s 89us/step - loss: 0.0155 - acc: 1.0000 - val_loss: 3.6246e-04 - val_acc: 1.0000\n",
            "Epoch 20/20\n",
            "501/501 [==============================] - 0s 80us/step - loss: 0.0120 - acc: 1.0000 - val_loss: 2.4673e-04 - val_acc: 1.0000\n",
            "Train on 501 samples, validate on 1 samples\n",
            "Epoch 1/20\n",
            "501/501 [==============================] - 3s 5ms/step - loss: 2.2730 - acc: 0.1457 - val_loss: 2.1127 - val_acc: 0.0000e+00\n",
            "Epoch 2/20\n",
            "501/501 [==============================] - 0s 66us/step - loss: 2.1494 - acc: 0.1756 - val_loss: 1.8903 - val_acc: 1.0000\n",
            "Epoch 3/20\n",
            "501/501 [==============================] - 0s 58us/step - loss: 1.9859 - acc: 0.3333 - val_loss: 1.4849 - val_acc: 1.0000\n",
            "Epoch 4/20\n",
            "501/501 [==============================] - 0s 51us/step - loss: 1.7640 - acc: 0.4890 - val_loss: 0.8847 - val_acc: 1.0000\n",
            "Epoch 5/20\n",
            "501/501 [==============================] - 0s 55us/step - loss: 1.4840 - acc: 0.6008 - val_loss: 0.4741 - val_acc: 1.0000\n",
            "Epoch 6/20\n",
            "501/501 [==============================] - 0s 59us/step - loss: 1.1864 - acc: 0.7006 - val_loss: 0.2404 - val_acc: 1.0000\n",
            "Epoch 7/20\n",
            "501/501 [==============================] - 0s 62us/step - loss: 0.9292 - acc: 0.7884 - val_loss: 0.0970 - val_acc: 1.0000\n",
            "Epoch 8/20\n",
            "501/501 [==============================] - 0s 61us/step - loss: 0.7126 - acc: 0.8244 - val_loss: 0.0356 - val_acc: 1.0000\n",
            "Epoch 9/20\n",
            "501/501 [==============================] - 0s 57us/step - loss: 0.5485 - acc: 0.8583 - val_loss: 0.0200 - val_acc: 1.0000\n",
            "Epoch 10/20\n",
            "501/501 [==============================] - 0s 62us/step - loss: 0.4242 - acc: 0.9002 - val_loss: 0.0066 - val_acc: 1.0000\n",
            "Epoch 11/20\n",
            "501/501 [==============================] - 0s 60us/step - loss: 0.3342 - acc: 0.9222 - val_loss: 0.0044 - val_acc: 1.0000\n",
            "Epoch 12/20\n",
            "501/501 [==============================] - 0s 57us/step - loss: 0.2729 - acc: 0.9421 - val_loss: 0.0023 - val_acc: 1.0000\n",
            "Epoch 13/20\n",
            "501/501 [==============================] - 0s 60us/step - loss: 0.2165 - acc: 0.9641 - val_loss: 0.0011 - val_acc: 1.0000\n",
            "Epoch 14/20\n",
            "501/501 [==============================] - 0s 51us/step - loss: 0.1759 - acc: 0.9661 - val_loss: 8.5969e-04 - val_acc: 1.0000\n",
            "Epoch 15/20\n",
            "501/501 [==============================] - 0s 59us/step - loss: 0.1483 - acc: 0.9760 - val_loss: 4.9836e-04 - val_acc: 1.0000\n",
            "Epoch 16/20\n",
            "501/501 [==============================] - 0s 60us/step - loss: 0.1173 - acc: 0.9760 - val_loss: 2.1526e-04 - val_acc: 1.0000\n",
            "Epoch 17/20\n",
            "501/501 [==============================] - 0s 55us/step - loss: 0.0963 - acc: 0.9860 - val_loss: 1.7293e-04 - val_acc: 1.0000\n",
            "Epoch 18/20\n",
            "501/501 [==============================] - 0s 53us/step - loss: 0.0829 - acc: 0.9900 - val_loss: 1.5946e-04 - val_acc: 1.0000\n",
            "Epoch 19/20\n",
            "501/501 [==============================] - 0s 49us/step - loss: 0.0690 - acc: 0.9900 - val_loss: 6.8309e-05 - val_acc: 1.0000\n",
            "Epoch 20/20\n",
            "501/501 [==============================] - 0s 65us/step - loss: 0.0604 - acc: 0.9940 - val_loss: 2.8730e-05 - val_acc: 1.0000\n",
            "Train on 501 samples, validate on 1 samples\n",
            "Epoch 1/20\n",
            "501/501 [==============================] - 3s 5ms/step - loss: 2.3198 - acc: 0.0858 - val_loss: 2.3432 - val_acc: 0.0000e+00\n",
            "Epoch 2/20\n",
            "501/501 [==============================] - 0s 45us/step - loss: 2.2853 - acc: 0.1357 - val_loss: 2.3093 - val_acc: 0.0000e+00\n",
            "Epoch 3/20\n",
            "501/501 [==============================] - 0s 39us/step - loss: 2.2598 - acc: 0.1697 - val_loss: 2.2796 - val_acc: 0.0000e+00\n",
            "Epoch 4/20\n",
            "501/501 [==============================] - 0s 39us/step - loss: 2.2320 - acc: 0.1537 - val_loss: 2.2581 - val_acc: 0.0000e+00\n",
            "Epoch 5/20\n",
            "501/501 [==============================] - 0s 39us/step - loss: 2.2007 - acc: 0.1497 - val_loss: 2.2492 - val_acc: 0.0000e+00\n",
            "Epoch 6/20\n",
            "501/501 [==============================] - 0s 40us/step - loss: 2.1704 - acc: 0.1597 - val_loss: 2.2381 - val_acc: 0.0000e+00\n",
            "Epoch 7/20\n",
            "501/501 [==============================] - 0s 40us/step - loss: 2.1411 - acc: 0.2016 - val_loss: 2.2229 - val_acc: 0.0000e+00\n",
            "Epoch 8/20\n",
            "501/501 [==============================] - 0s 39us/step - loss: 2.1137 - acc: 0.2475 - val_loss: 2.1989 - val_acc: 0.0000e+00\n",
            "Epoch 9/20\n",
            "501/501 [==============================] - 0s 42us/step - loss: 2.0881 - acc: 0.2754 - val_loss: 2.1656 - val_acc: 0.0000e+00\n",
            "Epoch 10/20\n",
            "501/501 [==============================] - 0s 42us/step - loss: 2.0635 - acc: 0.2814 - val_loss: 2.1267 - val_acc: 0.0000e+00\n",
            "Epoch 11/20\n",
            "501/501 [==============================] - 0s 46us/step - loss: 2.0408 - acc: 0.2735 - val_loss: 2.0745 - val_acc: 0.0000e+00\n",
            "Epoch 12/20\n",
            "501/501 [==============================] - 0s 42us/step - loss: 2.0164 - acc: 0.2774 - val_loss: 2.0103 - val_acc: 0.0000e+00\n",
            "Epoch 13/20\n",
            "501/501 [==============================] - 0s 41us/step - loss: 1.9910 - acc: 0.3014 - val_loss: 1.9535 - val_acc: 0.0000e+00\n",
            "Epoch 14/20\n",
            "501/501 [==============================] - 0s 42us/step - loss: 1.9644 - acc: 0.3054 - val_loss: 1.8968 - val_acc: 0.0000e+00\n",
            "Epoch 15/20\n",
            "501/501 [==============================] - 0s 45us/step - loss: 1.9348 - acc: 0.3074 - val_loss: 1.8397 - val_acc: 0.0000e+00\n",
            "Epoch 16/20\n",
            "501/501 [==============================] - 0s 49us/step - loss: 1.9067 - acc: 0.3273 - val_loss: 1.7807 - val_acc: 0.0000e+00\n",
            "Epoch 17/20\n",
            "501/501 [==============================] - 0s 42us/step - loss: 1.8724 - acc: 0.3333 - val_loss: 1.7216 - val_acc: 0.0000e+00\n",
            "Epoch 18/20\n",
            "501/501 [==============================] - 0s 38us/step - loss: 1.8356 - acc: 0.3273 - val_loss: 1.6537 - val_acc: 0.0000e+00\n",
            "Epoch 19/20\n",
            "501/501 [==============================] - 0s 40us/step - loss: 1.7979 - acc: 0.3273 - val_loss: 1.5818 - val_acc: 0.0000e+00\n",
            "Epoch 20/20\n",
            "501/501 [==============================] - 0s 42us/step - loss: 1.7568 - acc: 0.3313 - val_loss: 1.5086 - val_acc: 0.0000e+00\n",
            "Train on 501 samples, validate on 1 samples\n",
            "Epoch 1/20\n",
            "501/501 [==============================] - 3s 6ms/step - loss: 2.1840 - acc: 0.3194 - val_loss: 1.9037 - val_acc: 1.0000\n",
            "Epoch 2/20\n",
            "501/501 [==============================] - 0s 129us/step - loss: 1.6753 - acc: 0.6747 - val_loss: 0.7793 - val_acc: 1.0000\n",
            "Epoch 3/20\n",
            "501/501 [==============================] - 0s 116us/step - loss: 1.0430 - acc: 0.7804 - val_loss: 0.1237 - val_acc: 1.0000\n",
            "Epoch 4/20\n",
            "501/501 [==============================] - 0s 117us/step - loss: 0.5936 - acc: 0.8643 - val_loss: 0.0106 - val_acc: 1.0000\n",
            "Epoch 5/20\n",
            "501/501 [==============================] - 0s 118us/step - loss: 0.3855 - acc: 0.8862 - val_loss: 0.0038 - val_acc: 1.0000\n",
            "Epoch 6/20\n",
            "501/501 [==============================] - 0s 118us/step - loss: 0.2744 - acc: 0.9102 - val_loss: 7.0185e-04 - val_acc: 1.0000\n",
            "Epoch 7/20\n",
            "501/501 [==============================] - 0s 112us/step - loss: 0.1803 - acc: 0.9581 - val_loss: 0.0014 - val_acc: 1.0000\n",
            "Epoch 8/20\n",
            "501/501 [==============================] - 0s 116us/step - loss: 0.1294 - acc: 0.9681 - val_loss: 5.0039e-04 - val_acc: 1.0000\n",
            "Epoch 9/20\n",
            "501/501 [==============================] - 0s 114us/step - loss: 0.0817 - acc: 0.9860 - val_loss: 2.8579e-04 - val_acc: 1.0000\n",
            "Epoch 10/20\n",
            "501/501 [==============================] - 0s 112us/step - loss: 0.0576 - acc: 0.9900 - val_loss: 2.6605e-04 - val_acc: 1.0000\n",
            "Epoch 11/20\n",
            "501/501 [==============================] - 0s 116us/step - loss: 0.0476 - acc: 0.9900 - val_loss: 1.9761e-04 - val_acc: 1.0000\n",
            "Epoch 12/20\n",
            "501/501 [==============================] - 0s 114us/step - loss: 0.0324 - acc: 1.0000 - val_loss: 1.5236e-04 - val_acc: 1.0000\n",
            "Epoch 13/20\n",
            "501/501 [==============================] - 0s 120us/step - loss: 0.0183 - acc: 1.0000 - val_loss: 4.5599e-05 - val_acc: 1.0000\n",
            "Epoch 14/20\n",
            "501/501 [==============================] - 0s 117us/step - loss: 0.0167 - acc: 1.0000 - val_loss: 3.8923e-05 - val_acc: 1.0000\n",
            "Epoch 15/20\n",
            "501/501 [==============================] - 0s 119us/step - loss: 0.0111 - acc: 1.0000 - val_loss: 5.7222e-05 - val_acc: 1.0000\n",
            "Epoch 16/20\n",
            "501/501 [==============================] - 0s 125us/step - loss: 0.0080 - acc: 1.0000 - val_loss: 4.2082e-05 - val_acc: 1.0000\n",
            "Epoch 17/20\n",
            "501/501 [==============================] - 0s 120us/step - loss: 0.0061 - acc: 1.0000 - val_loss: 1.8597e-05 - val_acc: 1.0000\n",
            "Epoch 18/20\n",
            "501/501 [==============================] - 0s 127us/step - loss: 0.0053 - acc: 1.0000 - val_loss: 1.0133e-05 - val_acc: 1.0000\n",
            "Epoch 19/20\n",
            "501/501 [==============================] - 0s 121us/step - loss: 0.0044 - acc: 1.0000 - val_loss: 7.9871e-06 - val_acc: 1.0000\n",
            "Epoch 20/20\n",
            "501/501 [==============================] - 0s 130us/step - loss: 0.0037 - acc: 1.0000 - val_loss: 7.1526e-06 - val_acc: 1.0000\n",
            "Train on 501 samples, validate on 1 samples\n",
            "Epoch 1/20\n",
            "501/501 [==============================] - 3s 6ms/step - loss: 2.2553 - acc: 0.1697 - val_loss: 2.2556 - val_acc: 0.0000e+00\n",
            "Epoch 2/20\n",
            "501/501 [==============================] - 0s 80us/step - loss: 1.9699 - acc: 0.5888 - val_loss: 1.7619 - val_acc: 1.0000\n",
            "Epoch 3/20\n",
            "501/501 [==============================] - 0s 71us/step - loss: 1.5971 - acc: 0.7345 - val_loss: 1.1362 - val_acc: 1.0000\n",
            "Epoch 4/20\n",
            "501/501 [==============================] - 0s 72us/step - loss: 1.1552 - acc: 0.7804 - val_loss: 0.4456 - val_acc: 1.0000\n",
            "Epoch 5/20\n",
            "501/501 [==============================] - 0s 72us/step - loss: 0.7689 - acc: 0.8303 - val_loss: 0.1406 - val_acc: 1.0000\n",
            "Epoch 6/20\n",
            "501/501 [==============================] - 0s 83us/step - loss: 0.5365 - acc: 0.8603 - val_loss: 0.0759 - val_acc: 1.0000\n",
            "Epoch 7/20\n",
            "501/501 [==============================] - 0s 81us/step - loss: 0.4014 - acc: 0.8902 - val_loss: 0.0162 - val_acc: 1.0000\n",
            "Epoch 8/20\n",
            "501/501 [==============================] - 0s 86us/step - loss: 0.3025 - acc: 0.9222 - val_loss: 0.0111 - val_acc: 1.0000\n",
            "Epoch 9/20\n",
            "501/501 [==============================] - 0s 80us/step - loss: 0.2352 - acc: 0.9461 - val_loss: 0.0084 - val_acc: 1.0000\n",
            "Epoch 10/20\n",
            "501/501 [==============================] - 0s 76us/step - loss: 0.1792 - acc: 0.9481 - val_loss: 0.0040 - val_acc: 1.0000\n",
            "Epoch 11/20\n",
            "501/501 [==============================] - 0s 76us/step - loss: 0.1382 - acc: 0.9621 - val_loss: 0.0032 - val_acc: 1.0000\n",
            "Epoch 12/20\n",
            "501/501 [==============================] - 0s 86us/step - loss: 0.1043 - acc: 0.9780 - val_loss: 0.0037 - val_acc: 1.0000\n",
            "Epoch 13/20\n",
            "501/501 [==============================] - 0s 82us/step - loss: 0.0809 - acc: 0.9860 - val_loss: 0.0020 - val_acc: 1.0000\n",
            "Epoch 14/20\n",
            "501/501 [==============================] - 0s 73us/step - loss: 0.0613 - acc: 0.9940 - val_loss: 0.0014 - val_acc: 1.0000\n",
            "Epoch 15/20\n",
            "501/501 [==============================] - 0s 74us/step - loss: 0.0479 - acc: 0.9980 - val_loss: 0.0015 - val_acc: 1.0000\n",
            "Epoch 16/20\n",
            "501/501 [==============================] - 0s 73us/step - loss: 0.0377 - acc: 0.9980 - val_loss: 8.8916e-04 - val_acc: 1.0000\n",
            "Epoch 17/20\n",
            "501/501 [==============================] - 0s 76us/step - loss: 0.0311 - acc: 1.0000 - val_loss: 5.1255e-04 - val_acc: 1.0000\n",
            "Epoch 18/20\n",
            "501/501 [==============================] - 0s 84us/step - loss: 0.0247 - acc: 1.0000 - val_loss: 5.0921e-04 - val_acc: 1.0000\n",
            "Epoch 19/20\n",
            "501/501 [==============================] - 0s 78us/step - loss: 0.0210 - acc: 1.0000 - val_loss: 4.1893e-04 - val_acc: 1.0000\n",
            "Epoch 20/20\n",
            "501/501 [==============================] - 0s 77us/step - loss: 0.0175 - acc: 1.0000 - val_loss: 2.4065e-04 - val_acc: 1.0000\n",
            "Train on 501 samples, validate on 1 samples\n",
            "Epoch 1/20\n",
            "501/501 [==============================] - 3s 6ms/step - loss: 2.2872 - acc: 0.1876 - val_loss: 1.8625 - val_acc: 1.0000\n",
            "Epoch 2/20\n",
            "501/501 [==============================] - 0s 55us/step - loss: 2.1318 - acc: 0.3433 - val_loss: 1.3904 - val_acc: 1.0000\n",
            "Epoch 3/20\n",
            "501/501 [==============================] - 0s 55us/step - loss: 1.9523 - acc: 0.4571 - val_loss: 0.8988 - val_acc: 1.0000\n",
            "Epoch 4/20\n",
            "501/501 [==============================] - 0s 52us/step - loss: 1.7368 - acc: 0.5509 - val_loss: 0.4921 - val_acc: 1.0000\n",
            "Epoch 5/20\n",
            "501/501 [==============================] - 0s 53us/step - loss: 1.4900 - acc: 0.6307 - val_loss: 0.2761 - val_acc: 1.0000\n",
            "Epoch 6/20\n",
            "501/501 [==============================] - 0s 54us/step - loss: 1.2244 - acc: 0.7345 - val_loss: 0.1369 - val_acc: 1.0000\n",
            "Epoch 7/20\n",
            "501/501 [==============================] - 0s 50us/step - loss: 0.9769 - acc: 0.7884 - val_loss: 0.0774 - val_acc: 1.0000\n",
            "Epoch 8/20\n",
            "501/501 [==============================] - 0s 52us/step - loss: 0.7659 - acc: 0.8343 - val_loss: 0.0433 - val_acc: 1.0000\n",
            "Epoch 9/20\n",
            "501/501 [==============================] - 0s 58us/step - loss: 0.6059 - acc: 0.8603 - val_loss: 0.0219 - val_acc: 1.0000\n",
            "Epoch 10/20\n",
            "501/501 [==============================] - 0s 55us/step - loss: 0.4872 - acc: 0.8782 - val_loss: 0.0152 - val_acc: 1.0000\n",
            "Epoch 11/20\n",
            "501/501 [==============================] - 0s 48us/step - loss: 0.3950 - acc: 0.9142 - val_loss: 0.0084 - val_acc: 1.0000\n",
            "Epoch 12/20\n",
            "501/501 [==============================] - 0s 48us/step - loss: 0.3309 - acc: 0.9301 - val_loss: 0.0083 - val_acc: 1.0000\n",
            "Epoch 13/20\n",
            "501/501 [==============================] - 0s 53us/step - loss: 0.2794 - acc: 0.9341 - val_loss: 0.0054 - val_acc: 1.0000\n",
            "Epoch 14/20\n",
            "501/501 [==============================] - 0s 52us/step - loss: 0.2369 - acc: 0.9501 - val_loss: 0.0027 - val_acc: 1.0000\n",
            "Epoch 15/20\n",
            "501/501 [==============================] - 0s 68us/step - loss: 0.2039 - acc: 0.9501 - val_loss: 0.0034 - val_acc: 1.0000\n",
            "Epoch 16/20\n",
            "501/501 [==============================] - 0s 60us/step - loss: 0.1778 - acc: 0.9661 - val_loss: 0.0033 - val_acc: 1.0000\n",
            "Epoch 17/20\n",
            "501/501 [==============================] - 0s 52us/step - loss: 0.1474 - acc: 0.9741 - val_loss: 0.0012 - val_acc: 1.0000\n",
            "Epoch 18/20\n",
            "501/501 [==============================] - 0s 53us/step - loss: 0.1288 - acc: 0.9780 - val_loss: 0.0015 - val_acc: 1.0000\n",
            "Epoch 19/20\n",
            "501/501 [==============================] - 0s 52us/step - loss: 0.1092 - acc: 0.9780 - val_loss: 0.0016 - val_acc: 1.0000\n",
            "Epoch 20/20\n",
            "501/501 [==============================] - 0s 58us/step - loss: 0.0931 - acc: 0.9880 - val_loss: 6.4793e-04 - val_acc: 1.0000\n",
            "Train on 501 samples, validate on 1 samples\n",
            "Epoch 1/20\n",
            "501/501 [==============================] - 3s 6ms/step - loss: 2.2921 - acc: 0.1238 - val_loss: 2.2613 - val_acc: 0.0000e+00\n",
            "Epoch 2/20\n",
            "501/501 [==============================] - 0s 51us/step - loss: 2.2298 - acc: 0.1437 - val_loss: 2.1276 - val_acc: 0.0000e+00\n",
            "Epoch 3/20\n",
            "501/501 [==============================] - 0s 45us/step - loss: 2.1786 - acc: 0.1517 - val_loss: 2.0462 - val_acc: 0.0000e+00\n",
            "Epoch 4/20\n",
            "501/501 [==============================] - 0s 42us/step - loss: 2.1272 - acc: 0.1657 - val_loss: 1.9751 - val_acc: 0.0000e+00\n",
            "Epoch 5/20\n",
            "501/501 [==============================] - 0s 45us/step - loss: 2.0737 - acc: 0.1976 - val_loss: 1.8893 - val_acc: 0.0000e+00\n",
            "Epoch 6/20\n",
            "501/501 [==============================] - 0s 46us/step - loss: 2.0159 - acc: 0.2355 - val_loss: 1.7931 - val_acc: 0.0000e+00\n",
            "Epoch 7/20\n",
            "501/501 [==============================] - 0s 45us/step - loss: 1.9541 - acc: 0.2695 - val_loss: 1.7071 - val_acc: 0.0000e+00\n",
            "Epoch 8/20\n",
            "501/501 [==============================] - 0s 46us/step - loss: 1.8949 - acc: 0.3593 - val_loss: 1.5957 - val_acc: 0.0000e+00\n",
            "Epoch 9/20\n",
            "501/501 [==============================] - 0s 53us/step - loss: 1.8351 - acc: 0.4032 - val_loss: 1.5166 - val_acc: 1.0000\n",
            "Epoch 10/20\n",
            "501/501 [==============================] - 0s 55us/step - loss: 1.7761 - acc: 0.4471 - val_loss: 1.4235 - val_acc: 1.0000\n",
            "Epoch 11/20\n",
            "501/501 [==============================] - 0s 50us/step - loss: 1.7141 - acc: 0.5010 - val_loss: 1.3324 - val_acc: 1.0000\n",
            "Epoch 12/20\n",
            "501/501 [==============================] - 0s 45us/step - loss: 1.6591 - acc: 0.5509 - val_loss: 1.1985 - val_acc: 1.0000\n",
            "Epoch 13/20\n",
            "501/501 [==============================] - 0s 49us/step - loss: 1.5967 - acc: 0.5948 - val_loss: 1.1034 - val_acc: 1.0000\n",
            "Epoch 14/20\n",
            "501/501 [==============================] - 0s 45us/step - loss: 1.5395 - acc: 0.6248 - val_loss: 1.0034 - val_acc: 1.0000\n",
            "Epoch 15/20\n",
            "501/501 [==============================] - 0s 45us/step - loss: 1.4813 - acc: 0.6547 - val_loss: 0.8899 - val_acc: 1.0000\n",
            "Epoch 16/20\n",
            "501/501 [==============================] - 0s 47us/step - loss: 1.4262 - acc: 0.6587 - val_loss: 0.7839 - val_acc: 1.0000\n",
            "Epoch 17/20\n",
            "501/501 [==============================] - 0s 52us/step - loss: 1.3732 - acc: 0.6786 - val_loss: 0.6840 - val_acc: 1.0000\n",
            "Epoch 18/20\n",
            "501/501 [==============================] - 0s 44us/step - loss: 1.3181 - acc: 0.7006 - val_loss: 0.6256 - val_acc: 1.0000\n",
            "Epoch 19/20\n",
            "501/501 [==============================] - 0s 48us/step - loss: 1.2655 - acc: 0.6986 - val_loss: 0.5564 - val_acc: 1.0000\n",
            "Epoch 20/20\n",
            "501/501 [==============================] - 0s 45us/step - loss: 1.2138 - acc: 0.7086 - val_loss: 0.4886 - val_acc: 1.0000\n",
            "Train on 501 samples, validate on 1 samples\n",
            "Epoch 1/20\n",
            "501/501 [==============================] - 3s 6ms/step - loss: 2.1794 - acc: 0.2216 - val_loss: 1.5256 - val_acc: 1.0000\n",
            "Epoch 2/20\n",
            "501/501 [==============================] - 0s 112us/step - loss: 1.6172 - acc: 0.6707 - val_loss: 0.6321 - val_acc: 1.0000\n",
            "Epoch 3/20\n",
            "501/501 [==============================] - 0s 95us/step - loss: 1.0749 - acc: 0.7924 - val_loss: 0.1266 - val_acc: 1.0000\n",
            "Epoch 4/20\n",
            "501/501 [==============================] - 0s 101us/step - loss: 0.6751 - acc: 0.8623 - val_loss: 0.0358 - val_acc: 1.0000\n",
            "Epoch 5/20\n",
            "501/501 [==============================] - 0s 98us/step - loss: 0.4551 - acc: 0.8822 - val_loss: 0.0074 - val_acc: 1.0000\n",
            "Epoch 6/20\n",
            "501/501 [==============================] - 0s 100us/step - loss: 0.3245 - acc: 0.9242 - val_loss: 0.0019 - val_acc: 1.0000\n",
            "Epoch 7/20\n",
            "501/501 [==============================] - 0s 98us/step - loss: 0.2451 - acc: 0.9401 - val_loss: 0.0019 - val_acc: 1.0000\n",
            "Epoch 8/20\n",
            "501/501 [==============================] - 0s 95us/step - loss: 0.1717 - acc: 0.9681 - val_loss: 6.5151e-04 - val_acc: 1.0000\n",
            "Epoch 9/20\n",
            "501/501 [==============================] - 0s 104us/step - loss: 0.1349 - acc: 0.9741 - val_loss: 4.3885e-04 - val_acc: 1.0000\n",
            "Epoch 10/20\n",
            "501/501 [==============================] - 0s 93us/step - loss: 0.0983 - acc: 0.9840 - val_loss: 3.6401e-04 - val_acc: 1.0000\n",
            "Epoch 11/20\n",
            "501/501 [==============================] - 0s 109us/step - loss: 0.0745 - acc: 0.9920 - val_loss: 1.4580e-04 - val_acc: 1.0000\n",
            "Epoch 12/20\n",
            "501/501 [==============================] - 0s 99us/step - loss: 0.0545 - acc: 0.9940 - val_loss: 7.5760e-05 - val_acc: 1.0000\n",
            "Epoch 13/20\n",
            "501/501 [==============================] - 0s 104us/step - loss: 0.0420 - acc: 0.9980 - val_loss: 9.0842e-05 - val_acc: 1.0000\n",
            "Epoch 14/20\n",
            "501/501 [==============================] - 0s 106us/step - loss: 0.0334 - acc: 1.0000 - val_loss: 5.5017e-05 - val_acc: 1.0000\n",
            "Epoch 15/20\n",
            "501/501 [==============================] - 0s 100us/step - loss: 0.0255 - acc: 1.0000 - val_loss: 5.2334e-05 - val_acc: 1.0000\n",
            "Epoch 16/20\n",
            "501/501 [==============================] - 0s 103us/step - loss: 0.0209 - acc: 1.0000 - val_loss: 3.1353e-05 - val_acc: 1.0000\n",
            "Epoch 17/20\n",
            "501/501 [==============================] - 0s 108us/step - loss: 0.0174 - acc: 1.0000 - val_loss: 1.6928e-05 - val_acc: 1.0000\n",
            "Epoch 18/20\n",
            "501/501 [==============================] - 0s 105us/step - loss: 0.0149 - acc: 1.0000 - val_loss: 1.1563e-05 - val_acc: 1.0000\n",
            "Epoch 19/20\n",
            "501/501 [==============================] - 0s 104us/step - loss: 0.0127 - acc: 1.0000 - val_loss: 1.4067e-05 - val_acc: 1.0000\n",
            "Epoch 20/20\n",
            "501/501 [==============================] - 0s 97us/step - loss: 0.0110 - acc: 1.0000 - val_loss: 1.0729e-05 - val_acc: 1.0000\n",
            "Train on 501 samples, validate on 1 samples\n",
            "Epoch 1/20\n",
            "501/501 [==============================] - 3s 6ms/step - loss: 2.2837 - acc: 0.1257 - val_loss: 1.9112 - val_acc: 1.0000\n",
            "Epoch 2/20\n",
            "501/501 [==============================] - 0s 75us/step - loss: 1.9616 - acc: 0.4810 - val_loss: 1.4474 - val_acc: 1.0000\n",
            "Epoch 3/20\n",
            "501/501 [==============================] - 0s 77us/step - loss: 1.6170 - acc: 0.7146 - val_loss: 0.8688 - val_acc: 1.0000\n",
            "Epoch 4/20\n",
            "501/501 [==============================] - 0s 65us/step - loss: 1.2479 - acc: 0.8044 - val_loss: 0.4269 - val_acc: 1.0000\n",
            "Epoch 5/20\n",
            "501/501 [==============================] - 0s 68us/step - loss: 0.9200 - acc: 0.8224 - val_loss: 0.1793 - val_acc: 1.0000\n",
            "Epoch 6/20\n",
            "501/501 [==============================] - 0s 74us/step - loss: 0.6828 - acc: 0.8583 - val_loss: 0.0922 - val_acc: 1.0000\n",
            "Epoch 7/20\n",
            "501/501 [==============================] - 0s 80us/step - loss: 0.5151 - acc: 0.8942 - val_loss: 0.0393 - val_acc: 1.0000\n",
            "Epoch 8/20\n",
            "501/501 [==============================] - 0s 74us/step - loss: 0.4029 - acc: 0.9182 - val_loss: 0.0167 - val_acc: 1.0000\n",
            "Epoch 9/20\n",
            "501/501 [==============================] - 0s 63us/step - loss: 0.3256 - acc: 0.9321 - val_loss: 0.0125 - val_acc: 1.0000\n",
            "Epoch 10/20\n",
            "501/501 [==============================] - 0s 68us/step - loss: 0.2668 - acc: 0.9541 - val_loss: 0.0079 - val_acc: 1.0000\n",
            "Epoch 11/20\n",
            "501/501 [==============================] - 0s 67us/step - loss: 0.2182 - acc: 0.9561 - val_loss: 0.0047 - val_acc: 1.0000\n",
            "Epoch 12/20\n",
            "501/501 [==============================] - 0s 67us/step - loss: 0.1811 - acc: 0.9661 - val_loss: 0.0042 - val_acc: 1.0000\n",
            "Epoch 13/20\n",
            "501/501 [==============================] - 0s 73us/step - loss: 0.1531 - acc: 0.9721 - val_loss: 0.0028 - val_acc: 1.0000\n",
            "Epoch 14/20\n",
            "501/501 [==============================] - 0s 78us/step - loss: 0.1301 - acc: 0.9820 - val_loss: 0.0025 - val_acc: 1.0000\n",
            "Epoch 15/20\n",
            "501/501 [==============================] - 0s 69us/step - loss: 0.1067 - acc: 0.9900 - val_loss: 0.0015 - val_acc: 1.0000\n",
            "Epoch 16/20\n",
            "501/501 [==============================] - 0s 68us/step - loss: 0.0904 - acc: 0.9920 - val_loss: 0.0014 - val_acc: 1.0000\n",
            "Epoch 17/20\n",
            "501/501 [==============================] - 0s 83us/step - loss: 0.0778 - acc: 0.9920 - val_loss: 0.0010 - val_acc: 1.0000\n",
            "Epoch 18/20\n",
            "501/501 [==============================] - 0s 81us/step - loss: 0.0668 - acc: 0.9960 - val_loss: 6.6809e-04 - val_acc: 1.0000\n",
            "Epoch 19/20\n",
            "501/501 [==============================] - 0s 74us/step - loss: 0.0574 - acc: 0.9960 - val_loss: 6.0612e-04 - val_acc: 1.0000\n",
            "Epoch 20/20\n",
            "501/501 [==============================] - 0s 74us/step - loss: 0.0497 - acc: 0.9960 - val_loss: 5.6903e-04 - val_acc: 1.0000\n",
            "Train on 501 samples, validate on 1 samples\n",
            "Epoch 1/20\n",
            "501/501 [==============================] - 3s 6ms/step - loss: 2.2786 - acc: 0.1198 - val_loss: 1.9781 - val_acc: 1.0000\n",
            "Epoch 2/20\n",
            "501/501 [==============================] - 0s 53us/step - loss: 2.1009 - acc: 0.3473 - val_loss: 1.6995 - val_acc: 1.0000\n",
            "Epoch 3/20\n",
            "501/501 [==============================] - 0s 50us/step - loss: 1.9252 - acc: 0.4830 - val_loss: 1.3865 - val_acc: 1.0000\n",
            "Epoch 4/20\n",
            "501/501 [==============================] - 0s 53us/step - loss: 1.7116 - acc: 0.6188 - val_loss: 1.0603 - val_acc: 1.0000\n",
            "Epoch 5/20\n",
            "501/501 [==============================] - 0s 52us/step - loss: 1.4785 - acc: 0.7425 - val_loss: 0.7005 - val_acc: 1.0000\n",
            "Epoch 6/20\n",
            "501/501 [==============================] - 0s 54us/step - loss: 1.2385 - acc: 0.7904 - val_loss: 0.3869 - val_acc: 1.0000\n",
            "Epoch 7/20\n",
            "501/501 [==============================] - 0s 55us/step - loss: 1.0240 - acc: 0.8224 - val_loss: 0.1909 - val_acc: 1.0000\n",
            "Epoch 8/20\n",
            "501/501 [==============================] - 0s 52us/step - loss: 0.8326 - acc: 0.8483 - val_loss: 0.1089 - val_acc: 1.0000\n",
            "Epoch 9/20\n",
            "501/501 [==============================] - 0s 53us/step - loss: 0.6758 - acc: 0.8782 - val_loss: 0.0670 - val_acc: 1.0000\n",
            "Epoch 10/20\n",
            "501/501 [==============================] - 0s 59us/step - loss: 0.5613 - acc: 0.8922 - val_loss: 0.0330 - val_acc: 1.0000\n",
            "Epoch 11/20\n",
            "501/501 [==============================] - 0s 59us/step - loss: 0.4692 - acc: 0.9002 - val_loss: 0.0175 - val_acc: 1.0000\n",
            "Epoch 12/20\n",
            "501/501 [==============================] - 0s 55us/step - loss: 0.4018 - acc: 0.9102 - val_loss: 0.0128 - val_acc: 1.0000\n",
            "Epoch 13/20\n",
            "501/501 [==============================] - 0s 58us/step - loss: 0.3469 - acc: 0.9242 - val_loss: 0.0077 - val_acc: 1.0000\n",
            "Epoch 14/20\n",
            "501/501 [==============================] - 0s 58us/step - loss: 0.3046 - acc: 0.9361 - val_loss: 0.0059 - val_acc: 1.0000\n",
            "Epoch 15/20\n",
            "501/501 [==============================] - 0s 58us/step - loss: 0.2652 - acc: 0.9481 - val_loss: 0.0046 - val_acc: 1.0000\n",
            "Epoch 16/20\n",
            "501/501 [==============================] - 0s 50us/step - loss: 0.2357 - acc: 0.9621 - val_loss: 0.0039 - val_acc: 1.0000\n",
            "Epoch 17/20\n",
            "501/501 [==============================] - 0s 53us/step - loss: 0.2106 - acc: 0.9681 - val_loss: 0.0032 - val_acc: 1.0000\n",
            "Epoch 18/20\n",
            "501/501 [==============================] - 0s 53us/step - loss: 0.1862 - acc: 0.9721 - val_loss: 0.0025 - val_acc: 1.0000\n",
            "Epoch 19/20\n",
            "501/501 [==============================] - 0s 45us/step - loss: 0.1665 - acc: 0.9760 - val_loss: 0.0022 - val_acc: 1.0000\n",
            "Epoch 20/20\n",
            "501/501 [==============================] - 0s 47us/step - loss: 0.1504 - acc: 0.9760 - val_loss: 0.0018 - val_acc: 1.0000\n",
            "Train on 501 samples, validate on 1 samples\n",
            "Epoch 1/20\n",
            "501/501 [==============================] - 3s 7ms/step - loss: 2.3362 - acc: 0.1657 - val_loss: 1.9207 - val_acc: 1.0000\n",
            "Epoch 2/20\n",
            "501/501 [==============================] - 0s 50us/step - loss: 2.2538 - acc: 0.2236 - val_loss: 1.7099 - val_acc: 1.0000\n",
            "Epoch 3/20\n",
            "501/501 [==============================] - 0s 44us/step - loss: 2.1792 - acc: 0.2315 - val_loss: 1.5321 - val_acc: 1.0000\n",
            "Epoch 4/20\n",
            "501/501 [==============================] - 0s 42us/step - loss: 2.0998 - acc: 0.2635 - val_loss: 1.3446 - val_acc: 1.0000\n",
            "Epoch 5/20\n",
            "501/501 [==============================] - 0s 45us/step - loss: 2.0136 - acc: 0.2934 - val_loss: 1.1553 - val_acc: 1.0000\n",
            "Epoch 6/20\n",
            "501/501 [==============================] - 0s 45us/step - loss: 1.9244 - acc: 0.3134 - val_loss: 0.9675 - val_acc: 1.0000\n",
            "Epoch 7/20\n",
            "501/501 [==============================] - 0s 46us/step - loss: 1.8382 - acc: 0.3313 - val_loss: 0.7969 - val_acc: 1.0000\n",
            "Epoch 8/20\n",
            "501/501 [==============================] - 0s 44us/step - loss: 1.7539 - acc: 0.3613 - val_loss: 0.6671 - val_acc: 1.0000\n",
            "Epoch 9/20\n",
            "501/501 [==============================] - 0s 43us/step - loss: 1.6779 - acc: 0.3812 - val_loss: 0.5424 - val_acc: 1.0000\n",
            "Epoch 10/20\n",
            "501/501 [==============================] - 0s 49us/step - loss: 1.6023 - acc: 0.4152 - val_loss: 0.4434 - val_acc: 1.0000\n",
            "Epoch 11/20\n",
            "501/501 [==============================] - 0s 50us/step - loss: 1.5302 - acc: 0.4810 - val_loss: 0.3727 - val_acc: 1.0000\n",
            "Epoch 12/20\n",
            "501/501 [==============================] - 0s 60us/step - loss: 1.4631 - acc: 0.5429 - val_loss: 0.3152 - val_acc: 1.0000\n",
            "Epoch 13/20\n",
            "501/501 [==============================] - 0s 44us/step - loss: 1.3954 - acc: 0.5768 - val_loss: 0.2596 - val_acc: 1.0000\n",
            "Epoch 14/20\n",
            "501/501 [==============================] - 0s 45us/step - loss: 1.3314 - acc: 0.6248 - val_loss: 0.2191 - val_acc: 1.0000\n",
            "Epoch 15/20\n",
            "501/501 [==============================] - 0s 46us/step - loss: 1.2698 - acc: 0.6487 - val_loss: 0.1913 - val_acc: 1.0000\n",
            "Epoch 16/20\n",
            "501/501 [==============================] - 0s 44us/step - loss: 1.2104 - acc: 0.6687 - val_loss: 0.1637 - val_acc: 1.0000\n",
            "Epoch 17/20\n",
            "501/501 [==============================] - 0s 42us/step - loss: 1.1547 - acc: 0.7006 - val_loss: 0.1443 - val_acc: 1.0000\n",
            "Epoch 18/20\n",
            "501/501 [==============================] - 0s 58us/step - loss: 1.1004 - acc: 0.7186 - val_loss: 0.1296 - val_acc: 1.0000\n",
            "Epoch 19/20\n",
            "501/501 [==============================] - 0s 48us/step - loss: 1.0488 - acc: 0.7345 - val_loss: 0.1113 - val_acc: 1.0000\n",
            "Epoch 20/20\n",
            "501/501 [==============================] - 0s 52us/step - loss: 1.0011 - acc: 0.7505 - val_loss: 0.1007 - val_acc: 1.0000\n",
            "Train on 501 samples, validate on 1 samples\n",
            "Epoch 1/20\n",
            "501/501 [==============================] - 3s 7ms/step - loss: 2.1673 - acc: 0.2435 - val_loss: 1.4788 - val_acc: 1.0000\n",
            "Epoch 2/20\n",
            "501/501 [==============================] - 0s 97us/step - loss: 1.5509 - acc: 0.6806 - val_loss: 0.6778 - val_acc: 1.0000\n",
            "Epoch 3/20\n",
            "501/501 [==============================] - 0s 81us/step - loss: 1.1056 - acc: 0.8104 - val_loss: 0.2336 - val_acc: 1.0000\n",
            "Epoch 4/20\n",
            "501/501 [==============================] - 0s 88us/step - loss: 0.7935 - acc: 0.8723 - val_loss: 0.0979 - val_acc: 1.0000\n",
            "Epoch 5/20\n",
            "501/501 [==============================] - 0s 86us/step - loss: 0.6025 - acc: 0.8842 - val_loss: 0.0487 - val_acc: 1.0000\n",
            "Epoch 6/20\n",
            "501/501 [==============================] - 0s 85us/step - loss: 0.4699 - acc: 0.8982 - val_loss: 0.0200 - val_acc: 1.0000\n",
            "Epoch 7/20\n",
            "501/501 [==============================] - 0s 84us/step - loss: 0.3839 - acc: 0.9222 - val_loss: 0.0104 - val_acc: 1.0000\n",
            "Epoch 8/20\n",
            "501/501 [==============================] - 0s 78us/step - loss: 0.3186 - acc: 0.9321 - val_loss: 0.0092 - val_acc: 1.0000\n",
            "Epoch 9/20\n",
            "501/501 [==============================] - 0s 88us/step - loss: 0.2703 - acc: 0.9541 - val_loss: 0.0065 - val_acc: 1.0000\n",
            "Epoch 10/20\n",
            "501/501 [==============================] - 0s 81us/step - loss: 0.2296 - acc: 0.9681 - val_loss: 0.0045 - val_acc: 1.0000\n",
            "Epoch 11/20\n",
            "501/501 [==============================] - 0s 81us/step - loss: 0.2012 - acc: 0.9721 - val_loss: 0.0043 - val_acc: 1.0000\n",
            "Epoch 12/20\n",
            "501/501 [==============================] - 0s 73us/step - loss: 0.1751 - acc: 0.9760 - val_loss: 0.0037 - val_acc: 1.0000\n",
            "Epoch 13/20\n",
            "501/501 [==============================] - 0s 79us/step - loss: 0.1541 - acc: 0.9780 - val_loss: 0.0027 - val_acc: 1.0000\n",
            "Epoch 14/20\n",
            "501/501 [==============================] - 0s 77us/step - loss: 0.1364 - acc: 0.9860 - val_loss: 0.0018 - val_acc: 1.0000\n",
            "Epoch 15/20\n",
            "501/501 [==============================] - 0s 76us/step - loss: 0.1207 - acc: 0.9900 - val_loss: 0.0018 - val_acc: 1.0000\n",
            "Epoch 16/20\n",
            "501/501 [==============================] - 0s 83us/step - loss: 0.1074 - acc: 0.9900 - val_loss: 0.0018 - val_acc: 1.0000\n",
            "Epoch 17/20\n",
            "501/501 [==============================] - 0s 78us/step - loss: 0.0961 - acc: 0.9880 - val_loss: 0.0013 - val_acc: 1.0000\n",
            "Epoch 18/20\n",
            "501/501 [==============================] - 0s 92us/step - loss: 0.0859 - acc: 0.9920 - val_loss: 9.2931e-04 - val_acc: 1.0000\n",
            "Epoch 19/20\n",
            "501/501 [==============================] - 0s 77us/step - loss: 0.0773 - acc: 0.9980 - val_loss: 8.7305e-04 - val_acc: 1.0000\n",
            "Epoch 20/20\n",
            "501/501 [==============================] - 0s 81us/step - loss: 0.0700 - acc: 0.9980 - val_loss: 7.6138e-04 - val_acc: 1.0000\n",
            "Train on 501 samples, validate on 1 samples\n",
            "Epoch 1/20\n",
            "501/501 [==============================] - 3s 7ms/step - loss: 2.1909 - acc: 0.1976 - val_loss: 1.6110 - val_acc: 1.0000\n",
            "Epoch 2/20\n",
            "501/501 [==============================] - 0s 72us/step - loss: 1.7443 - acc: 0.6287 - val_loss: 1.0655 - val_acc: 1.0000\n",
            "Epoch 3/20\n",
            "501/501 [==============================] - 0s 63us/step - loss: 1.3868 - acc: 0.7565 - val_loss: 0.6087 - val_acc: 1.0000\n",
            "Epoch 4/20\n",
            "501/501 [==============================] - 0s 65us/step - loss: 1.0814 - acc: 0.7984 - val_loss: 0.2855 - val_acc: 1.0000\n",
            "Epoch 5/20\n",
            "501/501 [==============================] - 0s 65us/step - loss: 0.8467 - acc: 0.8363 - val_loss: 0.1445 - val_acc: 1.0000\n",
            "Epoch 6/20\n",
            "501/501 [==============================] - 0s 71us/step - loss: 0.6802 - acc: 0.8743 - val_loss: 0.0751 - val_acc: 1.0000\n",
            "Epoch 7/20\n",
            "501/501 [==============================] - 0s 65us/step - loss: 0.5635 - acc: 0.8942 - val_loss: 0.0460 - val_acc: 1.0000\n",
            "Epoch 8/20\n",
            "501/501 [==============================] - 0s 62us/step - loss: 0.4757 - acc: 0.9062 - val_loss: 0.0297 - val_acc: 1.0000\n",
            "Epoch 9/20\n",
            "501/501 [==============================] - 0s 65us/step - loss: 0.4118 - acc: 0.9182 - val_loss: 0.0191 - val_acc: 1.0000\n",
            "Epoch 10/20\n",
            "501/501 [==============================] - 0s 63us/step - loss: 0.3606 - acc: 0.9321 - val_loss: 0.0121 - val_acc: 1.0000\n",
            "Epoch 11/20\n",
            "501/501 [==============================] - 0s 64us/step - loss: 0.3202 - acc: 0.9441 - val_loss: 0.0096 - val_acc: 1.0000\n",
            "Epoch 12/20\n",
            "501/501 [==============================] - 0s 63us/step - loss: 0.2844 - acc: 0.9521 - val_loss: 0.0081 - val_acc: 1.0000\n",
            "Epoch 13/20\n",
            "501/501 [==============================] - 0s 65us/step - loss: 0.2558 - acc: 0.9601 - val_loss: 0.0067 - val_acc: 1.0000\n",
            "Epoch 14/20\n",
            "501/501 [==============================] - 0s 70us/step - loss: 0.2319 - acc: 0.9641 - val_loss: 0.0068 - val_acc: 1.0000\n",
            "Epoch 15/20\n",
            "501/501 [==============================] - 0s 63us/step - loss: 0.2104 - acc: 0.9681 - val_loss: 0.0048 - val_acc: 1.0000\n",
            "Epoch 16/20\n",
            "501/501 [==============================] - 0s 67us/step - loss: 0.1912 - acc: 0.9721 - val_loss: 0.0038 - val_acc: 1.0000\n",
            "Epoch 17/20\n",
            "501/501 [==============================] - 0s 60us/step - loss: 0.1745 - acc: 0.9741 - val_loss: 0.0034 - val_acc: 1.0000\n",
            "Epoch 18/20\n",
            "501/501 [==============================] - 0s 67us/step - loss: 0.1606 - acc: 0.9800 - val_loss: 0.0031 - val_acc: 1.0000\n",
            "Epoch 19/20\n",
            "501/501 [==============================] - 0s 67us/step - loss: 0.1467 - acc: 0.9840 - val_loss: 0.0027 - val_acc: 1.0000\n",
            "Epoch 20/20\n",
            "501/501 [==============================] - 0s 63us/step - loss: 0.1354 - acc: 0.9840 - val_loss: 0.0024 - val_acc: 1.0000\n",
            "Train on 501 samples, validate on 1 samples\n",
            "Epoch 1/20\n",
            "501/501 [==============================] - 3s 7ms/step - loss: 2.2895 - acc: 0.1178 - val_loss: 2.2010 - val_acc: 0.0000e+00\n",
            "Epoch 2/20\n",
            "501/501 [==============================] - 0s 53us/step - loss: 1.9468 - acc: 0.4511 - val_loss: 1.7855 - val_acc: 1.0000\n",
            "Epoch 3/20\n",
            "501/501 [==============================] - 0s 48us/step - loss: 1.6703 - acc: 0.6287 - val_loss: 1.3479 - val_acc: 1.0000\n",
            "Epoch 4/20\n",
            "501/501 [==============================] - 0s 45us/step - loss: 1.4098 - acc: 0.7186 - val_loss: 0.9280 - val_acc: 1.0000\n",
            "Epoch 5/20\n",
            "501/501 [==============================] - 0s 49us/step - loss: 1.1780 - acc: 0.7645 - val_loss: 0.6202 - val_acc: 1.0000\n",
            "Epoch 6/20\n",
            "501/501 [==============================] - 0s 53us/step - loss: 0.9831 - acc: 0.8303 - val_loss: 0.4401 - val_acc: 1.0000\n",
            "Epoch 7/20\n",
            "501/501 [==============================] - 0s 49us/step - loss: 0.8330 - acc: 0.8563 - val_loss: 0.3175 - val_acc: 1.0000\n",
            "Epoch 8/20\n",
            "501/501 [==============================] - 0s 48us/step - loss: 0.7169 - acc: 0.8802 - val_loss: 0.2263 - val_acc: 1.0000\n",
            "Epoch 9/20\n",
            "501/501 [==============================] - 0s 45us/step - loss: 0.6264 - acc: 0.8842 - val_loss: 0.1730 - val_acc: 1.0000\n",
            "Epoch 10/20\n",
            "501/501 [==============================] - 0s 53us/step - loss: 0.5555 - acc: 0.9002 - val_loss: 0.1290 - val_acc: 1.0000\n",
            "Epoch 11/20\n",
            "501/501 [==============================] - 0s 46us/step - loss: 0.4975 - acc: 0.9062 - val_loss: 0.0992 - val_acc: 1.0000\n",
            "Epoch 12/20\n",
            "501/501 [==============================] - 0s 51us/step - loss: 0.4506 - acc: 0.9102 - val_loss: 0.0788 - val_acc: 1.0000\n",
            "Epoch 13/20\n",
            "501/501 [==============================] - 0s 52us/step - loss: 0.4105 - acc: 0.9222 - val_loss: 0.0620 - val_acc: 1.0000\n",
            "Epoch 14/20\n",
            "501/501 [==============================] - 0s 50us/step - loss: 0.3762 - acc: 0.9301 - val_loss: 0.0536 - val_acc: 1.0000\n",
            "Epoch 15/20\n",
            "501/501 [==============================] - 0s 48us/step - loss: 0.3461 - acc: 0.9381 - val_loss: 0.0499 - val_acc: 1.0000\n",
            "Epoch 16/20\n",
            "501/501 [==============================] - 0s 50us/step - loss: 0.3220 - acc: 0.9381 - val_loss: 0.0464 - val_acc: 1.0000\n",
            "Epoch 17/20\n",
            "501/501 [==============================] - 0s 66us/step - loss: 0.2970 - acc: 0.9441 - val_loss: 0.0374 - val_acc: 1.0000\n",
            "Epoch 18/20\n",
            "501/501 [==============================] - 0s 62us/step - loss: 0.2772 - acc: 0.9501 - val_loss: 0.0297 - val_acc: 1.0000\n",
            "Epoch 19/20\n",
            "501/501 [==============================] - 0s 49us/step - loss: 0.2595 - acc: 0.9601 - val_loss: 0.0246 - val_acc: 1.0000\n",
            "Epoch 20/20\n",
            "501/501 [==============================] - 0s 49us/step - loss: 0.2408 - acc: 0.9641 - val_loss: 0.0224 - val_acc: 1.0000\n",
            "Train on 501 samples, validate on 1 samples\n",
            "Epoch 1/20\n",
            "501/501 [==============================] - 3s 7ms/step - loss: 2.3625 - acc: 0.1138 - val_loss: 2.3045 - val_acc: 0.0000e+00\n",
            "Epoch 2/20\n",
            "501/501 [==============================] - 0s 47us/step - loss: 2.2692 - acc: 0.1776 - val_loss: 2.3166 - val_acc: 0.0000e+00\n",
            "Epoch 3/20\n",
            "501/501 [==============================] - 0s 44us/step - loss: 2.1990 - acc: 0.2295 - val_loss: 2.3282 - val_acc: 0.0000e+00\n",
            "Epoch 4/20\n",
            "501/501 [==============================] - 0s 42us/step - loss: 2.1250 - acc: 0.2715 - val_loss: 2.3334 - val_acc: 0.0000e+00\n",
            "Epoch 5/20\n",
            "501/501 [==============================] - 0s 44us/step - loss: 2.0411 - acc: 0.2974 - val_loss: 2.3370 - val_acc: 0.0000e+00\n",
            "Epoch 6/20\n",
            "501/501 [==============================] - 0s 42us/step - loss: 1.9574 - acc: 0.3154 - val_loss: 2.2988 - val_acc: 0.0000e+00\n",
            "Epoch 7/20\n",
            "501/501 [==============================] - 0s 42us/step - loss: 1.8660 - acc: 0.3393 - val_loss: 2.2545 - val_acc: 0.0000e+00\n",
            "Epoch 8/20\n",
            "501/501 [==============================] - 0s 48us/step - loss: 1.7837 - acc: 0.3513 - val_loss: 2.2034 - val_acc: 0.0000e+00\n",
            "Epoch 9/20\n",
            "501/501 [==============================] - 0s 42us/step - loss: 1.7107 - acc: 0.3633 - val_loss: 2.1521 - val_acc: 0.0000e+00\n",
            "Epoch 10/20\n",
            "501/501 [==============================] - 0s 41us/step - loss: 1.6402 - acc: 0.3752 - val_loss: 2.1079 - val_acc: 0.0000e+00\n",
            "Epoch 11/20\n",
            "501/501 [==============================] - 0s 43us/step - loss: 1.5740 - acc: 0.4032 - val_loss: 2.0663 - val_acc: 0.0000e+00\n",
            "Epoch 12/20\n",
            "501/501 [==============================] - 0s 42us/step - loss: 1.5126 - acc: 0.4391 - val_loss: 2.0279 - val_acc: 0.0000e+00\n",
            "Epoch 13/20\n",
            "501/501 [==============================] - 0s 42us/step - loss: 1.4527 - acc: 0.4691 - val_loss: 1.9754 - val_acc: 0.0000e+00\n",
            "Epoch 14/20\n",
            "501/501 [==============================] - 0s 48us/step - loss: 1.3967 - acc: 0.5130 - val_loss: 1.9221 - val_acc: 0.0000e+00\n",
            "Epoch 15/20\n",
            "501/501 [==============================] - 0s 41us/step - loss: 1.3414 - acc: 0.5509 - val_loss: 1.8690 - val_acc: 0.0000e+00\n",
            "Epoch 16/20\n",
            "501/501 [==============================] - 0s 44us/step - loss: 1.2891 - acc: 0.5808 - val_loss: 1.8085 - val_acc: 0.0000e+00\n",
            "Epoch 17/20\n",
            "501/501 [==============================] - 0s 38us/step - loss: 1.2374 - acc: 0.6168 - val_loss: 1.6996 - val_acc: 0.0000e+00\n",
            "Epoch 18/20\n",
            "501/501 [==============================] - 0s 38us/step - loss: 1.1875 - acc: 0.6547 - val_loss: 1.6049 - val_acc: 1.0000\n",
            "Epoch 19/20\n",
            "501/501 [==============================] - 0s 42us/step - loss: 1.1404 - acc: 0.6866 - val_loss: 1.5048 - val_acc: 1.0000\n",
            "Epoch 20/20\n",
            "501/501 [==============================] - 0s 42us/step - loss: 1.0931 - acc: 0.7146 - val_loss: 1.4076 - val_acc: 1.0000\n"
          ],
          "name": "stdout"
        },
        {
          "output_type": "execute_result",
          "data": {
            "text/html": [
              "<div>\n",
              "<style scoped>\n",
              "    .dataframe tbody tr th:only-of-type {\n",
              "        vertical-align: middle;\n",
              "    }\n",
              "\n",
              "    .dataframe tbody tr th {\n",
              "        vertical-align: top;\n",
              "    }\n",
              "\n",
              "    .dataframe thead th {\n",
              "        text-align: right;\n",
              "    }\n",
              "</style>\n",
              "<table border=\"1\" class=\"dataframe\">\n",
              "  <thead>\n",
              "    <tr style=\"text-align: right;\">\n",
              "      <th></th>\n",
              "      <th>Architecture</th>\n",
              "      <th>Epoch time</th>\n",
              "      <th>Accuracy Train</th>\n",
              "      <th>Accuracy Test</th>\n",
              "      <th>Loss Train</th>\n",
              "      <th>Loss Test</th>\n",
              "    </tr>\n",
              "  </thead>\n",
              "  <tbody>\n",
              "    <tr>\n",
              "      <th>0</th>\n",
              "      <td>784-256-256-256-256-10</td>\n",
              "      <td>1secs</td>\n",
              "      <td>1.0</td>\n",
              "      <td>1.0</td>\n",
              "      <td>0.0015059779488765996</td>\n",
              "      <td>1.3113030945532955e-06</td>\n",
              "    </tr>\n",
              "    <tr>\n",
              "      <th>1</th>\n",
              "      <td>784-128-128-128-128-10</td>\n",
              "      <td>1secs</td>\n",
              "      <td>1.0</td>\n",
              "      <td>1.0</td>\n",
              "      <td>0.01075358279495539</td>\n",
              "      <td>0.00024673406733199954</td>\n",
              "    </tr>\n",
              "    <tr>\n",
              "      <th>2</th>\n",
              "      <td>784-64-64-64-64-10</td>\n",
              "      <td>1secs</td>\n",
              "      <td>0.9940119760479041</td>\n",
              "      <td>1.0</td>\n",
              "      <td>0.05011437911012334</td>\n",
              "      <td>2.8729851692332886e-05</td>\n",
              "    </tr>\n",
              "    <tr>\n",
              "      <th>3</th>\n",
              "      <td>784-12-12-12-12-10</td>\n",
              "      <td>1secs</td>\n",
              "      <td>0.3373253504911107</td>\n",
              "      <td>0.0</td>\n",
              "      <td>1.7292961498458466</td>\n",
              "      <td>1.5085625648498535</td>\n",
              "    </tr>\n",
              "    <tr>\n",
              "      <th>4</th>\n",
              "      <td>784-256-256-256-10</td>\n",
              "      <td>1secs</td>\n",
              "      <td>1.0</td>\n",
              "      <td>1.0</td>\n",
              "      <td>0.0033164129740262996</td>\n",
              "      <td>7.152582838898525e-06</td>\n",
              "    </tr>\n",
              "    <tr>\n",
              "      <th>5</th>\n",
              "      <td>784-128-128-128-10</td>\n",
              "      <td>1secs</td>\n",
              "      <td>1.0</td>\n",
              "      <td>1.0</td>\n",
              "      <td>0.01525082491234153</td>\n",
              "      <td>0.00024065289471764117</td>\n",
              "    </tr>\n",
              "    <tr>\n",
              "      <th>6</th>\n",
              "      <td>784-64-64-64-10</td>\n",
              "      <td>1secs</td>\n",
              "      <td>0.9900199600798403</td>\n",
              "      <td>1.0</td>\n",
              "      <td>0.08408790651314749</td>\n",
              "      <td>0.0006479335715994239</td>\n",
              "    </tr>\n",
              "    <tr>\n",
              "      <th>7</th>\n",
              "      <td>784-12-12-12-10</td>\n",
              "      <td>1secs</td>\n",
              "      <td>0.7125748511322006</td>\n",
              "      <td>1.0</td>\n",
              "      <td>1.1814940085192165</td>\n",
              "      <td>0.4885764718055725</td>\n",
              "    </tr>\n",
              "    <tr>\n",
              "      <th>8</th>\n",
              "      <td>784-256-256-10</td>\n",
              "      <td>1secs</td>\n",
              "      <td>1.0</td>\n",
              "      <td>1.0</td>\n",
              "      <td>0.0099775769074862</td>\n",
              "      <td>1.0728893357736524e-05</td>\n",
              "    </tr>\n",
              "    <tr>\n",
              "      <th>9</th>\n",
              "      <td>784-128-128-10</td>\n",
              "      <td>1secs</td>\n",
              "      <td>0.9960079840319361</td>\n",
              "      <td>1.0</td>\n",
              "      <td>0.04348168616181243</td>\n",
              "      <td>0.0005690286052413285</td>\n",
              "    </tr>\n",
              "    <tr>\n",
              "      <th>10</th>\n",
              "      <td>784-64-64-10</td>\n",
              "      <td>1secs</td>\n",
              "      <td>0.9760479041916168</td>\n",
              "      <td>1.0</td>\n",
              "      <td>0.13751532901784855</td>\n",
              "      <td>0.0018042499432340264</td>\n",
              "    </tr>\n",
              "    <tr>\n",
              "      <th>11</th>\n",
              "      <td>784-12-12-10</td>\n",
              "      <td>1secs</td>\n",
              "      <td>0.7564870264239891</td>\n",
              "      <td>1.0</td>\n",
              "      <td>0.9678712405130535</td>\n",
              "      <td>0.10065260529518127</td>\n",
              "    </tr>\n",
              "    <tr>\n",
              "      <th>12</th>\n",
              "      <td>784-256-10</td>\n",
              "      <td>1secs</td>\n",
              "      <td>0.998003992015968</td>\n",
              "      <td>1.0</td>\n",
              "      <td>0.06523270219445466</td>\n",
              "      <td>0.000761381525080651</td>\n",
              "    </tr>\n",
              "    <tr>\n",
              "      <th>13</th>\n",
              "      <td>784-128-10</td>\n",
              "      <td>1secs</td>\n",
              "      <td>0.9860279441117764</td>\n",
              "      <td>1.0</td>\n",
              "      <td>0.12766101676784827</td>\n",
              "      <td>0.0024485141038894653</td>\n",
              "    </tr>\n",
              "    <tr>\n",
              "      <th>14</th>\n",
              "      <td>784-64-10</td>\n",
              "      <td>1secs</td>\n",
              "      <td>0.9720558882235529</td>\n",
              "      <td>1.0</td>\n",
              "      <td>0.22942439471176285</td>\n",
              "      <td>0.022408360615372658</td>\n",
              "    </tr>\n",
              "    <tr>\n",
              "      <th>15</th>\n",
              "      <td>784-12-10</td>\n",
              "      <td>1secs</td>\n",
              "      <td>0.7385229545677018</td>\n",
              "      <td>1.0</td>\n",
              "      <td>1.0633577134556875</td>\n",
              "      <td>1.407592535018921</td>\n",
              "    </tr>\n",
              "  </tbody>\n",
              "</table>\n",
              "</div>"
            ],
            "text/plain": [
              "              Architecture Epoch time      Accuracy Train Accuracy Test  \\\n",
              "0   784-256-256-256-256-10      1secs                 1.0           1.0   \n",
              "1   784-128-128-128-128-10      1secs                 1.0           1.0   \n",
              "2       784-64-64-64-64-10      1secs  0.9940119760479041           1.0   \n",
              "3       784-12-12-12-12-10      1secs  0.3373253504911107           0.0   \n",
              "4       784-256-256-256-10      1secs                 1.0           1.0   \n",
              "5       784-128-128-128-10      1secs                 1.0           1.0   \n",
              "6          784-64-64-64-10      1secs  0.9900199600798403           1.0   \n",
              "7          784-12-12-12-10      1secs  0.7125748511322006           1.0   \n",
              "8           784-256-256-10      1secs                 1.0           1.0   \n",
              "9           784-128-128-10      1secs  0.9960079840319361           1.0   \n",
              "10            784-64-64-10      1secs  0.9760479041916168           1.0   \n",
              "11            784-12-12-10      1secs  0.7564870264239891           1.0   \n",
              "12              784-256-10      1secs   0.998003992015968           1.0   \n",
              "13              784-128-10      1secs  0.9860279441117764           1.0   \n",
              "14               784-64-10      1secs  0.9720558882235529           1.0   \n",
              "15               784-12-10      1secs  0.7385229545677018           1.0   \n",
              "\n",
              "               Loss Train               Loss Test  \n",
              "0   0.0015059779488765996  1.3113030945532955e-06  \n",
              "1     0.01075358279495539  0.00024673406733199954  \n",
              "2     0.05011437911012334  2.8729851692332886e-05  \n",
              "3      1.7292961498458466      1.5085625648498535  \n",
              "4   0.0033164129740262996   7.152582838898525e-06  \n",
              "5     0.01525082491234153  0.00024065289471764117  \n",
              "6     0.08408790651314749   0.0006479335715994239  \n",
              "7      1.1814940085192165      0.4885764718055725  \n",
              "8      0.0099775769074862  1.0728893357736524e-05  \n",
              "9     0.04348168616181243   0.0005690286052413285  \n",
              "10    0.13751532901784855   0.0018042499432340264  \n",
              "11     0.9678712405130535     0.10065260529518127  \n",
              "12    0.06523270219445466    0.000761381525080651  \n",
              "13    0.12766101676784827   0.0024485141038894653  \n",
              "14    0.22942439471176285    0.022408360615372658  \n",
              "15     1.0633577134556875       1.407592535018921  "
            ]
          },
          "metadata": {
            "tags": []
          },
          "execution_count": 90
        }
      ]
    },
    {
      "cell_type": "markdown",
      "metadata": {
        "id": "bXb9yT8tZLRj",
        "colab_type": "text"
      },
      "source": [
        "\n",
        "\n",
        "\n",
        "### Task 3.3 : Odd versus Even Classifier\n",
        "\n",
        "Build a binary classifier that classifiers odd numbers versus even numbers. Again, try to find the best architecture.\n",
        "\n",
        "\n",
        "**Please paste your response here:** \n",
        "* Best archtecture is:  \n",
        "* Test accuracy: \n",
        "* Training time per epoch in seconds is : \n",
        "\n",
        "\n",
        "Please send the following by EMAIL to James.Shanahan@gmail.com with the subject \"Sichuan2019: MNIST Best MLP Architecture\"\n",
        "\n",
        "* Link to Coogle Colab notebook\n",
        "* all the text + your response from this cell"
      ]
    },
    {
      "cell_type": "code",
      "metadata": {
        "id": "-F61Twpw9h7B",
        "colab_type": "code",
        "outputId": "ff98ad46-95a4-4d0b-8dc1-7e38f365590e",
        "colab": {
          "base_uri": "https://localhost:8080/",
          "height": 11974
        }
      },
      "source": [
        "import numpy as np\n",
        "\n",
        "results = pd.DataFrame(columns=[\"Architecture\", \"Epoch time\", \"Accuracy Train\", \"Accuracy Test\", \"Loss Train\", \"Loss Test\"])\n",
        "\n",
        "\n",
        "for dense_layer in [4,3,2,1]:\n",
        "  for neuron in [256,128,64,12]:\n",
        "    architecture = '784-'+str(neuron)  \n",
        "    \n",
        "    model_dense = Sequential()  \n",
        "    model_dense.add(Dense(neuron, input_shape=(img_rows * img_cols,), activation=\"relu\"))\n",
        "    \n",
        "    time = 1\n",
        "    while time < dense_layer:#pair other nodes using while loop\n",
        "      architecture+='-'+str(neuron)   \n",
        "      model_dense.add(Dense(neuron, activation=\"relu\"))\n",
        "      time+=1\n",
        "    \n",
        "    \n",
        "    #exchange results in y_train from 1-10 to 1/0\n",
        "    #y_train manifying\n",
        "    even=y_train[1:2] #creat even & odd training data\n",
        "    odd=y_train[3:4]\n",
        "    for i in [ 5,2,13,17]:\n",
        "      even=np.append(even,y_train[i:i+1],axis=0)\n",
        "    for i in [ 7,0,15,4]:\n",
        "      odd=np.append(odd,y_train[i:i+1],axis=0)\n",
        "\n",
        "    y_train_classify=y_train[1:1]\n",
        "    i=0\n",
        "    while i < len(y_train):\n",
        "      if y_train[i:i+1] in even:\n",
        "        y_train_classify=np.append(y_train_classify,y_train[1:2],axis=0)\n",
        "      else:\n",
        "        y_train_classify=np.append(y_train_classify,y_train[3:4],axis=0)\n",
        "      i+=1\n",
        "      \n",
        "      \n",
        "    #y_test manifying   \n",
        "    i=0\n",
        "    y_test_classify=y_test[1:1]\n",
        "    while i < len(y_test):\n",
        "    \n",
        "      if y_test[i:i+1] in even:\n",
        "        y_test_classify=np.append(y_test_classify,y_train[1:2],axis=0)\n",
        "      else:\n",
        "        y_test_classify=np.append(y_test_classify,y_train[3:4],axis=0)\n",
        "      i+=1\n",
        "      \n",
        "      \n",
        "    model_dense.add(Dense(nb_classes, activation=\"softmax\"))\n",
        "    architecture+=\"-2\"\n",
        "      \n",
        "    #compile before training & testing  \n",
        "    model_dense.compile(loss='categorical_crossentropy',\n",
        "                  optimizer='adam',\n",
        "                  metrics=['accuracy'])\n",
        "    \n",
        "    #training & testing (thought this was plotting and deleted, and got 0.01% of accuracy)\n",
        "    hist = model_dense.fit(X_train.reshape((len(X_train), img_cols * img_rows)), y_train_classify, \n",
        "          validation_data = (X_test.reshape((len(X_test), img_cols * img_rows)), y_test_classify), \n",
        "          epochs=20, batch_size=128)\n",
        "\n",
        "    \n",
        "    \n",
        "    score_train = model_dense.evaluate(X_train.reshape((len(X_train), img_cols * img_rows)), y_train_classify, verbose=0)\n",
        "    score_test = model_dense.evaluate(X_test.reshape((len(X_test), img_cols * img_rows)), y_test_classify, verbose=0)\n",
        "\n",
        "\n",
        "      \n",
        "    results.loc[len(results)] = np.array([architecture, \"1secs\", score_train[1], score_test[1], score_train[0], score_test[0]])\n",
        "    #results.index = [\"MLP\"]\n",
        "\n",
        "results\n",
        "      "
      ],
      "execution_count": 0,
      "outputs": [
        {
          "output_type": "stream",
          "text": [
            "Train on 60000 samples, validate on 10000 samples\n",
            "Epoch 1/20\n",
            "60000/60000 [==============================] - 8s 131us/step - loss: 0.0126 - acc: 0.9984 - val_loss: 1.1921e-07 - val_acc: 1.0000\n",
            "Epoch 2/20\n",
            "60000/60000 [==============================] - 7s 122us/step - loss: 1.1921e-07 - acc: 1.0000 - val_loss: 1.1921e-07 - val_acc: 1.0000\n",
            "Epoch 3/20\n",
            "60000/60000 [==============================] - 7s 122us/step - loss: 1.1921e-07 - acc: 1.0000 - val_loss: 1.1921e-07 - val_acc: 1.0000\n",
            "Epoch 4/20\n",
            "60000/60000 [==============================] - 7s 121us/step - loss: 1.1921e-07 - acc: 1.0000 - val_loss: 1.1921e-07 - val_acc: 1.0000\n",
            "Epoch 5/20\n",
            "60000/60000 [==============================] - 7s 119us/step - loss: 1.1921e-07 - acc: 1.0000 - val_loss: 1.1921e-07 - val_acc: 1.0000\n",
            "Epoch 6/20\n",
            "60000/60000 [==============================] - 7s 120us/step - loss: 1.1921e-07 - acc: 1.0000 - val_loss: 1.1921e-07 - val_acc: 1.0000\n",
            "Epoch 7/20\n",
            "60000/60000 [==============================] - 7s 121us/step - loss: 1.1921e-07 - acc: 1.0000 - val_loss: 1.1921e-07 - val_acc: 1.0000\n",
            "Epoch 8/20\n",
            "60000/60000 [==============================] - 7s 120us/step - loss: 1.1921e-07 - acc: 1.0000 - val_loss: 1.1921e-07 - val_acc: 1.0000\n",
            "Epoch 9/20\n",
            "60000/60000 [==============================] - 7s 120us/step - loss: 1.1921e-07 - acc: 1.0000 - val_loss: 1.1921e-07 - val_acc: 1.0000\n",
            "Epoch 10/20\n",
            "60000/60000 [==============================] - 7s 121us/step - loss: 1.1921e-07 - acc: 1.0000 - val_loss: 1.1921e-07 - val_acc: 1.0000\n",
            "Epoch 11/20\n",
            "60000/60000 [==============================] - 7s 120us/step - loss: 1.1921e-07 - acc: 1.0000 - val_loss: 1.1921e-07 - val_acc: 1.0000\n",
            "Epoch 12/20\n",
            "60000/60000 [==============================] - 7s 121us/step - loss: 1.1921e-07 - acc: 1.0000 - val_loss: 1.1921e-07 - val_acc: 1.0000\n",
            "Epoch 13/20\n",
            "60000/60000 [==============================] - 7s 121us/step - loss: 1.1921e-07 - acc: 1.0000 - val_loss: 1.1921e-07 - val_acc: 1.0000\n",
            "Epoch 14/20\n",
            "60000/60000 [==============================] - 8s 127us/step - loss: 1.1921e-07 - acc: 1.0000 - val_loss: 1.1921e-07 - val_acc: 1.0000\n",
            "Epoch 15/20\n",
            "60000/60000 [==============================] - 8s 126us/step - loss: 1.1921e-07 - acc: 1.0000 - val_loss: 1.1921e-07 - val_acc: 1.0000\n",
            "Epoch 16/20\n",
            "60000/60000 [==============================] - 7s 122us/step - loss: 1.1921e-07 - acc: 1.0000 - val_loss: 1.1921e-07 - val_acc: 1.0000\n",
            "Epoch 17/20\n",
            "60000/60000 [==============================] - 7s 121us/step - loss: 1.1921e-07 - acc: 1.0000 - val_loss: 1.1921e-07 - val_acc: 1.0000\n",
            "Epoch 18/20\n",
            "60000/60000 [==============================] - 8s 127us/step - loss: 1.1921e-07 - acc: 1.0000 - val_loss: 1.1921e-07 - val_acc: 1.0000\n",
            "Epoch 19/20\n",
            "60000/60000 [==============================] - 8s 129us/step - loss: 1.1921e-07 - acc: 1.0000 - val_loss: 1.1921e-07 - val_acc: 1.0000\n",
            "Epoch 20/20\n",
            "60000/60000 [==============================] - 7s 122us/step - loss: 1.1921e-07 - acc: 1.0000 - val_loss: 1.1921e-07 - val_acc: 1.0000\n",
            "Train on 60000 samples, validate on 10000 samples\n",
            "Epoch 1/20\n",
            "60000/60000 [==============================] - 6s 108us/step - loss: 0.0211 - acc: 0.9968 - val_loss: 1.1947e-07 - val_acc: 1.0000\n",
            "Epoch 2/20\n",
            "60000/60000 [==============================] - 5s 78us/step - loss: 1.2015e-07 - acc: 1.0000 - val_loss: 1.1947e-07 - val_acc: 1.0000\n",
            "Epoch 3/20\n",
            "60000/60000 [==============================] - 4s 70us/step - loss: 1.2015e-07 - acc: 1.0000 - val_loss: 1.1947e-07 - val_acc: 1.0000\n",
            "Epoch 4/20\n",
            "60000/60000 [==============================] - 4s 68us/step - loss: 1.2015e-07 - acc: 1.0000 - val_loss: 1.1947e-07 - val_acc: 1.0000\n",
            "Epoch 5/20\n",
            "60000/60000 [==============================] - 4s 67us/step - loss: 1.2015e-07 - acc: 1.0000 - val_loss: 1.1947e-07 - val_acc: 1.0000\n",
            "Epoch 6/20\n",
            "60000/60000 [==============================] - 4s 66us/step - loss: 1.2015e-07 - acc: 1.0000 - val_loss: 1.1947e-07 - val_acc: 1.0000\n",
            "Epoch 7/20\n",
            "60000/60000 [==============================] - 4s 68us/step - loss: 1.2015e-07 - acc: 1.0000 - val_loss: 1.1947e-07 - val_acc: 1.0000\n",
            "Epoch 8/20\n",
            "60000/60000 [==============================] - 4s 67us/step - loss: 1.2015e-07 - acc: 1.0000 - val_loss: 1.1947e-07 - val_acc: 1.0000\n",
            "Epoch 9/20\n",
            "60000/60000 [==============================] - 4s 68us/step - loss: 1.2014e-07 - acc: 1.0000 - val_loss: 1.1947e-07 - val_acc: 1.0000\n",
            "Epoch 10/20\n",
            "60000/60000 [==============================] - 4s 67us/step - loss: 1.2014e-07 - acc: 1.0000 - val_loss: 1.1946e-07 - val_acc: 1.0000\n",
            "Epoch 11/20\n",
            "60000/60000 [==============================] - 4s 68us/step - loss: 1.2014e-07 - acc: 1.0000 - val_loss: 1.1946e-07 - val_acc: 1.0000\n",
            "Epoch 12/20\n",
            "60000/60000 [==============================] - 4s 68us/step - loss: 1.2013e-07 - acc: 1.0000 - val_loss: 1.1946e-07 - val_acc: 1.0000\n",
            "Epoch 13/20\n",
            "60000/60000 [==============================] - 4s 67us/step - loss: 1.2012e-07 - acc: 1.0000 - val_loss: 1.1946e-07 - val_acc: 1.0000\n",
            "Epoch 14/20\n",
            "60000/60000 [==============================] - 4s 70us/step - loss: 1.2012e-07 - acc: 1.0000 - val_loss: 1.1946e-07 - val_acc: 1.0000\n",
            "Epoch 15/20\n",
            "60000/60000 [==============================] - 4s 68us/step - loss: 1.2010e-07 - acc: 1.0000 - val_loss: 1.1946e-07 - val_acc: 1.0000\n",
            "Epoch 16/20\n",
            "60000/60000 [==============================] - 4s 68us/step - loss: 1.2009e-07 - acc: 1.0000 - val_loss: 1.1946e-07 - val_acc: 1.0000\n",
            "Epoch 17/20\n",
            "60000/60000 [==============================] - 4s 67us/step - loss: 1.2007e-07 - acc: 1.0000 - val_loss: 1.1945e-07 - val_acc: 1.0000\n",
            "Epoch 18/20\n",
            "60000/60000 [==============================] - 4s 67us/step - loss: 1.2004e-07 - acc: 1.0000 - val_loss: 1.1945e-07 - val_acc: 1.0000\n",
            "Epoch 19/20\n",
            "60000/60000 [==============================] - 4s 67us/step - loss: 1.2002e-07 - acc: 1.0000 - val_loss: 1.1944e-07 - val_acc: 1.0000\n",
            "Epoch 20/20\n",
            "60000/60000 [==============================] - 4s 65us/step - loss: 1.1999e-07 - acc: 1.0000 - val_loss: 1.1942e-07 - val_acc: 1.0000\n",
            "Train on 60000 samples, validate on 10000 samples\n",
            "Epoch 1/20\n",
            "60000/60000 [==============================] - 4s 59us/step - loss: 0.0413 - acc: 0.9962 - val_loss: 3.7871e-06 - val_acc: 1.0000\n",
            "Epoch 2/20\n",
            "60000/60000 [==============================] - 2s 41us/step - loss: 1.7620e-06 - acc: 1.0000 - val_loss: 8.4366e-07 - val_acc: 1.0000\n",
            "Epoch 3/20\n",
            "60000/60000 [==============================] - 2s 39us/step - loss: 5.8515e-07 - acc: 1.0000 - val_loss: 4.1112e-07 - val_acc: 1.0000\n",
            "Epoch 4/20\n",
            "60000/60000 [==============================] - 3s 43us/step - loss: 3.3480e-07 - acc: 1.0000 - val_loss: 2.7452e-07 - val_acc: 1.0000\n",
            "Epoch 5/20\n",
            "60000/60000 [==============================] - 2s 39us/step - loss: 2.3993e-07 - acc: 1.0000 - val_loss: 2.1254e-07 - val_acc: 1.0000\n",
            "Epoch 6/20\n",
            "60000/60000 [==============================] - 2s 39us/step - loss: 1.9379e-07 - acc: 1.0000 - val_loss: 1.7974e-07 - val_acc: 1.0000\n",
            "Epoch 7/20\n",
            "60000/60000 [==============================] - 2s 39us/step - loss: 1.6811e-07 - acc: 1.0000 - val_loss: 1.6081e-07 - val_acc: 1.0000\n",
            "Epoch 8/20\n",
            "60000/60000 [==============================] - 2s 39us/step - loss: 1.5258e-07 - acc: 1.0000 - val_loss: 1.4879e-07 - val_acc: 1.0000\n",
            "Epoch 9/20\n",
            "60000/60000 [==============================] - 2s 38us/step - loss: 1.4270e-07 - acc: 1.0000 - val_loss: 1.4061e-07 - val_acc: 1.0000\n",
            "Epoch 10/20\n",
            "60000/60000 [==============================] - 2s 38us/step - loss: 1.3613e-07 - acc: 1.0000 - val_loss: 1.3513e-07 - val_acc: 1.0000\n",
            "Epoch 11/20\n",
            "60000/60000 [==============================] - 2s 40us/step - loss: 1.3156e-07 - acc: 1.0000 - val_loss: 1.3126e-07 - val_acc: 1.0000\n",
            "Epoch 12/20\n",
            "60000/60000 [==============================] - 2s 39us/step - loss: 1.2834e-07 - acc: 1.0000 - val_loss: 1.2837e-07 - val_acc: 1.0000\n",
            "Epoch 13/20\n",
            "60000/60000 [==============================] - 2s 37us/step - loss: 1.2608e-07 - acc: 1.0000 - val_loss: 1.2640e-07 - val_acc: 1.0000\n",
            "Epoch 14/20\n",
            "60000/60000 [==============================] - 2s 37us/step - loss: 1.2441e-07 - acc: 1.0000 - val_loss: 1.2486e-07 - val_acc: 1.0000\n",
            "Epoch 15/20\n",
            "60000/60000 [==============================] - 2s 37us/step - loss: 1.2321e-07 - acc: 1.0000 - val_loss: 1.2367e-07 - val_acc: 1.0000\n",
            "Epoch 16/20\n",
            "60000/60000 [==============================] - 2s 38us/step - loss: 1.2228e-07 - acc: 1.0000 - val_loss: 1.2277e-07 - val_acc: 1.0000\n",
            "Epoch 17/20\n",
            "60000/60000 [==============================] - 2s 38us/step - loss: 1.2159e-07 - acc: 1.0000 - val_loss: 1.2206e-07 - val_acc: 1.0000\n",
            "Epoch 18/20\n",
            "60000/60000 [==============================] - 2s 39us/step - loss: 1.2106e-07 - acc: 1.0000 - val_loss: 1.2159e-07 - val_acc: 1.0000\n",
            "Epoch 19/20\n",
            "60000/60000 [==============================] - 2s 40us/step - loss: 1.2068e-07 - acc: 1.0000 - val_loss: 1.2118e-07 - val_acc: 1.0000\n",
            "Epoch 20/20\n",
            "60000/60000 [==============================] - 2s 41us/step - loss: 1.2039e-07 - acc: 1.0000 - val_loss: 1.2082e-07 - val_acc: 1.0000\n",
            "Train on 60000 samples, validate on 10000 samples\n",
            "Epoch 1/20\n",
            "60000/60000 [==============================] - 2s 36us/step - loss: 0.1942 - acc: 0.9189 - val_loss: 6.2871e-04 - val_acc: 1.0000\n",
            "Epoch 2/20\n",
            "60000/60000 [==============================] - 1s 23us/step - loss: 3.3612e-04 - acc: 1.0000 - val_loss: 1.7254e-04 - val_acc: 1.0000\n",
            "Epoch 3/20\n",
            "60000/60000 [==============================] - 1s 23us/step - loss: 1.1680e-04 - acc: 1.0000 - val_loss: 7.6804e-05 - val_acc: 1.0000\n",
            "Epoch 4/20\n",
            "60000/60000 [==============================] - 1s 23us/step - loss: 5.6568e-05 - acc: 1.0000 - val_loss: 4.0347e-05 - val_acc: 1.0000\n",
            "Epoch 5/20\n",
            "60000/60000 [==============================] - 1s 23us/step - loss: 2.8886e-05 - acc: 1.0000 - val_loss: 1.9483e-05 - val_acc: 1.0000\n",
            "Epoch 6/20\n",
            "60000/60000 [==============================] - 1s 23us/step - loss: 1.3004e-05 - acc: 1.0000 - val_loss: 8.4843e-06 - val_acc: 1.0000\n",
            "Epoch 7/20\n",
            "60000/60000 [==============================] - 1s 23us/step - loss: 5.7503e-06 - acc: 1.0000 - val_loss: 4.0519e-06 - val_acc: 1.0000\n",
            "Epoch 8/20\n",
            "60000/60000 [==============================] - 1s 24us/step - loss: 2.8880e-06 - acc: 1.0000 - val_loss: 2.2325e-06 - val_acc: 1.0000\n",
            "Epoch 9/20\n",
            "60000/60000 [==============================] - 2s 26us/step - loss: 1.6450e-06 - acc: 1.0000 - val_loss: 1.3619e-06 - val_acc: 1.0000\n",
            "Epoch 10/20\n",
            "60000/60000 [==============================] - 2s 27us/step - loss: 1.0340e-06 - acc: 1.0000 - val_loss: 9.0223e-07 - val_acc: 1.0000\n",
            "Epoch 11/20\n",
            "60000/60000 [==============================] - 2s 26us/step - loss: 7.0366e-07 - acc: 1.0000 - val_loss: 6.4172e-07 - val_acc: 1.0000\n",
            "Epoch 12/20\n",
            "60000/60000 [==============================] - 2s 26us/step - loss: 5.1024e-07 - acc: 1.0000 - val_loss: 4.7962e-07 - val_acc: 1.0000\n",
            "Epoch 13/20\n",
            "60000/60000 [==============================] - 2s 27us/step - loss: 3.8818e-07 - acc: 1.0000 - val_loss: 3.7336e-07 - val_acc: 1.0000\n",
            "Epoch 14/20\n",
            "60000/60000 [==============================] - 2s 27us/step - loss: 3.0826e-07 - acc: 1.0000 - val_loss: 3.0231e-07 - val_acc: 1.0000\n",
            "Epoch 15/20\n",
            "60000/60000 [==============================] - 2s 26us/step - loss: 2.5453e-07 - acc: 1.0000 - val_loss: 2.5327e-07 - val_acc: 1.0000\n",
            "Epoch 16/20\n",
            "60000/60000 [==============================] - 2s 26us/step - loss: 2.1745e-07 - acc: 1.0000 - val_loss: 2.1820e-07 - val_acc: 1.0000\n",
            "Epoch 17/20\n",
            "60000/60000 [==============================] - 2s 26us/step - loss: 1.9123e-07 - acc: 1.0000 - val_loss: 1.9303e-07 - val_acc: 1.0000\n",
            "Epoch 18/20\n",
            "60000/60000 [==============================] - 2s 26us/step - loss: 1.7243e-07 - acc: 1.0000 - val_loss: 1.7480e-07 - val_acc: 1.0000\n",
            "Epoch 19/20\n",
            "60000/60000 [==============================] - 2s 26us/step - loss: 1.5891e-07 - acc: 1.0000 - val_loss: 1.6165e-07 - val_acc: 1.0000\n",
            "Epoch 20/20\n",
            "60000/60000 [==============================] - 2s 27us/step - loss: 1.4915e-07 - acc: 1.0000 - val_loss: 1.5178e-07 - val_acc: 1.0000\n",
            "Train on 60000 samples, validate on 10000 samples\n",
            "Epoch 1/20\n",
            "60000/60000 [==============================] - 8s 137us/step - loss: 0.0111 - acc: 0.9983 - val_loss: 1.1928e-07 - val_acc: 1.0000\n",
            "Epoch 2/20\n",
            "60000/60000 [==============================] - 7s 112us/step - loss: 1.1929e-07 - acc: 1.0000 - val_loss: 1.1928e-07 - val_acc: 1.0000\n",
            "Epoch 3/20\n",
            "60000/60000 [==============================] - 6s 101us/step - loss: 1.1929e-07 - acc: 1.0000 - val_loss: 1.1928e-07 - val_acc: 1.0000\n",
            "Epoch 4/20\n",
            "60000/60000 [==============================] - 6s 101us/step - loss: 1.1929e-07 - acc: 1.0000 - val_loss: 1.1928e-07 - val_acc: 1.0000\n",
            "Epoch 5/20\n",
            "60000/60000 [==============================] - 6s 105us/step - loss: 1.1929e-07 - acc: 1.0000 - val_loss: 1.1928e-07 - val_acc: 1.0000\n",
            "Epoch 6/20\n",
            "60000/60000 [==============================] - 7s 110us/step - loss: 1.1929e-07 - acc: 1.0000 - val_loss: 1.1928e-07 - val_acc: 1.0000\n",
            "Epoch 7/20\n",
            "60000/60000 [==============================] - 6s 104us/step - loss: 1.1929e-07 - acc: 1.0000 - val_loss: 1.1928e-07 - val_acc: 1.0000\n",
            "Epoch 8/20\n",
            "60000/60000 [==============================] - 6s 106us/step - loss: 1.1929e-07 - acc: 1.0000 - val_loss: 1.1928e-07 - val_acc: 1.0000\n",
            "Epoch 9/20\n",
            "60000/60000 [==============================] - 6s 104us/step - loss: 1.1929e-07 - acc: 1.0000 - val_loss: 1.1928e-07 - val_acc: 1.0000\n",
            "Epoch 10/20\n",
            "60000/60000 [==============================] - 6s 105us/step - loss: 1.1929e-07 - acc: 1.0000 - val_loss: 1.1928e-07 - val_acc: 1.0000\n",
            "Epoch 11/20\n",
            "60000/60000 [==============================] - 6s 108us/step - loss: 1.1929e-07 - acc: 1.0000 - val_loss: 1.1928e-07 - val_acc: 1.0000\n",
            "Epoch 12/20\n",
            "60000/60000 [==============================] - 6s 108us/step - loss: 1.1929e-07 - acc: 1.0000 - val_loss: 1.1928e-07 - val_acc: 1.0000\n",
            "Epoch 13/20\n",
            "60000/60000 [==============================] - 7s 113us/step - loss: 1.1929e-07 - acc: 1.0000 - val_loss: 1.1928e-07 - val_acc: 1.0000\n",
            "Epoch 14/20\n",
            "60000/60000 [==============================] - 7s 110us/step - loss: 1.1929e-07 - acc: 1.0000 - val_loss: 1.1928e-07 - val_acc: 1.0000\n",
            "Epoch 15/20\n",
            "60000/60000 [==============================] - 7s 110us/step - loss: 1.1929e-07 - acc: 1.0000 - val_loss: 1.1928e-07 - val_acc: 1.0000\n",
            "Epoch 16/20\n",
            "60000/60000 [==============================] - 6s 100us/step - loss: 1.1929e-07 - acc: 1.0000 - val_loss: 1.1928e-07 - val_acc: 1.0000\n",
            "Epoch 17/20\n",
            "60000/60000 [==============================] - 6s 104us/step - loss: 1.1929e-07 - acc: 1.0000 - val_loss: 1.1928e-07 - val_acc: 1.0000\n",
            "Epoch 18/20\n",
            "60000/60000 [==============================] - 6s 105us/step - loss: 1.1929e-07 - acc: 1.0000 - val_loss: 1.1928e-07 - val_acc: 1.0000\n",
            "Epoch 19/20\n",
            "60000/60000 [==============================] - 6s 107us/step - loss: 1.1929e-07 - acc: 1.0000 - val_loss: 1.1928e-07 - val_acc: 1.0000\n",
            "Epoch 20/20\n",
            "60000/60000 [==============================] - 6s 108us/step - loss: 1.1928e-07 - acc: 1.0000 - val_loss: 1.1928e-07 - val_acc: 1.0000\n",
            "Train on 60000 samples, validate on 10000 samples\n",
            "Epoch 1/20\n",
            "60000/60000 [==============================] - 4s 73us/step - loss: 0.0193 - acc: 0.9966 - val_loss: 9.0220e-07 - val_acc: 1.0000\n",
            "Epoch 2/20\n",
            "60000/60000 [==============================] - 4s 62us/step - loss: 8.6897e-07 - acc: 1.0000 - val_loss: 7.6842e-07 - val_acc: 1.0000\n",
            "Epoch 3/20\n",
            "60000/60000 [==============================] - 4s 62us/step - loss: 7.1851e-07 - acc: 1.0000 - val_loss: 6.1491e-07 - val_acc: 1.0000\n",
            "Epoch 4/20\n",
            "60000/60000 [==============================] - 4s 62us/step - loss: 5.6699e-07 - acc: 1.0000 - val_loss: 4.7570e-07 - val_acc: 1.0000\n",
            "Epoch 5/20\n",
            "60000/60000 [==============================] - 4s 61us/step - loss: 4.3564e-07 - acc: 1.0000 - val_loss: 3.6141e-07 - val_acc: 1.0000\n",
            "Epoch 6/20\n",
            "60000/60000 [==============================] - 4s 61us/step - loss: 3.3148e-07 - acc: 1.0000 - val_loss: 2.7634e-07 - val_acc: 1.0000\n",
            "Epoch 7/20\n",
            "60000/60000 [==============================] - 4s 61us/step - loss: 2.5773e-07 - acc: 1.0000 - val_loss: 2.1972e-07 - val_acc: 1.0000\n",
            "Epoch 8/20\n",
            "60000/60000 [==============================] - 4s 60us/step - loss: 2.1013e-07 - acc: 1.0000 - val_loss: 1.8500e-07 - val_acc: 1.0000\n",
            "Epoch 9/20\n",
            "60000/60000 [==============================] - 3s 57us/step - loss: 1.7970e-07 - acc: 1.0000 - val_loss: 1.6272e-07 - val_acc: 1.0000\n",
            "Epoch 10/20\n",
            "60000/60000 [==============================] - 4s 59us/step - loss: 1.6037e-07 - acc: 1.0000 - val_loss: 1.4871e-07 - val_acc: 1.0000\n",
            "Epoch 11/20\n",
            "60000/60000 [==============================] - 4s 59us/step - loss: 1.4774e-07 - acc: 1.0000 - val_loss: 1.3960e-07 - val_acc: 1.0000\n",
            "Epoch 12/20\n",
            "60000/60000 [==============================] - 3s 58us/step - loss: 1.3931e-07 - acc: 1.0000 - val_loss: 1.3369e-07 - val_acc: 1.0000\n",
            "Epoch 13/20\n",
            "60000/60000 [==============================] - 4s 59us/step - loss: 1.3366e-07 - acc: 1.0000 - val_loss: 1.2964e-07 - val_acc: 1.0000\n",
            "Epoch 14/20\n",
            "60000/60000 [==============================] - 3s 58us/step - loss: 1.2972e-07 - acc: 1.0000 - val_loss: 1.2676e-07 - val_acc: 1.0000\n",
            "Epoch 15/20\n",
            "60000/60000 [==============================] - 4s 58us/step - loss: 1.2696e-07 - acc: 1.0000 - val_loss: 1.2478e-07 - val_acc: 1.0000\n",
            "Epoch 16/20\n",
            "60000/60000 [==============================] - 3s 58us/step - loss: 1.2502e-07 - acc: 1.0000 - val_loss: 1.2341e-07 - val_acc: 1.0000\n",
            "Epoch 17/20\n",
            "60000/60000 [==============================] - 3s 58us/step - loss: 1.2359e-07 - acc: 1.0000 - val_loss: 1.2231e-07 - val_acc: 1.0000\n",
            "Epoch 18/20\n",
            "60000/60000 [==============================] - 3s 57us/step - loss: 1.2256e-07 - acc: 1.0000 - val_loss: 1.2162e-07 - val_acc: 1.0000\n",
            "Epoch 19/20\n",
            "60000/60000 [==============================] - 3s 57us/step - loss: 1.2177e-07 - acc: 1.0000 - val_loss: 1.2106e-07 - val_acc: 1.0000\n",
            "Epoch 20/20\n",
            "60000/60000 [==============================] - 3s 57us/step - loss: 1.2121e-07 - acc: 1.0000 - val_loss: 1.2062e-07 - val_acc: 1.0000\n",
            "Train on 60000 samples, validate on 10000 samples\n",
            "Epoch 1/20\n",
            "60000/60000 [==============================] - 3s 56us/step - loss: 0.0204 - acc: 0.9991 - val_loss: 7.1594e-06 - val_acc: 1.0000\n",
            "Epoch 2/20\n",
            "60000/60000 [==============================] - 2s 41us/step - loss: 2.4295e-06 - acc: 1.0000 - val_loss: 1.4548e-06 - val_acc: 1.0000\n",
            "Epoch 3/20\n",
            "60000/60000 [==============================] - 2s 36us/step - loss: 6.8463e-07 - acc: 1.0000 - val_loss: 6.7831e-07 - val_acc: 1.0000\n",
            "Epoch 4/20\n",
            "60000/60000 [==============================] - 2s 36us/step - loss: 3.6318e-07 - acc: 1.0000 - val_loss: 4.2689e-07 - val_acc: 1.0000\n",
            "Epoch 5/20\n",
            "60000/60000 [==============================] - 2s 35us/step - loss: 2.4953e-07 - acc: 1.0000 - val_loss: 3.0874e-07 - val_acc: 1.0000\n",
            "Epoch 6/20\n",
            "60000/60000 [==============================] - 2s 36us/step - loss: 1.9625e-07 - acc: 1.0000 - val_loss: 2.4332e-07 - val_acc: 1.0000\n",
            "Epoch 7/20\n",
            "60000/60000 [==============================] - 2s 40us/step - loss: 1.6788e-07 - acc: 1.0000 - val_loss: 2.0471e-07 - val_acc: 1.0000\n",
            "Epoch 8/20\n",
            "60000/60000 [==============================] - 2s 40us/step - loss: 1.5120e-07 - acc: 1.0000 - val_loss: 1.8012e-07 - val_acc: 1.0000\n",
            "Epoch 9/20\n",
            "60000/60000 [==============================] - 2s 37us/step - loss: 1.4096e-07 - acc: 1.0000 - val_loss: 1.6390e-07 - val_acc: 1.0000\n",
            "Epoch 10/20\n",
            "60000/60000 [==============================] - 2s 38us/step - loss: 1.3457e-07 - acc: 1.0000 - val_loss: 1.5299e-07 - val_acc: 1.0000\n",
            "Epoch 11/20\n",
            "60000/60000 [==============================] - 3s 46us/step - loss: 1.3017e-07 - acc: 1.0000 - val_loss: 1.4500e-07 - val_acc: 1.0000\n",
            "Epoch 12/20\n",
            "60000/60000 [==============================] - 3s 45us/step - loss: 1.2720e-07 - acc: 1.0000 - val_loss: 1.3931e-07 - val_acc: 1.0000\n",
            "Epoch 13/20\n",
            "60000/60000 [==============================] - 2s 41us/step - loss: 1.2511e-07 - acc: 1.0000 - val_loss: 1.3511e-07 - val_acc: 1.0000\n",
            "Epoch 14/20\n",
            "60000/60000 [==============================] - 2s 40us/step - loss: 1.2366e-07 - acc: 1.0000 - val_loss: 1.3194e-07 - val_acc: 1.0000\n",
            "Epoch 15/20\n",
            "60000/60000 [==============================] - 2s 40us/step - loss: 1.2258e-07 - acc: 1.0000 - val_loss: 1.2954e-07 - val_acc: 1.0000\n",
            "Epoch 16/20\n",
            "60000/60000 [==============================] - 2s 41us/step - loss: 1.2177e-07 - acc: 1.0000 - val_loss: 1.2760e-07 - val_acc: 1.0000\n",
            "Epoch 17/20\n",
            "60000/60000 [==============================] - 2s 38us/step - loss: 1.2119e-07 - acc: 1.0000 - val_loss: 1.2620e-07 - val_acc: 1.0000\n",
            "Epoch 18/20\n",
            "60000/60000 [==============================] - 2s 38us/step - loss: 1.2075e-07 - acc: 1.0000 - val_loss: 1.2500e-07 - val_acc: 1.0000\n",
            "Epoch 19/20\n",
            "60000/60000 [==============================] - 2s 38us/step - loss: 1.2044e-07 - acc: 1.0000 - val_loss: 1.2411e-07 - val_acc: 1.0000\n",
            "Epoch 20/20\n",
            "60000/60000 [==============================] - 2s 39us/step - loss: 1.2017e-07 - acc: 1.0000 - val_loss: 1.2334e-07 - val_acc: 1.0000\n",
            "Train on 60000 samples, validate on 10000 samples\n",
            "Epoch 1/20\n",
            "60000/60000 [==============================] - 3s 43us/step - loss: 0.2204 - acc: 0.9274 - val_loss: 0.0013 - val_acc: 1.0000\n",
            "Epoch 2/20\n",
            "60000/60000 [==============================] - 2s 25us/step - loss: 6.9238e-04 - acc: 1.0000 - val_loss: 3.4714e-04 - val_acc: 1.0000\n",
            "Epoch 3/20\n",
            "60000/60000 [==============================] - 2s 26us/step - loss: 2.3066e-04 - acc: 1.0000 - val_loss: 1.5406e-04 - val_acc: 1.0000\n",
            "Epoch 4/20\n",
            "60000/60000 [==============================] - 2s 26us/step - loss: 1.1204e-04 - acc: 1.0000 - val_loss: 8.4533e-05 - val_acc: 1.0000\n",
            "Epoch 5/20\n",
            "60000/60000 [==============================] - 2s 27us/step - loss: 6.4062e-05 - acc: 1.0000 - val_loss: 5.1726e-05 - val_acc: 1.0000\n",
            "Epoch 6/20\n",
            "60000/60000 [==============================] - 2s 27us/step - loss: 4.0145e-05 - acc: 1.0000 - val_loss: 3.3880e-05 - val_acc: 1.0000\n",
            "Epoch 7/20\n",
            "60000/60000 [==============================] - 2s 27us/step - loss: 2.6619e-05 - acc: 1.0000 - val_loss: 2.3256e-05 - val_acc: 1.0000\n",
            "Epoch 8/20\n",
            "60000/60000 [==============================] - 2s 26us/step - loss: 1.8336e-05 - acc: 1.0000 - val_loss: 1.6423e-05 - val_acc: 1.0000\n",
            "Epoch 9/20\n",
            "60000/60000 [==============================] - 2s 26us/step - loss: 1.2969e-05 - acc: 1.0000 - val_loss: 1.1901e-05 - val_acc: 1.0000\n",
            "Epoch 10/20\n",
            "60000/60000 [==============================] - 2s 26us/step - loss: 9.3529e-06 - acc: 1.0000 - val_loss: 8.7733e-06 - val_acc: 1.0000\n",
            "Epoch 11/20\n",
            "60000/60000 [==============================] - 2s 27us/step - loss: 6.8571e-06 - acc: 1.0000 - val_loss: 6.5255e-06 - val_acc: 1.0000\n",
            "Epoch 12/20\n",
            "60000/60000 [==============================] - 2s 26us/step - loss: 5.0939e-06 - acc: 1.0000 - val_loss: 4.9340e-06 - val_acc: 1.0000\n",
            "Epoch 13/20\n",
            "60000/60000 [==============================] - 2s 28us/step - loss: 3.8159e-06 - acc: 1.0000 - val_loss: 3.7658e-06 - val_acc: 1.0000\n",
            "Epoch 14/20\n",
            "60000/60000 [==============================] - 2s 30us/step - loss: 2.8823e-06 - acc: 1.0000 - val_loss: 2.8883e-06 - val_acc: 1.0000\n",
            "Epoch 15/20\n",
            "60000/60000 [==============================] - 2s 30us/step - loss: 2.1961e-06 - acc: 1.0000 - val_loss: 2.2349e-06 - val_acc: 1.0000\n",
            "Epoch 16/20\n",
            "60000/60000 [==============================] - 2s 29us/step - loss: 1.6872e-06 - acc: 1.0000 - val_loss: 1.7478e-06 - val_acc: 1.0000\n",
            "Epoch 17/20\n",
            "60000/60000 [==============================] - 2s 28us/step - loss: 1.3054e-06 - acc: 1.0000 - val_loss: 1.3757e-06 - val_acc: 1.0000\n",
            "Epoch 18/20\n",
            "60000/60000 [==============================] - 2s 29us/step - loss: 1.0185e-06 - acc: 1.0000 - val_loss: 1.0887e-06 - val_acc: 1.0000\n",
            "Epoch 19/20\n",
            "60000/60000 [==============================] - 2s 26us/step - loss: 8.0296e-07 - acc: 1.0000 - val_loss: 8.7126e-07 - val_acc: 1.0000\n",
            "Epoch 20/20\n",
            "60000/60000 [==============================] - 2s 26us/step - loss: 6.3975e-07 - acc: 1.0000 - val_loss: 7.0290e-07 - val_acc: 1.0000\n",
            "Train on 60000 samples, validate on 10000 samples\n",
            "Epoch 1/20\n",
            "60000/60000 [==============================] - 7s 116us/step - loss: 0.0108 - acc: 0.9982 - val_loss: 4.2811e-07 - val_acc: 1.0000\n",
            "Epoch 2/20\n",
            "60000/60000 [==============================] - 6s 98us/step - loss: 3.9851e-07 - acc: 1.0000 - val_loss: 4.0881e-07 - val_acc: 1.0000\n",
            "Epoch 3/20\n",
            "60000/60000 [==============================] - 6s 95us/step - loss: 3.7699e-07 - acc: 1.0000 - val_loss: 3.8350e-07 - val_acc: 1.0000\n",
            "Epoch 4/20\n",
            "60000/60000 [==============================] - 6s 94us/step - loss: 3.3764e-07 - acc: 1.0000 - val_loss: 2.9048e-07 - val_acc: 1.0000\n",
            "Epoch 5/20\n",
            "60000/60000 [==============================] - 6s 93us/step - loss: 2.0417e-07 - acc: 1.0000 - val_loss: 1.6232e-07 - val_acc: 1.0000\n",
            "Epoch 6/20\n",
            "60000/60000 [==============================] - 5s 90us/step - loss: 1.4391e-07 - acc: 1.0000 - val_loss: 1.3643e-07 - val_acc: 1.0000\n",
            "Epoch 7/20\n",
            "60000/60000 [==============================] - 5s 87us/step - loss: 1.3064e-07 - acc: 1.0000 - val_loss: 1.2897e-07 - val_acc: 1.0000\n",
            "Epoch 8/20\n",
            "60000/60000 [==============================] - 6s 96us/step - loss: 1.2588e-07 - acc: 1.0000 - val_loss: 1.2524e-07 - val_acc: 1.0000\n",
            "Epoch 9/20\n",
            "60000/60000 [==============================] - 6s 98us/step - loss: 1.2360e-07 - acc: 1.0000 - val_loss: 1.2339e-07 - val_acc: 1.0000\n",
            "Epoch 10/20\n",
            "60000/60000 [==============================] - 6s 97us/step - loss: 1.2229e-07 - acc: 1.0000 - val_loss: 1.2228e-07 - val_acc: 1.0000\n",
            "Epoch 11/20\n",
            "60000/60000 [==============================] - 6s 98us/step - loss: 1.2151e-07 - acc: 1.0000 - val_loss: 1.2158e-07 - val_acc: 1.0000\n",
            "Epoch 12/20\n",
            "60000/60000 [==============================] - 6s 98us/step - loss: 1.2098e-07 - acc: 1.0000 - val_loss: 1.2107e-07 - val_acc: 1.0000\n",
            "Epoch 13/20\n",
            "60000/60000 [==============================] - 6s 95us/step - loss: 1.2061e-07 - acc: 1.0000 - val_loss: 1.2075e-07 - val_acc: 1.0000\n",
            "Epoch 14/20\n",
            "60000/60000 [==============================] - 5s 90us/step - loss: 1.2036e-07 - acc: 1.0000 - val_loss: 1.2047e-07 - val_acc: 1.0000\n",
            "Epoch 15/20\n",
            "60000/60000 [==============================] - 5s 91us/step - loss: 1.2016e-07 - acc: 1.0000 - val_loss: 1.2028e-07 - val_acc: 1.0000\n",
            "Epoch 16/20\n",
            "60000/60000 [==============================] - 5s 86us/step - loss: 1.2001e-07 - acc: 1.0000 - val_loss: 1.2013e-07 - val_acc: 1.0000\n",
            "Epoch 17/20\n",
            "60000/60000 [==============================] - 6s 92us/step - loss: 1.1988e-07 - acc: 1.0000 - val_loss: 1.1998e-07 - val_acc: 1.0000\n",
            "Epoch 18/20\n",
            "60000/60000 [==============================] - 6s 93us/step - loss: 1.1979e-07 - acc: 1.0000 - val_loss: 1.1989e-07 - val_acc: 1.0000\n",
            "Epoch 19/20\n",
            "60000/60000 [==============================] - 6s 93us/step - loss: 1.1971e-07 - acc: 1.0000 - val_loss: 1.1981e-07 - val_acc: 1.0000\n",
            "Epoch 20/20\n",
            "60000/60000 [==============================] - 6s 97us/step - loss: 1.1966e-07 - acc: 1.0000 - val_loss: 1.1976e-07 - val_acc: 1.0000\n",
            "Train on 60000 samples, validate on 10000 samples\n",
            "Epoch 1/20\n",
            "60000/60000 [==============================] - 5s 77us/step - loss: 0.0243 - acc: 0.9954 - val_loss: 1.4707e-05 - val_acc: 1.0000\n",
            "Epoch 2/20\n",
            "60000/60000 [==============================] - 3s 52us/step - loss: 7.4123e-06 - acc: 1.0000 - val_loss: 3.7184e-06 - val_acc: 1.0000\n",
            "Epoch 3/20\n",
            "60000/60000 [==============================] - 3s 50us/step - loss: 2.0927e-06 - acc: 1.0000 - val_loss: 1.3957e-06 - val_acc: 1.0000\n",
            "Epoch 4/20\n",
            "60000/60000 [==============================] - 3s 51us/step - loss: 9.0569e-07 - acc: 1.0000 - val_loss: 7.4054e-07 - val_acc: 1.0000\n",
            "Epoch 5/20\n",
            "60000/60000 [==============================] - 3s 50us/step - loss: 5.2204e-07 - acc: 1.0000 - val_loss: 4.7465e-07 - val_acc: 1.0000\n",
            "Epoch 6/20\n",
            "60000/60000 [==============================] - 3s 54us/step - loss: 3.5394e-07 - acc: 1.0000 - val_loss: 3.4022e-07 - val_acc: 1.0000\n",
            "Epoch 7/20\n",
            "60000/60000 [==============================] - 4s 63us/step - loss: 2.6707e-07 - acc: 1.0000 - val_loss: 2.6700e-07 - val_acc: 1.0000\n",
            "Epoch 8/20\n",
            "60000/60000 [==============================] - 4s 63us/step - loss: 2.1796e-07 - acc: 1.0000 - val_loss: 2.2200e-07 - val_acc: 1.0000\n",
            "Epoch 9/20\n",
            "60000/60000 [==============================] - 3s 51us/step - loss: 1.8737e-07 - acc: 1.0000 - val_loss: 1.9282e-07 - val_acc: 1.0000\n",
            "Epoch 10/20\n",
            "60000/60000 [==============================] - 3s 57us/step - loss: 1.6743e-07 - acc: 1.0000 - val_loss: 1.7316e-07 - val_acc: 1.0000\n",
            "Epoch 11/20\n",
            "60000/60000 [==============================] - 3s 51us/step - loss: 1.5394e-07 - acc: 1.0000 - val_loss: 1.5920e-07 - val_acc: 1.0000\n",
            "Epoch 12/20\n",
            "60000/60000 [==============================] - 3s 50us/step - loss: 1.4453e-07 - acc: 1.0000 - val_loss: 1.4928e-07 - val_acc: 1.0000\n",
            "Epoch 13/20\n",
            "60000/60000 [==============================] - 4s 64us/step - loss: 1.3803e-07 - acc: 1.0000 - val_loss: 1.4205e-07 - val_acc: 1.0000\n",
            "Epoch 14/20\n",
            "60000/60000 [==============================] - 4s 66us/step - loss: 1.3330e-07 - acc: 1.0000 - val_loss: 1.3686e-07 - val_acc: 1.0000\n",
            "Epoch 15/20\n",
            "60000/60000 [==============================] - 4s 65us/step - loss: 1.2985e-07 - acc: 1.0000 - val_loss: 1.3297e-07 - val_acc: 1.0000\n",
            "Epoch 16/20\n",
            "60000/60000 [==============================] - 4s 59us/step - loss: 1.2733e-07 - acc: 1.0000 - val_loss: 1.3004e-07 - val_acc: 1.0000\n",
            "Epoch 17/20\n",
            "60000/60000 [==============================] - 3s 51us/step - loss: 1.2541e-07 - acc: 1.0000 - val_loss: 1.2777e-07 - val_acc: 1.0000\n",
            "Epoch 18/20\n",
            "60000/60000 [==============================] - 3s 51us/step - loss: 1.2398e-07 - acc: 1.0000 - val_loss: 1.2605e-07 - val_acc: 1.0000\n",
            "Epoch 19/20\n",
            "60000/60000 [==============================] - 3s 51us/step - loss: 1.2295e-07 - acc: 1.0000 - val_loss: 1.2477e-07 - val_acc: 1.0000\n",
            "Epoch 20/20\n",
            "60000/60000 [==============================] - 3s 51us/step - loss: 1.2213e-07 - acc: 1.0000 - val_loss: 1.2375e-07 - val_acc: 1.0000\n",
            "Train on 60000 samples, validate on 10000 samples\n",
            "Epoch 1/20\n",
            "60000/60000 [==============================] - 3s 53us/step - loss: 0.0322 - acc: 0.9957 - val_loss: 1.1105e-05 - val_acc: 1.0000\n",
            "Epoch 2/20\n",
            "60000/60000 [==============================] - 2s 33us/step - loss: 2.2877e-06 - acc: 1.0000 - val_loss: 1.0453e-06 - val_acc: 1.0000\n",
            "Epoch 3/20\n",
            "60000/60000 [==============================] - 2s 33us/step - loss: 4.9070e-07 - acc: 1.0000 - val_loss: 5.0768e-07 - val_acc: 1.0000\n",
            "Epoch 4/20\n",
            "60000/60000 [==============================] - 2s 34us/step - loss: 2.8034e-07 - acc: 1.0000 - val_loss: 3.4017e-07 - val_acc: 1.0000\n",
            "Epoch 5/20\n",
            "60000/60000 [==============================] - 2s 38us/step - loss: 2.0717e-07 - acc: 1.0000 - val_loss: 2.6339e-07 - val_acc: 1.0000\n",
            "Epoch 6/20\n",
            "60000/60000 [==============================] - 2s 39us/step - loss: 1.7322e-07 - acc: 1.0000 - val_loss: 2.1917e-07 - val_acc: 1.0000\n",
            "Epoch 7/20\n",
            "60000/60000 [==============================] - 2s 34us/step - loss: 1.5477e-07 - acc: 1.0000 - val_loss: 1.9225e-07 - val_acc: 1.0000\n",
            "Epoch 8/20\n",
            "60000/60000 [==============================] - 2s 32us/step - loss: 1.4382e-07 - acc: 1.0000 - val_loss: 1.7426e-07 - val_acc: 1.0000\n",
            "Epoch 9/20\n",
            "60000/60000 [==============================] - 2s 33us/step - loss: 1.3674e-07 - acc: 1.0000 - val_loss: 1.6206e-07 - val_acc: 1.0000\n",
            "Epoch 10/20\n",
            "60000/60000 [==============================] - 2s 33us/step - loss: 1.3192e-07 - acc: 1.0000 - val_loss: 1.5241e-07 - val_acc: 1.0000\n",
            "Epoch 11/20\n",
            "60000/60000 [==============================] - 2s 33us/step - loss: 1.2860e-07 - acc: 1.0000 - val_loss: 1.4595e-07 - val_acc: 1.0000\n",
            "Epoch 12/20\n",
            "60000/60000 [==============================] - 2s 33us/step - loss: 1.2627e-07 - acc: 1.0000 - val_loss: 1.4026e-07 - val_acc: 1.0000\n",
            "Epoch 13/20\n",
            "60000/60000 [==============================] - 2s 32us/step - loss: 1.2456e-07 - acc: 1.0000 - val_loss: 1.3614e-07 - val_acc: 1.0000\n",
            "Epoch 14/20\n",
            "60000/60000 [==============================] - 2s 33us/step - loss: 1.2331e-07 - acc: 1.0000 - val_loss: 1.3309e-07 - val_acc: 1.0000\n",
            "Epoch 15/20\n",
            "60000/60000 [==============================] - 2s 32us/step - loss: 1.2240e-07 - acc: 1.0000 - val_loss: 1.3049e-07 - val_acc: 1.0000\n",
            "Epoch 16/20\n",
            "60000/60000 [==============================] - 2s 32us/step - loss: 1.2169e-07 - acc: 1.0000 - val_loss: 1.2854e-07 - val_acc: 1.0000\n",
            "Epoch 17/20\n",
            "60000/60000 [==============================] - 2s 32us/step - loss: 1.2115e-07 - acc: 1.0000 - val_loss: 1.2689e-07 - val_acc: 1.0000\n",
            "Epoch 18/20\n",
            "60000/60000 [==============================] - 2s 32us/step - loss: 1.2076e-07 - acc: 1.0000 - val_loss: 1.2563e-07 - val_acc: 1.0000\n",
            "Epoch 19/20\n",
            "60000/60000 [==============================] - 2s 32us/step - loss: 1.2046e-07 - acc: 1.0000 - val_loss: 1.2462e-07 - val_acc: 1.0000\n",
            "Epoch 20/20\n",
            "60000/60000 [==============================] - 2s 32us/step - loss: 1.2021e-07 - acc: 1.0000 - val_loss: 1.2379e-07 - val_acc: 1.0000\n",
            "Train on 60000 samples, validate on 10000 samples\n",
            "Epoch 1/20\n",
            "60000/60000 [==============================] - 3s 44us/step - loss: 0.0823 - acc: 0.9940 - val_loss: 9.4241e-04 - val_acc: 1.0000\n",
            "Epoch 2/20\n",
            "60000/60000 [==============================] - 1s 23us/step - loss: 4.8754e-04 - acc: 1.0000 - val_loss: 2.3810e-04 - val_acc: 1.0000\n",
            "Epoch 3/20\n",
            "60000/60000 [==============================] - 1s 24us/step - loss: 1.5525e-04 - acc: 1.0000 - val_loss: 1.0014e-04 - val_acc: 1.0000\n",
            "Epoch 4/20\n",
            "60000/60000 [==============================] - 1s 23us/step - loss: 7.1641e-05 - acc: 1.0000 - val_loss: 5.2316e-05 - val_acc: 1.0000\n",
            "Epoch 5/20\n",
            "60000/60000 [==============================] - 1s 23us/step - loss: 3.9060e-05 - acc: 1.0000 - val_loss: 3.0576e-05 - val_acc: 1.0000\n",
            "Epoch 6/20\n",
            "60000/60000 [==============================] - 1s 24us/step - loss: 2.3344e-05 - acc: 1.0000 - val_loss: 1.9175e-05 - val_acc: 1.0000\n",
            "Epoch 7/20\n",
            "60000/60000 [==============================] - 1s 24us/step - loss: 1.4866e-05 - acc: 1.0000 - val_loss: 1.2689e-05 - val_acc: 1.0000\n",
            "Epoch 8/20\n",
            "60000/60000 [==============================] - 1s 23us/step - loss: 9.8943e-06 - acc: 1.0000 - val_loss: 8.6879e-06 - val_acc: 1.0000\n",
            "Epoch 9/20\n",
            "60000/60000 [==============================] - 1s 24us/step - loss: 6.7924e-06 - acc: 1.0000 - val_loss: 6.1109e-06 - val_acc: 1.0000\n",
            "Epoch 10/20\n",
            "60000/60000 [==============================] - 1s 25us/step - loss: 4.7720e-06 - acc: 1.0000 - val_loss: 4.3824e-06 - val_acc: 1.0000\n",
            "Epoch 11/20\n",
            "60000/60000 [==============================] - 1s 25us/step - loss: 3.4185e-06 - acc: 1.0000 - val_loss: 3.2011e-06 - val_acc: 1.0000\n",
            "Epoch 12/20\n",
            "60000/60000 [==============================] - 1s 24us/step - loss: 2.4957e-06 - acc: 1.0000 - val_loss: 2.3875e-06 - val_acc: 1.0000\n",
            "Epoch 13/20\n",
            "60000/60000 [==============================] - 1s 23us/step - loss: 1.8495e-06 - acc: 1.0000 - val_loss: 1.7976e-06 - val_acc: 1.0000\n",
            "Epoch 14/20\n",
            "60000/60000 [==============================] - 1s 23us/step - loss: 1.3909e-06 - acc: 1.0000 - val_loss: 1.3745e-06 - val_acc: 1.0000\n",
            "Epoch 15/20\n",
            "60000/60000 [==============================] - 1s 23us/step - loss: 1.0590e-06 - acc: 1.0000 - val_loss: 1.0660e-06 - val_acc: 1.0000\n",
            "Epoch 16/20\n",
            "60000/60000 [==============================] - 1s 23us/step - loss: 8.1657e-07 - acc: 1.0000 - val_loss: 8.2921e-07 - val_acc: 1.0000\n",
            "Epoch 17/20\n",
            "60000/60000 [==============================] - 1s 24us/step - loss: 6.4077e-07 - acc: 1.0000 - val_loss: 6.6166e-07 - val_acc: 1.0000\n",
            "Epoch 18/20\n",
            "60000/60000 [==============================] - 1s 23us/step - loss: 5.1016e-07 - acc: 1.0000 - val_loss: 5.3044e-07 - val_acc: 1.0000\n",
            "Epoch 19/20\n",
            "60000/60000 [==============================] - 1s 25us/step - loss: 4.1245e-07 - acc: 1.0000 - val_loss: 4.3381e-07 - val_acc: 1.0000\n",
            "Epoch 20/20\n",
            "60000/60000 [==============================] - 1s 23us/step - loss: 3.3991e-07 - acc: 1.0000 - val_loss: 3.6104e-07 - val_acc: 1.0000\n",
            "Train on 60000 samples, validate on 10000 samples\n",
            "Epoch 1/20\n",
            "60000/60000 [==============================] - 6s 102us/step - loss: 0.0188 - acc: 0.9956 - val_loss: 4.0859e-05 - val_acc: 1.0000\n",
            "Epoch 2/20\n",
            "60000/60000 [==============================] - 5s 77us/step - loss: 1.8598e-05 - acc: 1.0000 - val_loss: 9.6812e-06 - val_acc: 1.0000\n",
            "Epoch 3/20\n",
            "60000/60000 [==============================] - 5s 77us/step - loss: 5.5753e-06 - acc: 1.0000 - val_loss: 4.1674e-06 - val_acc: 1.0000\n",
            "Epoch 4/20\n",
            "60000/60000 [==============================] - 5s 78us/step - loss: 2.5819e-06 - acc: 1.0000 - val_loss: 2.2812e-06 - val_acc: 1.0000\n",
            "Epoch 5/20\n",
            "60000/60000 [==============================] - 5s 81us/step - loss: 1.4659e-06 - acc: 1.0000 - val_loss: 1.4425e-06 - val_acc: 1.0000\n",
            "Epoch 6/20\n",
            "60000/60000 [==============================] - 5s 82us/step - loss: 9.4352e-07 - acc: 1.0000 - val_loss: 9.9761e-07 - val_acc: 1.0000\n",
            "Epoch 7/20\n",
            "60000/60000 [==============================] - 5s 83us/step - loss: 6.5789e-07 - acc: 1.0000 - val_loss: 7.2841e-07 - val_acc: 1.0000\n",
            "Epoch 8/20\n",
            "60000/60000 [==============================] - 5s 82us/step - loss: 4.8600e-07 - acc: 1.0000 - val_loss: 5.5805e-07 - val_acc: 1.0000\n",
            "Epoch 9/20\n",
            "60000/60000 [==============================] - 5s 81us/step - loss: 3.7631e-07 - acc: 1.0000 - val_loss: 4.4381e-07 - val_acc: 1.0000\n",
            "Epoch 10/20\n",
            "60000/60000 [==============================] - 5s 80us/step - loss: 3.0326e-07 - acc: 1.0000 - val_loss: 3.6071e-07 - val_acc: 1.0000\n",
            "Epoch 11/20\n",
            "60000/60000 [==============================] - 5s 82us/step - loss: 2.5318e-07 - acc: 1.0000 - val_loss: 3.0266e-07 - val_acc: 1.0000\n",
            "Epoch 12/20\n",
            "60000/60000 [==============================] - 5s 80us/step - loss: 2.1818e-07 - acc: 1.0000 - val_loss: 2.6135e-07 - val_acc: 1.0000\n",
            "Epoch 13/20\n",
            "60000/60000 [==============================] - 5s 77us/step - loss: 1.9313e-07 - acc: 1.0000 - val_loss: 2.2886e-07 - val_acc: 1.0000\n",
            "Epoch 14/20\n",
            "60000/60000 [==============================] - 5s 77us/step - loss: 1.7486e-07 - acc: 1.0000 - val_loss: 2.0554e-07 - val_acc: 1.0000\n",
            "Epoch 15/20\n",
            "60000/60000 [==============================] - 5s 77us/step - loss: 1.6148e-07 - acc: 1.0000 - val_loss: 1.8750e-07 - val_acc: 1.0000\n",
            "Epoch 16/20\n",
            "60000/60000 [==============================] - 5s 76us/step - loss: 1.5162e-07 - acc: 1.0000 - val_loss: 1.7353e-07 - val_acc: 1.0000\n",
            "Epoch 17/20\n",
            "60000/60000 [==============================] - 5s 76us/step - loss: 1.4412e-07 - acc: 1.0000 - val_loss: 1.6261e-07 - val_acc: 1.0000\n",
            "Epoch 18/20\n",
            "60000/60000 [==============================] - 5s 75us/step - loss: 1.3849e-07 - acc: 1.0000 - val_loss: 1.5400e-07 - val_acc: 1.0000\n",
            "Epoch 19/20\n",
            "60000/60000 [==============================] - 5s 77us/step - loss: 1.3422e-07 - acc: 1.0000 - val_loss: 1.4760e-07 - val_acc: 1.0000\n",
            "Epoch 20/20\n",
            "60000/60000 [==============================] - 5s 78us/step - loss: 1.3097e-07 - acc: 1.0000 - val_loss: 1.4221e-07 - val_acc: 1.0000\n",
            "Train on 60000 samples, validate on 10000 samples\n",
            "Epoch 1/20\n",
            "60000/60000 [==============================] - 5s 82us/step - loss: 0.0148 - acc: 0.9979 - val_loss: 3.6851e-05 - val_acc: 1.0000\n",
            "Epoch 2/20\n",
            "60000/60000 [==============================] - 3s 56us/step - loss: 1.7000e-05 - acc: 1.0000 - val_loss: 8.5477e-06 - val_acc: 1.0000\n",
            "Epoch 3/20\n",
            "60000/60000 [==============================] - 3s 50us/step - loss: 5.1816e-06 - acc: 1.0000 - val_loss: 3.7489e-06 - val_acc: 1.0000\n",
            "Epoch 4/20\n",
            "60000/60000 [==============================] - 3s 49us/step - loss: 2.4765e-06 - acc: 1.0000 - val_loss: 2.0857e-06 - val_acc: 1.0000\n",
            "Epoch 5/20\n",
            "60000/60000 [==============================] - 3s 49us/step - loss: 1.4295e-06 - acc: 1.0000 - val_loss: 1.3182e-06 - val_acc: 1.0000\n",
            "Epoch 6/20\n",
            "60000/60000 [==============================] - 3s 47us/step - loss: 9.2361e-07 - acc: 1.0000 - val_loss: 9.0895e-07 - val_acc: 1.0000\n",
            "Epoch 7/20\n",
            "60000/60000 [==============================] - 3s 49us/step - loss: 6.4674e-07 - acc: 1.0000 - val_loss: 6.6457e-07 - val_acc: 1.0000\n",
            "Epoch 8/20\n",
            "60000/60000 [==============================] - 3s 48us/step - loss: 4.8053e-07 - acc: 1.0000 - val_loss: 5.1069e-07 - val_acc: 1.0000\n",
            "Epoch 9/20\n",
            "60000/60000 [==============================] - 3s 51us/step - loss: 3.7454e-07 - acc: 1.0000 - val_loss: 4.0897e-07 - val_acc: 1.0000\n",
            "Epoch 10/20\n",
            "60000/60000 [==============================] - 3s 49us/step - loss: 3.0285e-07 - acc: 1.0000 - val_loss: 3.3477e-07 - val_acc: 1.0000\n",
            "Epoch 11/20\n",
            "60000/60000 [==============================] - 3s 48us/step - loss: 2.5333e-07 - acc: 1.0000 - val_loss: 2.8237e-07 - val_acc: 1.0000\n",
            "Epoch 12/20\n",
            "60000/60000 [==============================] - 3s 47us/step - loss: 2.1862e-07 - acc: 1.0000 - val_loss: 2.4435e-07 - val_acc: 1.0000\n",
            "Epoch 13/20\n",
            "60000/60000 [==============================] - 3s 48us/step - loss: 1.9342e-07 - acc: 1.0000 - val_loss: 2.1599e-07 - val_acc: 1.0000\n",
            "Epoch 14/20\n",
            "60000/60000 [==============================] - 3s 47us/step - loss: 1.7519e-07 - acc: 1.0000 - val_loss: 1.9464e-07 - val_acc: 1.0000\n",
            "Epoch 15/20\n",
            "60000/60000 [==============================] - 3s 47us/step - loss: 1.6170e-07 - acc: 1.0000 - val_loss: 1.7849e-07 - val_acc: 1.0000\n",
            "Epoch 16/20\n",
            "60000/60000 [==============================] - 3s 48us/step - loss: 1.5163e-07 - acc: 1.0000 - val_loss: 1.6592e-07 - val_acc: 1.0000\n",
            "Epoch 17/20\n",
            "60000/60000 [==============================] - 3s 47us/step - loss: 1.4414e-07 - acc: 1.0000 - val_loss: 1.5649e-07 - val_acc: 1.0000\n",
            "Epoch 18/20\n",
            "60000/60000 [==============================] - 3s 48us/step - loss: 1.3840e-07 - acc: 1.0000 - val_loss: 1.4888e-07 - val_acc: 1.0000\n",
            "Epoch 19/20\n",
            "60000/60000 [==============================] - 3s 47us/step - loss: 1.3407e-07 - acc: 1.0000 - val_loss: 1.4299e-07 - val_acc: 1.0000\n",
            "Epoch 20/20\n",
            "60000/60000 [==============================] - 3s 48us/step - loss: 1.3080e-07 - acc: 1.0000 - val_loss: 1.3840e-07 - val_acc: 1.0000\n",
            "Train on 60000 samples, validate on 10000 samples\n",
            "Epoch 1/20\n",
            "60000/60000 [==============================] - 4s 60us/step - loss: 0.0315 - acc: 0.9946 - val_loss: 4.1823e-04 - val_acc: 1.0000\n",
            "Epoch 2/20\n",
            "60000/60000 [==============================] - 2s 37us/step - loss: 2.3255e-04 - acc: 1.0000 - val_loss: 1.2957e-04 - val_acc: 1.0000\n",
            "Epoch 3/20\n",
            "60000/60000 [==============================] - 2s 35us/step - loss: 8.7547e-05 - acc: 1.0000 - val_loss: 6.1801e-05 - val_acc: 1.0000\n",
            "Epoch 4/20\n",
            "60000/60000 [==============================] - 2s 33us/step - loss: 4.4723e-05 - acc: 1.0000 - val_loss: 3.5361e-05 - val_acc: 1.0000\n",
            "Epoch 5/20\n",
            "60000/60000 [==============================] - 2s 35us/step - loss: 2.6342e-05 - acc: 1.0000 - val_loss: 2.2245e-05 - val_acc: 1.0000\n",
            "Epoch 6/20\n",
            "60000/60000 [==============================] - 2s 33us/step - loss: 1.6840e-05 - acc: 1.0000 - val_loss: 1.5037e-05 - val_acc: 1.0000\n",
            "Epoch 7/20\n",
            "60000/60000 [==============================] - 2s 31us/step - loss: 1.1362e-05 - acc: 1.0000 - val_loss: 1.0562e-05 - val_acc: 1.0000\n",
            "Epoch 8/20\n",
            "60000/60000 [==============================] - 2s 30us/step - loss: 7.9522e-06 - acc: 1.0000 - val_loss: 7.6573e-06 - val_acc: 1.0000\n",
            "Epoch 9/20\n",
            "60000/60000 [==============================] - 2s 31us/step - loss: 5.7046e-06 - acc: 1.0000 - val_loss: 5.6955e-06 - val_acc: 1.0000\n",
            "Epoch 10/20\n",
            "60000/60000 [==============================] - 2s 34us/step - loss: 4.1783e-06 - acc: 1.0000 - val_loss: 4.3160e-06 - val_acc: 1.0000\n",
            "Epoch 11/20\n",
            "60000/60000 [==============================] - 2s 33us/step - loss: 3.1045e-06 - acc: 1.0000 - val_loss: 3.2898e-06 - val_acc: 1.0000\n",
            "Epoch 12/20\n",
            "60000/60000 [==============================] - 2s 33us/step - loss: 2.3374e-06 - acc: 1.0000 - val_loss: 2.5469e-06 - val_acc: 1.0000\n",
            "Epoch 13/20\n",
            "60000/60000 [==============================] - 2s 33us/step - loss: 1.7803e-06 - acc: 1.0000 - val_loss: 1.9973e-06 - val_acc: 1.0000\n",
            "Epoch 14/20\n",
            "60000/60000 [==============================] - 2s 32us/step - loss: 1.3705e-06 - acc: 1.0000 - val_loss: 1.5739e-06 - val_acc: 1.0000\n",
            "Epoch 15/20\n",
            "60000/60000 [==============================] - 2s 34us/step - loss: 1.0653e-06 - acc: 1.0000 - val_loss: 1.2558e-06 - val_acc: 1.0000\n",
            "Epoch 16/20\n",
            "60000/60000 [==============================] - 2s 33us/step - loss: 8.3732e-07 - acc: 1.0000 - val_loss: 1.0115e-06 - val_acc: 1.0000\n",
            "Epoch 17/20\n",
            "60000/60000 [==============================] - 2s 33us/step - loss: 6.6625e-07 - acc: 1.0000 - val_loss: 8.2268e-07 - val_acc: 1.0000\n",
            "Epoch 18/20\n",
            "60000/60000 [==============================] - 2s 35us/step - loss: 5.3786e-07 - acc: 1.0000 - val_loss: 6.7741e-07 - val_acc: 1.0000\n",
            "Epoch 19/20\n",
            "60000/60000 [==============================] - 2s 37us/step - loss: 4.3977e-07 - acc: 1.0000 - val_loss: 5.6298e-07 - val_acc: 1.0000\n",
            "Epoch 20/20\n",
            "60000/60000 [==============================] - 2s 38us/step - loss: 3.6502e-07 - acc: 1.0000 - val_loss: 4.7242e-07 - val_acc: 1.0000\n",
            "Train on 60000 samples, validate on 10000 samples\n",
            "Epoch 1/20\n",
            "60000/60000 [==============================] - 3s 48us/step - loss: 0.0547 - acc: 0.9953 - val_loss: 0.0016 - val_acc: 1.0000\n",
            "Epoch 2/20\n",
            "60000/60000 [==============================] - 1s 23us/step - loss: 9.4187e-04 - acc: 1.0000 - val_loss: 5.2167e-04 - val_acc: 1.0000\n",
            "Epoch 3/20\n",
            "60000/60000 [==============================] - 1s 24us/step - loss: 3.7084e-04 - acc: 1.0000 - val_loss: 2.5916e-04 - val_acc: 1.0000\n",
            "Epoch 4/20\n",
            "60000/60000 [==============================] - 1s 24us/step - loss: 1.9767e-04 - acc: 1.0000 - val_loss: 1.5266e-04 - val_acc: 1.0000\n",
            "Epoch 5/20\n",
            "60000/60000 [==============================] - 1s 23us/step - loss: 1.2062e-04 - acc: 1.0000 - val_loss: 9.9087e-05 - val_acc: 1.0000\n",
            "Epoch 6/20\n",
            "60000/60000 [==============================] - 1s 24us/step - loss: 7.9410e-05 - acc: 1.0000 - val_loss: 6.8112e-05 - val_acc: 1.0000\n",
            "Epoch 7/20\n",
            "60000/60000 [==============================] - 1s 24us/step - loss: 5.4810e-05 - acc: 1.0000 - val_loss: 4.8586e-05 - val_acc: 1.0000\n",
            "Epoch 8/20\n",
            "60000/60000 [==============================] - 1s 23us/step - loss: 3.9064e-05 - acc: 1.0000 - val_loss: 3.5572e-05 - val_acc: 1.0000\n",
            "Epoch 9/20\n",
            "60000/60000 [==============================] - 1s 23us/step - loss: 2.8521e-05 - acc: 1.0000 - val_loss: 2.6621e-05 - val_acc: 1.0000\n",
            "Epoch 10/20\n",
            "60000/60000 [==============================] - 1s 23us/step - loss: 2.1198e-05 - acc: 1.0000 - val_loss: 2.0266e-05 - val_acc: 1.0000\n",
            "Epoch 11/20\n",
            "60000/60000 [==============================] - 1s 23us/step - loss: 1.5940e-05 - acc: 1.0000 - val_loss: 1.5558e-05 - val_acc: 1.0000\n",
            "Epoch 12/20\n",
            "60000/60000 [==============================] - 1s 24us/step - loss: 1.2102e-05 - acc: 1.0000 - val_loss: 1.2038e-05 - val_acc: 1.0000\n",
            "Epoch 13/20\n",
            "60000/60000 [==============================] - 1s 23us/step - loss: 9.2520e-06 - acc: 1.0000 - val_loss: 9.3887e-06 - val_acc: 1.0000\n",
            "Epoch 14/20\n",
            "60000/60000 [==============================] - 1s 23us/step - loss: 7.1223e-06 - acc: 1.0000 - val_loss: 7.3996e-06 - val_acc: 1.0000\n",
            "Epoch 15/20\n",
            "60000/60000 [==============================] - 1s 23us/step - loss: 5.5102e-06 - acc: 1.0000 - val_loss: 5.8415e-06 - val_acc: 1.0000\n",
            "Epoch 16/20\n",
            "60000/60000 [==============================] - 1s 23us/step - loss: 4.2779e-06 - acc: 1.0000 - val_loss: 4.6294e-06 - val_acc: 1.0000\n",
            "Epoch 17/20\n",
            "60000/60000 [==============================] - 1s 23us/step - loss: 3.3364e-06 - acc: 1.0000 - val_loss: 3.6916e-06 - val_acc: 1.0000\n",
            "Epoch 18/20\n",
            "60000/60000 [==============================] - 1s 24us/step - loss: 2.6183e-06 - acc: 1.0000 - val_loss: 2.9621e-06 - val_acc: 1.0000\n",
            "Epoch 19/20\n",
            "60000/60000 [==============================] - 1s 23us/step - loss: 2.0614e-06 - acc: 1.0000 - val_loss: 2.3804e-06 - val_acc: 1.0000\n",
            "Epoch 20/20\n",
            "60000/60000 [==============================] - 1s 23us/step - loss: 1.6302e-06 - acc: 1.0000 - val_loss: 1.9319e-06 - val_acc: 1.0000\n"
          ],
          "name": "stdout"
        },
        {
          "output_type": "execute_result",
          "data": {
            "text/html": [
              "<div>\n",
              "<style scoped>\n",
              "    .dataframe tbody tr th:only-of-type {\n",
              "        vertical-align: middle;\n",
              "    }\n",
              "\n",
              "    .dataframe tbody tr th {\n",
              "        vertical-align: top;\n",
              "    }\n",
              "\n",
              "    .dataframe thead th {\n",
              "        text-align: right;\n",
              "    }\n",
              "</style>\n",
              "<table border=\"1\" class=\"dataframe\">\n",
              "  <thead>\n",
              "    <tr style=\"text-align: right;\">\n",
              "      <th></th>\n",
              "      <th>Architecture</th>\n",
              "      <th>Epoch time</th>\n",
              "      <th>Accuracy Train</th>\n",
              "      <th>Accuracy Test</th>\n",
              "      <th>Loss Train</th>\n",
              "      <th>Loss Test</th>\n",
              "    </tr>\n",
              "  </thead>\n",
              "  <tbody>\n",
              "    <tr>\n",
              "      <th>0</th>\n",
              "      <td>784-256-256-256-256-2</td>\n",
              "      <td>1secs</td>\n",
              "      <td>1.0</td>\n",
              "      <td>1.0</td>\n",
              "      <td>1.1920928955078125e-07</td>\n",
              "      <td>1.1920928955078125e-07</td>\n",
              "    </tr>\n",
              "    <tr>\n",
              "      <th>1</th>\n",
              "      <td>784-128-128-128-128-2</td>\n",
              "      <td>1secs</td>\n",
              "      <td>1.0</td>\n",
              "      <td>1.0</td>\n",
              "      <td>1.199682575437085e-07</td>\n",
              "      <td>1.1942386636292213e-07</td>\n",
              "    </tr>\n",
              "    <tr>\n",
              "      <th>2</th>\n",
              "      <td>784-64-64-64-64-2</td>\n",
              "      <td>1secs</td>\n",
              "      <td>1.0</td>\n",
              "      <td>1.0</td>\n",
              "      <td>1.2025038532404627e-07</td>\n",
              "      <td>1.2082457969881945e-07</td>\n",
              "    </tr>\n",
              "    <tr>\n",
              "      <th>3</th>\n",
              "      <td>784-12-12-12-12-2</td>\n",
              "      <td>1secs</td>\n",
              "      <td>1.0</td>\n",
              "      <td>1.0</td>\n",
              "      <td>1.4509509328490822e-07</td>\n",
              "      <td>1.517779495316063e-07</td>\n",
              "    </tr>\n",
              "    <tr>\n",
              "      <th>4</th>\n",
              "      <td>784-256-256-256-2</td>\n",
              "      <td>1secs</td>\n",
              "      <td>1.0</td>\n",
              "      <td>1.0</td>\n",
              "      <td>1.1928478880539236e-07</td>\n",
              "      <td>1.1928081516998645e-07</td>\n",
              "    </tr>\n",
              "    <tr>\n",
              "      <th>5</th>\n",
              "      <td>784-128-128-128-2</td>\n",
              "      <td>1secs</td>\n",
              "      <td>1.0</td>\n",
              "      <td>1.0</td>\n",
              "      <td>1.2095173860871e-07</td>\n",
              "      <td>1.206219245432294e-07</td>\n",
              "    </tr>\n",
              "    <tr>\n",
              "      <th>6</th>\n",
              "      <td>784-64-64-64-2</td>\n",
              "      <td>1secs</td>\n",
              "      <td>1.0</td>\n",
              "      <td>1.0</td>\n",
              "      <td>1.2006759756483612e-07</td>\n",
              "      <td>1.2333991935520318e-07</td>\n",
              "    </tr>\n",
              "    <tr>\n",
              "      <th>7</th>\n",
              "      <td>784-12-12-12-2</td>\n",
              "      <td>1secs</td>\n",
              "      <td>1.0</td>\n",
              "      <td>1.0</td>\n",
              "      <td>5.698952008970082e-07</td>\n",
              "      <td>7.028974341665162e-07</td>\n",
              "    </tr>\n",
              "    <tr>\n",
              "      <th>8</th>\n",
              "      <td>784-256-256-2</td>\n",
              "      <td>1secs</td>\n",
              "      <td>1.0</td>\n",
              "      <td>1.0</td>\n",
              "      <td>1.1962652273875088e-07</td>\n",
              "      <td>1.1975765355600743e-07</td>\n",
              "    </tr>\n",
              "    <tr>\n",
              "      <th>9</th>\n",
              "      <td>784-128-128-2</td>\n",
              "      <td>1secs</td>\n",
              "      <td>1.0</td>\n",
              "      <td>1.0</td>\n",
              "      <td>1.2181302442210533e-07</td>\n",
              "      <td>1.2374522316349611e-07</td>\n",
              "    </tr>\n",
              "    <tr>\n",
              "      <th>10</th>\n",
              "      <td>784-64-64-2</td>\n",
              "      <td>1secs</td>\n",
              "      <td>1.0</td>\n",
              "      <td>1.0</td>\n",
              "      <td>1.201023677519212e-07</td>\n",
              "      <td>1.2378696451378345e-07</td>\n",
              "    </tr>\n",
              "    <tr>\n",
              "      <th>11</th>\n",
              "      <td>784-12-12-2</td>\n",
              "      <td>1secs</td>\n",
              "      <td>1.0</td>\n",
              "      <td>1.0</td>\n",
              "      <td>3.0986857451959317e-07</td>\n",
              "      <td>3.6104356809119054e-07</td>\n",
              "    </tr>\n",
              "    <tr>\n",
              "      <th>12</th>\n",
              "      <td>784-256-2</td>\n",
              "      <td>1secs</td>\n",
              "      <td>1.0</td>\n",
              "      <td>1.0</td>\n",
              "      <td>1.2958254590860938e-07</td>\n",
              "      <td>1.4220517505236786e-07</td>\n",
              "    </tr>\n",
              "    <tr>\n",
              "      <th>13</th>\n",
              "      <td>784-128-2</td>\n",
              "      <td>1secs</td>\n",
              "      <td>1.0</td>\n",
              "      <td>1.0</td>\n",
              "      <td>1.2938784180581328e-07</td>\n",
              "      <td>1.38396340298641e-07</td>\n",
              "    </tr>\n",
              "    <tr>\n",
              "      <th>14</th>\n",
              "      <td>784-64-2</td>\n",
              "      <td>1secs</td>\n",
              "      <td>1.0</td>\n",
              "      <td>1.0</td>\n",
              "      <td>3.333180156005255e-07</td>\n",
              "      <td>4.7241672800737436e-07</td>\n",
              "    </tr>\n",
              "    <tr>\n",
              "      <th>15</th>\n",
              "      <td>784-12-2</td>\n",
              "      <td>1secs</td>\n",
              "      <td>1.0</td>\n",
              "      <td>1.0</td>\n",
              "      <td>1.4496984953363305e-06</td>\n",
              "      <td>1.931938025472846e-06</td>\n",
              "    </tr>\n",
              "  </tbody>\n",
              "</table>\n",
              "</div>"
            ],
            "text/plain": [
              "             Architecture Epoch time Accuracy Train Accuracy Test  \\\n",
              "0   784-256-256-256-256-2      1secs            1.0           1.0   \n",
              "1   784-128-128-128-128-2      1secs            1.0           1.0   \n",
              "2       784-64-64-64-64-2      1secs            1.0           1.0   \n",
              "3       784-12-12-12-12-2      1secs            1.0           1.0   \n",
              "4       784-256-256-256-2      1secs            1.0           1.0   \n",
              "5       784-128-128-128-2      1secs            1.0           1.0   \n",
              "6          784-64-64-64-2      1secs            1.0           1.0   \n",
              "7          784-12-12-12-2      1secs            1.0           1.0   \n",
              "8           784-256-256-2      1secs            1.0           1.0   \n",
              "9           784-128-128-2      1secs            1.0           1.0   \n",
              "10            784-64-64-2      1secs            1.0           1.0   \n",
              "11            784-12-12-2      1secs            1.0           1.0   \n",
              "12              784-256-2      1secs            1.0           1.0   \n",
              "13              784-128-2      1secs            1.0           1.0   \n",
              "14               784-64-2      1secs            1.0           1.0   \n",
              "15               784-12-2      1secs            1.0           1.0   \n",
              "\n",
              "                Loss Train               Loss Test  \n",
              "0   1.1920928955078125e-07  1.1920928955078125e-07  \n",
              "1    1.199682575437085e-07  1.1942386636292213e-07  \n",
              "2   1.2025038532404627e-07  1.2082457969881945e-07  \n",
              "3   1.4509509328490822e-07   1.517779495316063e-07  \n",
              "4   1.1928478880539236e-07  1.1928081516998645e-07  \n",
              "5      1.2095173860871e-07   1.206219245432294e-07  \n",
              "6   1.2006759756483612e-07  1.2333991935520318e-07  \n",
              "7    5.698952008970082e-07   7.028974341665162e-07  \n",
              "8   1.1962652273875088e-07  1.1975765355600743e-07  \n",
              "9   1.2181302442210533e-07  1.2374522316349611e-07  \n",
              "10   1.201023677519212e-07  1.2378696451378345e-07  \n",
              "11  3.0986857451959317e-07  3.6104356809119054e-07  \n",
              "12  1.2958254590860938e-07  1.4220517505236786e-07  \n",
              "13  1.2938784180581328e-07    1.38396340298641e-07  \n",
              "14   3.333180156005255e-07  4.7241672800737436e-07  \n",
              "15  1.4496984953363305e-06   1.931938025472846e-06  "
            ]
          },
          "metadata": {
            "tags": []
          },
          "execution_count": 81
        }
      ]
    },
    {
      "cell_type": "markdown",
      "metadata": {
        "id": "mftPd_HMfG1G",
        "colab_type": "text"
      },
      "source": [
        "# Building CNN model"
      ]
    },
    {
      "cell_type": "markdown",
      "metadata": {
        "id": "MyW26dcNfG1H",
        "colab_type": "text"
      },
      "source": [
        "Now it's time to build the model step-by-step"
      ]
    },
    {
      "cell_type": "code",
      "metadata": {
        "id": "SY65TDiVfG1I",
        "colab_type": "code",
        "colab": {}
      },
      "source": [
        "model_cnn = Sequential()"
      ],
      "execution_count": 0,
      "outputs": []
    },
    {
      "cell_type": "markdown",
      "metadata": {
        "id": "2hl10O6QfG1K",
        "colab_type": "text"
      },
      "source": [
        "Out model is going to be *Sequential* which means that every new added layer will be automatically connected to the previous one."
      ]
    },
    {
      "cell_type": "markdown",
      "metadata": {
        "id": "eVShkZvufG1K",
        "colab_type": "text"
      },
      "source": [
        "Firstly, let's define hyperparameters of the network:\n",
        "* **filters** $-$ number of filters (or kernels) to use in every layer; in fact this is the same as having multiple channels in the image\n",
        "* **pool_size** $-$ size of the pooling window\n",
        "* **kernel_size** $-$ size of the convolutional filters"
      ]
    },
    {
      "cell_type": "code",
      "metadata": {
        "id": "azr3pFy8fG1L",
        "colab_type": "code",
        "colab": {}
      },
      "source": [
        "filters = 32\n",
        "kernel_size = (3, 3)\n",
        "pool_size = (2, 2)"
      ],
      "execution_count": 0,
      "outputs": []
    },
    {
      "cell_type": "markdown",
      "metadata": {
        "id": "3jkfz9EPfG1N",
        "colab_type": "text"
      },
      "source": [
        "Now let's add first layer of the network. It is 2D Convolutional layer. Only unexplained thing here is *padding*. This is the parameter that defines how should we pad the data after applying convolutions. $\\text{padding} = \\text{'valid'}$ means that we're not going to pad images and the dimension of it is going to shrink from layer to layer."
      ]
    },
    {
      "cell_type": "code",
      "metadata": {
        "id": "F0wuSZkQfG1O",
        "colab_type": "code",
        "colab": {}
      },
      "source": [
        "model_cnn.add(Convolution2D(filters=filters, \n",
        "                            kernel_size=kernel_size,\n",
        "                            padding=\"valid\",\n",
        "                            input_shape=input_shape))"
      ],
      "execution_count": 0,
      "outputs": []
    },
    {
      "cell_type": "markdown",
      "metadata": {
        "id": "85XCVwLffG1Q",
        "colab_type": "text"
      },
      "source": [
        "Next step is to add nonlinearity to enable our network to learn complex dependencies. We're going to use ReLU activation function because it is less exposed to vanishing gradient problem and faster to train."
      ]
    },
    {
      "cell_type": "code",
      "metadata": {
        "id": "zJo5f4JSfG1Q",
        "colab_type": "code",
        "colab": {}
      },
      "source": [
        "model_cnn.add(Activation('relu'))"
      ],
      "execution_count": 0,
      "outputs": []
    },
    {
      "cell_type": "markdown",
      "metadata": {
        "id": "Bk3EqbBNfG1S",
        "colab_type": "text"
      },
      "source": [
        "Let's stack one more Convolution layer on top of that:"
      ]
    },
    {
      "cell_type": "code",
      "metadata": {
        "id": "p8b6v1VRfG1T",
        "colab_type": "code",
        "colab": {}
      },
      "source": [
        "model_cnn.add(Convolution2D(filters=filters, \n",
        "                            kernel_size=kernel_size,\n",
        "                            padding=\"valid\"))\n",
        "model_cnn.add(Activation('relu'))"
      ],
      "execution_count": 0,
      "outputs": []
    },
    {
      "cell_type": "markdown",
      "metadata": {
        "id": "G9GcBLU8fG1V",
        "colab_type": "text"
      },
      "source": [
        "Now it's time to apply pooling. Note that the strategies of combining convolutional and pooling layers may be different. For further details see [here](http://cs231n.stanford.edu/)"
      ]
    },
    {
      "cell_type": "code",
      "metadata": {
        "id": "dKDyp4e-fG1X",
        "colab_type": "code",
        "colab": {}
      },
      "source": [
        "model_cnn.add(MaxPooling2D(pool_size=pool_size))"
      ],
      "execution_count": 0,
      "outputs": []
    },
    {
      "cell_type": "markdown",
      "metadata": {
        "id": "58bYH49LfG1Z",
        "colab_type": "text"
      },
      "source": [
        "At this point we consider that we've already distinguish some meaningful features from the pictures. So it's time to classify them. For that purpose the common approach is to append fully-connected part. \n",
        "\n",
        "But before that we need to pull all the obtained feature into one vector so that one object has 1D-vector of features. It is done by means of $\\text{Flatten}$ layer."
      ]
    },
    {
      "cell_type": "code",
      "metadata": {
        "id": "M7S1Ad5pfG1a",
        "colab_type": "code",
        "colab": {}
      },
      "source": [
        "model_cnn.add(Flatten())"
      ],
      "execution_count": 0,
      "outputs": []
    },
    {
      "cell_type": "markdown",
      "metadata": {
        "id": "IF3YzCUQfG1d",
        "colab_type": "text"
      },
      "source": [
        "Now let's add FC part with the [dropout](https://www.cs.toronto.edu/~hinton/absps/JMLRdropout.pdf) to avoid overfitting."
      ]
    },
    {
      "cell_type": "code",
      "metadata": {
        "id": "lqrWHfmjfG1d",
        "colab_type": "code",
        "colab": {}
      },
      "source": [
        "model_cnn.add(Dropout(0.5))\n",
        "model_cnn.add(Dense(128, activation=\"relu\"))\n",
        "model_cnn.add(Dropout(0.5))\n",
        "model_cnn.add(Dense(nb_classes, activation=\"softmax\"))"
      ],
      "execution_count": 0,
      "outputs": []
    },
    {
      "cell_type": "markdown",
      "metadata": {
        "id": "NlvxDI9qfG1f",
        "colab_type": "text"
      },
      "source": [
        "The final layer here is usual $\\text{Softmax}$ with the number of classe. So as the output of the network we observe the probability of each class."
      ]
    },
    {
      "cell_type": "markdown",
      "metadata": {
        "id": "Nx4im2eOfG1g",
        "colab_type": "text"
      },
      "source": [
        "Now let's compile our model.\n",
        "* **optimizer** $-$ here we use accelerated gradient descent algorithm with special adaptive way of choosing learning rate; for more details see this great [overview](http://sebastianruder.com/optimizing-gradient-descent/) of gradient descent optimization algorithms.\n",
        "* **loss** $-$ usual choice for multiclass classification is softmax output layer in combination with categotical crossentropy loss function which is\n",
        "$$\n",
        "\\mathcal{L}(\\text{true}, \\text{pred}) = -\\sum_{j=1}^{k}\\text{true}_j \\cdot \\log \\{\\text{pred}_j\\}\n",
        "$$\n",
        "* **metrics** $-$ additional metrics that we're going to trace while training; it doesn't influence training process at all"
      ]
    },
    {
      "cell_type": "code",
      "metadata": {
        "id": "LzYWVI9LfG1h",
        "colab_type": "code",
        "colab": {}
      },
      "source": [
        "model_cnn.compile(loss='categorical_crossentropy',\n",
        "                  optimizer='adam',\n",
        "                  metrics=['accuracy'])"
      ],
      "execution_count": 0,
      "outputs": []
    },
    {
      "cell_type": "markdown",
      "metadata": {
        "id": "IW9sFyubfG1j",
        "colab_type": "text"
      },
      "source": [
        "Let's take a look at our final model now:"
      ]
    },
    {
      "cell_type": "code",
      "metadata": {
        "id": "ZeQAM6YrfG1k",
        "colab_type": "code",
        "outputId": "b4ae5869-5b3a-4956-c71b-fc101a9ca74b",
        "colab": {
          "base_uri": "https://localhost:8080/",
          "height": 484
        }
      },
      "source": [
        "model_cnn.summary()"
      ],
      "execution_count": 0,
      "outputs": [
        {
          "output_type": "stream",
          "text": [
            "_________________________________________________________________\n",
            "Layer (type)                 Output Shape              Param #   \n",
            "=================================================================\n",
            "conv2d_1 (Conv2D)            (None, 26, 26, 32)        320       \n",
            "_________________________________________________________________\n",
            "activation_1 (Activation)    (None, 26, 26, 32)        0         \n",
            "_________________________________________________________________\n",
            "conv2d_2 (Conv2D)            (None, 24, 24, 32)        9248      \n",
            "_________________________________________________________________\n",
            "activation_2 (Activation)    (None, 24, 24, 32)        0         \n",
            "_________________________________________________________________\n",
            "max_pooling2d_1 (MaxPooling2 (None, 12, 12, 32)        0         \n",
            "_________________________________________________________________\n",
            "flatten_1 (Flatten)          (None, 4608)              0         \n",
            "_________________________________________________________________\n",
            "dropout_4 (Dropout)          (None, 4608)              0         \n",
            "_________________________________________________________________\n",
            "dense_5 (Dense)              (None, 128)               589952    \n",
            "_________________________________________________________________\n",
            "dropout_5 (Dropout)          (None, 128)               0         \n",
            "_________________________________________________________________\n",
            "dense_6 (Dense)              (None, 10)                1290      \n",
            "=================================================================\n",
            "Total params: 600,810\n",
            "Trainable params: 600,810\n",
            "Non-trainable params: 0\n",
            "_________________________________________________________________\n"
          ],
          "name": "stdout"
        }
      ]
    },
    {
      "cell_type": "code",
      "metadata": {
        "id": "fp34NZXNfG1r",
        "colab_type": "code",
        "outputId": "5b4937cc-9977-42db-bd99-da50f2cdd711",
        "colab": {
          "base_uri": "https://localhost:8080/",
          "height": 1188
        }
      },
      "source": [
        "SVG(model_to_dot(model_cnn, show_shapes=True).create(prog='dot', format='svg'))"
      ],
      "execution_count": 0,
      "outputs": [
        {
          "output_type": "execute_result",
          "data": {
            "text/plain": [
              "<IPython.core.display.SVG object>"
            ],
            "image/svg+xml": "<svg height=\"875pt\" viewBox=\"0.00 0.00 412.00 875.00\" width=\"412pt\" xmlns=\"http://www.w3.org/2000/svg\" xmlns:xlink=\"http://www.w3.org/1999/xlink\">\n<g class=\"graph\" id=\"graph0\" transform=\"scale(1 1) rotate(0) translate(4 871)\">\n<title>G</title>\n<polygon fill=\"#ffffff\" points=\"-4,4 -4,-871 408,-871 408,4 -4,4\" stroke=\"transparent\"/>\n<!-- 139973340763976 -->\n<g class=\"node\" id=\"node1\">\n<title>139973340763976</title>\n<polygon fill=\"none\" points=\"44,-747.5 44,-793.5 360,-793.5 360,-747.5 44,-747.5\" stroke=\"#000000\"/>\n<text fill=\"#000000\" font-family=\"Times,serif\" font-size=\"14.00\" text-anchor=\"middle\" x=\"110.5\" y=\"-766.8\">conv2d_1: Conv2D</text>\n<polyline fill=\"none\" points=\"177,-747.5 177,-793.5 \" stroke=\"#000000\"/>\n<text fill=\"#000000\" font-family=\"Times,serif\" font-size=\"14.00\" text-anchor=\"middle\" x=\"206\" y=\"-778.3\">input:</text>\n<polyline fill=\"none\" points=\"177,-770.5 235,-770.5 \" stroke=\"#000000\"/>\n<text fill=\"#000000\" font-family=\"Times,serif\" font-size=\"14.00\" text-anchor=\"middle\" x=\"206\" y=\"-755.3\">output:</text>\n<polyline fill=\"none\" points=\"235,-747.5 235,-793.5 \" stroke=\"#000000\"/>\n<text fill=\"#000000\" font-family=\"Times,serif\" font-size=\"14.00\" text-anchor=\"middle\" x=\"297.5\" y=\"-778.3\">(None, 28, 28, 1)</text>\n<polyline fill=\"none\" points=\"235,-770.5 360,-770.5 \" stroke=\"#000000\"/>\n<text fill=\"#000000\" font-family=\"Times,serif\" font-size=\"14.00\" text-anchor=\"middle\" x=\"297.5\" y=\"-755.3\">(None, 26, 26, 32)</text>\n</g>\n<!-- 139973340763920 -->\n<g class=\"node\" id=\"node2\">\n<title>139973340763920</title>\n<polygon fill=\"none\" points=\"33.5,-664.5 33.5,-710.5 370.5,-710.5 370.5,-664.5 33.5,-664.5\" stroke=\"#000000\"/>\n<text fill=\"#000000\" font-family=\"Times,serif\" font-size=\"14.00\" text-anchor=\"middle\" x=\"110.5\" y=\"-683.8\">activation_1: Activation</text>\n<polyline fill=\"none\" points=\"187.5,-664.5 187.5,-710.5 \" stroke=\"#000000\"/>\n<text fill=\"#000000\" font-family=\"Times,serif\" font-size=\"14.00\" text-anchor=\"middle\" x=\"216.5\" y=\"-695.3\">input:</text>\n<polyline fill=\"none\" points=\"187.5,-687.5 245.5,-687.5 \" stroke=\"#000000\"/>\n<text fill=\"#000000\" font-family=\"Times,serif\" font-size=\"14.00\" text-anchor=\"middle\" x=\"216.5\" y=\"-672.3\">output:</text>\n<polyline fill=\"none\" points=\"245.5,-664.5 245.5,-710.5 \" stroke=\"#000000\"/>\n<text fill=\"#000000\" font-family=\"Times,serif\" font-size=\"14.00\" text-anchor=\"middle\" x=\"308\" y=\"-695.3\">(None, 26, 26, 32)</text>\n<polyline fill=\"none\" points=\"245.5,-687.5 370.5,-687.5 \" stroke=\"#000000\"/>\n<text fill=\"#000000\" font-family=\"Times,serif\" font-size=\"14.00\" text-anchor=\"middle\" x=\"308\" y=\"-672.3\">(None, 26, 26, 32)</text>\n</g>\n<!-- 139973340763976&#45;&gt;139973340763920 -->\n<g class=\"edge\" id=\"edge2\">\n<title>139973340763976-&gt;139973340763920</title>\n<path d=\"M202,-747.3799C202,-739.1745 202,-729.7679 202,-720.8786\" fill=\"none\" stroke=\"#000000\"/>\n<polygon fill=\"#000000\" points=\"205.5001,-720.784 202,-710.784 198.5001,-720.784 205.5001,-720.784\" stroke=\"#000000\"/>\n</g>\n<!-- 139973340834168 -->\n<g class=\"node\" id=\"node3\">\n<title>139973340834168</title>\n<polygon fill=\"none\" points=\"44,-581.5 44,-627.5 360,-627.5 360,-581.5 44,-581.5\" stroke=\"#000000\"/>\n<text fill=\"#000000\" font-family=\"Times,serif\" font-size=\"14.00\" text-anchor=\"middle\" x=\"110.5\" y=\"-600.8\">conv2d_2: Conv2D</text>\n<polyline fill=\"none\" points=\"177,-581.5 177,-627.5 \" stroke=\"#000000\"/>\n<text fill=\"#000000\" font-family=\"Times,serif\" font-size=\"14.00\" text-anchor=\"middle\" x=\"206\" y=\"-612.3\">input:</text>\n<polyline fill=\"none\" points=\"177,-604.5 235,-604.5 \" stroke=\"#000000\"/>\n<text fill=\"#000000\" font-family=\"Times,serif\" font-size=\"14.00\" text-anchor=\"middle\" x=\"206\" y=\"-589.3\">output:</text>\n<polyline fill=\"none\" points=\"235,-581.5 235,-627.5 \" stroke=\"#000000\"/>\n<text fill=\"#000000\" font-family=\"Times,serif\" font-size=\"14.00\" text-anchor=\"middle\" x=\"297.5\" y=\"-612.3\">(None, 26, 26, 32)</text>\n<polyline fill=\"none\" points=\"235,-604.5 360,-604.5 \" stroke=\"#000000\"/>\n<text fill=\"#000000\" font-family=\"Times,serif\" font-size=\"14.00\" text-anchor=\"middle\" x=\"297.5\" y=\"-589.3\">(None, 24, 24, 32)</text>\n</g>\n<!-- 139973340763920&#45;&gt;139973340834168 -->\n<g class=\"edge\" id=\"edge3\">\n<title>139973340763920-&gt;139973340834168</title>\n<path d=\"M202,-664.3799C202,-656.1745 202,-646.7679 202,-637.8786\" fill=\"none\" stroke=\"#000000\"/>\n<polygon fill=\"#000000\" points=\"205.5001,-637.784 202,-627.784 198.5001,-637.784 205.5001,-637.784\" stroke=\"#000000\"/>\n</g>\n<!-- 139973340835288 -->\n<g class=\"node\" id=\"node4\">\n<title>139973340835288</title>\n<polygon fill=\"none\" points=\"33.5,-498.5 33.5,-544.5 370.5,-544.5 370.5,-498.5 33.5,-498.5\" stroke=\"#000000\"/>\n<text fill=\"#000000\" font-family=\"Times,serif\" font-size=\"14.00\" text-anchor=\"middle\" x=\"110.5\" y=\"-517.8\">activation_2: Activation</text>\n<polyline fill=\"none\" points=\"187.5,-498.5 187.5,-544.5 \" stroke=\"#000000\"/>\n<text fill=\"#000000\" font-family=\"Times,serif\" font-size=\"14.00\" text-anchor=\"middle\" x=\"216.5\" y=\"-529.3\">input:</text>\n<polyline fill=\"none\" points=\"187.5,-521.5 245.5,-521.5 \" stroke=\"#000000\"/>\n<text fill=\"#000000\" font-family=\"Times,serif\" font-size=\"14.00\" text-anchor=\"middle\" x=\"216.5\" y=\"-506.3\">output:</text>\n<polyline fill=\"none\" points=\"245.5,-498.5 245.5,-544.5 \" stroke=\"#000000\"/>\n<text fill=\"#000000\" font-family=\"Times,serif\" font-size=\"14.00\" text-anchor=\"middle\" x=\"308\" y=\"-529.3\">(None, 24, 24, 32)</text>\n<polyline fill=\"none\" points=\"245.5,-521.5 370.5,-521.5 \" stroke=\"#000000\"/>\n<text fill=\"#000000\" font-family=\"Times,serif\" font-size=\"14.00\" text-anchor=\"middle\" x=\"308\" y=\"-506.3\">(None, 24, 24, 32)</text>\n</g>\n<!-- 139973340834168&#45;&gt;139973340835288 -->\n<g class=\"edge\" id=\"edge4\">\n<title>139973340834168-&gt;139973340835288</title>\n<path d=\"M202,-581.3799C202,-573.1745 202,-563.7679 202,-554.8786\" fill=\"none\" stroke=\"#000000\"/>\n<polygon fill=\"#000000\" points=\"205.5001,-554.784 202,-544.784 198.5001,-554.784 205.5001,-554.784\" stroke=\"#000000\"/>\n</g>\n<!-- 139973340834000 -->\n<g class=\"node\" id=\"node5\">\n<title>139973340834000</title>\n<polygon fill=\"none\" points=\"0,-415.5 0,-461.5 404,-461.5 404,-415.5 0,-415.5\" stroke=\"#000000\"/>\n<text fill=\"#000000\" font-family=\"Times,serif\" font-size=\"14.00\" text-anchor=\"middle\" x=\"110.5\" y=\"-434.8\">max_pooling2d_1: MaxPooling2D</text>\n<polyline fill=\"none\" points=\"221,-415.5 221,-461.5 \" stroke=\"#000000\"/>\n<text fill=\"#000000\" font-family=\"Times,serif\" font-size=\"14.00\" text-anchor=\"middle\" x=\"250\" y=\"-446.3\">input:</text>\n<polyline fill=\"none\" points=\"221,-438.5 279,-438.5 \" stroke=\"#000000\"/>\n<text fill=\"#000000\" font-family=\"Times,serif\" font-size=\"14.00\" text-anchor=\"middle\" x=\"250\" y=\"-423.3\">output:</text>\n<polyline fill=\"none\" points=\"279,-415.5 279,-461.5 \" stroke=\"#000000\"/>\n<text fill=\"#000000\" font-family=\"Times,serif\" font-size=\"14.00\" text-anchor=\"middle\" x=\"341.5\" y=\"-446.3\">(None, 24, 24, 32)</text>\n<polyline fill=\"none\" points=\"279,-438.5 404,-438.5 \" stroke=\"#000000\"/>\n<text fill=\"#000000\" font-family=\"Times,serif\" font-size=\"14.00\" text-anchor=\"middle\" x=\"341.5\" y=\"-423.3\">(None, 12, 12, 32)</text>\n</g>\n<!-- 139973340835288&#45;&gt;139973340834000 -->\n<g class=\"edge\" id=\"edge5\">\n<title>139973340835288-&gt;139973340834000</title>\n<path d=\"M202,-498.3799C202,-490.1745 202,-480.7679 202,-471.8786\" fill=\"none\" stroke=\"#000000\"/>\n<polygon fill=\"#000000\" points=\"205.5001,-471.784 202,-461.784 198.5001,-471.784 205.5001,-471.784\" stroke=\"#000000\"/>\n</g>\n<!-- 139973340764704 -->\n<g class=\"node\" id=\"node6\">\n<title>139973340764704</title>\n<polygon fill=\"none\" points=\"54,-332.5 54,-378.5 350,-378.5 350,-332.5 54,-332.5\" stroke=\"#000000\"/>\n<text fill=\"#000000\" font-family=\"Times,serif\" font-size=\"14.00\" text-anchor=\"middle\" x=\"110.5\" y=\"-351.8\">flatten_1: Flatten</text>\n<polyline fill=\"none\" points=\"167,-332.5 167,-378.5 \" stroke=\"#000000\"/>\n<text fill=\"#000000\" font-family=\"Times,serif\" font-size=\"14.00\" text-anchor=\"middle\" x=\"196\" y=\"-363.3\">input:</text>\n<polyline fill=\"none\" points=\"167,-355.5 225,-355.5 \" stroke=\"#000000\"/>\n<text fill=\"#000000\" font-family=\"Times,serif\" font-size=\"14.00\" text-anchor=\"middle\" x=\"196\" y=\"-340.3\">output:</text>\n<polyline fill=\"none\" points=\"225,-332.5 225,-378.5 \" stroke=\"#000000\"/>\n<text fill=\"#000000\" font-family=\"Times,serif\" font-size=\"14.00\" text-anchor=\"middle\" x=\"287.5\" y=\"-363.3\">(None, 12, 12, 32)</text>\n<polyline fill=\"none\" points=\"225,-355.5 350,-355.5 \" stroke=\"#000000\"/>\n<text fill=\"#000000\" font-family=\"Times,serif\" font-size=\"14.00\" text-anchor=\"middle\" x=\"287.5\" y=\"-340.3\">(None, 4608)</text>\n</g>\n<!-- 139973340834000&#45;&gt;139973340764704 -->\n<g class=\"edge\" id=\"edge6\">\n<title>139973340834000-&gt;139973340764704</title>\n<path d=\"M202,-415.3799C202,-407.1745 202,-397.7679 202,-388.8786\" fill=\"none\" stroke=\"#000000\"/>\n<polygon fill=\"#000000\" points=\"205.5001,-388.784 202,-378.784 198.5001,-388.784 205.5001,-388.784\" stroke=\"#000000\"/>\n</g>\n<!-- 139973340147784 -->\n<g class=\"node\" id=\"node7\">\n<title>139973340147784</title>\n<polygon fill=\"none\" points=\"58.5,-249.5 58.5,-295.5 345.5,-295.5 345.5,-249.5 58.5,-249.5\" stroke=\"#000000\"/>\n<text fill=\"#000000\" font-family=\"Times,serif\" font-size=\"14.00\" text-anchor=\"middle\" x=\"125.5\" y=\"-268.8\">dropout_4: Dropout</text>\n<polyline fill=\"none\" points=\"192.5,-249.5 192.5,-295.5 \" stroke=\"#000000\"/>\n<text fill=\"#000000\" font-family=\"Times,serif\" font-size=\"14.00\" text-anchor=\"middle\" x=\"221.5\" y=\"-280.3\">input:</text>\n<polyline fill=\"none\" points=\"192.5,-272.5 250.5,-272.5 \" stroke=\"#000000\"/>\n<text fill=\"#000000\" font-family=\"Times,serif\" font-size=\"14.00\" text-anchor=\"middle\" x=\"221.5\" y=\"-257.3\">output:</text>\n<polyline fill=\"none\" points=\"250.5,-249.5 250.5,-295.5 \" stroke=\"#000000\"/>\n<text fill=\"#000000\" font-family=\"Times,serif\" font-size=\"14.00\" text-anchor=\"middle\" x=\"298\" y=\"-280.3\">(None, 4608)</text>\n<polyline fill=\"none\" points=\"250.5,-272.5 345.5,-272.5 \" stroke=\"#000000\"/>\n<text fill=\"#000000\" font-family=\"Times,serif\" font-size=\"14.00\" text-anchor=\"middle\" x=\"298\" y=\"-257.3\">(None, 4608)</text>\n</g>\n<!-- 139973340764704&#45;&gt;139973340147784 -->\n<g class=\"edge\" id=\"edge7\">\n<title>139973340764704-&gt;139973340147784</title>\n<path d=\"M202,-332.3799C202,-324.1745 202,-314.7679 202,-305.8786\" fill=\"none\" stroke=\"#000000\"/>\n<polygon fill=\"#000000\" points=\"205.5001,-305.784 202,-295.784 198.5001,-305.784 205.5001,-305.784\" stroke=\"#000000\"/>\n</g>\n<!-- 139973340569552 -->\n<g class=\"node\" id=\"node8\">\n<title>139973340569552</title>\n<polygon fill=\"none\" points=\"72,-166.5 72,-212.5 332,-212.5 332,-166.5 72,-166.5\" stroke=\"#000000\"/>\n<text fill=\"#000000\" font-family=\"Times,serif\" font-size=\"14.00\" text-anchor=\"middle\" x=\"125.5\" y=\"-185.8\">dense_5: Dense</text>\n<polyline fill=\"none\" points=\"179,-166.5 179,-212.5 \" stroke=\"#000000\"/>\n<text fill=\"#000000\" font-family=\"Times,serif\" font-size=\"14.00\" text-anchor=\"middle\" x=\"208\" y=\"-197.3\">input:</text>\n<polyline fill=\"none\" points=\"179,-189.5 237,-189.5 \" stroke=\"#000000\"/>\n<text fill=\"#000000\" font-family=\"Times,serif\" font-size=\"14.00\" text-anchor=\"middle\" x=\"208\" y=\"-174.3\">output:</text>\n<polyline fill=\"none\" points=\"237,-166.5 237,-212.5 \" stroke=\"#000000\"/>\n<text fill=\"#000000\" font-family=\"Times,serif\" font-size=\"14.00\" text-anchor=\"middle\" x=\"284.5\" y=\"-197.3\">(None, 4608)</text>\n<polyline fill=\"none\" points=\"237,-189.5 332,-189.5 \" stroke=\"#000000\"/>\n<text fill=\"#000000\" font-family=\"Times,serif\" font-size=\"14.00\" text-anchor=\"middle\" x=\"284.5\" y=\"-174.3\">(None, 128)</text>\n</g>\n<!-- 139973340147784&#45;&gt;139973340569552 -->\n<g class=\"edge\" id=\"edge8\">\n<title>139973340147784-&gt;139973340569552</title>\n<path d=\"M202,-249.3799C202,-241.1745 202,-231.7679 202,-222.8786\" fill=\"none\" stroke=\"#000000\"/>\n<polygon fill=\"#000000\" points=\"205.5001,-222.784 202,-212.784 198.5001,-222.784 205.5001,-222.784\" stroke=\"#000000\"/>\n</g>\n<!-- 139973340147952 -->\n<g class=\"node\" id=\"node9\">\n<title>139973340147952</title>\n<polygon fill=\"none\" points=\"62.5,-83.5 62.5,-129.5 341.5,-129.5 341.5,-83.5 62.5,-83.5\" stroke=\"#000000\"/>\n<text fill=\"#000000\" font-family=\"Times,serif\" font-size=\"14.00\" text-anchor=\"middle\" x=\"129.5\" y=\"-102.8\">dropout_5: Dropout</text>\n<polyline fill=\"none\" points=\"196.5,-83.5 196.5,-129.5 \" stroke=\"#000000\"/>\n<text fill=\"#000000\" font-family=\"Times,serif\" font-size=\"14.00\" text-anchor=\"middle\" x=\"225.5\" y=\"-114.3\">input:</text>\n<polyline fill=\"none\" points=\"196.5,-106.5 254.5,-106.5 \" stroke=\"#000000\"/>\n<text fill=\"#000000\" font-family=\"Times,serif\" font-size=\"14.00\" text-anchor=\"middle\" x=\"225.5\" y=\"-91.3\">output:</text>\n<polyline fill=\"none\" points=\"254.5,-83.5 254.5,-129.5 \" stroke=\"#000000\"/>\n<text fill=\"#000000\" font-family=\"Times,serif\" font-size=\"14.00\" text-anchor=\"middle\" x=\"298\" y=\"-114.3\">(None, 128)</text>\n<polyline fill=\"none\" points=\"254.5,-106.5 341.5,-106.5 \" stroke=\"#000000\"/>\n<text fill=\"#000000\" font-family=\"Times,serif\" font-size=\"14.00\" text-anchor=\"middle\" x=\"298\" y=\"-91.3\">(None, 128)</text>\n</g>\n<!-- 139973340569552&#45;&gt;139973340147952 -->\n<g class=\"edge\" id=\"edge9\">\n<title>139973340569552-&gt;139973340147952</title>\n<path d=\"M202,-166.3799C202,-158.1745 202,-148.7679 202,-139.8786\" fill=\"none\" stroke=\"#000000\"/>\n<polygon fill=\"#000000\" points=\"205.5001,-139.784 202,-129.784 198.5001,-139.784 205.5001,-139.784\" stroke=\"#000000\"/>\n</g>\n<!-- 139973340150304 -->\n<g class=\"node\" id=\"node10\">\n<title>139973340150304</title>\n<polygon fill=\"none\" points=\"76,-.5 76,-46.5 328,-46.5 328,-.5 76,-.5\" stroke=\"#000000\"/>\n<text fill=\"#000000\" font-family=\"Times,serif\" font-size=\"14.00\" text-anchor=\"middle\" x=\"129.5\" y=\"-19.8\">dense_6: Dense</text>\n<polyline fill=\"none\" points=\"183,-.5 183,-46.5 \" stroke=\"#000000\"/>\n<text fill=\"#000000\" font-family=\"Times,serif\" font-size=\"14.00\" text-anchor=\"middle\" x=\"212\" y=\"-31.3\">input:</text>\n<polyline fill=\"none\" points=\"183,-23.5 241,-23.5 \" stroke=\"#000000\"/>\n<text fill=\"#000000\" font-family=\"Times,serif\" font-size=\"14.00\" text-anchor=\"middle\" x=\"212\" y=\"-8.3\">output:</text>\n<polyline fill=\"none\" points=\"241,-.5 241,-46.5 \" stroke=\"#000000\"/>\n<text fill=\"#000000\" font-family=\"Times,serif\" font-size=\"14.00\" text-anchor=\"middle\" x=\"284.5\" y=\"-31.3\">(None, 128)</text>\n<polyline fill=\"none\" points=\"241,-23.5 328,-23.5 \" stroke=\"#000000\"/>\n<text fill=\"#000000\" font-family=\"Times,serif\" font-size=\"14.00\" text-anchor=\"middle\" x=\"284.5\" y=\"-8.3\">(None, 10)</text>\n</g>\n<!-- 139973340147952&#45;&gt;139973340150304 -->\n<g class=\"edge\" id=\"edge10\">\n<title>139973340147952-&gt;139973340150304</title>\n<path d=\"M202,-83.3799C202,-75.1745 202,-65.7679 202,-56.8786\" fill=\"none\" stroke=\"#000000\"/>\n<polygon fill=\"#000000\" points=\"205.5001,-56.784 202,-46.784 198.5001,-56.784 205.5001,-56.784\" stroke=\"#000000\"/>\n</g>\n<!-- 139973340764368 -->\n<g class=\"node\" id=\"node11\">\n<title>139973340764368</title>\n<polygon fill=\"none\" points=\"137.5,-830.5 137.5,-866.5 266.5,-866.5 266.5,-830.5 137.5,-830.5\" stroke=\"#000000\"/>\n<text fill=\"#000000\" font-family=\"Times,serif\" font-size=\"14.00\" text-anchor=\"middle\" x=\"202\" y=\"-844.8\">139973340764368</text>\n</g>\n<!-- 139973340764368&#45;&gt;139973340763976 -->\n<g class=\"edge\" id=\"edge1\">\n<title>139973340764368-&gt;139973340763976</title>\n<path d=\"M202,-830.4092C202,-822.4308 202,-812.795 202,-803.606\" fill=\"none\" stroke=\"#000000\"/>\n<polygon fill=\"#000000\" points=\"205.5001,-803.5333 202,-793.5333 198.5001,-803.5334 205.5001,-803.5333\" stroke=\"#000000\"/>\n</g>\n</g>\n</svg>"
          },
          "metadata": {
            "tags": []
          },
          "execution_count": 33
        }
      ]
    },
    {
      "cell_type": "markdown",
      "metadata": {
        "id": "DZLhafUefG1v",
        "colab_type": "text"
      },
      "source": [
        "## Training"
      ]
    },
    {
      "cell_type": "markdown",
      "metadata": {
        "id": "D94UPnpHfG1x",
        "colab_type": "text"
      },
      "source": [
        "Training parameters are the following:\n",
        "* nb_epoch $-$ number of epochs to train. here we choose 12; one may condiser using some stopping criterias\n",
        "* **batch_size** $-$ parameter that controls how frequent do we update gradient; with $\\text{batch_size}=1$ optimization is nothing but pure Stohastic Gradient Descent (update gradient after passing each one object); with $\\text{batch_size}=\\textit{number of objects}$ it will be usual Gradient Descent which updates gradient only after passing all objects. Choosing value between this two one can control speed and convergence of training process."
      ]
    },
    {
      "cell_type": "code",
      "metadata": {
        "id": "s3bqDUNofG1y",
        "colab_type": "code",
        "colab": {}
      },
      "source": [
        "batch_size = 128\n",
        "epochs = 5"
      ],
      "execution_count": 0,
      "outputs": []
    },
    {
      "cell_type": "markdown",
      "metadata": {
        "id": "ZC0Iw8RjfG11",
        "colab_type": "text"
      },
      "source": [
        "Train!"
      ]
    },
    {
      "cell_type": "code",
      "metadata": {
        "id": "dp9uLCj4fG12",
        "colab_type": "code",
        "outputId": "fd5a3371-c36c-4805-c453-8e0b925bbed9",
        "colab": {
          "base_uri": "https://localhost:8080/",
          "height": 207
        }
      },
      "source": [
        "hist = model_cnn.fit(X_train, y_train, \n",
        "                     batch_size=batch_size, \n",
        "                     epochs=epochs,\n",
        "                     validation_data=(X_test, y_test))"
      ],
      "execution_count": 0,
      "outputs": [
        {
          "output_type": "stream",
          "text": [
            "Train on 60000 samples, validate on 10000 samples\n",
            "Epoch 1/5\n",
            "60000/60000 [==============================] - 117s 2ms/step - loss: 0.3019 - acc: 0.9076 - val_loss: 0.0622 - val_acc: 0.9803\n",
            "Epoch 2/5\n",
            "60000/60000 [==============================] - 117s 2ms/step - loss: 0.1086 - acc: 0.9679 - val_loss: 0.0464 - val_acc: 0.9851\n",
            "Epoch 3/5\n",
            "60000/60000 [==============================] - 116s 2ms/step - loss: 0.0864 - acc: 0.9739 - val_loss: 0.0394 - val_acc: 0.9877\n",
            "Epoch 4/5\n",
            "60000/60000 [==============================] - 116s 2ms/step - loss: 0.0717 - acc: 0.9784 - val_loss: 0.0350 - val_acc: 0.9882\n",
            "Epoch 5/5\n",
            "60000/60000 [==============================] - 117s 2ms/step - loss: 0.0649 - acc: 0.9797 - val_loss: 0.0337 - val_acc: 0.9891\n"
          ],
          "name": "stdout"
        }
      ]
    },
    {
      "cell_type": "markdown",
      "metadata": {
        "id": "1-djY_7-fG15",
        "colab_type": "text"
      },
      "source": [
        "## Evaluation"
      ]
    },
    {
      "cell_type": "markdown",
      "metadata": {
        "id": "XIoB6lRlfG15",
        "colab_type": "text"
      },
      "source": [
        "Visualization of learning process:"
      ]
    },
    {
      "cell_type": "code",
      "metadata": {
        "id": "CHcPw53FfG16",
        "colab_type": "code",
        "outputId": "f4fefb34-2954-45f3-cad0-619622d3aa9b",
        "colab": {}
      },
      "source": [
        "plt.figure(figsize=(20, 8))\n",
        "plt.suptitle(\"CNN model training\", fontsize=18)\n",
        "plt.subplot(121)\n",
        "plt.plot(hist.history[\"loss\"], label=\"Train\")\n",
        "plt.plot(hist.history[\"val_loss\"], label=\"Test\")\n",
        "plt.grid(\"on\")\n",
        "plt.xlabel(\"Epoch\", fontsize=14)\n",
        "plt.ylabel(\"Crossentropy\", fontsize=14)\n",
        "plt.legend(loc=\"upper right\")\n",
        "plt.subplot(122)\n",
        "plt.plot(hist.history[\"acc\"], label=\"Train\")\n",
        "plt.grid(\"on\")\n",
        "plt.plot(hist.history[\"val_acc\"], label=\"Test\")\n",
        "plt.xlabel(\"Epoch\", fontsize=14)\n",
        "plt.ylabel(\"Accuracy\", fontsize=14)\n",
        "plt.legend(loc=\"lower right\")\n",
        "plt.ylim([0.88, 1.0]);"
      ],
      "execution_count": 0,
      "outputs": [
        {
          "output_type": "display_data",
          "data": {
            "image/png": "[encoded data removed]",
            "text/plain": [
              "<matplotlib.figure.Figure at 0x7f5ce2f15080>"
            ]
          },
          "metadata": {
            "tags": []
          }
        }
      ]
    },
    {
      "cell_type": "markdown",
      "metadata": {
        "id": "P2hJy8AsfG1_",
        "colab_type": "text"
      },
      "source": [
        "Final evaluation of the model:"
      ]
    },
    {
      "cell_type": "code",
      "metadata": {
        "id": "rVMTvEC_fG2A",
        "colab_type": "code",
        "colab": {}
      },
      "source": [
        "score_train = model_cnn.evaluate(X_train, y_train, verbose=0)\n",
        "score_test = model_cnn.evaluate(X_test, y_test, verbose=0)"
      ],
      "execution_count": 0,
      "outputs": []
    },
    {
      "cell_type": "code",
      "metadata": {
        "id": "kVLQZKJOfG2D",
        "colab_type": "code",
        "colab": {}
      },
      "source": [
        "results.loc[len(results)] = np.array([score_train[1], score_test[1], score_train[0], score_test[0]])\n",
        "results.index = [\"MLP\", \"CNN\"]"
      ],
      "execution_count": 0,
      "outputs": []
    },
    {
      "cell_type": "code",
      "metadata": {
        "id": "rVacHrLZfG2G",
        "colab_type": "code",
        "outputId": "c98f1738-90ae-4a7b-e5d0-65be1da2bfa9",
        "colab": {}
      },
      "source": [
        "results"
      ],
      "execution_count": 0,
      "outputs": [
        {
          "output_type": "execute_result",
          "data": {
            "text/html": [
              "<div>\n",
              "<style>\n",
              "    .dataframe thead tr:only-child th {\n",
              "        text-align: right;\n",
              "    }\n",
              "\n",
              "    .dataframe thead th {\n",
              "        text-align: left;\n",
              "    }\n",
              "\n",
              "    .dataframe tbody tr th {\n",
              "        vertical-align: top;\n",
              "    }\n",
              "</style>\n",
              "<table border=\"1\" class=\"dataframe\">\n",
              "  <thead>\n",
              "    <tr style=\"text-align: right;\">\n",
              "      <th></th>\n",
              "      <th>Accuracy Train</th>\n",
              "      <th>Accuracy Test</th>\n",
              "      <th>Loss Train</th>\n",
              "      <th>Loss Test</th>\n",
              "    </tr>\n",
              "  </thead>\n",
              "  <tbody>\n",
              "    <tr>\n",
              "      <th>MLP</th>\n",
              "      <td>0.9862</td>\n",
              "      <td>0.9746</td>\n",
              "      <td>0.045773</td>\n",
              "      <td>0.090305</td>\n",
              "    </tr>\n",
              "    <tr>\n",
              "      <th>CNN</th>\n",
              "      <td>0.9934</td>\n",
              "      <td>0.9883</td>\n",
              "      <td>0.021616</td>\n",
              "      <td>0.032652</td>\n",
              "    </tr>\n",
              "  </tbody>\n",
              "</table>\n",
              "</div>"
            ],
            "text/plain": [
              "     Accuracy Train  Accuracy Test  Loss Train  Loss Test\n",
              "MLP          0.9862         0.9746    0.045773   0.090305\n",
              "CNN          0.9934         0.9883    0.021616   0.032652"
            ]
          },
          "metadata": {
            "tags": []
          },
          "execution_count": 37
        }
      ]
    },
    {
      "cell_type": "markdown",
      "metadata": {
        "id": "GiJMC-NmfG2J",
        "colab_type": "text"
      },
      "source": [
        "# Task: choose a better architecture\n",
        "\n",
        "Search for a good CNN architecture to model the MNIST problem.\n",
        "\n",
        "\n",
        "**Test:train:validation:** Keep the test dataset as a held out dataset to report your final results. Use 20% of the training as your validation set and make all decisions regarding  architecture choices using the validation set (or subsets of the original training set).  \n",
        "\n",
        "It is up to you what the model will be. Here are some things you need to decide:\n",
        "* how many convolutional layers?\n",
        "* what spatial size will your convolutions be?\n",
        "* how many channels will your convolutions be?\n",
        "* what nonlinearity will you use?\n",
        "* will you use pooling? what type?\n",
        "* how many fully-connected layers will you have?\n",
        "* will you use dropout?\n",
        "* what batch size?\n",
        "\n",
        "Keras provides a special layer called `Flatten` to flatten the convolutional features into a vector before the fully-connected layers. You should look at the documentation for Keras's convolutional layers: http://keras.io/layers/convolutional/. In particular, you may want to look at `Convolution2D`, `MaxPooling2D`, `AveragePooling2D`, `Flatten`, and `Dropout`. For this problem, you make want to use the `'rmsprop'` optimizer - it is an algorithm that adapts the learning rate during learning for you automatically.\n"
      ]
    },
    {
      "cell_type": "markdown",
      "metadata": {
        "id": "nqXUyyZ_fG2L",
        "colab_type": "text"
      },
      "source": [
        "## load MNIST data"
      ]
    },
    {
      "cell_type": "code",
      "metadata": {
        "id": "qrCxDBfTfG2M",
        "colab_type": "code",
        "colab": {}
      },
      "source": [
        "import numpy as np\n",
        "import pandas as pd\n",
        "\n",
        "import keras.backend as K\n",
        "from keras.datasets import mnist\n",
        "from keras.models import Sequential, Model, load_model\n",
        "from keras.layers import Dense, Input\n",
        "from keras.layers.merge import Concatenate\n",
        "from keras.callbacks import EarlyStopping, ModelCheckpoint\n",
        "from keras.initializers import he_normal\n",
        "from keras.optimizers import Adam\n",
        "from keras.utils.np_utils import to_categorical\n",
        "from keras.utils.vis_utils import model_to_dot\n",
        "\n",
        "from sklearn.model_selection import train_test_split\n",
        "\n",
        "from IPython.display import SVG\n",
        "\n",
        "import matplotlib\n",
        "import matplotlib.pyplot as plt\n",
        "import seaborn as sns\n",
        "%matplotlib inline"
      ],
      "execution_count": 0,
      "outputs": []
    },
    {
      "cell_type": "code",
      "metadata": {
        "id": "zr_a7ZOyfG2O",
        "colab_type": "code",
        "outputId": "2b98ff2b-77e7-4b02-981b-8eb0674eb1b2",
        "colab": {}
      },
      "source": [
        "# load MNIST data\n",
        "from sklearn.model_selection import train_test_split\n",
        "(X_train, y_train), (X_test, y_test) = mnist.load_data()\n",
        "X_train, X_valid, y_train, y_valid = train_test_split(X_train, y_train, test_size=0.20, random_state=42)\n",
        "img_rows, img_cols = 28, 28\n",
        "number_of_classes = 10\n",
        "print(f\"X before flatten train      shape: {X_train.shape}\")\n",
        "print(f\"X before flatten validation shape: {X_valid.shape}\")\n",
        "print(f\"X before flatten test       shape: {X_test.shape}\")\n",
        "#Here we're going to use dense baseline models so we need to represent our data as 1-dimensional vectors\n",
        "if K.image_dim_ordering() == 'th':\n",
        "    X_train = X_train.reshape(X_train.shape[0], 1, img_rows, img_cols)\n",
        "    X_valid = X_test.reshape(X_valid.shape[0], 1, img_rows, img_cols)\n",
        "    X_test = X_test.reshape(X_test.shape[0], 1, img_rows, img_cols)\n",
        "    input_shape = (1, img_rows, img_cols)\n",
        "else:\n",
        "    X_train = X_train.reshape(X_train.shape[0], img_rows, img_cols, 1)\n",
        "    X_valid = X_valid.reshape(X_valid.shape[0], img_rows, img_cols, 1)\n",
        "    X_test = X_test.reshape(X_test.shape[0], img_rows, img_cols, 1)\n",
        "    input_shape = (img_rows, img_cols, 1)\n",
        "\n",
        "#Tensorflow prefers to work with float32 data type. \n",
        "#So the next step is to cast data. \n",
        "# Also let's have our data in [0; 1]interval; it's common choice for grayscale images.\n",
        "\n",
        "X_train = X_train.astype('float32')\n",
        "X_valid = X_valid.astype('float32')\n",
        "X_test = X_test.astype('float32')\n",
        "X_train /= 255\n",
        "X_valid /= 255\n",
        "X_test /= 255\n",
        "print(f\"X train      shape: {X_train.shape}, {y_train.shape}\")\n",
        "print(f\"X validation shape: {X_valid.shape},  {y_valid.shape}\")\n",
        "print(f\"X test       shape: {X_test.shape},  {y_test.shape}\")"
      ],
      "execution_count": 0,
      "outputs": [
        {
          "output_type": "stream",
          "text": [
            "X before flatten train      shape: (48000, 28, 28)\n",
            "X before flatten validation shape: (12000, 28, 28)\n",
            "X before flatten test       shape: (10000, 28, 28)\n",
            "X train      shape: (48000, 28, 28, 1), (48000,)\n",
            "X validation shape: (12000, 28, 28, 1),  (12000,)\n",
            "X test       shape: (10000, 28, 28, 1),  (10000,)\n"
          ],
          "name": "stdout"
        }
      ]
    },
    {
      "cell_type": "markdown",
      "metadata": {
        "id": "WUF-SqMEfG2Q",
        "colab_type": "text"
      },
      "source": [
        "## Setup the MNIST data\n",
        "Setup the MNIST data. Here we use  **digits 0 to 9**. "
      ]
    },
    {
      "cell_type": "markdown",
      "metadata": {
        "id": "uWgNmAoGfG2R",
        "colab_type": "text"
      },
      "source": [
        "Convert labels into [One-Hot Encoding](https://en.wikipedia.org/wiki/One-hot) because we're going to learn them through the softmax layer of CNN"
      ]
    },
    {
      "cell_type": "code",
      "metadata": {
        "id": "93Lw0g03fG2S",
        "colab_type": "code",
        "colab": {}
      },
      "source": [
        "y_train = to_categorical(y_train, number_of_classes)\n",
        "y_valid = to_categorical(y_valid, number_of_classes)\n",
        "y_test  = to_categorical(y_test, number_of_classes)"
      ],
      "execution_count": 0,
      "outputs": []
    },
    {
      "cell_type": "code",
      "metadata": {
        "id": "TO4Y0yQEfG2V",
        "colab_type": "code",
        "outputId": "be893a43-07c7-40ef-ff80-4b011e3abc42",
        "colab": {}
      },
      "source": [
        "print(f\"X train      shape: {X_train.shape}, {y_train.shape}\")\n",
        "print(f\"X validation shape: {X_valid.shape},  {y_valid.shape}\")\n",
        "print(f\"X test       shape: {X_test.shape},  {y_test.shape}\")"
      ],
      "execution_count": 0,
      "outputs": [
        {
          "output_type": "stream",
          "text": [
            "X train      shape: (48000, 28, 28, 1), (48000, 10)\n",
            "X validation shape: (12000, 28, 28, 1),  (12000, 10)\n",
            "X test       shape: (10000, 28, 28, 1),  (10000, 10)\n"
          ],
          "name": "stdout"
        }
      ]
    },
    {
      "cell_type": "code",
      "metadata": {
        "id": "ivlynAgPfG2Y",
        "colab_type": "code",
        "colab": {}
      },
      "source": [
        ""
      ],
      "execution_count": 0,
      "outputs": []
    },
    {
      "cell_type": "code",
      "metadata": {
        "id": "Mj9bTrUKfG2b",
        "colab_type": "code",
        "outputId": "16eeadba-b9cd-4a4a-902a-0ec46f80b3e3",
        "colab": {}
      },
      "source": [
        "    \n",
        "num_classes = y_test.shape[1]\n",
        "model = Sequential()\n",
        "model.add(Convolution2D(32, kernel_size=(3, 3),\n",
        "                 activation='relu', padding=\"valid\",\n",
        "                 input_shape=input_shape))  #r, c, depth\n",
        "model.add(Convolution2D(64, (3, 3), activation='relu'))\n",
        "model.add(MaxPooling2D(pool_size=(2, 2)))\n",
        "model.add(Dropout(0.25))\n",
        "model.add(Flatten())\n",
        "model.add(Dense(128, activation='relu'))\n",
        "model.add(Dropout(0.5))\n",
        "model.add(Dense(num_classes, activation='softmax'))\n",
        "\n",
        "model.compile(loss='categorical_crossentropy',\n",
        "                  optimizer='adam',\n",
        "                  metrics=['accuracy'])\n",
        "model.summary()"
      ],
      "execution_count": 0,
      "outputs": [
        {
          "output_type": "stream",
          "text": [
            "_________________________________________________________________\n",
            "Layer (type)                 Output Shape              Param #   \n",
            "=================================================================\n",
            "conv2d_20 (Conv2D)           (None, 26, 26, 32)        320       \n",
            "_________________________________________________________________\n",
            "conv2d_21 (Conv2D)           (None, 24, 24, 64)        18496     \n",
            "_________________________________________________________________\n",
            "max_pooling2d_9 (MaxPooling2 (None, 12, 12, 64)        0         \n",
            "_________________________________________________________________\n",
            "dropout_20 (Dropout)         (None, 12, 12, 64)        0         \n",
            "_________________________________________________________________\n",
            "flatten_9 (Flatten)          (None, 9216)              0         \n",
            "_________________________________________________________________\n",
            "dense_20 (Dense)             (None, 128)               1179776   \n",
            "_________________________________________________________________\n",
            "dropout_21 (Dropout)         (None, 128)               0         \n",
            "_________________________________________________________________\n",
            "dense_21 (Dense)             (None, 10)                1290      \n",
            "=================================================================\n",
            "Total params: 1,199,882\n",
            "Trainable params: 1,199,882\n",
            "Non-trainable params: 0\n",
            "_________________________________________________________________\n"
          ],
          "name": "stdout"
        }
      ]
    },
    {
      "cell_type": "code",
      "metadata": {
        "id": "5GtILnucfG2e",
        "colab_type": "code",
        "outputId": "ce2903e9-7f2b-4edc-e0f0-0bb6531d1b35",
        "colab": {}
      },
      "source": [
        "from IPython.display import SVG\n",
        "from keras.utils.vis_utils import model_to_dot\n",
        "\n",
        "SVG(model_to_dot(model, show_shapes=True, ).create(prog=\"dot\", format=\"svg\"))"
      ],
      "execution_count": 0,
      "outputs": [
        {
          "output_type": "execute_result",
          "data": {
            "image/svg+xml": "<svg height=\"738pt\" viewBox=\"0.00 0.00 393.92 737.80\" width=\"394pt\" xmlns=\"http://www.w3.org/2000/svg\" xmlns:xlink=\"http://www.w3.org/1999/xlink\">\n<g class=\"graph\" id=\"graph0\" transform=\"scale(1 1) rotate(0) translate(4 733.8)\">\n<title>G</title>\n<polygon fill=\"#ffffff\" points=\"-4,4 -4,-733.8 389.9208,-733.8 389.9208,4 -4,4\" stroke=\"transparent\"/>\n<!-- 139837439246912 -->\n<g class=\"node\" id=\"node1\">\n<title>139837439246912</title>\n<polygon fill=\"none\" points=\"39.2791,-606.7 39.2791,-656.3 346.6417,-656.3 346.6417,-606.7 39.2791,-606.7\" stroke=\"#000000\"/>\n<text fill=\"#000000\" font-family=\"Times,serif\" font-size=\"14.00\" text-anchor=\"middle\" x=\"105.8033\" y=\"-627.3\">conv2d_20: Conv2D</text>\n<polyline fill=\"none\" points=\"172.3275,-606.7 172.3275,-656.3 \" stroke=\"#000000\"/>\n<text fill=\"#000000\" font-family=\"Times,serif\" font-size=\"14.00\" text-anchor=\"middle\" x=\"200.1634\" y=\"-639.7\">input:</text>\n<polyline fill=\"none\" points=\"172.3275,-631.5 227.9993,-631.5 \" stroke=\"#000000\"/>\n<text fill=\"#000000\" font-family=\"Times,serif\" font-size=\"14.00\" text-anchor=\"middle\" x=\"200.1634\" y=\"-614.9\">output:</text>\n<polyline fill=\"none\" points=\"227.9993,-606.7 227.9993,-656.3 \" stroke=\"#000000\"/>\n<text fill=\"#000000\" font-family=\"Times,serif\" font-size=\"14.00\" text-anchor=\"middle\" x=\"287.3205\" y=\"-639.7\">(None, 28, 28, 1)</text>\n<polyline fill=\"none\" points=\"227.9993,-631.5 346.6417,-631.5 \" stroke=\"#000000\"/>\n<text fill=\"#000000\" font-family=\"Times,serif\" font-size=\"14.00\" text-anchor=\"middle\" x=\"287.3205\" y=\"-614.9\">(None, 26, 26, 32)</text>\n</g>\n<!-- 139837439264864 -->\n<g class=\"node\" id=\"node2\">\n<title>139837439264864</title>\n<polygon fill=\"none\" points=\"39.2791,-520.1 39.2791,-569.7 346.6417,-569.7 346.6417,-520.1 39.2791,-520.1\" stroke=\"#000000\"/>\n<text fill=\"#000000\" font-family=\"Times,serif\" font-size=\"14.00\" text-anchor=\"middle\" x=\"105.8033\" y=\"-540.7\">conv2d_21: Conv2D</text>\n<polyline fill=\"none\" points=\"172.3275,-520.1 172.3275,-569.7 \" stroke=\"#000000\"/>\n<text fill=\"#000000\" font-family=\"Times,serif\" font-size=\"14.00\" text-anchor=\"middle\" x=\"200.1634\" y=\"-553.1\">input:</text>\n<polyline fill=\"none\" points=\"172.3275,-544.9 227.9993,-544.9 \" stroke=\"#000000\"/>\n<text fill=\"#000000\" font-family=\"Times,serif\" font-size=\"14.00\" text-anchor=\"middle\" x=\"200.1634\" y=\"-528.3\">output:</text>\n<polyline fill=\"none\" points=\"227.9993,-520.1 227.9993,-569.7 \" stroke=\"#000000\"/>\n<text fill=\"#000000\" font-family=\"Times,serif\" font-size=\"14.00\" text-anchor=\"middle\" x=\"287.3205\" y=\"-553.1\">(None, 26, 26, 32)</text>\n<polyline fill=\"none\" points=\"227.9993,-544.9 346.6417,-544.9 \" stroke=\"#000000\"/>\n<text fill=\"#000000\" font-family=\"Times,serif\" font-size=\"14.00\" text-anchor=\"middle\" x=\"287.3205\" y=\"-528.3\">(None, 24, 24, 64)</text>\n</g>\n<!-- 139837439246912&#45;&gt;139837439264864 -->\n<g class=\"edge\" id=\"edge2\">\n<title>139837439246912-&gt;139837439264864</title>\n<path d=\"M192.9604,-606.4517C192.9604,-598.1937 192.9604,-588.8517 192.9604,-579.9864\" fill=\"none\" stroke=\"#000000\"/>\n<polygon fill=\"#000000\" points=\"196.4605,-579.892 192.9604,-569.892 189.4605,-579.892 196.4605,-579.892\" stroke=\"#000000\"/>\n</g>\n<!-- 139837439764240 -->\n<g class=\"node\" id=\"node3\">\n<title>139837439764240</title>\n<polygon fill=\"none\" points=\"0,-433.5 0,-483.1 385.9208,-483.1 385.9208,-433.5 0,-433.5\" stroke=\"#000000\"/>\n<text fill=\"#000000\" font-family=\"Times,serif\" font-size=\"14.00\" text-anchor=\"middle\" x=\"105.8033\" y=\"-454.1\">max_pooling2d_9: MaxPooling2D</text>\n<polyline fill=\"none\" points=\"211.6066,-433.5 211.6066,-483.1 \" stroke=\"#000000\"/>\n<text fill=\"#000000\" font-family=\"Times,serif\" font-size=\"14.00\" text-anchor=\"middle\" x=\"239.4425\" y=\"-466.5\">input:</text>\n<polyline fill=\"none\" points=\"211.6066,-458.3 267.2784,-458.3 \" stroke=\"#000000\"/>\n<text fill=\"#000000\" font-family=\"Times,serif\" font-size=\"14.00\" text-anchor=\"middle\" x=\"239.4425\" y=\"-441.7\">output:</text>\n<polyline fill=\"none\" points=\"267.2784,-433.5 267.2784,-483.1 \" stroke=\"#000000\"/>\n<text fill=\"#000000\" font-family=\"Times,serif\" font-size=\"14.00\" text-anchor=\"middle\" x=\"326.5996\" y=\"-466.5\">(None, 24, 24, 64)</text>\n<polyline fill=\"none\" points=\"267.2784,-458.3 385.9208,-458.3 \" stroke=\"#000000\"/>\n<text fill=\"#000000\" font-family=\"Times,serif\" font-size=\"14.00\" text-anchor=\"middle\" x=\"326.5996\" y=\"-441.7\">(None, 12, 12, 64)</text>\n</g>\n<!-- 139837439264864&#45;&gt;139837439764240 -->\n<g class=\"edge\" id=\"edge3\">\n<title>139837439264864-&gt;139837439764240</title>\n<path d=\"M192.9604,-519.8517C192.9604,-511.5937 192.9604,-502.2517 192.9604,-493.3864\" fill=\"none\" stroke=\"#000000\"/>\n<polygon fill=\"#000000\" points=\"196.4605,-493.292 192.9604,-483.292 189.4605,-493.292 196.4605,-493.292\" stroke=\"#000000\"/>\n</g>\n<!-- 139837439246688 -->\n<g class=\"node\" id=\"node4\">\n<title>139837439246688</title>\n<polygon fill=\"none\" points=\"38.5035,-346.9 38.5035,-396.5 347.4173,-396.5 347.4173,-346.9 38.5035,-346.9\" stroke=\"#000000\"/>\n<text fill=\"#000000\" font-family=\"Times,serif\" font-size=\"14.00\" text-anchor=\"middle\" x=\"105.8033\" y=\"-367.5\">dropout_20: Dropout</text>\n<polyline fill=\"none\" points=\"173.1031,-346.9 173.1031,-396.5 \" stroke=\"#000000\"/>\n<text fill=\"#000000\" font-family=\"Times,serif\" font-size=\"14.00\" text-anchor=\"middle\" x=\"200.939\" y=\"-379.9\">input:</text>\n<polyline fill=\"none\" points=\"173.1031,-371.7 228.7749,-371.7 \" stroke=\"#000000\"/>\n<text fill=\"#000000\" font-family=\"Times,serif\" font-size=\"14.00\" text-anchor=\"middle\" x=\"200.939\" y=\"-355.1\">output:</text>\n<polyline fill=\"none\" points=\"228.7749,-346.9 228.7749,-396.5 \" stroke=\"#000000\"/>\n<text fill=\"#000000\" font-family=\"Times,serif\" font-size=\"14.00\" text-anchor=\"middle\" x=\"288.0961\" y=\"-379.9\">(None, 12, 12, 64)</text>\n<polyline fill=\"none\" points=\"228.7749,-371.7 347.4173,-371.7 \" stroke=\"#000000\"/>\n<text fill=\"#000000\" font-family=\"Times,serif\" font-size=\"14.00\" text-anchor=\"middle\" x=\"288.0961\" y=\"-355.1\">(None, 12, 12, 64)</text>\n</g>\n<!-- 139837439764240&#45;&gt;139837439246688 -->\n<g class=\"edge\" id=\"edge4\">\n<title>139837439764240-&gt;139837439246688</title>\n<path d=\"M192.9604,-433.2517C192.9604,-424.9937 192.9604,-415.6517 192.9604,-406.7864\" fill=\"none\" stroke=\"#000000\"/>\n<polygon fill=\"#000000\" points=\"196.4605,-406.692 192.9604,-396.692 189.4605,-406.692 196.4605,-406.692\" stroke=\"#000000\"/>\n</g>\n<!-- 139837439750664 -->\n<g class=\"node\" id=\"node5\">\n<title>139837439750664</title>\n<polygon fill=\"none\" points=\"49.7854,-260.3 49.7854,-309.9 336.1354,-309.9 336.1354,-260.3 49.7854,-260.3\" stroke=\"#000000\"/>\n<text fill=\"#000000\" font-family=\"Times,serif\" font-size=\"14.00\" text-anchor=\"middle\" x=\"105.8033\" y=\"-280.9\">flatten_9: Flatten</text>\n<polyline fill=\"none\" points=\"161.8212,-260.3 161.8212,-309.9 \" stroke=\"#000000\"/>\n<text fill=\"#000000\" font-family=\"Times,serif\" font-size=\"14.00\" text-anchor=\"middle\" x=\"189.6571\" y=\"-293.3\">input:</text>\n<polyline fill=\"none\" points=\"161.8212,-285.1 217.493,-285.1 \" stroke=\"#000000\"/>\n<text fill=\"#000000\" font-family=\"Times,serif\" font-size=\"14.00\" text-anchor=\"middle\" x=\"189.6571\" y=\"-268.5\">output:</text>\n<polyline fill=\"none\" points=\"217.493,-260.3 217.493,-309.9 \" stroke=\"#000000\"/>\n<text fill=\"#000000\" font-family=\"Times,serif\" font-size=\"14.00\" text-anchor=\"middle\" x=\"276.8142\" y=\"-293.3\">(None, 12, 12, 64)</text>\n<polyline fill=\"none\" points=\"217.493,-285.1 336.1354,-285.1 \" stroke=\"#000000\"/>\n<text fill=\"#000000\" font-family=\"Times,serif\" font-size=\"14.00\" text-anchor=\"middle\" x=\"276.8142\" y=\"-268.5\">(None, 9216)</text>\n</g>\n<!-- 139837439246688&#45;&gt;139837439750664 -->\n<g class=\"edge\" id=\"edge5\">\n<title>139837439246688-&gt;139837439750664</title>\n<path d=\"M192.9604,-346.6517C192.9604,-338.3937 192.9604,-329.0517 192.9604,-320.1864\" fill=\"none\" stroke=\"#000000\"/>\n<polygon fill=\"#000000\" points=\"196.4605,-320.092 192.9604,-310.092 189.4605,-320.092 196.4605,-320.092\" stroke=\"#000000\"/>\n</g>\n<!-- 139837439752400 -->\n<g class=\"node\" id=\"node6\">\n<title>139837439752400</title>\n<polygon fill=\"none\" points=\"64.1809,-173.7 64.1809,-223.3 321.7399,-223.3 321.7399,-173.7 64.1809,-173.7\" stroke=\"#000000\"/>\n<text fill=\"#000000\" font-family=\"Times,serif\" font-size=\"14.00\" text-anchor=\"middle\" x=\"119.8033\" y=\"-194.3\">dense_20: Dense</text>\n<polyline fill=\"none\" points=\"175.4257,-173.7 175.4257,-223.3 \" stroke=\"#000000\"/>\n<text fill=\"#000000\" font-family=\"Times,serif\" font-size=\"14.00\" text-anchor=\"middle\" x=\"203.2616\" y=\"-206.7\">input:</text>\n<polyline fill=\"none\" points=\"175.4257,-198.5 231.0975,-198.5 \" stroke=\"#000000\"/>\n<text fill=\"#000000\" font-family=\"Times,serif\" font-size=\"14.00\" text-anchor=\"middle\" x=\"203.2616\" y=\"-181.9\">output:</text>\n<polyline fill=\"none\" points=\"231.0975,-173.7 231.0975,-223.3 \" stroke=\"#000000\"/>\n<text fill=\"#000000\" font-family=\"Times,serif\" font-size=\"14.00\" text-anchor=\"middle\" x=\"276.4187\" y=\"-206.7\">(None, 9216)</text>\n<polyline fill=\"none\" points=\"231.0975,-198.5 321.7399,-198.5 \" stroke=\"#000000\"/>\n<text fill=\"#000000\" font-family=\"Times,serif\" font-size=\"14.00\" text-anchor=\"middle\" x=\"276.4187\" y=\"-181.9\">(None, 128)</text>\n</g>\n<!-- 139837439750664&#45;&gt;139837439752400 -->\n<g class=\"edge\" id=\"edge6\">\n<title>139837439750664-&gt;139837439752400</title>\n<path d=\"M192.9604,-260.0517C192.9604,-251.7937 192.9604,-242.4517 192.9604,-233.5864\" fill=\"none\" stroke=\"#000000\"/>\n<polygon fill=\"#000000\" points=\"196.4605,-233.492 192.9604,-223.492 189.4605,-233.492 196.4605,-233.492\" stroke=\"#000000\"/>\n</g>\n<!-- 139837439744264 -->\n<g class=\"node\" id=\"node7\">\n<title>139837439744264</title>\n<polygon fill=\"none\" points=\"56.0035,-87.1 56.0035,-136.7 329.9173,-136.7 329.9173,-87.1 56.0035,-87.1\" stroke=\"#000000\"/>\n<text fill=\"#000000\" font-family=\"Times,serif\" font-size=\"14.00\" text-anchor=\"middle\" x=\"123.3033\" y=\"-107.7\">dropout_21: Dropout</text>\n<polyline fill=\"none\" points=\"190.6031,-87.1 190.6031,-136.7 \" stroke=\"#000000\"/>\n<text fill=\"#000000\" font-family=\"Times,serif\" font-size=\"14.00\" text-anchor=\"middle\" x=\"218.439\" y=\"-120.1\">input:</text>\n<polyline fill=\"none\" points=\"190.6031,-111.9 246.2749,-111.9 \" stroke=\"#000000\"/>\n<text fill=\"#000000\" font-family=\"Times,serif\" font-size=\"14.00\" text-anchor=\"middle\" x=\"218.439\" y=\"-95.3\">output:</text>\n<polyline fill=\"none\" points=\"246.2749,-87.1 246.2749,-136.7 \" stroke=\"#000000\"/>\n<text fill=\"#000000\" font-family=\"Times,serif\" font-size=\"14.00\" text-anchor=\"middle\" x=\"288.0961\" y=\"-120.1\">(None, 128)</text>\n<polyline fill=\"none\" points=\"246.2749,-111.9 329.9173,-111.9 \" stroke=\"#000000\"/>\n<text fill=\"#000000\" font-family=\"Times,serif\" font-size=\"14.00\" text-anchor=\"middle\" x=\"288.0961\" y=\"-95.3\">(None, 128)</text>\n</g>\n<!-- 139837439752400&#45;&gt;139837439744264 -->\n<g class=\"edge\" id=\"edge7\">\n<title>139837439752400-&gt;139837439744264</title>\n<path d=\"M192.9604,-173.4517C192.9604,-165.1937 192.9604,-155.8517 192.9604,-146.9864\" fill=\"none\" stroke=\"#000000\"/>\n<polygon fill=\"#000000\" points=\"196.4605,-146.892 192.9604,-136.892 189.4605,-146.892 196.4605,-146.892\" stroke=\"#000000\"/>\n</g>\n<!-- 139837439540528 -->\n<g class=\"node\" id=\"node8\">\n<title>139837439540528</title>\n<polygon fill=\"none\" points=\"67.6809,-.5 67.6809,-50.1 318.2399,-50.1 318.2399,-.5 67.6809,-.5\" stroke=\"#000000\"/>\n<text fill=\"#000000\" font-family=\"Times,serif\" font-size=\"14.00\" text-anchor=\"middle\" x=\"123.3033\" y=\"-21.1\">dense_21: Dense</text>\n<polyline fill=\"none\" points=\"178.9257,-.5 178.9257,-50.1 \" stroke=\"#000000\"/>\n<text fill=\"#000000\" font-family=\"Times,serif\" font-size=\"14.00\" text-anchor=\"middle\" x=\"206.7616\" y=\"-33.5\">input:</text>\n<polyline fill=\"none\" points=\"178.9257,-25.3 234.5975,-25.3 \" stroke=\"#000000\"/>\n<text fill=\"#000000\" font-family=\"Times,serif\" font-size=\"14.00\" text-anchor=\"middle\" x=\"206.7616\" y=\"-8.7\">output:</text>\n<polyline fill=\"none\" points=\"234.5975,-.5 234.5975,-50.1 \" stroke=\"#000000\"/>\n<text fill=\"#000000\" font-family=\"Times,serif\" font-size=\"14.00\" text-anchor=\"middle\" x=\"276.4187\" y=\"-33.5\">(None, 128)</text>\n<polyline fill=\"none\" points=\"234.5975,-25.3 318.2399,-25.3 \" stroke=\"#000000\"/>\n<text fill=\"#000000\" font-family=\"Times,serif\" font-size=\"14.00\" text-anchor=\"middle\" x=\"276.4187\" y=\"-8.7\">(None, 10)</text>\n</g>\n<!-- 139837439744264&#45;&gt;139837439540528 -->\n<g class=\"edge\" id=\"edge8\">\n<title>139837439744264-&gt;139837439540528</title>\n<path d=\"M192.9604,-86.8517C192.9604,-78.5937 192.9604,-69.2517 192.9604,-60.3864\" fill=\"none\" stroke=\"#000000\"/>\n<polygon fill=\"#000000\" points=\"196.4605,-60.292 192.9604,-50.292 189.4605,-60.292 196.4605,-60.292\" stroke=\"#000000\"/>\n</g>\n<!-- 139837439246576 -->\n<g class=\"node\" id=\"node9\">\n<title>139837439246576</title>\n<polygon fill=\"none\" points=\"132.4604,-693.3 132.4604,-729.3 253.4604,-729.3 253.4604,-693.3 132.4604,-693.3\" stroke=\"#000000\"/>\n<text fill=\"#000000\" font-family=\"Times,serif\" font-size=\"14.00\" text-anchor=\"middle\" x=\"192.9604\" y=\"-707.1\">139837439246576</text>\n</g>\n<!-- 139837439246576&#45;&gt;139837439246912 -->\n<g class=\"edge\" id=\"edge1\">\n<title>139837439246576-&gt;139837439246912</title>\n<path d=\"M192.9604,-693.1921C192.9604,-685.3071 192.9604,-675.7843 192.9604,-666.6049\" fill=\"none\" stroke=\"#000000\"/>\n<polygon fill=\"#000000\" points=\"196.4605,-666.4927 192.9604,-656.4927 189.4605,-666.4927 196.4605,-666.4927\" stroke=\"#000000\"/>\n</g>\n</g>\n</svg>",
            "text/plain": [
              "<IPython.core.display.SVG object>"
            ]
          },
          "metadata": {
            "tags": []
          },
          "execution_count": 84
        }
      ]
    },
    {
      "cell_type": "markdown",
      "metadata": {
        "id": "UdI-hn9RfG2k",
        "colab_type": "text"
      },
      "source": [
        "### Early stopping callback:\n",
        "* **monitor = \"val_loss\"** means that we're going to trace validation categorical crossentropy loss\n",
        "* **patience = 3** shows how many epochs without improvement can we wait for until stop training"
      ]
    },
    {
      "cell_type": "code",
      "metadata": {
        "id": "QwtQiKEffG2k",
        "colab_type": "code",
        "colab": {}
      },
      "source": [
        "es = EarlyStopping(monitor=\"val_loss\", patience=3)"
      ],
      "execution_count": 0,
      "outputs": []
    },
    {
      "cell_type": "markdown",
      "metadata": {
        "id": "290E1ag2fG2l",
        "colab_type": "text"
      },
      "source": [
        "### Model checkpoint callback"
      ]
    },
    {
      "cell_type": "code",
      "metadata": {
        "id": "NWBA8-r5fG2m",
        "colab_type": "code",
        "colab": {}
      },
      "source": [
        "mc = ModelCheckpoint(filepath=\"./chkpt\", \n",
        "                     monitor=\"val_loss\", \n",
        "                     save_best_only=True)"
      ],
      "execution_count": 0,
      "outputs": []
    },
    {
      "cell_type": "markdown",
      "metadata": {
        "id": "GSD1StKgfG2p",
        "colab_type": "text"
      },
      "source": [
        "Fitting"
      ]
    },
    {
      "cell_type": "code",
      "metadata": {
        "id": "iyOcSnmJfG2p",
        "colab_type": "code",
        "outputId": "b05f87d6-6ba5-417c-e9d3-65c6a6958469",
        "colab": {}
      },
      "source": [
        "%%time\n",
        "hist = model.fit(X_train, y_train, \n",
        "                 batch_size=256, \n",
        "                 epochs=5, \n",
        "                 verbose=1, \n",
        "                 callbacks=[es, mc], \n",
        "                 validation_data=(X_valid, y_valid))"
      ],
      "execution_count": 0,
      "outputs": [
        {
          "output_type": "stream",
          "text": [
            "Train on 48000 samples, validate on 12000 samples\n",
            "Epoch 1/5\n",
            "48000/48000 [==============================] - 79s 2ms/step - loss: 0.3381 - acc: 0.8963 - val_loss: 0.0806 - val_acc: 0.9780\n",
            "Epoch 2/5\n",
            "48000/48000 [==============================] - 77s 2ms/step - loss: 0.1066 - acc: 0.9685 - val_loss: 0.0540 - val_acc: 0.9843\n",
            "Epoch 3/5\n",
            "48000/48000 [==============================] - 85s 2ms/step - loss: 0.0799 - acc: 0.9752 - val_loss: 0.0453 - val_acc: 0.9871\n",
            "Epoch 4/5\n",
            "48000/48000 [==============================] - 78s 2ms/step - loss: 0.0631 - acc: 0.9809 - val_loss: 0.0403 - val_acc: 0.9883\n",
            "Epoch 5/5\n",
            "48000/48000 [==============================] - 79s 2ms/step - loss: 0.0523 - acc: 0.9837 - val_loss: 0.0419 - val_acc: 0.9885\n",
            "CPU times: user 20min 33s, sys: 2min 26s, total: 23min\n",
            "Wall time: 6min 39s\n"
          ],
          "name": "stdout"
        }
      ]
    },
    {
      "cell_type": "markdown",
      "metadata": {
        "id": "Y0oq0GtvfG2s",
        "colab_type": "text"
      },
      "source": [
        "Training evolution"
      ]
    },
    {
      "cell_type": "code",
      "metadata": {
        "id": "Hx4R8vCPfG2s",
        "colab_type": "code",
        "outputId": "3f066b78-378c-490a-8bb0-ec4d18a1dae3",
        "colab": {}
      },
      "source": [
        "exp_name = \"MNIST 0-9 32Conv2D-64Conv2D-MaxPool-128-10 \"\n",
        "plt.figure(figsize=(20, 8))\n",
        "plt.suptitle(f\"{exp_name}\", fontsize=18)\n",
        "\n",
        "plt.subplot(121)\n",
        "plt.plot(hist.history[\"loss\"], label=\"Train\")\n",
        "plt.plot(hist.history[\"val_loss\"], label=\"Valid\")\n",
        "plt.legend(loc=\"upper left\")\n",
        "plt.xlabel(\"Epoch\", fontsize=14)\n",
        "plt.ylabel(\"CXE Loss\", fontsize=14)\n",
        "plt.subplot(122)\n",
        "\n",
        "plt.plot(hist.history[\"acc\"], label=\"Train\")\n",
        "plt.plot(hist.history[\"val_acc\"], label=\"Valid\")\n",
        "plt.legend(loc=\"upper left\")\n",
        "plt.xlabel(\"Epoch\", fontsize=14)\n",
        "plt.ylabel(\"Accuracy\", fontsize=14)\n",
        "plt.show()"
      ],
      "execution_count": 0,
      "outputs": [
        {
          "output_type": "display_data",
          "data": {
            "image/png": "[encoded data removed]",
            "text/plain": [
              "<Figure size 1440x576 with 2 Axes>"
            ]
          },
          "metadata": {
            "tags": [],
            "needs_background": "light"
          }
        }
      ]
    },
    {
      "cell_type": "markdown",
      "metadata": {
        "id": "Yhl4nLxIfG2v",
        "colab_type": "text"
      },
      "source": [
        "Load the best model"
      ]
    },
    {
      "cell_type": "code",
      "metadata": {
        "id": "WoRcTwc7fG2v",
        "colab_type": "code",
        "colab": {}
      },
      "source": [
        "model = load_model(filepath=\"chkpt\")"
      ],
      "execution_count": 0,
      "outputs": []
    },
    {
      "cell_type": "markdown",
      "metadata": {
        "id": "yKcGhCAgfG2x",
        "colab_type": "text"
      },
      "source": [
        "Evaluate it"
      ]
    },
    {
      "cell_type": "code",
      "metadata": {
        "id": "YC2Bkk5CfG2x",
        "colab_type": "code",
        "outputId": "bed5896f-8870-41f3-f522-220cb341d0d5",
        "colab": {}
      },
      "source": [
        "# Returns the loss value & metrics values for the model in test mode.\n",
        "# CXE and accuracy\n",
        "model.evaluate(X_test,  y_test, verbose=1)"
      ],
      "execution_count": 0,
      "outputs": [
        {
          "output_type": "stream",
          "text": [
            "10000/10000 [==============================] - 4s 438us/step\n"
          ],
          "name": "stdout"
        },
        {
          "output_type": "execute_result",
          "data": {
            "text/plain": [
              "[0.03445024271312868, 0.9894]"
            ]
          },
          "metadata": {
            "tags": []
          },
          "execution_count": 91
        }
      ]
    },
    {
      "cell_type": "code",
      "metadata": {
        "id": "k6YSOJ9afG2z",
        "colab_type": "code",
        "outputId": "9ac19188-022b-4012-cbc0-77a0d5bd43cf",
        "colab": {}
      },
      "source": [
        "# add the result of this experiment to the log book\n",
        "expLog = pd.DataFrame(columns=[\"exp_name\",\"Train CXE Loss\", \"Train Acc\", \"Validation CXE Loss\", \"Validation  Acc\",\n",
        "                    \"Test CXE Loss\", \"Test  Accuracy\"])\n",
        "expLog.loc[len(expLog)] = [f\"{exp_name}\"] + list(np.round(np.reshape([model.evaluate(X_train, y_train, verbose=0), \n",
        "                   model.evaluate(X_valid, y_valid, verbose=0),\n",
        "                   model.evaluate(X_test,  y_test, verbose=1)], -1), 3))\n",
        "expLog"
      ],
      "execution_count": 0,
      "outputs": [
        {
          "output_type": "stream",
          "text": [
            "10000/10000 [==============================] - 4s 434us/step\n"
          ],
          "name": "stdout"
        },
        {
          "output_type": "execute_result",
          "data": {
            "text/html": [
              "<div>\n",
              "<style scoped>\n",
              "    .dataframe tbody tr th:only-of-type {\n",
              "        vertical-align: middle;\n",
              "    }\n",
              "\n",
              "    .dataframe tbody tr th {\n",
              "        vertical-align: top;\n",
              "    }\n",
              "\n",
              "    .dataframe thead th {\n",
              "        text-align: right;\n",
              "    }\n",
              "</style>\n",
              "<table border=\"1\" class=\"dataframe\">\n",
              "  <thead>\n",
              "    <tr style=\"text-align: right;\">\n",
              "      <th></th>\n",
              "      <th>exp_name</th>\n",
              "      <th>Train CXE Loss</th>\n",
              "      <th>Train Acc</th>\n",
              "      <th>Validation CXE Loss</th>\n",
              "      <th>Validation  Acc</th>\n",
              "      <th>Test CXE Loss</th>\n",
              "      <th>Test  Accuracy</th>\n",
              "    </tr>\n",
              "  </thead>\n",
              "  <tbody>\n",
              "    <tr>\n",
              "      <th>0</th>\n",
              "      <td>MNIST 0-9 32Conv2D-64Conv2D-MaxPool-128-10</td>\n",
              "      <td>0.023</td>\n",
              "      <td>0.993</td>\n",
              "      <td>0.04</td>\n",
              "      <td>0.988</td>\n",
              "      <td>0.034</td>\n",
              "      <td>0.989</td>\n",
              "    </tr>\n",
              "  </tbody>\n",
              "</table>\n",
              "</div>"
            ],
            "text/plain": [
              "                                      exp_name  Train CXE Loss  Train Acc  \\\n",
              "0  MNIST 0-9 32Conv2D-64Conv2D-MaxPool-128-10            0.023      0.993   \n",
              "\n",
              "   Validation CXE Loss  Validation  Acc  Test CXE Loss  Test  Accuracy  \n",
              "0                 0.04            0.988          0.034           0.989  "
            ]
          },
          "metadata": {
            "tags": []
          },
          "execution_count": 92
        }
      ]
    },
    {
      "cell_type": "code",
      "metadata": {
        "id": "O4duogMYfG21",
        "colab_type": "code",
        "colab": {}
      },
      "source": [
        "# If subtract pixel mean is enabled\n",
        "#if subtract_pixel_mean:\n",
        "X_train_mean = np.mean(X_train, axis=0)\n",
        "#    x_train -= x_train_mean\n",
        "#    x_test -= x_train_mean\n"
      ],
      "execution_count": 0,
      "outputs": []
    },
    {
      "cell_type": "code",
      "metadata": {
        "id": "VMcQv9APfG23",
        "colab_type": "code",
        "outputId": "53d3a96d-c794-4a85-e75f-25b8be61770c",
        "colab": {}
      },
      "source": [
        "X_train_mean.shape \n",
        "(48000, 28, 28, 1) --> (28, 28, 1)"
      ],
      "execution_count": 0,
      "outputs": [
        {
          "output_type": "execute_result",
          "data": {
            "text/plain": [
              "(28, 28, 1)"
            ]
          },
          "metadata": {
            "tags": []
          },
          "execution_count": 100
        }
      ]
    },
    {
      "cell_type": "code",
      "metadata": {
        "id": "acWBL2qCfG25",
        "colab_type": "code",
        "outputId": "a3e181e1-bece-4513-a58a-72512a97e427",
        "colab": {}
      },
      "source": [
        "X_train.shape"
      ],
      "execution_count": 0,
      "outputs": [
        {
          "output_type": "execute_result",
          "data": {
            "text/plain": [
              "(48000, 28, 28, 1)"
            ]
          },
          "metadata": {
            "tags": []
          },
          "execution_count": 101
        }
      ]
    },
    {
      "cell_type": "code",
      "metadata": {
        "id": "3zIgwjk3fG27",
        "colab_type": "code",
        "colab": {}
      },
      "source": [
        ""
      ],
      "execution_count": 0,
      "outputs": []
    }
  ]
}